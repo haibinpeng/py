{
 "cells": [
  {
   "cell_type": "code",
   "execution_count": null,
   "outputs": [],
   "source": [
    "import pandas as pd\n",
    "import numpy as np"
   ],
   "metadata": {
    "collapsed": false,
    "pycharm": {
     "name": "#%%\n"
    }
   }
  },
  {
   "cell_type": "markdown",
   "source": [
    "# Series"
   ],
   "metadata": {
    "collapsed": false
   }
  },
  {
   "cell_type": "code",
   "execution_count": null,
   "outputs": [],
   "source": [
    "# 生成一个Series\n",
    "ser_obj = pd.Series(range(10, 20))\n",
    "print(ser_obj)\n",
    "print('\\n')\n",
    "# 获取数据\n",
    "print(ser_obj.values)\n",
    "print('\\n')\n",
    "# 获取索引\n",
    "print(ser_obj.index)\n",
    "print('\\n')\n",
    "print(ser_obj.dtype)"
   ],
   "metadata": {
    "collapsed": false,
    "pycharm": {
     "name": "#%%\n"
    }
   }
  },
  {
   "cell_type": "code",
   "execution_count": null,
   "outputs": [],
   "source": [
    "print(ser_obj[0])\n",
    "# 访问不存在的索引下标会报错\n",
    "# ser_obj[10]"
   ],
   "metadata": {
    "collapsed": false,
    "pycharm": {
     "name": "#%%\n"
    }
   }
  },
  {
   "cell_type": "code",
   "execution_count": null,
   "outputs": [],
   "source": [
    "print(ser_obj * 2)\n",
    "print('\\n')\n",
    "print(ser_obj > 15)"
   ],
   "metadata": {
    "collapsed": false,
    "pycharm": {
     "name": "#%%\n"
    }
   }
  },
  {
   "cell_type": "code",
   "execution_count": null,
   "outputs": [],
   "source": [
    "# 字典变为Series\n",
    "year_data = {2001: 17.8, 2005: 20.1, 2003: 16.5}\n",
    "ser_obj2 = pd.Series(year_data)\n",
    "print(ser_obj2)\n",
    "print('\\n')\n",
    "print(ser_obj2.index)\n",
    "print('\\n')\n",
    "print(ser_obj2[2001])\n",
    "print('\\n')\n",
    "print(ser_obj2.values)"
   ],
   "metadata": {
    "collapsed": false,
    "pycharm": {
     "name": "#%%\n"
    }
   }
  },
  {
   "cell_type": "code",
   "execution_count": null,
   "outputs": [],
   "source": [
    "print(ser_obj2.name)\n",
    "print('\\n')\n",
    "# 索引名字\n",
    "print(ser_obj2.index.name)\n",
    "print('\\n')\n",
    "ser_obj2.name = 'temp'\n",
    "ser_obj2.index.name = 'year'\n",
    "# head默认显示前五行\n",
    "print(ser_obj2.head())"
   ],
   "metadata": {
    "collapsed": false,
    "pycharm": {
     "name": "#%%\n"
    }
   }
  },
  {
   "cell_type": "markdown",
   "source": [
    "# DateFrame"
   ],
   "metadata": {
    "collapsed": false
   }
  },
  {
   "cell_type": "code",
   "execution_count": null,
   "outputs": [],
   "source": [
    "# 通过ndarray构建DataFrame\n",
    "t = pd.DataFrame(np.arange(12).reshape(3, 4))\n",
    "print(t)\n",
    "print('\\n')\n",
    "array = np.random.randn(5, 4)\n",
    "print(array)\n",
    "print('\\n')\n",
    "df_obj = pd.DataFrame(array)\n",
    "print(df_obj.head())"
   ],
   "metadata": {
    "collapsed": false,
    "pycharm": {
     "name": "#%%\n"
    }
   }
  },
  {
   "cell_type": "code",
   "execution_count": null,
   "outputs": [],
   "source": [
    "# 字典变df\n",
    "d2 = [{\"name\": \"xiaohong\", \"age\": 32, \"tel\": 10010},\n",
    "      {\"name\": \"xiaogang\", \"tel\": 10000},\n",
    "      {\"name\": \"xiaowang\", \"age\": 22}]\n",
    "df1 = pd.DataFrame(d2)\n",
    "print(df1)\n",
    "print('\\n')\n",
    "print(df1.values)\n",
    "print('\\n')\n",
    "print(type(df1.values))"
   ],
   "metadata": {
    "collapsed": false,
    "pycharm": {
     "name": "#%%\n"
    }
   }
  },
  {
   "cell_type": "code",
   "execution_count": null,
   "outputs": [],
   "source": [
    "# df中不同列可以是不同的数据类型,同一列必须是一个数据类型\n",
    "dict_data = {'A': 1,\n",
    "             'B': pd.Timestamp('20190926'),\n",
    "             'C': pd.Series(1, index=list(range(4)), dtype='float32'),\n",
    "             'D': np.array([1, 2, 3, 4], dtype='int32'),\n",
    "             'E': [\"Python\", \"Java\", \"C++\", \"C\"],\n",
    "             'F': 'yf'}\n",
    "df_obj2 = pd.DataFrame(dict_data)\n",
    "print(df_obj2)\n",
    "print('\\n')\n",
    "print(df_obj2.index)\n",
    "print('\\n')\n",
    "# df_obj2.index[0] = 2  # 不可以单独修改某个索引值\n",
    "print(df_obj2.columns)\n",
    "print('\\n')\n",
    "print(df_obj2.dtypes)  # object"
   ],
   "metadata": {
    "collapsed": false,
    "pycharm": {
     "name": "#%%\n"
    }
   }
  },
  {
   "cell_type": "code",
   "execution_count": null,
   "outputs": [],
   "source": [
    "dates = pd.date_range('20130101', periods=6)\n",
    "print(dates)\n",
    "print('\\n')\n",
    "df = pd.DataFrame(np.random.randn(6, 4), index=dates, columns=list('abcd'))\n",
    "print(df)\n",
    "print('\\n')\n",
    "print(df.index)"
   ],
   "metadata": {
    "collapsed": false,
    "pycharm": {
     "name": "#%%\n"
    }
   }
  },
  {
   "cell_type": "code",
   "execution_count": null,
   "outputs": [],
   "source": [
    "print(df_obj2)\n",
    "print('\\n')\n",
    "# 使用索引名来取某一行或者列\n",
    "print(df_obj2['A'])\n",
    "print('\\n')\n",
    "# 取出来的一列是Series\n",
    "print(type(df_obj2['A']))"
   ],
   "metadata": {
    "collapsed": false,
    "pycharm": {
     "name": "#%%\n"
    }
   }
  },
  {
   "cell_type": "code",
   "execution_count": null,
   "outputs": [],
   "source": [
    "# 增加列数据，列名自定义\n",
    "df_obj2['G'] = df_obj2['D'] + 4\n",
    "print(df_obj2['G'])"
   ],
   "metadata": {
    "collapsed": false,
    "pycharm": {
     "name": "#%%\n"
    }
   }
  },
  {
   "cell_type": "code",
   "execution_count": null,
   "outputs": [],
   "source": [
    "# 删除列\n",
    "del (df_obj2['G'])\n",
    "print(df_obj2.head())"
   ],
   "metadata": {
    "collapsed": false,
    "pycharm": {
     "name": "#%%\n"
    }
   }
  },
  {
   "cell_type": "markdown",
   "source": [
    "# pandas的索引操作"
   ],
   "metadata": {
    "collapsed": false
   }
  },
  {
   "cell_type": "code",
   "execution_count": null,
   "outputs": [],
   "source": [
    "print(df_obj2.index)"
   ],
   "metadata": {
    "collapsed": false,
    "pycharm": {
     "name": "#%%\n"
    }
   }
  },
  {
   "cell_type": "code",
   "execution_count": null,
   "outputs": [],
   "source": [
    "# 索引对象的值不可变\n",
    "# df_obj2.index[0] = 2"
   ],
   "metadata": {
    "collapsed": false,
    "pycharm": {
     "name": "#%%\n"
    }
   }
  },
  {
   "cell_type": "markdown",
   "source": [
    "常见的Index种类\n",
    "Index，索引\n",
    "Int64Index，整数索引\n",
    "MultiIndex，层级索引\n",
    "DatetimeIndex，时间戳类型"
   ],
   "metadata": {
    "collapsed": false
   }
  },
  {
   "cell_type": "code",
   "execution_count": null,
   "outputs": [],
   "source": [
    "ser_obj = pd.Series(range(5), index=list('abcde'))\n",
    "print(ser_obj)\n",
    "print('\\n')\n",
    "print(ser_obj.index)"
   ],
   "metadata": {
    "collapsed": false,
    "pycharm": {
     "name": "#%%\n"
    }
   }
  },
  {
   "cell_type": "code",
   "execution_count": null,
   "outputs": [],
   "source": [
    "# 行索引，可以用索引名、索引顺序来取\n",
    "print(ser_obj['b'])\n",
    "print('\\n')\n",
    "print(ser_obj[2])"
   ],
   "metadata": {
    "collapsed": false,
    "pycharm": {
     "name": "#%%\n"
    }
   }
  },
  {
   "cell_type": "code",
   "execution_count": null,
   "outputs": [],
   "source": [
    "# 切片索引\n",
    "print(ser_obj[1:3])  # 索引顺序是开区间\n",
    "print('\\n')\n",
    "print(ser_obj['b':'d'])  # 索引名是闭区间"
   ],
   "metadata": {
    "collapsed": false,
    "pycharm": {
     "name": "#%%\n"
    }
   }
  },
  {
   "cell_type": "code",
   "execution_count": null,
   "outputs": [],
   "source": [
    "# 不连续索引\n",
    "print(ser_obj[[0, 2, 4]])\n",
    "print('\\n')\n",
    "print(ser_obj[['a', 'e']])"
   ],
   "metadata": {
    "collapsed": false,
    "pycharm": {
     "name": "#%%\n"
    }
   }
  },
  {
   "cell_type": "code",
   "execution_count": null,
   "outputs": [],
   "source": [
    "# 布尔索引\n",
    "ser_bool = ser_obj > 2\n",
    "print(ser_bool)\n",
    "print('\\n')\n",
    "print(ser_obj[ser_bool])\n",
    "print('\\n')\n",
    "print(ser_obj[ser_obj > 2])"
   ],
   "metadata": {
    "collapsed": false,
    "pycharm": {
     "name": "#%%\n"
    }
   }
  },
  {
   "cell_type": "markdown",
   "source": [
    "# DataFrame索引"
   ],
   "metadata": {
    "collapsed": false
   }
  },
  {
   "cell_type": "code",
   "execution_count": null,
   "outputs": [],
   "source": [
    "df_obj = pd.DataFrame(np.random.randn(5, 4), columns=list('abcd'))\n",
    "print(df_obj)"
   ],
   "metadata": {
    "collapsed": false,
    "pycharm": {
     "name": "#%%\n"
    }
   }
  },
  {
   "cell_type": "code",
   "execution_count": null,
   "outputs": [],
   "source": [
    "# 列索引\n",
    "print(df_obj['a'])  # 返回Series类型\n",
    "print('\\n')\n",
    "print(df_obj[['a']])  # 返回DataFrame类型\n",
    "print('\\n')\n",
    "print(type(df_obj[['a']]))"
   ],
   "metadata": {
    "collapsed": false,
    "pycharm": {
     "name": "#%%\n"
    }
   }
  },
  {
   "cell_type": "markdown",
   "source": [
    "loc 标签索引"
   ],
   "metadata": {
    "collapsed": false
   }
  },
  {
   "cell_type": "code",
   "execution_count": null,
   "outputs": [],
   "source": [
    "# 建议使用loc，效率更高\n",
    "\n",
    "# Series\n",
    "print(ser_obj)\n",
    "print('\\n')\n",
    "print(ser_obj['b':'d'])\n",
    "print('\\n')\n",
    "print(ser_obj.loc['b':'d'])"
   ],
   "metadata": {
    "collapsed": false,
    "pycharm": {
     "name": "#%%\n"
    }
   }
  },
  {
   "cell_type": "code",
   "execution_count": null,
   "outputs": [],
   "source": [
    "# DataFrame\n",
    "df_obj = pd.DataFrame(np.random.randn(5, 4), columns=list('dcba'), index=list('abcde'))\n",
    "print(df_obj)\n",
    "print('\\n')\n",
    "print(df_obj['a'])  # 不建议用\n",
    "print('\\n')\n",
    "print(df_obj.loc['a'])  # 拿的是行\n",
    "print('\\n')\n",
    "# 第一个参数是行，第二个参数是列\n",
    "print(df_obj.loc['a':'c', 'd':'b'])\n",
    "print('\\n')\n",
    "print(df_obj.loc[['a', 'c'], 'd':'b'])"
   ],
   "metadata": {
    "collapsed": false,
    "pycharm": {
     "name": "#%%\n"
    }
   }
  },
  {
   "cell_type": "markdown",
   "source": [
    "iloc 位置索引"
   ],
   "metadata": {
    "collapsed": false
   }
  },
  {
   "cell_type": "code",
   "execution_count": null,
   "outputs": [],
   "source": [
    "# Series\n",
    "print(ser_obj[1:3])\n",
    "print('\\n')\n",
    "print(ser_obj.iloc[1:3])  # 左闭右开"
   ],
   "metadata": {
    "collapsed": false,
    "pycharm": {
     "name": "#%%\n"
    }
   }
  },
  {
   "cell_type": "code",
   "execution_count": null,
   "outputs": [],
   "source": [
    "# DataFrame\n",
    "print(df_obj.iloc[0:2, 0:2])"
   ],
   "metadata": {
    "collapsed": false,
    "pycharm": {
     "name": "#%%\n"
    }
   }
  },
  {
   "cell_type": "markdown",
   "source": [
    "# 对齐运算"
   ],
   "metadata": {
    "collapsed": false
   }
  },
  {
   "cell_type": "code",
   "execution_count": null,
   "outputs": [],
   "source": [
    "# Series对齐运算\n",
    "s1 = pd.Series(range(10, 20), index=range(10))\n",
    "s2 = pd.Series(range(20, 25), index=range(5))\n",
    "s3 = s1 + s2\n",
    "print(s3)\n",
    "print('\\n')\n",
    "print(s3[6])\n",
    "print('\\n')\n",
    "# 未对齐的数据将和填充值做运算\n",
    "print(s1.add(s2, fill_value=0))  # 填充值设为0"
   ],
   "metadata": {
    "collapsed": false,
    "pycharm": {
     "name": "#%%\n"
    }
   }
  },
  {
   "cell_type": "code",
   "execution_count": null,
   "outputs": [],
   "source": [
    "# df对齐运算\n",
    "df1 = pd.DataFrame(np.ones((2, 2)), columns=['a', 'b'])\n",
    "df2 = pd.DataFrame(np.ones((3, 3)), columns=['a', 'b', 'c'])\n",
    "print(df2)\n",
    "print('\\n')\n",
    "print(df1 - df2)\n",
    "print('\\n')\n",
    "print(df1.sub(df2, fill_value=2))"
   ],
   "metadata": {
    "collapsed": false,
    "pycharm": {
     "name": "#%%\n"
    }
   }
  },
  {
   "cell_type": "markdown",
   "source": [
    "# pandas的函数应用"
   ],
   "metadata": {
    "collapsed": false
   }
  },
  {
   "cell_type": "code",
   "execution_count": null,
   "outputs": [],
   "source": [
    "df = pd.DataFrame(np.random.randn(5, 4) - 1)\n",
    "print(df)\n",
    "print('\\n')\n",
    "print(np.abs(df))"
   ],
   "metadata": {
    "collapsed": false,
    "pycharm": {
     "name": "#%%\n"
    }
   }
  },
  {
   "cell_type": "code",
   "execution_count": null,
   "outputs": [],
   "source": [
    "# apply，默认作用在列上\n",
    "print(df.apply(lambda x: x.max()))\n",
    "# 作用在行上\n",
    "print(df.apply(lambda x: x.max(), axis=1))"
   ],
   "metadata": {
    "collapsed": false,
    "pycharm": {
     "name": "#%%\n"
    }
   }
  },
  {
   "cell_type": "code",
   "execution_count": null,
   "outputs": [],
   "source": [
    "type('%.2f' % 1.3456)"
   ],
   "metadata": {
    "collapsed": false,
    "pycharm": {
     "name": "#%%\n"
    }
   }
  },
  {
   "cell_type": "markdown",
   "source": [
    "# 索引排序"
   ],
   "metadata": {
    "collapsed": false
   }
  },
  {
   "cell_type": "code",
   "execution_count": null,
   "outputs": [],
   "source": [
    "# Series\n",
    "print(np.random.randint(5, size=5))\n",
    "print('\\n')\n",
    "s4 = pd.Series(range(10, 15), index=np.random.randint(5, size=5))\n",
    "print(s4)\n",
    "print('\\n')\n",
    "# 索引排序,sort_index返回一个新的排好索引的series\n",
    "print(s4.sort_index())\n",
    "print('\\n')\n",
    "print(s4)\n",
    "print('\\n')\n",
    "# print(s4.loc[0:3])  # loc索引不唯一时会报错\n",
    "print(s4.iloc[0:3])\n",
    "print('\\n')\n",
    "print(s4[0:3])  # 默认用的位置索引"
   ],
   "metadata": {
    "collapsed": false,
    "pycharm": {
     "name": "#%%\n"
    }
   }
  },
  {
   "cell_type": "code",
   "execution_count": null,
   "outputs": [],
   "source": [
    "# DataFrame\n",
    "df4 = pd.DataFrame(np.random.randn(5, 5),\n",
    "                   index=np.random.randint(5, size=5),\n",
    "                   columns=np.random.randint(5, size=5))\n",
    "print(df4)\n",
    "print('\\n')\n",
    "# 轴0是行索引序列，ascending默认为True，升序\n",
    "df4_isort = df4.sort_index(axis=0)\n",
    "print(df4_isort)\n",
    "print('\\n')\n",
    "# 轴1是列索引序列，ascending默认为True，升序\n",
    "df4_isort = df4.sort_index(axis=1, ascending=False)\n",
    "print(df4_isort)"
   ],
   "metadata": {
    "collapsed": false,
    "pycharm": {
     "name": "#%%\n"
    }
   }
  },
  {
   "cell_type": "markdown",
   "source": [
    "# 按值排序"
   ],
   "metadata": {
    "collapsed": false
   }
  },
  {
   "cell_type": "code",
   "execution_count": null,
   "outputs": [],
   "source": [
    "# 按值排序,by后是column的值\n",
    "import random\n",
    "\n",
    "l = [random.randint(0, 100) for i in range(24)]\n",
    "df4 = pd.DataFrame(np.array(l).reshape(6, 4))\n",
    "print(df4.values)\n",
    "print('\\n')\n",
    "print(df4)\n",
    "print('\\n')\n",
    "# 按轴零排序，by后是列名\n",
    "df4_vsort = df4.sort_values(by=3, axis=0, ascending=False)  # 寻找的是columns里的3\n",
    "print(df4_vsort)\n",
    "print('\\n')\n",
    "# 按轴1排序，by后是行名\n",
    "df4_vsort = df4.sort_values(by=3, axis=1, ascending=False)  # 寻找的是index里的3\n",
    "print(df4_vsort)"
   ],
   "metadata": {
    "collapsed": false,
    "pycharm": {
     "name": "#%%\n"
    }
   }
  },
  {
   "cell_type": "markdown",
   "source": [
    "# 处理缺失数据"
   ],
   "metadata": {
    "collapsed": false
   }
  },
  {
   "cell_type": "code",
   "execution_count": null,
   "outputs": [],
   "source": [
    "df_data = pd.DataFrame([np.random.randn(3), [1., 2., np.nan],\n",
    "                        [np.nan, 4., np.nan], [1., 2., 3.]])\n",
    "print(df_data.head())"
   ],
   "metadata": {
    "collapsed": false,
    "pycharm": {
     "name": "#%%\n"
    }
   }
  },
  {
   "cell_type": "code",
   "execution_count": null,
   "outputs": [],
   "source": [
    "# isnull来判断是否有空的数据\n",
    "print(df_data.isnull())"
   ],
   "metadata": {
    "collapsed": false,
    "pycharm": {
     "name": "#%%\n"
    }
   }
  },
  {
   "cell_type": "code",
   "execution_count": null,
   "outputs": [],
   "source": [
    "# 默认某一行有空值，删除整行\n",
    "print(df_data.dropna(inplace=True))\n",
    "print('\\n')\n",
    "print(df_data)"
   ],
   "metadata": {
    "collapsed": false,
    "pycharm": {
     "name": "#%%\n"
    }
   }
  },
  {
   "cell_type": "code",
   "execution_count": null,
   "outputs": [],
   "source": [
    "# 某列有空值，就删除该列，常用于某个特征确实太多时\n",
    "print(df_data.dropna(axis=1))"
   ],
   "metadata": {
    "collapsed": false,
    "pycharm": {
     "name": "#%%\n"
    }
   }
  },
  {
   "cell_type": "code",
   "execution_count": null,
   "outputs": [],
   "source": [
    "# 给零列的空值填为-100，按特征（按列）去填充\n",
    "print(df_data.iloc[:, 0].fillna(-100.))"
   ],
   "metadata": {
    "collapsed": false,
    "pycharm": {
     "name": "#%%\n"
    }
   }
  },
  {
   "cell_type": "code",
   "execution_count": null,
   "outputs": [],
   "source": [
    "# 依次拿每一列\n",
    "for i in df_data.columns:\n",
    "    print(df_data.loc[:, i])"
   ],
   "metadata": {
    "collapsed": false,
    "pycharm": {
     "name": "#%%\n"
    }
   }
  },
  {
   "cell_type": "markdown",
   "source": [
    "# 层级索引（hierarchical indexing）"
   ],
   "metadata": {
    "collapsed": false
   }
  },
  {
   "cell_type": "code",
   "execution_count": null,
   "outputs": [],
   "source": [
    "# MultiIndex是层级索引，索引类型的一种\n",
    "index1 = pd.MultiIndex.from_arrays([['a', 'a', 'a', 'b', 'b', 'b', 'c', 'c', 'c', 'd', 'd', 'd'],\n",
    "                                    [0, 1, 2, 0, 1, 2, 0, 1, 2, 0, 1, 2]], names=['cloth', 'size'])\n",
    "\n",
    "ser_obj = pd.Series(np.random.randn(12), index=index1)\n",
    "print(ser_obj)\n",
    "print('\\n')\n",
    "print(type(ser_obj))\n",
    "print('\\n')\n",
    "print(type(ser_obj.index))\n",
    "print('\\n')\n",
    "print(ser_obj.index)\n",
    "print('\\n')\n",
    "print(ser_obj.index.levels)\n",
    "print('\\n')\n",
    "print(ser_obj.index.codes)"
   ],
   "metadata": {
    "collapsed": false,
    "pycharm": {
     "name": "#%%\n"
    }
   }
  },
  {
   "cell_type": "code",
   "execution_count": null,
   "outputs": [],
   "source": [
    "# 层级索引如何取数据\n",
    "print(ser_obj)\n",
    "print('\\n')\n",
    "print(ser_obj['c'])\n",
    "print('\\n')\n",
    "print(ser_obj['a', 2])\n",
    "print('\\n')\n",
    "print(ser_obj[:, 2])"
   ],
   "metadata": {
    "collapsed": false,
    "pycharm": {
     "name": "#%%\n"
    }
   }
  },
  {
   "cell_type": "code",
   "execution_count": null,
   "outputs": [],
   "source": [
    "# 交换层级\n",
    "print(ser_obj)\n",
    "print('\\n')\n",
    "print(ser_obj.swaplevel())\n",
    "print('\\n')\n",
    "print(ser_obj)\n",
    "print('\\n')\n",
    "ser_obj = ser_obj.swaplevel()\n",
    "print(ser_obj)"
   ],
   "metadata": {
    "collapsed": false,
    "pycharm": {
     "name": "#%%\n"
    }
   }
  },
  {
   "cell_type": "code",
   "execution_count": null,
   "outputs": [],
   "source": [
    "print(ser_obj.sort_index(level=1))  # 层级索引按哪个索引级别排序\n",
    "print('\\n')\n",
    "# 把0索引（最外层索引）变为列索引\n",
    "df_obj = ser_obj.unstack(0)  # unstack可以放索引名，或者索引位置\n",
    "print(df_obj)"
   ],
   "metadata": {
    "collapsed": false,
    "pycharm": {
     "name": "#%%\n"
    }
   }
  },
  {
   "cell_type": "code",
   "execution_count": null,
   "outputs": [],
   "source": [
    "print(df_obj)\n",
    "print('\\n')\n",
    "# 对df进行stack，就会把行、列索引进行堆叠，变为Series\n",
    "# 把列索引放入内层,只能放到内层\n",
    "print(df_obj.stack())  # stack变为sSeries和unstack保持一致的\n",
    "print('\\n')\n",
    "df_obj = df_obj.transpose()\n",
    "print(df_obj)"
   ],
   "metadata": {
    "collapsed": false,
    "pycharm": {
     "name": "#%%\n"
    }
   }
  },
  {
   "cell_type": "markdown",
   "source": [
    "# Pandas统计计算和描述"
   ],
   "metadata": {
    "collapsed": false
   }
  },
  {
   "cell_type": "code",
   "execution_count": null,
   "outputs": [],
   "source": [
    "print(df_obj)\n",
    "print('\\n')\n",
    "df_obj.loc[0, 'b'] = np.nan\n",
    "print(df_obj)\n",
    "print('\\n')\n",
    "print(df_obj.min(axis=0, skipna=True))\n",
    "print('\\n')\n",
    "# 观察数据分布的一种常用方法\n",
    "print(df_obj.describe())"
   ],
   "metadata": {
    "collapsed": false,
    "pycharm": {
     "name": "#%%\n"
    }
   }
  },
  {
   "cell_type": "code",
   "execution_count": null,
   "outputs": [],
   "source": [
    "df_obj.loc[:, 'c']"
   ],
   "metadata": {
    "collapsed": false,
    "pycharm": {
     "name": "#%%\n"
    }
   }
  },
  {
   "cell_type": "code",
   "execution_count": null,
   "outputs": [],
   "source": [
    "# 计算最小值或者最大值的索引的位置\n",
    "print(df_obj.loc[:, 'c'].argmax())  # argmin和argmax只能是Series，不能是df"
   ],
   "metadata": {
    "collapsed": false,
    "pycharm": {
     "name": "#%%\n"
    }
   }
  },
  {
   "cell_type": "code",
   "execution_count": null,
   "outputs": [],
   "source": [
    "# 计算最小值或者最大值的索引值,返回的是一个Series\n",
    "df_obj.idxmin(axis=1)"
   ],
   "metadata": {
    "collapsed": false,
    "pycharm": {
     "name": "#%%\n"
    }
   }
  },
  {
   "cell_type": "code",
   "execution_count": null,
   "outputs": [],
   "source": [
    "from matplotlib import pyplot as plt\n",
    "\n",
    "file_path = \"IMDB-Movie-Data.csv\"\n",
    "df = pd.read_csv(file_path)\n",
    "# 打印数据信息\n",
    "print(df.info())\n",
    "print('\\n')\n",
    "print(df.describe())"
   ],
   "metadata": {
    "collapsed": false,
    "pycharm": {
     "name": "#%%\n"
    }
   }
  },
  {
   "cell_type": "code",
   "execution_count": null,
   "outputs": [],
   "source": [
    "# 获取平均评分\n",
    "print(df[\"Rating\"].mean())\n",
    "print('\\n')\n",
    "# 导演的人数\n",
    "print(len(set(df[\"Director\"].tolist())))\n",
    "print('\\n')\n",
    "# 导演的人数\n",
    "print(len(df[\"Director\"].unique()))\n",
    "print('\\n')\n",
    "# 获取演员的人数\n",
    "temp_actors_list = df[\"Actors\"].str.split(\", \").tolist()  # 二维列表\n",
    "print(temp_actors_list)\n",
    "print('\\n')\n",
    "actors_list = [i for j in temp_actors_list for i in j]  # 二维展为一维\n",
    "actors_num = len(set(actors_list))\n",
    "print(actors_num)"
   ],
   "metadata": {
    "collapsed": false,
    "pycharm": {
     "name": "#%%\n"
    }
   }
  },
  {
   "cell_type": "code",
   "execution_count": null,
   "outputs": [],
   "source": [
    "# rating,runtime分布情况\n",
    "# 选择图形，直方图\n",
    "# 准备数据\n",
    "runtime_data = df[\"Runtime (Minutes)\"].values\n",
    "\n",
    "max_runtime = runtime_data.max()\n",
    "min_runtime = runtime_data.min()\n",
    "\n",
    "# 计算组数\n",
    "print(max_runtime - min_runtime)\n",
    "print('\\n')\n",
    "num_bin = (max_runtime - min_runtime) // 5\n",
    "\n",
    "# 设置图形的大小\n",
    "plt.figure(figsize=(20, 8), dpi=80)\n",
    "# 第二个bins参数必须为int或sequence或str，bins代表划分为多少个单元\n",
    "plt.hist(runtime_data, int(num_bin))\n",
    "\n",
    "plt.xticks(range(min_runtime, max_runtime + 5, 5))\n",
    "\n",
    "plt.show()"
   ],
   "metadata": {
    "collapsed": false,
    "pycharm": {
     "name": "#%%\n"
    }
   }
  },
  {
   "cell_type": "code",
   "execution_count": null,
   "outputs": [],
   "source": [
    "# 获取平均评分\n",
    "print(df[\"Rating\"].mean())\n",
    "\n",
    "# rating分布情况\n",
    "# 选择图形，直方图\n",
    "# 准备数据\n",
    "rating_data = df[\"Rating\"].values\n",
    "max_ranting = rating_data.max()\n",
    "min_ranting = rating_data.min()\n",
    "print('\\n')\n",
    "print(max_ranting, min_ranting)"
   ],
   "metadata": {
    "collapsed": false,
    "pycharm": {
     "name": "#%%\n"
    }
   }
  },
  {
   "cell_type": "code",
   "execution_count": null,
   "outputs": [],
   "source": [
    "# 计算组数\n",
    "print(max_ranting - min_ranting)\n",
    "num_bin = (max_ranting - min_ranting) // 0.5\n",
    "print(num_bin)\n",
    "# 设置图形的大小\n",
    "plt.figure(figsize=(20, 8), dpi=80)\n",
    "# 第二个bins参数必须为int或sequence或str，bins代表划分为多少个单元\n",
    "plt.hist(rating_data, int(num_bin))\n",
    "plt.grid(alpha=0.5)\n",
    "#因为range的步长不支持0.5,自己做一个列表\n",
    "_x = [min_ranting]\n",
    "i = min_ranting\n",
    "while i <= max_ranting + 0.5:\n",
    "    i = i + 0.5\n",
    "    _x.append(i)\n",
    "\n",
    "plt.xticks(_x)\n",
    "\n",
    "plt.show()"
   ],
   "metadata": {
    "collapsed": false,
    "pycharm": {
     "name": "#%%\n"
    }
   }
  },
  {
   "cell_type": "markdown",
   "source": [
    "## 导演要拍什么题材电影"
   ],
   "metadata": {
    "collapsed": false
   }
  },
  {
   "cell_type": "code",
   "execution_count": null,
   "outputs": [],
   "source": [
    "print(df[\"Genre\"].head(3))  # 看前几条数据，掌握格式，内容类型"
   ],
   "metadata": {
    "collapsed": false,
    "pycharm": {
     "name": "#%%\n"
    }
   }
  },
  {
   "cell_type": "code",
   "execution_count": null,
   "outputs": [],
   "source": [
    "# 统计分类的列表\n",
    "temp_list = df[\"Genre\"].str.split(\",\").tolist()  # [[],[],[]]\n",
    "print(temp_list)\n",
    "print('\\n')\n",
    "# 二维变为一维\n",
    "genre_list = list(set([i for j in temp_list for i in j]))\n",
    "print(len(genre_list))\n",
    "print('\\n')\n",
    "# 构造全为0的数组，行是原来的样本数，列是题材类型数目\n",
    "zeros_df = pd.DataFrame(np.zeros((df.shape[0], len(genre_list))), columns=genre_list)\n",
    "print(zeros_df)"
   ],
   "metadata": {
    "collapsed": false,
    "pycharm": {
     "name": "#%%\n"
    }
   }
  },
  {
   "cell_type": "code",
   "execution_count": null,
   "outputs": [],
   "source": [
    "# 给每个电影出现分类的位置赋值1,one-hot：独热码\n",
    "for i in range(df.shape[0]):\n",
    "    # zeros_df.loc[0,[\"Sci-fi\",\"Mucical\"]] = 1\n",
    "    zeros_df.loc[i, temp_list[i]] = 1\n",
    "print(zeros_df.head(3))"
   ],
   "metadata": {
    "collapsed": false,
    "pycharm": {
     "name": "#%%\n"
    }
   }
  },
  {
   "cell_type": "code",
   "execution_count": null,
   "outputs": [],
   "source": [
    "# 统计每个分类的电影的数量和，genre_count是什么类型？\n",
    "genre_count = zeros_df.sum(axis=0)\n",
    "print(genre_count)\n",
    "print('\\n')\n",
    "# 排序\n",
    "genre_count = genre_count.sort_values()\n",
    "_x = genre_count.index\n",
    "_y = genre_count.values\n",
    "# 画图\n",
    "plt.figure(figsize=(20, 8), dpi=80)\n",
    "plt.bar(range(len(_x)), _y, width=0.4, color=\"orange\")\n",
    "plt.xticks(range(len(_x)), _x)\n",
    "plt.show()"
   ],
   "metadata": {
    "collapsed": false,
    "pycharm": {
     "name": "#%%\n"
    }
   }
  },
  {
   "cell_type": "markdown",
   "source": [
    "# Pandas分组与聚合"
   ],
   "metadata": {
    "collapsed": false
   }
  },
  {
   "cell_type": "code",
   "execution_count": null,
   "outputs": [],
   "source": [
    "dict_obj = {'key1': ['a', 'b', 'a', 'b',\n",
    "                     'a', 'b', 'a', 'a'],\n",
    "            'key2': ['one', 'one', 'two', 'three',\n",
    "                     'two', 'two', 'one', 'three'],\n",
    "            'data1': np.random.randn(8),\n",
    "            'data2': np.random.randn(8)}\n",
    "df_obj = pd.DataFrame(dict_obj)\n",
    "\n",
    "print(df_obj)"
   ],
   "metadata": {
    "collapsed": false,
    "pycharm": {
     "name": "#%%\n"
    }
   }
  },
  {
   "cell_type": "code",
   "execution_count": null,
   "outputs": [],
   "source": [
    "# dataframe根据key1进行分组，分组后的对象类型\n",
    "# 不进行聚合操作拿到的只是groupby的对象\n",
    "print(df_obj.groupby('key1'))\n",
    "print('\\n')\n",
    "print(type(df_obj.groupby('key1')))\n",
    "print('\\n')\n",
    "print(df_obj['data1'])\n",
    "print('\\n')\n",
    "# dataframe的data1列根据key1进行分组\n",
    "print(type(df_obj['data1'].groupby(df_obj['key1'])))"
   ],
   "metadata": {
    "collapsed": false,
    "pycharm": {
     "name": "#%%\n"
    }
   }
  },
  {
   "cell_type": "code",
   "execution_count": null,
   "outputs": [],
   "source": [
    "# 分组运算\n",
    "grouped1 = df_obj.groupby('key1')\n",
    "print(grouped1.mean())  # 不是数值类型的不会算均值\n",
    "print('\\n')\n",
    "grouped2 = df_obj['data1'].groupby(df_obj['key1'])\n",
    "print(grouped2.mean())"
   ],
   "metadata": {
    "collapsed": false,
    "pycharm": {
     "name": "#%%\n"
    }
   }
  },
  {
   "cell_type": "markdown",
   "source": [
    "## 按自定义的key分组"
   ],
   "metadata": {
    "collapsed": false
   }
  },
  {
   "cell_type": "code",
   "execution_count": null,
   "outputs": [],
   "source": [
    "# 按自定义key分组，列表\n",
    "self_def_key = [0, 1, 2, 3, 3, 3, 5, 7]\n",
    "print(df_obj.groupby(self_def_key).size())  # 等于mysql的count\n",
    "print('\\n')\n",
    "print(df_obj.groupby(self_def_key).sum())"
   ],
   "metadata": {
    "collapsed": false,
    "pycharm": {
     "name": "#%%\n"
    }
   }
  },
  {
   "cell_type": "code",
   "execution_count": null,
   "outputs": [],
   "source": [
    "# 按自定义key分组，多层列表\n",
    "print(df_obj.groupby([df_obj['key1'], df_obj['key2']]).size())\n",
    "print('\\n')\n",
    "# 按多个列多层分组\n",
    "print('\\n')\n",
    "grouped2 = df_obj.groupby(['key1', 'key2'])\n",
    "print(grouped2.size())"
   ],
   "metadata": {
    "collapsed": false,
    "pycharm": {
     "name": "#%%\n"
    }
   }
  },
  {
   "cell_type": "code",
   "execution_count": null,
   "outputs": [],
   "source": [
    "# 多层分组按key的顺序进行\n",
    "grouped3 = df_obj.groupby(['key2', 'key1'])\n",
    "print(grouped3.size())  # Series\n",
    "print('\\n')\n",
    "print(type(grouped3.size()))\n",
    "print('\\n')\n",
    "print(grouped3.mean())"
   ],
   "metadata": {
    "collapsed": false,
    "pycharm": {
     "name": "#%%\n"
    }
   }
  },
  {
   "cell_type": "code",
   "execution_count": null,
   "outputs": [],
   "source": [
    "# unstack可以将多层索引的结果转换成单层的dataframe\n",
    "print(grouped3.mean().index)\n",
    "print('\\n')\n",
    "print(grouped3.mean().unstack())  # 竖变横,只能变为列索引的最大的索引\n",
    "print('\\n')\n",
    "print(grouped3.mean().unstack().columns)"
   ],
   "metadata": {
    "collapsed": false,
    "pycharm": {
     "name": "#%%\n"
    }
   }
  },
  {
   "cell_type": "code",
   "execution_count": null,
   "outputs": [],
   "source": [
    "# 多层分组，根据key1和key2，做个性化处理\n",
    "for group_name, group_data in grouped3:\n",
    "    print(group_name)\n",
    "    print(group_data)\n",
    "    print(type(group_data))\n",
    "    print('\\n')"
   ],
   "metadata": {
    "collapsed": false,
    "pycharm": {
     "name": "#%%\n"
    }
   }
  },
  {
   "cell_type": "code",
   "execution_count": null,
   "outputs": [],
   "source": [
    "list(grouped3)"
   ],
   "metadata": {
    "collapsed": false,
    "pycharm": {
     "name": "#%%\n"
    }
   }
  },
  {
   "cell_type": "markdown",
   "source": [
    "## 按类型分组"
   ],
   "metadata": {
    "collapsed": false
   }
  },
  {
   "cell_type": "code",
   "execution_count": null,
   "outputs": [],
   "source": [
    "print(df_obj.dtypes)"
   ],
   "metadata": {
    "collapsed": false,
    "pycharm": {
     "name": "#%%\n"
    }
   }
  },
  {
   "cell_type": "code",
   "execution_count": null,
   "outputs": [],
   "source": [
    "# 一列数据类型必须一致\n",
    "df_obj['data3'] = df_obj['data2'] + 1\n",
    "print(df_obj)\n",
    "print('\\n')\n",
    "print(df_obj.groupby(df_obj.dtypes, axis=1).size())  # 按轴0没有意义\n",
    "print('\\n')\n",
    "print(df_obj.groupby(df_obj.dtypes, axis=1).sum())"
   ],
   "metadata": {
    "collapsed": false,
    "pycharm": {
     "name": "#%%\n"
    }
   }
  },
  {
   "cell_type": "code",
   "execution_count": null,
   "outputs": [],
   "source": [
    "#这里是自定义的列索引\n",
    "self_column_key = [1, 2, 3, 3, 4]\n",
    "print(df_obj.groupby(self_column_key, axis=1).sum())  # 通过自定义索引去让不同列相加"
   ],
   "metadata": {
    "collapsed": false,
    "pycharm": {
     "name": "#%%\n"
    }
   }
  },
  {
   "cell_type": "markdown",
   "source": [
    "## 通过字典分组"
   ],
   "metadata": {
    "collapsed": false
   }
  },
  {
   "cell_type": "code",
   "execution_count": null,
   "outputs": [],
   "source": [
    "df_obj2 = pd.DataFrame(np.random.randint(1, 10, (5, 5)),\n",
    "                       columns=['a', 'b', 'c', 'd', 'e'],\n",
    "                       index=['A', 'B', 'C', 'D', 'E'])\n",
    "# 给指定某个部分的数据重新赋值为np.NaN\n",
    "df_obj2.loc['B', 'b':'d'] = np.NAN\n",
    "print(df_obj2)\n",
    "print('\\n')\n",
    "# 通过字典分组\n",
    "mapping_dict = {'a': 'Python', 'b': 'Python', 'c': 'Java', 'd': 'C', 'e': 'Java'}\n",
    "print(df_obj2.groupby(mapping_dict, axis=1).size())\n",
    "print('\\n')\n",
    "print(df_obj2.groupby(mapping_dict, axis=1).count())  # df内部值非NaN的个数\n",
    "print('\\n')\n",
    "print(df_obj2.groupby(mapping_dict, axis=1).sum())  # 求和不记录nan,nan当为0"
   ],
   "metadata": {
    "collapsed": false,
    "pycharm": {
     "name": "#%%\n"
    }
   }
  },
  {
   "cell_type": "code",
   "execution_count": null,
   "outputs": [],
   "source": [
    "str1 = '熊大'\n",
    "print(str1[0])"
   ],
   "metadata": {
    "collapsed": false,
    "pycharm": {
     "name": "#%%\n"
    }
   }
  },
  {
   "cell_type": "code",
   "execution_count": null,
   "outputs": [],
   "source": [
    "# 通过函数分组\n",
    "df_obj3 = pd.DataFrame(np.random.randint(1, 10, (5, 5)),\n",
    "                       columns=['a', 'b', 'c', 'd', 'ee'],\n",
    "                       index=['AA', 'BBBB', 'CC', 'D', 'EE'])\n",
    "print(df_obj3)\n",
    "print('\\n')\n",
    "\n",
    "\n",
    "def group_key(idx):\n",
    "    \"\"\"\n",
    "        idx为列索引或行索引，默认为行索引。axis=0,传入行索引，axis=1，传入列索引\n",
    "    \"\"\"\n",
    "    #return idx\n",
    "    return len(idx)\n",
    "\n",
    "\n",
    "print(df_obj3.groupby(group_key, axis=0).size())\n",
    "print('\\n')\n",
    "\n",
    "# 以上自定义函数等价于\n",
    "df_obj3.groupby(len).size()"
   ],
   "metadata": {
    "collapsed": false,
    "pycharm": {
     "name": "#%%\n"
    }
   }
  },
  {
   "cell_type": "code",
   "execution_count": null,
   "outputs": [],
   "source": [
    "# 通过索引级别分组，可以指定某个级别进行分组\n",
    "columns = pd.MultiIndex.from_arrays([['Python', 'Java', 'Python', 'Java', 'Python'],\n",
    "                                     ['A', 'A', 'B', 'C', 'B']],\n",
    "                                    names=['language', 'index1'])\n",
    "df_obj4 = pd.DataFrame(np.random.randint(1, 10, (5, 5)), columns=columns)\n",
    "print(df_obj4)\n",
    "print('\\n')\n",
    "# 根据language进行分组\n",
    "print(df_obj4.groupby(level='language', axis=1).sum())\n",
    "print('\\n')\n",
    "# 根据index1进行分组\n",
    "print(df_obj4.groupby(level='index1', axis=1).sum())"
   ],
   "metadata": {
    "collapsed": false,
    "pycharm": {
     "name": "#%%\n"
    }
   }
  },
  {
   "cell_type": "markdown",
   "source": [
    "## 聚合"
   ],
   "metadata": {
    "collapsed": false
   }
  },
  {
   "cell_type": "code",
   "execution_count": null,
   "outputs": [],
   "source": [
    "dict_obj = {'key1': ['a', 'b', 'a', 'b',\n",
    "                     'a', 'b', 'a', 'a'],\n",
    "            'key2': ['one', 'one', 'two', 'three',\n",
    "                     'two', 'two', 'one', 'three'],\n",
    "            'data1': np.random.randint(1, 10, 8),\n",
    "            'data2': np.random.randint(1, 10, 8)}\n",
    "df_obj = pd.DataFrame(dict_obj)\n",
    "print(df_obj)"
   ],
   "metadata": {
    "collapsed": false,
    "pycharm": {
     "name": "#%%\n"
    }
   }
  },
  {
   "cell_type": "code",
   "execution_count": null,
   "outputs": [],
   "source": [
    "print(df_obj.groupby(\"key1\").sum())\n",
    "print('\\n')\n",
    "print(df_obj.groupby(\"key1\").max())\n",
    "print('\\n')\n",
    "print(df_obj.groupby(\"key1\").min())\n",
    "print('\\n')"
   ],
   "metadata": {
    "collapsed": false,
    "pycharm": {
     "name": "#%%\n"
    }
   }
  },
  {
   "cell_type": "code",
   "execution_count": null,
   "outputs": [],
   "source": [
    "#平均值\n",
    "print(df_obj.groupby(\"key1\").mean())\n",
    "print('\\n')"
   ],
   "metadata": {
    "collapsed": false,
    "pycharm": {
     "name": "#%%\n"
    }
   }
  },
  {
   "cell_type": "code",
   "execution_count": null,
   "outputs": [],
   "source": [
    "print(df_obj.groupby(\"key1\").describe())"
   ],
   "metadata": {
    "collapsed": false,
    "pycharm": {
     "name": "#%%\n"
    }
   }
  },
  {
   "cell_type": "code",
   "execution_count": null,
   "outputs": [],
   "source": [
    "df_obj5 = pd.DataFrame(dict_obj)\n",
    "print(df_obj5)\n",
    "print('\\n')\n",
    "\n",
    "\n",
    "# 自定义聚合函数\n",
    "def peak_range(df):\n",
    "    \"\"\"\n",
    "        返回数值范围,df参数是groupby后的groupby对象\n",
    "    \"\"\"\n",
    "    #print type(df) #参数为索引所对应的记录\n",
    "    return df.max() - df.min()\n",
    "\n",
    "\n",
    "print(df_obj5.loc[:, ['key1', 'data1', 'data2']].groupby('key1').agg(peak_range))\n",
    "print('\\n')\n",
    "print(df_obj5.loc[:, ['key1', 'data1', 'data2']].groupby('key1').agg(lambda df: df.max() - df.min()))"
   ],
   "metadata": {
    "collapsed": false,
    "pycharm": {
     "name": "#%%\n"
    }
   }
  },
  {
   "cell_type": "code",
   "execution_count": null,
   "outputs": [],
   "source": [
    "#删除key2这一列\n",
    "del df_obj['key2']\n",
    "print(df_obj)"
   ],
   "metadata": {
    "collapsed": false,
    "pycharm": {
     "name": "#%%\n"
    }
   }
  },
  {
   "cell_type": "code",
   "execution_count": null,
   "outputs": [],
   "source": [
    "# 同时应用多个聚合函数,内置函数直接单引号引起来\n",
    "print(df_obj.groupby('key1').agg(['mean', 'std', 'count', peak_range]))"
   ],
   "metadata": {
    "collapsed": false,
    "pycharm": {
     "name": "#%%\n"
    }
   }
  },
  {
   "cell_type": "code",
   "execution_count": null,
   "outputs": [],
   "source": [
    "# 每列作用不同的聚合函数\n",
    "dict_mapping = {'data1': 'mean',\n",
    "                'data2': 'count'}\n",
    "print(df_obj.groupby('key1').agg(dict_mapping))"
   ],
   "metadata": {
    "collapsed": false,
    "pycharm": {
     "name": "#%%\n"
    }
   }
  },
  {
   "cell_type": "markdown",
   "source": [
    "# 星巴克全球开店"
   ],
   "metadata": {
    "collapsed": false
   }
  },
  {
   "cell_type": "code",
   "execution_count": 121,
   "outputs": [
    {
     "name": "stdout",
     "output_type": "stream",
     "text": [
      "       Brand  Store Number     Store Name Ownership Type     Street Address  \\\n",
      "0  Starbucks  47370-257954  Meritxell, 96       Licensed  Av. Meritxell, 96   \n",
      "\n",
      "               City State/Province Country Postcode Phone Number  \\\n",
      "0  Andorra la Vella              7      AD    AD500    376818720   \n",
      "\n",
      "                  Timezone  Longitude  Latitude  \n",
      "0  GMT+1:00 Europe/Andorra       1.53     42.51  \n",
      "\n",
      "\n",
      "<class 'pandas.core.frame.DataFrame'>\n",
      "RangeIndex: 25600 entries, 0 to 25599\n",
      "Data columns (total 13 columns):\n",
      " #   Column          Non-Null Count  Dtype  \n",
      "---  ------          --------------  -----  \n",
      " 0   Brand           25600 non-null  object \n",
      " 1   Store Number    25600 non-null  object \n",
      " 2   Store Name      25600 non-null  object \n",
      " 3   Ownership Type  25600 non-null  object \n",
      " 4   Street Address  25598 non-null  object \n",
      " 5   City            25585 non-null  object \n",
      " 6   State/Province  25600 non-null  object \n",
      " 7   Country         25600 non-null  object \n",
      " 8   Postcode        24078 non-null  object \n",
      " 9   Phone Number    18739 non-null  object \n",
      " 10  Timezone        25600 non-null  object \n",
      " 11  Longitude       25599 non-null  float64\n",
      " 12  Latitude        25599 non-null  float64\n",
      "dtypes: float64(2), object(11)\n",
      "memory usage: 2.5+ MB\n",
      "None\n",
      "\n",
      "\n",
      "Country\n",
      "AD        1\n",
      "AE      144\n",
      "AR      108\n",
      "AT       18\n",
      "AU       22\n",
      "      ...  \n",
      "TT        3\n",
      "TW      394\n",
      "US    13608\n",
      "VN       25\n",
      "ZA        3\n",
      "Length: 73, dtype: int64\n"
     ]
    }
   ],
   "source": [
    "import pandas as pd\n",
    "import numpy as np\n",
    "\n",
    "file_path = \"./starbucks_store_worldwide.csv\"\n",
    "\n",
    "df = pd.read_csv(file_path)\n",
    "print(df.head(1))\n",
    "print('\\n')\n",
    "print(df.info())  # 对数据总体有一个把控\n",
    "print('\\n')\n",
    "grouped = df.groupby(by='Country')\n",
    "print(grouped.size())"
   ],
   "metadata": {
    "collapsed": false,
    "pycharm": {
     "name": "#%%\n"
    }
   }
  },
  {
   "cell_type": "code",
   "execution_count": 122,
   "outputs": [
    {
     "name": "stdout",
     "output_type": "stream",
     "text": [
      "13608\n",
      "\n",
      "\n",
      "2734\n"
     ]
    }
   ],
   "source": [
    "# 任取一列求count，也可以用country列自身\n",
    "country_count = grouped[\"Brand\"].count()\n",
    "print(country_count[\"US\"])\n",
    "print('\\n')\n",
    "print(country_count[\"CN\"])"
   ],
   "metadata": {
    "collapsed": false,
    "pycharm": {
     "name": "#%%\n"
    }
   }
  },
  {
   "cell_type": "code",
   "execution_count": 123,
   "outputs": [
    {
     "data": {
      "text/plain": "<BarContainer object of 31 artists>"
     },
     "execution_count": 123,
     "metadata": {},
     "output_type": "execute_result"
    },
    {
     "data": {
      "text/plain": "<Figure size 1600x800 with 1 Axes>",
      "image/png": "[encoded data removed]"
     },
     "metadata": {
      "needs_background": "light"
     },
     "output_type": "display_data"
    }
   ],
   "source": [
    "# 中国不同省份的星巴克数量，图像绘制\n",
    "import matplotlib.pyplot as plt\n",
    "\n",
    "country_cn = df[df['Country'] == 'CN']\n",
    "china_province = country_cn.groupby(by=\"State/Province\").count()['Brand'].sort_values(ascending=False)\n",
    "plt.figure(figsize=(20, 10), dpi=80)\n",
    "plt.bar(china_province.index, china_province.values)"
   ],
   "metadata": {
    "collapsed": false,
    "pycharm": {
     "name": "#%%\n"
    }
   }
  },
  {
   "cell_type": "code",
   "execution_count": 126,
   "outputs": [
    {
     "name": "stdout",
     "output_type": "stream",
     "text": [
      "Index(['31', '32', '44', '33', '11', '91', '51', '42', '35', '37', '12', '21',\n",
      "       '61', '50', '43', '34', '53', '13', '45', '41', '46', '23', '36', '22',\n",
      "       '92', '52', '15', '14', '62', '63', '64'],\n",
      "      dtype='object', name='State/Province')\n"
     ]
    }
   ],
   "source": [
    "print(china_province.index)"
   ],
   "metadata": {
    "collapsed": false,
    "pycharm": {
     "name": "#%%\n"
    }
   }
  },
  {
   "cell_type": "code",
   "execution_count": 127,
   "outputs": [
    {
     "name": "stdout",
     "output_type": "stream",
     "text": [
      "                        Brand\n",
      "Country State/Province       \n",
      "AD      7                   1\n",
      "AE      AJ                  2\n",
      "        AZ                 48\n",
      "        DU                 82\n",
      "        FU                  2\n",
      "...                       ...\n",
      "US      WV                 25\n",
      "        WY                 23\n",
      "VN      HN                  6\n",
      "        SG                 19\n",
      "ZA      GT                  3\n",
      "\n",
      "[545 rows x 1 columns]\n"
     ]
    }
   ],
   "source": [
    "grouped1 = df[[\"Brand\"]].groupby(by=[df[\"Country\"], df[\"State/Province\"]]).count()\n",
    "print(grouped1)"
   ],
   "metadata": {
    "collapsed": false,
    "pycharm": {
     "name": "#%%\n"
    }
   }
  },
  {
   "cell_type": "code",
   "execution_count": 128,
   "outputs": [
    {
     "name": "stdout",
     "output_type": "stream",
     "text": [
      "                        Brand  Store Number  Store Name  Ownership Type  \\\n",
      "Country State/Province                                                    \n",
      "AD      7                   1             1           1               1   \n",
      "AE      AJ                  2             2           2               2   \n",
      "        AZ                 48            48          48              48   \n",
      "        DU                 82            82          82              82   \n",
      "        FU                  2             2           2               2   \n",
      "...                       ...           ...         ...             ...   \n",
      "US      WV                 25            25          25              25   \n",
      "        WY                 23            23          23              23   \n",
      "VN      HN                  6             6           6               6   \n",
      "        SG                 19            19          19              19   \n",
      "ZA      GT                  3             3           3               3   \n",
      "\n",
      "                        Street Address  City  Postcode  Phone Number  \\\n",
      "Country State/Province                                                 \n",
      "AD      7                            1     1         1             1   \n",
      "AE      AJ                           2     2         0             0   \n",
      "        AZ                          48    48         7            20   \n",
      "        DU                          82    82        16            50   \n",
      "        FU                           2     2         1             0   \n",
      "...                                ...   ...       ...           ...   \n",
      "US      WV                          25    25        25            23   \n",
      "        WY                          23    23        23            22   \n",
      "VN      HN                           6     6         6             6   \n",
      "        SG                          19    19        19            17   \n",
      "ZA      GT                           3     3         3             2   \n",
      "\n",
      "                        Timezone  Longitude  Latitude  \n",
      "Country State/Province                                 \n",
      "AD      7                      1          1         1  \n",
      "AE      AJ                     2          2         2  \n",
      "        AZ                    48         48        48  \n",
      "        DU                    82         82        82  \n",
      "        FU                     2          2         2  \n",
      "...                          ...        ...       ...  \n",
      "US      WV                    25         25        25  \n",
      "        WY                    23         23        23  \n",
      "VN      HN                     6          6         6  \n",
      "        SG                    19         19        19  \n",
      "ZA      GT                     3          3         3  \n",
      "\n",
      "[545 rows x 11 columns]\n"
     ]
    }
   ],
   "source": [
    "grouped2 = df.groupby(by=[df[\"Country\"], df[\"State/Province\"]]).count()\n",
    "print(grouped2)"
   ],
   "metadata": {
    "collapsed": false,
    "pycharm": {
     "name": "#%%\n"
    }
   }
  },
  {
   "cell_type": "code",
   "execution_count": 130,
   "outputs": [
    {
     "name": "stdout",
     "output_type": "stream",
     "text": [
      "          Brand  Store Number                         Store Name  \\\n",
      "3062  Starbucks  48862-265746          Changshu Fangta Street-GF   \n",
      "3063  Starbucks  48238-258108  CZ Wujin Kaia Lomo Plaza Store-GF   \n",
      "3064  Starbucks  26608-244608        Nanjing Sun Palace Store-GF   \n",
      "3065  Starbucks  48586-263487  NT Haimen Zhongnan Plaza Store-GF   \n",
      "3066  Starbucks  49404-268987    NT Rudong wenfeng Dept Store-GF   \n",
      "...         ...           ...                                ...   \n",
      "3411  Starbucks  24743-238567                          镇江丹阳吾悦广场店   \n",
      "3412  Starbucks  24065-234944                            丹阳金鹰天地店   \n",
      "3413  Starbucks  24740-238713                         泰州靖江泰和国际城店   \n",
      "3414  Starbucks  24336-236945                         泰州靖江文峰大世界店   \n",
      "3415  Starbucks  47324-257587                          扬州高邮世贸广场店   \n",
      "\n",
      "     Ownership Type                               Street Address       City  \\\n",
      "3062  Joint Venture              Fangta Street and HeDong Street   Changshu   \n",
      "3063  Joint Venture  Huayuan St & Yongsheng Road, Wujin District  Changzhou   \n",
      "3064  Joint Venture                    No.3 yangguang Rd, Xuanwu    Nanjing   \n",
      "3065  Joint Venture    Zhangjian Avenue&Nanhai Road, Haimen City    Nantong   \n",
      "3066  Joint Venture              No.19 North Qingyuan Rd, Rudong    Nantong   \n",
      "...             ...                                          ...        ...   \n",
      "3411  Joint Venture                     丹阳市开发区, 新民东路99号10#-102铺位        镇江市   \n",
      "3412  Joint Venture                                  丹阳市, 金鹰天地广场        镇江市   \n",
      "3413  Joint Venture                           车站路77号泰和国际城C1-01铺位        靖江市   \n",
      "3414  Joint Venture                  人民北路1号文峰大世界1层1-2单元, 通湖路333号        靖江市   \n",
      "3415  Joint Venture            江苏省扬州高邮市, 世贸广场一层A005/A006/A1015铺位        高邮市   \n",
      "\n",
      "     State/Province Country Postcode Phone Number                Timezone  \\\n",
      "3062             32      CN   215500          NaN  GMT+08:00 Asia/Beijing   \n",
      "3063             32      CN   213000          NaN  GMT+08:00 Asia/Beijing   \n",
      "3064             32      CN   210000          NaN  GMT+08:00 Asia/Beijing   \n",
      "3065             32      CN   226000          NaN  GMT+08:00 Asia/Beijing   \n",
      "3066             32      CN   226000          NaN  GMT+08:00 Asia/Beijing   \n",
      "...             ...     ...      ...          ...                     ...   \n",
      "3411             32      CN      NaN          NaN  GMT+08:00 Asia/Beijing   \n",
      "3412             32      CN   212300          NaN  GMT+08:00 Asia/Beijing   \n",
      "3413             32      CN   214500          NaN  GMT+08:00 Asia/Beijing   \n",
      "3414             32      CN   214500          NaN  GMT+08:00 Asia/Beijing   \n",
      "3415             32      CN   225600          NaN  GMT+08:00 Asia/Beijing   \n",
      "\n",
      "      Longitude  Latitude  \n",
      "3062     120.75     31.64  \n",
      "3063     119.95     31.69  \n",
      "3064     118.81     32.06  \n",
      "3065     121.17     31.88  \n",
      "3066     121.18     32.31  \n",
      "...         ...       ...  \n",
      "3411     119.61     32.00  \n",
      "3412     119.58     31.99  \n",
      "3413     120.26     32.01  \n",
      "3414     120.27     32.02  \n",
      "3415     119.46     32.79  \n",
      "\n",
      "[354 rows x 13 columns]\n"
     ]
    }
   ],
   "source": [
    "# 这里可以看出32对应的省是江苏\n",
    "print(country_cn[country_cn['State/Province'] == '32'])"
   ],
   "metadata": {
    "collapsed": false,
    "pycharm": {
     "name": "#%%\n"
    }
   }
  },
  {
   "cell_type": "markdown",
   "source": [
    "# 设置索引"
   ],
   "metadata": {
    "collapsed": false
   }
  },
  {
   "cell_type": "code",
   "execution_count": 135,
   "outputs": [
    {
     "name": "stdout",
     "output_type": "stream",
     "text": [
      "   a  b    c  d\n",
      "0  0  7  one  h\n",
      "1  1  6  one  j\n",
      "2  2  5  one  k\n",
      "3  3  4  two  l\n",
      "4  4  3  two  m\n",
      "5  5  2  two  n\n",
      "6  6  1  two  o\n"
     ]
    }
   ],
   "source": [
    "# 索引中单项不可变，但是整体可以换掉\n",
    "a = pd.DataFrame({'a': range(7), 'b': range(7, 0, -1),\n",
    "                  'c': ['one', 'one', 'one', 'two', 'two', 'two', 'two'],\n",
    "                  'd': list(\"hjklmno\")})\n",
    "print(a)"
   ],
   "metadata": {
    "collapsed": false,
    "pycharm": {
     "name": "#%%\n"
    }
   }
  },
  {
   "cell_type": "code",
   "execution_count": 136,
   "outputs": [
    {
     "name": "stdout",
     "output_type": "stream",
     "text": [
      "   a  b    c  d\n",
      "0  0  7  one  h\n",
      "1  1  6  one  j\n",
      "2  2  5  one  k\n",
      "3  3  4  two  l\n",
      "4  4  3  two  m\n",
      "5  5  2  two  n\n",
      "6  6  1  two  o\n",
      "\n",
      "\n",
      "   a  b    c  d\n",
      "0  0  7  one  h\n",
      "1  1  6  one  j\n",
      "2  2  5  one  k\n",
      "3  3  4  two  l\n",
      "4  4  3  two  m\n",
      "5  5  2  two  n\n",
      "6  6  1  two  o\n",
      "\n",
      "\n",
      "   a  b    c  d\n",
      "a  0  7  one  h\n",
      "b  1  6  one  j\n",
      "c  2  5  one  k\n",
      "d  3  4  two  l\n",
      "e  4  3  two  m\n",
      "f  5  2  two  n\n",
      "g  6  1  two  o\n",
      "\n",
      "\n",
      "   a  b    c  d\n",
      "0  0  7  one  h\n",
      "1  1  6  one  j\n",
      "2  2  5  one  k\n",
      "3  3  4  two  l\n",
      "4  4  3  two  m\n",
      "5  5  2  two  n\n",
      "6  6  1  two  o\n",
      "\n",
      "\n",
      "    a   b    c    d\n",
      "a NaN NaN  NaN  NaN\n",
      "b NaN NaN  NaN  NaN\n",
      "c NaN NaN  NaN  NaN\n",
      "d NaN NaN  NaN  NaN\n",
      "e NaN NaN  NaN  NaN\n",
      "f NaN NaN  NaN  NaN\n",
      "g NaN NaN  NaN  NaN\n"
     ]
    }
   ],
   "source": [
    "c = a.copy()\n",
    "print(c)\n",
    "print('\\n')\n",
    "a.index = list('abcdefg')  # a的索引变了，a.index更换索引\n",
    "print(c)\n",
    "print('\\n')\n",
    "print(a)\n",
    "print('\\n')\n",
    "b = c.reindex(list('abcdefg'))  # reindex以设置的新索引返回一个新的df，c索引不变,b是没有值的\n",
    "print(c)\n",
    "print('\\n')\n",
    "print(b)"
   ],
   "metadata": {
    "collapsed": false,
    "pycharm": {
     "name": "#%%\n"
    }
   }
  },
  {
   "cell_type": "code",
   "execution_count": 137,
   "outputs": [
    {
     "name": "stdout",
     "output_type": "stream",
     "text": [
      "   a  b    c  d\n",
      "a  0  7  one  h\n",
      "b  1  6  one  j\n",
      "c  2  5  one  k\n",
      "d  3  4  two  l\n",
      "e  4  3  two  m\n",
      "f  5  2  two  n\n",
      "g  6  1  two  o\n",
      "\n",
      "\n",
      "       a  b\n",
      "c   d      \n",
      "one h  0  7\n",
      "    j  1  6\n",
      "    k  2  5\n",
      "two l  3  4\n",
      "    m  4  3\n",
      "    n  5  2\n",
      "    o  6  1\n",
      "\n",
      "\n",
      "   a  b    c  d\n",
      "a  0  7  one  h\n",
      "b  1  6  one  j\n",
      "c  2  5  one  k\n",
      "d  3  4  two  l\n",
      "e  4  3  two  m\n",
      "f  5  2  two  n\n",
      "g  6  1  two  o\n"
     ]
    }
   ],
   "source": [
    "#让某些列变为索引，让c列，d列数据变为索引\n",
    "print(a)\n",
    "print('\\n')\n",
    "print(a.set_index(['c', 'd']))  # 返回修改后的df\n",
    "print('\\n')\n",
    "print(a)  # a没变"
   ],
   "metadata": {
    "collapsed": false,
    "pycharm": {
     "name": "#%%\n"
    }
   }
  },
  {
   "cell_type": "markdown",
   "source": [
    "## 时间序列"
   ],
   "metadata": {
    "collapsed": false
   }
  },
  {
   "cell_type": "code",
   "execution_count": 138,
   "outputs": [
    {
     "data": {
      "text/plain": "DatetimeIndex(['2019-01-01', '2019-01-02', '2019-01-03', '2019-01-04',\n               '2019-01-05', '2019-01-06', '2019-01-07', '2019-01-08',\n               '2019-01-09', '2019-01-10',\n               ...\n               '2019-09-15', '2019-09-16', '2019-09-17', '2019-09-18',\n               '2019-09-19', '2019-09-20', '2019-09-21', '2019-09-22',\n               '2019-09-23', '2019-09-24'],\n              dtype='datetime64[ns]', length=267, freq='D')"
     },
     "execution_count": 138,
     "metadata": {},
     "output_type": "execute_result"
    }
   ],
   "source": [
    "pd.date_range(start=\"20190101\", end=\"20190924\")"
   ],
   "metadata": {
    "collapsed": false,
    "pycharm": {
     "name": "#%%\n"
    }
   }
  },
  {
   "cell_type": "code",
   "execution_count": 139,
   "outputs": [
    {
     "data": {
      "text/plain": "DatetimeIndex(['2021-07-12', '2021-07-13', '2021-07-14', '2021-07-15',\n               '2021-07-16', '2021-07-19', '2021-07-20', '2021-07-21',\n               '2021-07-22', '2021-07-23'],\n              dtype='datetime64[ns]', freq='B')"
     },
     "execution_count": 139,
     "metadata": {},
     "output_type": "execute_result"
    }
   ],
   "source": [
    "pd.date_range(start=\"20210712\", periods=10, freq='B')  # 工作日"
   ],
   "metadata": {
    "collapsed": false,
    "pycharm": {
     "name": "#%%\n"
    }
   }
  },
  {
   "cell_type": "code",
   "execution_count": 140,
   "outputs": [
    {
     "data": {
      "text/plain": "DatetimeIndex(['2019-01-31', '2019-02-28', '2019-03-31', '2019-04-30',\n               '2019-05-31', '2019-06-30', '2019-07-31', '2019-08-31',\n               '2019-09-30', '2019-10-31'],\n              dtype='datetime64[ns]', freq='M')"
     },
     "execution_count": 140,
     "metadata": {},
     "output_type": "execute_result"
    }
   ],
   "source": [
    "pd.date_range(start=\"20190101\", periods=10, freq='M')  # 月末"
   ],
   "metadata": {
    "collapsed": false,
    "pycharm": {
     "name": "#%%\n"
    }
   }
  },
  {
   "cell_type": "code",
   "execution_count": 141,
   "outputs": [
    {
     "data": {
      "text/plain": "DatetimeIndex(['2019-01-01', '2019-02-01', '2019-03-01', '2019-04-01',\n               '2019-05-01', '2019-06-01', '2019-07-01', '2019-08-01',\n               '2019-09-01', '2019-10-01'],\n              dtype='datetime64[ns]', freq='MS')"
     },
     "execution_count": 141,
     "metadata": {},
     "output_type": "execute_result"
    }
   ],
   "source": [
    "pd.date_range(start=\"20190101\", periods=10, freq='MS')  # 月首"
   ],
   "metadata": {
    "collapsed": false,
    "pycharm": {
     "name": "#%%\n"
    }
   }
  },
  {
   "cell_type": "code",
   "execution_count": 142,
   "outputs": [
    {
     "data": {
      "text/plain": "DatetimeIndex(['2021-04-25', '2021-05-02', '2021-05-09', '2021-05-16',\n               '2021-05-23', '2021-05-30', '2021-06-06', '2021-06-13',\n               '2021-06-20', '2021-06-27'],\n              dtype='datetime64[ns]', freq='W-SUN')"
     },
     "execution_count": 142,
     "metadata": {},
     "output_type": "execute_result"
    }
   ],
   "source": [
    "pd.date_range(start=\"20210421\", periods=10, freq='W')  # 周日"
   ],
   "metadata": {
    "collapsed": false,
    "pycharm": {
     "name": "#%%\n"
    }
   }
  },
  {
   "cell_type": "code",
   "execution_count": 143,
   "outputs": [
    {
     "name": "stdout",
     "output_type": "stream",
     "text": [
      "0       3/11/2000\n",
      "1       3/12/2000\n",
      "2       3/13/2000\n",
      "3       3/11/2000\n",
      "4       3/12/2000\n",
      "          ...    \n",
      "2995    3/12/2000\n",
      "2996    3/13/2000\n",
      "2997    3/11/2000\n",
      "2998    3/12/2000\n",
      "2999    3/13/2000\n",
      "Length: 3000, dtype: object\n"
     ]
    }
   ],
   "source": [
    "s = pd.Series(['3/11/2000', '3/12/2000', '3/13/2000'] * 1000)\n",
    "print(s)"
   ],
   "metadata": {
    "collapsed": false,
    "pycharm": {
     "name": "#%%\n"
    }
   }
  },
  {
   "cell_type": "code",
   "execution_count": 145,
   "outputs": [
    {
     "name": "stdout",
     "output_type": "stream",
     "text": [
      "912 µs ± 15.5 µs per loop (mean ± std. dev. of 7 runs, 1,000 loops each)\n"
     ]
    }
   ],
   "source": [
    "# timeit可以统计执行耗时，to_datetime把字符串转为时间格式\n",
    "% timeit pd.to_datetime(s, infer_datetime_format=True)"
   ],
   "metadata": {
    "collapsed": false,
    "pycharm": {
     "name": "#%%\n"
    }
   }
  },
  {
   "cell_type": "code",
   "execution_count": 148,
   "outputs": [
    {
     "name": "stdout",
     "output_type": "stream",
     "text": [
      "         lat        lng                                               desc  \\\n",
      "0  40.297876 -75.581294  REINDEER CT & DEAD END;  NEW HANOVER; Station ...   \n",
      "1  40.258061 -75.264680  BRIAR PATH & WHITEMARSH LN;  HATFIELD TOWNSHIP...   \n",
      "2  40.121182 -75.351975  HAWS AVE; NORRISTOWN; 2015-12-10 @ 14:39:21-St...   \n",
      "3  40.116153 -75.343513  AIRY ST & SWEDE ST;  NORRISTOWN; Station 308A;...   \n",
      "4  40.251492 -75.603350  CHERRYWOOD CT & DEAD END;  LOWER POTTSGROVE; S...   \n",
      "\n",
      "       zip                    title           timeStamp                twp  \\\n",
      "0  19525.0   EMS: BACK PAINS/INJURY 2015-12-10 17:10:52        NEW HANOVER   \n",
      "1  19446.0  EMS: DIABETIC EMERGENCY 2015-12-10 17:29:21  HATFIELD TOWNSHIP   \n",
      "2  19401.0      Fire: GAS-ODOR/LEAK 2015-12-10 14:39:21         NORRISTOWN   \n",
      "3  19401.0   EMS: CARDIAC EMERGENCY 2015-12-10 16:47:36         NORRISTOWN   \n",
      "4      NaN           EMS: DIZZINESS 2015-12-10 16:56:52   LOWER POTTSGROVE   \n",
      "\n",
      "                         addr  e  \n",
      "0      REINDEER CT & DEAD END  1  \n",
      "1  BRIAR PATH & WHITEMARSH LN  1  \n",
      "2                    HAWS AVE  1  \n",
      "3          AIRY ST & SWEDE ST  1  \n",
      "4    CHERRYWOOD CT & DEAD END  1  \n",
      "\n",
      "\n",
      "                           lat        lng  \\\n",
      "timeStamp                                   \n",
      "2015-12-10 17:10:52  40.297876 -75.581294   \n",
      "2015-12-10 17:29:21  40.258061 -75.264680   \n",
      "2015-12-10 14:39:21  40.121182 -75.351975   \n",
      "2015-12-10 16:47:36  40.116153 -75.343513   \n",
      "2015-12-10 16:56:52  40.251492 -75.603350   \n",
      "\n",
      "                                                                  desc  \\\n",
      "timeStamp                                                                \n",
      "2015-12-10 17:10:52  REINDEER CT & DEAD END;  NEW HANOVER; Station ...   \n",
      "2015-12-10 17:29:21  BRIAR PATH & WHITEMARSH LN;  HATFIELD TOWNSHIP...   \n",
      "2015-12-10 14:39:21  HAWS AVE; NORRISTOWN; 2015-12-10 @ 14:39:21-St...   \n",
      "2015-12-10 16:47:36  AIRY ST & SWEDE ST;  NORRISTOWN; Station 308A;...   \n",
      "2015-12-10 16:56:52  CHERRYWOOD CT & DEAD END;  LOWER POTTSGROVE; S...   \n",
      "\n",
      "                         zip                    title                twp  \\\n",
      "timeStamp                                                                  \n",
      "2015-12-10 17:10:52  19525.0   EMS: BACK PAINS/INJURY        NEW HANOVER   \n",
      "2015-12-10 17:29:21  19446.0  EMS: DIABETIC EMERGENCY  HATFIELD TOWNSHIP   \n",
      "2015-12-10 14:39:21  19401.0      Fire: GAS-ODOR/LEAK         NORRISTOWN   \n",
      "2015-12-10 16:47:36  19401.0   EMS: CARDIAC EMERGENCY         NORRISTOWN   \n",
      "2015-12-10 16:56:52      NaN           EMS: DIZZINESS   LOWER POTTSGROVE   \n",
      "\n",
      "                                           addr  e  cate  \n",
      "timeStamp                                                 \n",
      "2015-12-10 17:10:52      REINDEER CT & DEAD END  1   EMS  \n",
      "2015-12-10 17:29:21  BRIAR PATH & WHITEMARSH LN  1   EMS  \n",
      "2015-12-10 14:39:21                    HAWS AVE  1  Fire  \n",
      "2015-12-10 16:47:36          AIRY ST & SWEDE ST  1   EMS  \n",
      "2015-12-10 16:56:52    CHERRYWOOD CT & DEAD END  1   EMS  \n",
      "\n",
      "\n",
      "timeStamp\n",
      "2015-12-31    3898\n",
      "2016-01-31    6063\n",
      "2016-02-29    5413\n",
      "2016-03-31    5832\n",
      "2016-04-30    5684\n",
      "2016-05-31    5730\n",
      "2016-06-30    5720\n",
      "2016-07-31    6029\n",
      "2016-08-31    6005\n",
      "2016-09-30    5750\n",
      "2016-10-31    6039\n",
      "2016-11-30    5838\n",
      "2016-12-31    6024\n",
      "2017-01-31    6082\n",
      "2017-02-28    5417\n",
      "2017-03-31    5913\n",
      "2017-04-30    5780\n",
      "2017-05-31    5948\n",
      "2017-06-30    6030\n",
      "2017-07-31    5974\n",
      "2017-08-31    5882\n",
      "2017-09-30    3789\n",
      "Freq: M, Name: title, dtype: int64\n",
      "\n",
      "\n",
      "DatetimeIndex(['2015-12-31', '2016-01-31', '2016-02-29', '2016-03-31',\n",
      "               '2016-04-30', '2016-05-31', '2016-06-30', '2016-07-31',\n",
      "               '2016-08-31', '2016-09-30', '2016-10-31', '2016-11-30',\n",
      "               '2016-12-31', '2017-01-31', '2017-02-28', '2017-03-31',\n",
      "               '2017-04-30', '2017-05-31', '2017-06-30', '2017-07-31',\n",
      "               '2017-08-31', '2017-09-30'],\n",
      "              dtype='datetime64[ns]', name='timeStamp', freq='M')\n",
      "\n",
      "\n",
      "timeStamp\n",
      "2015-12-31    1095\n",
      "2016-01-31    1904\n",
      "2016-02-29    1868\n",
      "2016-03-31    1589\n",
      "2016-04-30    1717\n",
      "2016-05-31    1573\n",
      "2016-06-30    1787\n",
      "2016-07-31    1898\n",
      "2016-08-31    1907\n",
      "2016-09-30    1793\n",
      "2016-10-31    1930\n",
      "2016-11-30    1765\n",
      "2016-12-31    1846\n",
      "2017-01-31    1658\n",
      "2017-02-28    1462\n",
      "2017-03-31    1634\n",
      "2017-04-30    1614\n",
      "2017-05-31    1670\n",
      "2017-06-30    1986\n",
      "2017-07-31    1754\n",
      "2017-08-31    1862\n",
      "2017-09-30    1120\n",
      "Freq: M, Name: title, dtype: int64\n",
      "\n",
      "\n",
      "DatetimeIndex(['2015-12-31', '2016-01-31', '2016-02-29', '2016-03-31',\n",
      "               '2016-04-30', '2016-05-31', '2016-06-30', '2016-07-31',\n",
      "               '2016-08-31', '2016-09-30', '2016-10-31', '2016-11-30',\n",
      "               '2016-12-31', '2017-01-31', '2017-02-28', '2017-03-31',\n",
      "               '2017-04-30', '2017-05-31', '2017-06-30', '2017-07-31',\n",
      "               '2017-08-31', '2017-09-30'],\n",
      "              dtype='datetime64[ns]', name='timeStamp', freq='M')\n",
      "\n",
      "\n",
      "timeStamp\n",
      "2015-12-31    2923\n",
      "2016-01-31    5129\n",
      "2016-02-29    4115\n",
      "2016-03-31    3638\n",
      "2016-04-30    3886\n",
      "2016-05-31    4071\n",
      "2016-06-30    4225\n",
      "2016-07-31    4161\n",
      "2016-08-31    3992\n",
      "2016-09-30    4126\n",
      "2016-10-31    4533\n",
      "2016-11-30    4488\n",
      "2016-12-31    4292\n",
      "2017-01-31    3865\n",
      "2017-02-28    3388\n",
      "2017-03-31    4137\n",
      "2017-04-30    3662\n",
      "2017-05-31    4101\n",
      "2017-06-30    4317\n",
      "2017-07-31    4040\n",
      "2017-08-31    4009\n",
      "2017-09-30    2367\n",
      "Freq: M, Name: title, dtype: int64\n",
      "\n",
      "\n",
      "DatetimeIndex(['2015-12-31', '2016-01-31', '2016-02-29', '2016-03-31',\n",
      "               '2016-04-30', '2016-05-31', '2016-06-30', '2016-07-31',\n",
      "               '2016-08-31', '2016-09-30', '2016-10-31', '2016-11-30',\n",
      "               '2016-12-31', '2017-01-31', '2017-02-28', '2017-03-31',\n",
      "               '2017-04-30', '2017-05-31', '2017-06-30', '2017-07-31',\n",
      "               '2017-08-31', '2017-09-30'],\n",
      "              dtype='datetime64[ns]', name='timeStamp', freq='M')\n",
      "\n",
      "\n"
     ]
    },
    {
     "data": {
      "text/plain": "<Figure size 1600x640 with 1 Axes>",
      "image/png": "[encoded data removed]"
     },
     "metadata": {
      "needs_background": "light"
     },
     "output_type": "display_data"
    }
   ],
   "source": [
    "# 实战美国911电话数据\n",
    "from matplotlib import pyplot as plt\n",
    "\n",
    "# 把时间字符串转为时间类型，并设置为索引\n",
    "df = pd.read_csv(\"./911.csv\")\n",
    "df[\"timeStamp\"] = pd.to_datetime(df[\"timeStamp\"])\n",
    "print(df.head())\n",
    "print('\\n')\n",
    "# 添加列，表示分类\n",
    "temp_list = df[\"title\"].str.split(\": \").tolist()\n",
    "cate_list = [i[0] for i in temp_list]  # i[0]就是EMS  Fire  Traffic\n",
    "# print(cate_list)\n",
    "# print(np.array(cate_list).reshape((df.shape[0], 1)))\n",
    "df[\"cate\"] = pd.DataFrame(np.array(cate_list).reshape((df.shape[0], 1)))  # 添加一列\n",
    "df.set_index(\"timeStamp\", inplace=True)\n",
    "print(df.head())\n",
    "print('\\n')\n",
    "plt.figure(figsize=(20, 8), dpi=80)\n",
    "# 分组,一图多线\n",
    "for group_name, group_data in df.groupby(by=\"cate\"):\n",
    "    # 对不同的分类都进行绘图\n",
    "    count_by_month = group_data.resample(\"M\").count()[\"title\"]  # 降采样\n",
    "    print(count_by_month)\n",
    "    print('\\n')\n",
    "    # 画图\n",
    "    _x = count_by_month.index\n",
    "    print(_x)\n",
    "    print('\\n')\n",
    "    _y = count_by_month.values\n",
    "    _x = [i.strftime(\"%Y%m%d\") for i in _x]  # 变年月日格式\n",
    "    plt.plot(_x, _y, label=group_name)\n",
    "plt.xticks(range(len(_x)), _x, rotation=45)\n",
    "plt.legend(loc=\"best\")\n",
    "plt.show()"
   ],
   "metadata": {
    "collapsed": false,
    "pycharm": {
     "name": "#%%\n"
    }
   }
  },
  {
   "cell_type": "code",
   "execution_count": 149,
   "outputs": [
    {
     "name": "stdout",
     "output_type": "stream",
     "text": [
      "   No  year  month  day  hour  season  PM_Dongsi  PM_Dongsihuan  \\\n",
      "0   1  2010      1    1     0       4        NaN            NaN   \n",
      "1   2  2010      1    1     1       4        NaN            NaN   \n",
      "2   3  2010      1    1     2       4        NaN            NaN   \n",
      "3   4  2010      1    1     3       4        NaN            NaN   \n",
      "4   5  2010      1    1     4       4        NaN            NaN   \n",
      "\n",
      "   PM_Nongzhanguan  PM_US Post  DEWP  HUMI    PRES  TEMP cbwd    Iws  \\\n",
      "0              NaN         NaN -21.0  43.0  1021.0 -11.0   NW   1.79   \n",
      "1              NaN         NaN -21.0  47.0  1020.0 -12.0   NW   4.92   \n",
      "2              NaN         NaN -21.0  43.0  1019.0 -11.0   NW   6.71   \n",
      "3              NaN         NaN -21.0  55.0  1019.0 -14.0   NW   9.84   \n",
      "4              NaN         NaN -20.0  51.0  1018.0 -12.0   NW  12.97   \n",
      "\n",
      "   precipitation  Iprec  \n",
      "0            0.0    0.0  \n",
      "1            0.0    0.0  \n",
      "2            0.0    0.0  \n",
      "3            0.0    0.0  \n",
      "4            0.0    0.0  \n",
      "\n",
      "\n",
      "   No  year  month  day  hour  season  PM_Dongsi  PM_Dongsihuan  \\\n",
      "0   1  2010      1    1     0       4        NaN            NaN   \n",
      "1   2  2010      1    1     1       4        NaN            NaN   \n",
      "2   3  2010      1    1     2       4        NaN            NaN   \n",
      "3   4  2010      1    1     3       4        NaN            NaN   \n",
      "4   5  2010      1    1     4       4        NaN            NaN   \n",
      "\n",
      "   PM_Nongzhanguan  PM_US Post  DEWP  HUMI    PRES  TEMP cbwd    Iws  \\\n",
      "0              NaN         NaN -21.0  43.0  1021.0 -11.0   NW   1.79   \n",
      "1              NaN         NaN -21.0  47.0  1020.0 -12.0   NW   4.92   \n",
      "2              NaN         NaN -21.0  43.0  1019.0 -11.0   NW   6.71   \n",
      "3              NaN         NaN -21.0  55.0  1019.0 -14.0   NW   9.84   \n",
      "4              NaN         NaN -20.0  51.0  1018.0 -12.0   NW  12.97   \n",
      "\n",
      "   precipitation  Iprec          datetime  \n",
      "0            0.0    0.0  2010-01-01 00:00  \n",
      "1            0.0    0.0  2010-01-01 01:00  \n",
      "2            0.0    0.0  2010-01-01 02:00  \n",
      "3            0.0    0.0  2010-01-01 03:00  \n",
      "4            0.0    0.0  2010-01-01 04:00  \n"
     ]
    }
   ],
   "source": [
    "# PM2.5实战\n",
    "\n",
    "file_path = \"./PM2.5/BeijingPM20100101_20151231.csv\"\n",
    "\n",
    "df = pd.read_csv(file_path)\n",
    "print(df.head())\n",
    "print('\\n')\n",
    "# 把分开的时间字符串通过periodIndex的方法转化为pandas的时间类型\n",
    "period = pd.PeriodIndex(year=df[\"year\"], month=df[\"month\"], day=df[\"day\"],\n",
    "                        hour=df[\"hour\"], freq=\"H\")\n",
    "df[\"datetime\"] = period\n",
    "print(df.head())"
   ],
   "metadata": {
    "collapsed": false,
    "pycharm": {
     "name": "#%%\n"
    }
   }
  },
  {
   "cell_type": "code",
   "execution_count": 150,
   "outputs": [
    {
     "name": "stdout",
     "output_type": "stream",
     "text": [
      "               No    year     month        day  hour  season  PM_Dongsi  \\\n",
      "datetime                                                                  \n",
      "2010-01-01   84.5  2010.0  1.000000   4.000000  11.5     4.0        NaN   \n",
      "2010-01-08  252.5  2010.0  1.000000  11.000000  11.5     4.0        NaN   \n",
      "2010-01-15  420.5  2010.0  1.000000  18.000000  11.5     4.0        NaN   \n",
      "2010-01-22  588.5  2010.0  1.000000  25.000000  11.5     4.0        NaN   \n",
      "2010-01-29  756.5  2010.0  1.571429  14.285714  11.5     4.0        NaN   \n",
      "\n",
      "            PM_Dongsihuan  PM_Nongzhanguan  PM_US Post       DEWP       HUMI  \\\n",
      "datetime                                                                       \n",
      "2010-01-01            NaN              NaN   71.627586 -18.255952  54.395833   \n",
      "2010-01-08            NaN              NaN   69.910714 -19.035714  49.386905   \n",
      "2010-01-15            NaN              NaN  163.654762 -12.630952  57.755952   \n",
      "2010-01-22            NaN              NaN   68.069307 -17.404762  34.095238   \n",
      "2010-01-29            NaN              NaN   53.583333 -17.565476  34.928571   \n",
      "\n",
      "                   PRES       TEMP        Iws  precipitation     Iprec  \n",
      "datetime                                                                \n",
      "2010-01-01  1027.910714 -10.202381  43.859821       0.066667  0.786905  \n",
      "2010-01-08  1030.035714 -10.029762  45.392083       0.000000  0.000000  \n",
      "2010-01-15  1030.386905  -4.946429  17.492976       0.000000  0.000000  \n",
      "2010-01-22  1026.196429  -2.672619  54.854048       0.000000  0.000000  \n",
      "2010-01-29  1025.273810  -2.083333  26.625119       0.000000  0.000000  \n"
     ]
    }
   ],
   "source": [
    "# 把datetime设置为索引\n",
    "df.set_index(\"datetime\", inplace=True)\n",
    "# 进行降采样，行索引必须是pd的时间类型\n",
    "df = df.resample(\"7D\").mean()\n",
    "print(df.head())"
   ],
   "metadata": {
    "collapsed": false,
    "pycharm": {
     "name": "#%%\n"
    }
   }
  },
  {
   "cell_type": "code",
   "execution_count": 151,
   "outputs": [
    {
     "data": {
      "text/plain": "No                 52500.500000\nyear                2015.000000\nmonth                 12.000000\nday                   28.000000\nhour                  11.500000\nseason                 4.000000\nPM_Dongsi            206.271084\nPM_Dongsihuan        219.377358\nPM_Nongzhanguan      199.566265\nPM_US Post           209.244048\nDEWP                  -8.559524\nHUMI                  70.136905\nPRES                1029.934524\nTEMP                  -3.202381\nIws                    8.713750\nprecipitation          0.000000\nIprec                  0.000000\nName: 2015-12-25, dtype: float64"
     },
     "execution_count": 151,
     "metadata": {},
     "output_type": "execute_result"
    }
   ],
   "source": [
    "df.iloc[312]"
   ],
   "metadata": {
    "collapsed": false,
    "pycharm": {
     "name": "#%%\n"
    }
   }
  },
  {
   "cell_type": "code",
   "execution_count": 157,
   "outputs": [
    {
     "name": "stdout",
     "output_type": "stream",
     "text": [
      "datetime\n",
      "2013-01-11    277.731707\n",
      "2013-01-18    188.244048\n",
      "2013-01-25    261.263473\n",
      "2013-02-01     72.845238\n",
      "2013-02-08    125.832335\n",
      "                 ...    \n",
      "2014-11-07     51.209581\n",
      "2014-11-14    153.695122\n",
      "2014-11-21    131.175000\n",
      "2014-11-28     84.083333\n",
      "2014-12-05     89.375839\n",
      "Freq: 7D, Name: PM_US Post, Length: 100, dtype: float64\n",
      "\n",
      "\n",
      "datetime\n",
      "2013-01-11     65.333333\n",
      "2013-01-18    161.054217\n",
      "2013-01-25    224.006098\n",
      "2013-02-01     61.145570\n",
      "2013-02-08    110.478788\n",
      "                 ...    \n",
      "2014-11-07     51.617284\n",
      "2014-11-14    149.935065\n",
      "2014-11-21    142.590062\n",
      "2014-11-28     82.012346\n",
      "2014-12-05    105.767857\n",
      "Freq: 7D, Name: PM_Nongzhanguan, Length: 100, dtype: float64\n",
      "\n",
      "\n",
      "PeriodIndex(['2013-01-11', '2013-01-18', '2013-01-25', '2013-02-01',\n",
      "             '2013-02-08', '2013-02-15', '2013-02-22', '2013-03-01',\n",
      "             '2013-03-08', '2013-03-15',\n",
      "             ...\n",
      "             '2015-10-23', '2015-10-30', '2015-11-06', '2015-11-13',\n",
      "             '2015-11-20', '2015-11-27', '2015-12-04', '2015-12-11',\n",
      "             '2015-12-18', '2015-12-25'],\n",
      "            dtype='period[7D]', name='datetime', length=155)\n",
      "\n",
      "\n",
      "155 155\n",
      "\n",
      "\n"
     ]
    },
    {
     "data": {
      "text/plain": "<Figure size 1600x640 with 1 Axes>",
      "image/png": "[encoded data removed]"
     },
     "metadata": {
      "needs_background": "light"
     },
     "output_type": "display_data"
    }
   ],
   "source": [
    "# 对比农展馆和美国测试的数据\n",
    "df = df.loc[:, [\"PM_US Post\", \"PM_Nongzhanguan\"]]  # 取这两列\n",
    "df = df.dropna()  # 任何一个为空，整个样本去掉\n",
    "data = df.loc[:, \"PM_US Post\"]\n",
    "print(data.head(100))\n",
    "print('\\n')\n",
    "data_china = df.loc[:, \"PM_Nongzhanguan\"]\n",
    "print(data_china.head(100))\n",
    "print('\\n')\n",
    "# 画图\n",
    "_x = data.index\n",
    "print(_x)\n",
    "print('\\n')\n",
    "_x = [i.strftime(\"%Y%m%d\") for i in _x]\n",
    "_x_china = [i.strftime(\"%Y%m%d\") for i in data_china.index]\n",
    "print(len(_x), len(_x_china))\n",
    "print('\\n')\n",
    "_y = data.values  # 美国\n",
    "_y_china = data_china.values  # 中国\n",
    "plt.figure(figsize=(20, 8), dpi=80)\n",
    "plt.plot(range(len(_x)), _y, label=\"US_POST\", alpha=0.7)\n",
    "plt.plot(range(len(_x_china)), _y_china, label=\"CN_POST\", alpha=0.7)\n",
    "plt.xticks(range(0, len(_x_china), 10), list(_x_china)[::10], rotation=45)\n",
    "plt.legend(loc=\"best\")\n",
    "plt.show()"
   ],
   "metadata": {
    "collapsed": false,
    "pycharm": {
     "name": "#%%\n"
    }
   }
  },
  {
   "cell_type": "markdown",
   "source": [
    "## 分组运算"
   ],
   "metadata": {
    "collapsed": false
   }
  },
  {
   "cell_type": "code",
   "execution_count": 3,
   "outputs": [
    {
     "name": "stdout",
     "output_type": "stream",
     "text": [
      "  key1   key2  data1  data2\n",
      "0    a    one      1      2\n",
      "1    b    one      7      4\n",
      "2    a    two      4      8\n",
      "3    b  three      5      2\n",
      "4    a    two      8      7\n",
      "5    b    two      6      3\n",
      "6    a    one      3      8\n",
      "7    a  three      4      3\n",
      "\n",
      "\n",
      "      sum_data1  sum_data2\n",
      "key1                      \n",
      "a            20         28\n",
      "b            18          9\n"
     ]
    }
   ],
   "source": [
    "import pandas as pd\n",
    "import numpy as np\n",
    "\n",
    "dict_obj = {'key1': ['a', 'b', 'a', 'b',\n",
    "                     'a', 'b', 'a', 'a'],\n",
    "            'key2': ['one', 'one', 'two', 'three',\n",
    "                     'two', 'two', 'one', 'three'],\n",
    "            'data1': np.random.randint(1, 10, 8),\n",
    "            'data2': np.random.randint(1, 10, 8)}\n",
    "df_obj = pd.DataFrame(dict_obj)\n",
    "print(df_obj)\n",
    "print('\\n')\n",
    "# 按key1分组后，计算data1，data2的统计信息并附加到原始表格中，并添加表头前缀\n",
    "k1_sum = df_obj.groupby('key1').sum().add_prefix('sum_')\n",
    "print(k1_sum)"
   ],
   "metadata": {
    "collapsed": false,
    "pycharm": {
     "name": "#%%\n"
    }
   }
  },
  {
   "cell_type": "code",
   "execution_count": 7,
   "outputs": [
    {
     "name": "stdout",
     "output_type": "stream",
     "text": [
      "  key1   key2  data1  data2  sum_data1  sum_data2\n",
      "0    a    one      1      2         20         28\n",
      "2    a    two      4      8         20         28\n",
      "4    a    two      8      7         20         28\n",
      "6    a    one      3      8         20         28\n",
      "7    a  three      4      3         20         28\n",
      "1    b    one      7      4         18          9\n",
      "3    b  three      5      2         18          9\n",
      "5    b    two      6      3         18          9\n"
     ]
    }
   ],
   "source": [
    "# 两个df之间进行连接\n",
    "# 和mysql的join是一致的，on 连接条件\n",
    "k1_sum_merge = pd.merge(df_obj, k1_sum, left_on='key1', right_index=True)\n",
    "print(k1_sum_merge)"
   ],
   "metadata": {
    "collapsed": false,
    "pycharm": {
     "name": "#%%\n"
    }
   }
  },
  {
   "cell_type": "code",
   "execution_count": 9,
   "outputs": [
    {
     "name": "stdout",
     "output_type": "stream",
     "text": [
      "            sum_key2 sum_data1 sum_data2\n",
      "0  onetwotwoonethree        20        28\n",
      "1        onethreetwo        18         9\n",
      "2  onetwotwoonethree        20        28\n",
      "3        onethreetwo        18         9\n",
      "4  onetwotwoonethree        20        28\n",
      "5        onethreetwo        18         9\n",
      "6  onetwotwoonethree        20        28\n",
      "7  onetwotwoonethree        20        28\n"
     ]
    }
   ],
   "source": [
    "# 方法2，使用transform\n",
    "k1_sum_tf = df_obj.groupby('key1').transform(np.sum).add_prefix('sum_')\n",
    "print(k1_sum_tf)\n",
    "# df_obj[k1_sum_tf.columns] = k1_sum_tf\n",
    "# print(df_obj)"
   ],
   "metadata": {
    "collapsed": false,
    "pycharm": {
     "name": "#%%\n"
    }
   }
  },
  {
   "cell_type": "code",
   "execution_count": 12,
   "outputs": [
    {
     "name": "stdout",
     "output_type": "stream",
     "text": [
      "      data1  data2\n",
      "key1              \n",
      "a       4.0    5.6\n",
      "b       6.0    3.0\n"
     ]
    }
   ],
   "source": [
    "print(df_obj.groupby('key1').mean())"
   ],
   "metadata": {
    "collapsed": false,
    "pycharm": {
     "name": "#%%\n"
    }
   }
  },
  {
   "cell_type": "code",
   "execution_count": 11,
   "outputs": [
    {
     "name": "stdout",
     "output_type": "stream",
     "text": [
      "  key1   key2  data1  data2\n",
      "0    a    one      1      2\n",
      "1    b    one      7      4\n",
      "2    a    two      4      8\n",
      "3    b  three      5      2\n",
      "4    a    two      8      7\n",
      "5    b    two      6      3\n",
      "6    a    one      3      8\n",
      "7    a  three      4      3\n"
     ]
    }
   ],
   "source": [
    "print(df_obj)"
   ],
   "metadata": {
    "collapsed": false,
    "pycharm": {
     "name": "#%%\n"
    }
   }
  },
  {
   "cell_type": "code",
   "execution_count": null,
   "outputs": [],
   "source": [
    "df_obj.groupby('key1').transform(np.mean)"
   ],
   "metadata": {
    "collapsed": false,
    "pycharm": {
     "name": "#%%\n"
    }
   }
  },
  {
   "cell_type": "code",
   "execution_count": 13,
   "outputs": [
    {
     "name": "stdout",
     "output_type": "stream",
     "text": [
      "   data1  data2\n",
      "0   -3.0   -3.6\n",
      "1    1.0    1.0\n",
      "2    0.0    2.4\n",
      "3   -1.0   -1.0\n",
      "4    4.0    1.4\n",
      "5    0.0    0.0\n",
      "6   -1.0    2.4\n",
      "7    0.0   -2.6\n"
     ]
    },
    {
     "name": "stderr",
     "output_type": "stream",
     "text": [
      "C:\\Users\\yf\\AppData\\Local\\Temp\\ipykernel_5464\\3374592228.py:8: FutureWarning: Dropping invalid columns in DataFrameGroupBy.transform is deprecated. In a future version, a TypeError will be raised. Before calling .transform, select only columns which should be valid for the function.\n",
      "  print(df_obj.groupby('key1').transform(diff_mean))\n"
     ]
    }
   ],
   "source": [
    "def diff_mean(s):\n",
    "    \"\"\"\n",
    "        返回数据与均值的差值\n",
    "    \"\"\"\n",
    "    return s - s.mean()\n",
    "\n",
    "\n",
    "print(df_obj.groupby('key1').transform(diff_mean))"
   ],
   "metadata": {
    "collapsed": false,
    "pycharm": {
     "name": "#%%\n"
    }
   }
  },
  {
   "cell_type": "markdown",
   "source": [
    "# 星际争霸"
   ],
   "metadata": {
    "collapsed": false
   }
  },
  {
   "cell_type": "code",
   "execution_count": 14,
   "outputs": [
    {
     "name": "stdout",
     "output_type": "stream",
     "text": [
      "      LeagueIndex   Age  HoursPerWeek  TotalHours       APM\n",
      "0               5  27.0          10.0      3000.0  143.7180\n",
      "1               5  23.0          10.0      5000.0  129.2322\n",
      "2               4  30.0          10.0       200.0   69.9612\n",
      "3               3  19.0          20.0       400.0  107.6016\n",
      "4               3  32.0          10.0       500.0  122.8908\n",
      "...           ...   ...           ...         ...       ...\n",
      "3390            8   NaN           NaN         NaN  259.6296\n",
      "3391            8   NaN           NaN         NaN  314.6700\n",
      "3392            8   NaN           NaN         NaN  299.4282\n",
      "3393            8   NaN           NaN         NaN  375.8664\n",
      "3394            8   NaN           NaN         NaN  348.3576\n",
      "\n",
      "[3395 rows x 5 columns]\n"
     ]
    }
   ],
   "source": [
    "import pandas as pd\n",
    "\n",
    "dataset_path = './starcraft.csv'\n",
    "df_data = pd.read_csv(dataset_path, usecols=['LeagueIndex', 'Age', 'HoursPerWeek',\n",
    "                                             'TotalHours', 'APM'])\n",
    "print(df_data)"
   ],
   "metadata": {
    "collapsed": false,
    "pycharm": {
     "name": "#%%\n"
    }
   }
  },
  {
   "cell_type": "code",
   "execution_count": 17,
   "outputs": [
    {
     "name": "stdout",
     "output_type": "stream",
     "text": [
      "                  LeagueIndex   Age  HoursPerWeek  TotalHours       APM\n",
      "LeagueIndex                                                            \n",
      "1           2214            1  20.0          12.0       730.0  172.9530\n",
      "            2246            1  27.0           8.0       250.0  141.6282\n",
      "            1753            1  20.0          28.0       100.0  139.6362\n",
      "2           3062            2  20.0           6.0       100.0  179.6250\n",
      "            3229            2  16.0          24.0       110.0  156.7380\n",
      "            1520            2  29.0           6.0       250.0  151.6470\n",
      "3           1557            3  22.0           6.0       200.0  226.6554\n",
      "            484             3  19.0          42.0       450.0  220.0692\n",
      "            2883            3  16.0           8.0       800.0  208.9500\n",
      "4           2688            4  26.0          24.0       990.0  249.0210\n",
      "            1759            4  16.0           6.0        75.0  229.9122\n",
      "            2637            4  23.0          24.0       650.0  227.2272\n",
      "5           3277            5  18.0          16.0       950.0  372.6426\n",
      "            93              5  17.0          36.0       720.0  335.4990\n",
      "            202             5  37.0          14.0       800.0  327.7218\n",
      "6           734             6  16.0          28.0       730.0  389.8314\n",
      "            2746            6  16.0          28.0      4000.0  350.4114\n",
      "            1810            6  21.0          14.0       730.0  323.2506\n",
      "7           3127            7  23.0          42.0      2000.0  298.7952\n",
      "            104             7  21.0          24.0      1000.0  286.4538\n",
      "            1654            7  18.0          98.0       700.0  236.0316\n",
      "8           3393            8   NaN           NaN         NaN  375.8664\n",
      "            3373            8   NaN           NaN         NaN  364.8504\n",
      "            3372            8   NaN           NaN         NaN  355.3518\n"
     ]
    }
   ],
   "source": [
    "def top_n(df, n=3, column='APM'):\n",
    "    \"\"\"\n",
    "        返回每个分组按column的top n数据\n",
    "    \"\"\"\n",
    "    return df.sort_values(by=column, ascending=False)[:n]\n",
    "\n",
    "\n",
    "print(df_data.groupby('LeagueIndex').apply(top_n))"
   ],
   "metadata": {
    "collapsed": false,
    "pycharm": {
     "name": "#%%\n"
    }
   }
  },
  {
   "cell_type": "code",
   "execution_count": 20,
   "outputs": [
    {
     "name": "stdout",
     "output_type": "stream",
     "text": [
      "                  LeagueIndex   Age  HoursPerWeek  TotalHours       APM\n",
      "LeagueIndex                                                            \n",
      "1           3146            1  40.0          12.0       150.0   38.5590\n",
      "            3040            1  39.0          10.0       500.0   29.8764\n",
      "2           920             2  43.0          10.0       730.0   86.0586\n",
      "            2437            2  41.0           4.0       200.0   54.2166\n",
      "3           1258            3  41.0          14.0       800.0   77.6472\n",
      "            2972            3  40.0          10.0       500.0   60.5970\n",
      "4           1696            4  44.0           6.0       500.0   89.5266\n",
      "            1729            4  39.0           8.0       500.0   86.7246\n",
      "5           202             5  37.0          14.0       800.0  327.7218\n",
      "            2745            5  37.0          18.0      1000.0  123.4098\n",
      "6           3069            6  31.0           8.0       800.0  133.1790\n",
      "            2706            6  31.0           8.0       700.0   66.9918\n",
      "7           2813            7  26.0          36.0      1300.0  188.5512\n",
      "            1992            7  26.0          24.0      1000.0  219.6690\n",
      "8           3340            8   NaN           NaN         NaN  189.7404\n",
      "            3341            8   NaN           NaN         NaN  287.8128\n",
      "\n",
      "\n",
      "MultiIndex([(1, 3146),\n",
      "            (1, 3040),\n",
      "            (2,  920),\n",
      "            (2, 2437),\n",
      "            (3, 1258),\n",
      "            (3, 2972),\n",
      "            (4, 1696),\n",
      "            (4, 1729),\n",
      "            (5,  202),\n",
      "            (5, 2745),\n",
      "            (6, 3069),\n",
      "            (6, 2706),\n",
      "            (7, 2813),\n",
      "            (7, 1992),\n",
      "            (8, 3340),\n",
      "            (8, 3341)],\n",
      "           names=['LeagueIndex', None])\n"
     ]
    }
   ],
   "source": [
    "# apply函数接收的参数会传入自定义的函数中\n",
    "m = df_data.groupby('LeagueIndex').apply(top_n, n=2, column='Age')\n",
    "print(m)\n",
    "print('\\n')\n",
    "print(m.index)"
   ],
   "metadata": {
    "collapsed": false,
    "pycharm": {
     "name": "#%%\n"
    }
   }
  },
  {
   "cell_type": "code",
   "execution_count": 22,
   "outputs": [
    {
     "name": "stdout",
     "output_type": "stream",
     "text": [
      "Int64Index([2214, 2246, 1753, 3062, 3229, 1520, 1557,  484, 2883, 2688, 1759,\n",
      "            2637, 3277,   93,  202,  734, 2746, 1810, 3127,  104, 1654, 3393,\n",
      "            3373, 3372],\n",
      "           dtype='int64')\n"
     ]
    }
   ],
   "source": [
    "# group_keys为False后，被groupby的列不会变为索引\n",
    "n = df_data.groupby('LeagueIndex', group_keys=False).apply(top_n)\n",
    "print(n.index)"
   ],
   "metadata": {
    "collapsed": false,
    "pycharm": {
     "name": "#%%\n"
    }
   }
  },
  {
   "cell_type": "markdown",
   "source": [
    "# 10 数据清洗"
   ],
   "metadata": {
    "collapsed": false
   }
  },
  {
   "cell_type": "code",
   "execution_count": 23,
   "outputs": [
    {
     "name": "stdout",
     "output_type": "stream",
     "text": [
      "  key  data1\n",
      "0   b      5\n",
      "1   b      9\n",
      "2   a      8\n",
      "3   c      6\n",
      "4   a      4\n",
      "5   a      9\n",
      "6   b      1\n",
      "\n",
      "\n",
      "  key  data2\n",
      "0   a      2\n",
      "1   b      8\n",
      "2   d      3\n"
     ]
    }
   ],
   "source": [
    "import pandas as pd\n",
    "import numpy as np\n",
    "\n",
    "df_obj1 = pd.DataFrame({'key': ['b', 'b', 'a', 'c', 'a', 'a', 'b'],\n",
    "                        'data1': np.random.randint(0, 10, 7)})\n",
    "df_obj2 = pd.DataFrame({'key': ['a', 'b', 'd'],\n",
    "                        'data2': np.random.randint(0, 10, 3)})\n",
    "\n",
    "print(df_obj1)\n",
    "print('\\n')\n",
    "print(df_obj2)"
   ],
   "metadata": {
    "collapsed": false,
    "pycharm": {
     "name": "#%%\n"
    }
   }
  },
  {
   "cell_type": "code",
   "execution_count": 25,
   "outputs": [
    {
     "name": "stdout",
     "output_type": "stream",
     "text": [
      "  key  data1  data2\n",
      "0   b      5      8\n",
      "1   b      9      8\n",
      "2   b      1      8\n",
      "3   a      8      2\n",
      "4   a      4      2\n",
      "5   a      9      2\n"
     ]
    }
   ],
   "source": [
    "# 默认连接使用相同的列名，连接方式是内连接\n",
    "print(pd.merge(df_obj1, df_obj2))"
   ],
   "metadata": {
    "collapsed": false,
    "pycharm": {
     "name": "#%%\n"
    }
   }
  },
  {
   "cell_type": "code",
   "execution_count": 26,
   "outputs": [
    {
     "data": {
      "text/plain": "  key_x  data1 key_y  data2\n0     b      5     a      2\n1     b      9     b      8\n2     a      8     d      3",
      "text/html": "<div>\n<style scoped>\n    .dataframe tbody tr th:only-of-type {\n        vertical-align: middle;\n    }\n\n    .dataframe tbody tr th {\n        vertical-align: top;\n    }\n\n    .dataframe thead th {\n        text-align: right;\n    }\n</style>\n<table border=\"1\" class=\"dataframe\">\n  <thead>\n    <tr style=\"text-align: right;\">\n      <th></th>\n      <th>key_x</th>\n      <th>data1</th>\n      <th>key_y</th>\n      <th>data2</th>\n    </tr>\n  </thead>\n  <tbody>\n    <tr>\n      <th>0</th>\n      <td>b</td>\n      <td>5</td>\n      <td>a</td>\n      <td>2</td>\n    </tr>\n    <tr>\n      <th>1</th>\n      <td>b</td>\n      <td>9</td>\n      <td>b</td>\n      <td>8</td>\n    </tr>\n    <tr>\n      <th>2</th>\n      <td>a</td>\n      <td>8</td>\n      <td>d</td>\n      <td>3</td>\n    </tr>\n  </tbody>\n</table>\n</div>"
     },
     "execution_count": 26,
     "metadata": {},
     "output_type": "execute_result"
    }
   ],
   "source": [
    "# 左表和右表都拿索引连接\n",
    "pd.merge(df_obj1, df_obj2, left_index=True, right_index=True)"
   ],
   "metadata": {
    "collapsed": false,
    "pycharm": {
     "name": "#%%\n"
    }
   }
  },
  {
   "cell_type": "code",
   "execution_count": 27,
   "outputs": [
    {
     "data": {
      "text/plain": "  key  data1  data2\n0   b      5      8\n1   b      9      8\n2   b      1      8\n3   a      8      2\n4   a      4      2\n5   a      9      2",
      "text/html": "<div>\n<style scoped>\n    .dataframe tbody tr th:only-of-type {\n        vertical-align: middle;\n    }\n\n    .dataframe tbody tr th {\n        vertical-align: top;\n    }\n\n    .dataframe thead th {\n        text-align: right;\n    }\n</style>\n<table border=\"1\" class=\"dataframe\">\n  <thead>\n    <tr style=\"text-align: right;\">\n      <th></th>\n      <th>key</th>\n      <th>data1</th>\n      <th>data2</th>\n    </tr>\n  </thead>\n  <tbody>\n    <tr>\n      <th>0</th>\n      <td>b</td>\n      <td>5</td>\n      <td>8</td>\n    </tr>\n    <tr>\n      <th>1</th>\n      <td>b</td>\n      <td>9</td>\n      <td>8</td>\n    </tr>\n    <tr>\n      <th>2</th>\n      <td>b</td>\n      <td>1</td>\n      <td>8</td>\n    </tr>\n    <tr>\n      <th>3</th>\n      <td>a</td>\n      <td>8</td>\n      <td>2</td>\n    </tr>\n    <tr>\n      <th>4</th>\n      <td>a</td>\n      <td>4</td>\n      <td>2</td>\n    </tr>\n    <tr>\n      <th>5</th>\n      <td>a</td>\n      <td>9</td>\n      <td>2</td>\n    </tr>\n  </tbody>\n</table>\n</div>"
     },
     "execution_count": 27,
     "metadata": {},
     "output_type": "execute_result"
    }
   ],
   "source": [
    "# 左表和右表都拿key列来连接\n",
    "pd.merge(df_obj1, df_obj2, on='key')"
   ],
   "metadata": {
    "collapsed": false,
    "pycharm": {
     "name": "#%%\n"
    }
   }
  },
  {
   "cell_type": "code",
   "execution_count": 28,
   "outputs": [],
   "source": [
    "# 更改列名\n",
    "df_obj1 = df_obj1.rename(columns={'key': 'key1'})\n",
    "df_obj2 = df_obj2.rename(columns={'key': 'key2'})"
   ],
   "metadata": {
    "collapsed": false,
    "pycharm": {
     "name": "#%%\n"
    }
   }
  },
  {
   "cell_type": "code",
   "execution_count": 29,
   "outputs": [
    {
     "data": {
      "text/plain": "  key1  data1\n0    b      5\n1    b      9\n2    a      8\n3    c      6\n4    a      4\n5    a      9\n6    b      1",
      "text/html": "<div>\n<style scoped>\n    .dataframe tbody tr th:only-of-type {\n        vertical-align: middle;\n    }\n\n    .dataframe tbody tr th {\n        vertical-align: top;\n    }\n\n    .dataframe thead th {\n        text-align: right;\n    }\n</style>\n<table border=\"1\" class=\"dataframe\">\n  <thead>\n    <tr style=\"text-align: right;\">\n      <th></th>\n      <th>key1</th>\n      <th>data1</th>\n    </tr>\n  </thead>\n  <tbody>\n    <tr>\n      <th>0</th>\n      <td>b</td>\n      <td>5</td>\n    </tr>\n    <tr>\n      <th>1</th>\n      <td>b</td>\n      <td>9</td>\n    </tr>\n    <tr>\n      <th>2</th>\n      <td>a</td>\n      <td>8</td>\n    </tr>\n    <tr>\n      <th>3</th>\n      <td>c</td>\n      <td>6</td>\n    </tr>\n    <tr>\n      <th>4</th>\n      <td>a</td>\n      <td>4</td>\n    </tr>\n    <tr>\n      <th>5</th>\n      <td>a</td>\n      <td>9</td>\n    </tr>\n    <tr>\n      <th>6</th>\n      <td>b</td>\n      <td>1</td>\n    </tr>\n  </tbody>\n</table>\n</div>"
     },
     "execution_count": 29,
     "metadata": {},
     "output_type": "execute_result"
    }
   ],
   "source": [
    "df_obj1"
   ],
   "metadata": {
    "collapsed": false,
    "pycharm": {
     "name": "#%%\n"
    }
   }
  },
  {
   "cell_type": "code",
   "execution_count": 30,
   "outputs": [
    {
     "data": {
      "text/plain": "  key2  data2\n0    a      2\n1    b      8\n2    d      3",
      "text/html": "<div>\n<style scoped>\n    .dataframe tbody tr th:only-of-type {\n        vertical-align: middle;\n    }\n\n    .dataframe tbody tr th {\n        vertical-align: top;\n    }\n\n    .dataframe thead th {\n        text-align: right;\n    }\n</style>\n<table border=\"1\" class=\"dataframe\">\n  <thead>\n    <tr style=\"text-align: right;\">\n      <th></th>\n      <th>key2</th>\n      <th>data2</th>\n    </tr>\n  </thead>\n  <tbody>\n    <tr>\n      <th>0</th>\n      <td>a</td>\n      <td>2</td>\n    </tr>\n    <tr>\n      <th>1</th>\n      <td>b</td>\n      <td>8</td>\n    </tr>\n    <tr>\n      <th>2</th>\n      <td>d</td>\n      <td>3</td>\n    </tr>\n  </tbody>\n</table>\n</div>"
     },
     "execution_count": 30,
     "metadata": {},
     "output_type": "execute_result"
    }
   ],
   "source": [
    "df_obj2"
   ],
   "metadata": {
    "collapsed": false,
    "pycharm": {
     "name": "#%%\n"
    }
   }
  },
  {
   "cell_type": "code",
   "execution_count": 31,
   "outputs": [
    {
     "data": {
      "text/plain": "  key1  data1 key2  data2\n0    b      5    b      8\n1    b      9    b      8\n2    b      1    b      8\n3    a      8    a      2\n4    a      4    a      2\n5    a      9    a      2",
      "text/html": "<div>\n<style scoped>\n    .dataframe tbody tr th:only-of-type {\n        vertical-align: middle;\n    }\n\n    .dataframe tbody tr th {\n        vertical-align: top;\n    }\n\n    .dataframe thead th {\n        text-align: right;\n    }\n</style>\n<table border=\"1\" class=\"dataframe\">\n  <thead>\n    <tr style=\"text-align: right;\">\n      <th></th>\n      <th>key1</th>\n      <th>data1</th>\n      <th>key2</th>\n      <th>data2</th>\n    </tr>\n  </thead>\n  <tbody>\n    <tr>\n      <th>0</th>\n      <td>b</td>\n      <td>5</td>\n      <td>b</td>\n      <td>8</td>\n    </tr>\n    <tr>\n      <th>1</th>\n      <td>b</td>\n      <td>9</td>\n      <td>b</td>\n      <td>8</td>\n    </tr>\n    <tr>\n      <th>2</th>\n      <td>b</td>\n      <td>1</td>\n      <td>b</td>\n      <td>8</td>\n    </tr>\n    <tr>\n      <th>3</th>\n      <td>a</td>\n      <td>8</td>\n      <td>a</td>\n      <td>2</td>\n    </tr>\n    <tr>\n      <th>4</th>\n      <td>a</td>\n      <td>4</td>\n      <td>a</td>\n      <td>2</td>\n    </tr>\n    <tr>\n      <th>5</th>\n      <td>a</td>\n      <td>9</td>\n      <td>a</td>\n      <td>2</td>\n    </tr>\n  </tbody>\n</table>\n</div>"
     },
     "execution_count": 31,
     "metadata": {},
     "output_type": "execute_result"
    }
   ],
   "source": [
    "# 左表以key1来连接，右表以key2来连接\n",
    "pd.merge(df_obj1, df_obj2, left_on='key1', right_on='key2')"
   ],
   "metadata": {
    "collapsed": false,
    "pycharm": {
     "name": "#%%\n"
    }
   }
  },
  {
   "cell_type": "code",
   "execution_count": 32,
   "outputs": [
    {
     "data": {
      "text/plain": "  key1  data1 key2  data2\n0    b    5.0    b    8.0\n1    b    9.0    b    8.0\n2    b    1.0    b    8.0\n3    a    8.0    a    2.0\n4    a    4.0    a    2.0\n5    a    9.0    a    2.0\n6    c    6.0  NaN    NaN\n7  NaN    NaN    d    3.0",
      "text/html": "<div>\n<style scoped>\n    .dataframe tbody tr th:only-of-type {\n        vertical-align: middle;\n    }\n\n    .dataframe tbody tr th {\n        vertical-align: top;\n    }\n\n    .dataframe thead th {\n        text-align: right;\n    }\n</style>\n<table border=\"1\" class=\"dataframe\">\n  <thead>\n    <tr style=\"text-align: right;\">\n      <th></th>\n      <th>key1</th>\n      <th>data1</th>\n      <th>key2</th>\n      <th>data2</th>\n    </tr>\n  </thead>\n  <tbody>\n    <tr>\n      <th>0</th>\n      <td>b</td>\n      <td>5.0</td>\n      <td>b</td>\n      <td>8.0</td>\n    </tr>\n    <tr>\n      <th>1</th>\n      <td>b</td>\n      <td>9.0</td>\n      <td>b</td>\n      <td>8.0</td>\n    </tr>\n    <tr>\n      <th>2</th>\n      <td>b</td>\n      <td>1.0</td>\n      <td>b</td>\n      <td>8.0</td>\n    </tr>\n    <tr>\n      <th>3</th>\n      <td>a</td>\n      <td>8.0</td>\n      <td>a</td>\n      <td>2.0</td>\n    </tr>\n    <tr>\n      <th>4</th>\n      <td>a</td>\n      <td>4.0</td>\n      <td>a</td>\n      <td>2.0</td>\n    </tr>\n    <tr>\n      <th>5</th>\n      <td>a</td>\n      <td>9.0</td>\n      <td>a</td>\n      <td>2.0</td>\n    </tr>\n    <tr>\n      <th>6</th>\n      <td>c</td>\n      <td>6.0</td>\n      <td>NaN</td>\n      <td>NaN</td>\n    </tr>\n    <tr>\n      <th>7</th>\n      <td>NaN</td>\n      <td>NaN</td>\n      <td>d</td>\n      <td>3.0</td>\n    </tr>\n  </tbody>\n</table>\n</div>"
     },
     "execution_count": 32,
     "metadata": {},
     "output_type": "execute_result"
    }
   ],
   "source": [
    "# 全外连接\n",
    "pd.merge(df_obj1, df_obj2, left_on='key1', right_on='key2', how='outer')"
   ],
   "metadata": {
    "collapsed": false,
    "pycharm": {
     "name": "#%%\n"
    }
   }
  },
  {
   "cell_type": "code",
   "execution_count": 33,
   "outputs": [
    {
     "data": {
      "text/plain": "  key1  data1 key2  data2\n0    b      5    b    8.0\n1    b      9    b    8.0\n2    a      8    a    2.0\n3    c      6  NaN    NaN\n4    a      4    a    2.0\n5    a      9    a    2.0\n6    b      1    b    8.0",
      "text/html": "<div>\n<style scoped>\n    .dataframe tbody tr th:only-of-type {\n        vertical-align: middle;\n    }\n\n    .dataframe tbody tr th {\n        vertical-align: top;\n    }\n\n    .dataframe thead th {\n        text-align: right;\n    }\n</style>\n<table border=\"1\" class=\"dataframe\">\n  <thead>\n    <tr style=\"text-align: right;\">\n      <th></th>\n      <th>key1</th>\n      <th>data1</th>\n      <th>key2</th>\n      <th>data2</th>\n    </tr>\n  </thead>\n  <tbody>\n    <tr>\n      <th>0</th>\n      <td>b</td>\n      <td>5</td>\n      <td>b</td>\n      <td>8.0</td>\n    </tr>\n    <tr>\n      <th>1</th>\n      <td>b</td>\n      <td>9</td>\n      <td>b</td>\n      <td>8.0</td>\n    </tr>\n    <tr>\n      <th>2</th>\n      <td>a</td>\n      <td>8</td>\n      <td>a</td>\n      <td>2.0</td>\n    </tr>\n    <tr>\n      <th>3</th>\n      <td>c</td>\n      <td>6</td>\n      <td>NaN</td>\n      <td>NaN</td>\n    </tr>\n    <tr>\n      <th>4</th>\n      <td>a</td>\n      <td>4</td>\n      <td>a</td>\n      <td>2.0</td>\n    </tr>\n    <tr>\n      <th>5</th>\n      <td>a</td>\n      <td>9</td>\n      <td>a</td>\n      <td>2.0</td>\n    </tr>\n    <tr>\n      <th>6</th>\n      <td>b</td>\n      <td>1</td>\n      <td>b</td>\n      <td>8.0</td>\n    </tr>\n  </tbody>\n</table>\n</div>"
     },
     "execution_count": 33,
     "metadata": {},
     "output_type": "execute_result"
    }
   ],
   "source": [
    "#left join 等价于 left outer join\n",
    "pd.merge(df_obj1, df_obj2, left_on='key1', right_on='key2', how='left')"
   ],
   "metadata": {
    "collapsed": false,
    "pycharm": {
     "name": "#%%\n"
    }
   }
  },
  {
   "cell_type": "code",
   "execution_count": 34,
   "outputs": [
    {
     "data": {
      "text/plain": "  key1  data1 key2  data2\n0    a    8.0    a      2\n1    a    4.0    a      2\n2    a    9.0    a      2\n3    b    5.0    b      8\n4    b    9.0    b      8\n5    b    1.0    b      8\n6  NaN    NaN    d      3",
      "text/html": "<div>\n<style scoped>\n    .dataframe tbody tr th:only-of-type {\n        vertical-align: middle;\n    }\n\n    .dataframe tbody tr th {\n        vertical-align: top;\n    }\n\n    .dataframe thead th {\n        text-align: right;\n    }\n</style>\n<table border=\"1\" class=\"dataframe\">\n  <thead>\n    <tr style=\"text-align: right;\">\n      <th></th>\n      <th>key1</th>\n      <th>data1</th>\n      <th>key2</th>\n      <th>data2</th>\n    </tr>\n  </thead>\n  <tbody>\n    <tr>\n      <th>0</th>\n      <td>a</td>\n      <td>8.0</td>\n      <td>a</td>\n      <td>2</td>\n    </tr>\n    <tr>\n      <th>1</th>\n      <td>a</td>\n      <td>4.0</td>\n      <td>a</td>\n      <td>2</td>\n    </tr>\n    <tr>\n      <th>2</th>\n      <td>a</td>\n      <td>9.0</td>\n      <td>a</td>\n      <td>2</td>\n    </tr>\n    <tr>\n      <th>3</th>\n      <td>b</td>\n      <td>5.0</td>\n      <td>b</td>\n      <td>8</td>\n    </tr>\n    <tr>\n      <th>4</th>\n      <td>b</td>\n      <td>9.0</td>\n      <td>b</td>\n      <td>8</td>\n    </tr>\n    <tr>\n      <th>5</th>\n      <td>b</td>\n      <td>1.0</td>\n      <td>b</td>\n      <td>8</td>\n    </tr>\n    <tr>\n      <th>6</th>\n      <td>NaN</td>\n      <td>NaN</td>\n      <td>d</td>\n      <td>3</td>\n    </tr>\n  </tbody>\n</table>\n</div>"
     },
     "execution_count": 34,
     "metadata": {},
     "output_type": "execute_result"
    }
   ],
   "source": [
    "# right等价于数据库的right join\n",
    "pd.merge(df_obj1, df_obj2, left_on='key1', right_on='key2', how='right')"
   ],
   "metadata": {
    "collapsed": false,
    "pycharm": {
     "name": "#%%\n"
    }
   }
  },
  {
   "cell_type": "code",
   "execution_count": null,
   "outputs": [],
   "source": [
    "# 处理重复列名\n",
    "df_obj1 = pd.DataFrame({'key': ['b', 'b', 'a', 'c', 'a', 'a', 'b'],\n",
    "                        'data': np.random.randint(0, 10, 7)})\n",
    "df_obj2 = pd.DataFrame({'key': ['a', 'b', 'd'],\n",
    "                        'data': np.random.randint(0, 10, 3)})\n",
    "#给相同的数据列添加后缀\n",
    "print(pd.merge(df_obj1, df_obj2, on='key', suffixes=('_left', '_right')))"
   ],
   "metadata": {
    "collapsed": false,
    "pycharm": {
     "name": "#%%\n"
    }
   }
  },
  {
   "cell_type": "code",
   "execution_count": 35,
   "outputs": [
    {
     "name": "stdout",
     "output_type": "stream",
     "text": [
      "  key  data1\n",
      "0   b      9\n",
      "1   b      2\n",
      "2   a      6\n",
      "3   c      5\n",
      "4   a      8\n",
      "5   a      5\n",
      "6   b      2\n",
      "\n",
      "\n",
      "   data2\n",
      "a      4\n",
      "b      1\n",
      "d      4\n",
      "\n",
      "\n",
      "  key  data1  data2\n",
      "0   b      9      1\n",
      "1   b      2      1\n",
      "6   b      2      1\n",
      "2   a      6      4\n",
      "4   a      8      4\n",
      "5   a      5      4\n"
     ]
    }
   ],
   "source": [
    "# 按索引连接\n",
    "df_obj1 = pd.DataFrame({'key': ['b', 'b', 'a', 'c', 'a', 'a', 'b'],\n",
    "                        'data1': np.random.randint(0, 10, 7)})\n",
    "df_obj2 = pd.DataFrame({'data2': np.random.randint(0, 10, 3)}, index=['a', 'b', 'd'])\n",
    "print(df_obj1)\n",
    "print('\\n')\n",
    "print(df_obj2)\n",
    "print('\\n')\n",
    "print(pd.merge(df_obj1, df_obj2, left_on='key', right_index=True))"
   ],
   "metadata": {
    "collapsed": false,
    "pycharm": {
     "name": "#%%\n"
    }
   }
  },
  {
   "cell_type": "code",
   "execution_count": 36,
   "outputs": [
    {
     "data": {
      "text/plain": "   data2 key  data1\n2      4   a      6\n4      4   a      8\n5      4   a      5\n0      1   b      9\n1      1   b      2\n6      1   b      2",
      "text/html": "<div>\n<style scoped>\n    .dataframe tbody tr th:only-of-type {\n        vertical-align: middle;\n    }\n\n    .dataframe tbody tr th {\n        vertical-align: top;\n    }\n\n    .dataframe thead th {\n        text-align: right;\n    }\n</style>\n<table border=\"1\" class=\"dataframe\">\n  <thead>\n    <tr style=\"text-align: right;\">\n      <th></th>\n      <th>data2</th>\n      <th>key</th>\n      <th>data1</th>\n    </tr>\n  </thead>\n  <tbody>\n    <tr>\n      <th>2</th>\n      <td>4</td>\n      <td>a</td>\n      <td>6</td>\n    </tr>\n    <tr>\n      <th>4</th>\n      <td>4</td>\n      <td>a</td>\n      <td>8</td>\n    </tr>\n    <tr>\n      <th>5</th>\n      <td>4</td>\n      <td>a</td>\n      <td>5</td>\n    </tr>\n    <tr>\n      <th>0</th>\n      <td>1</td>\n      <td>b</td>\n      <td>9</td>\n    </tr>\n    <tr>\n      <th>1</th>\n      <td>1</td>\n      <td>b</td>\n      <td>2</td>\n    </tr>\n    <tr>\n      <th>6</th>\n      <td>1</td>\n      <td>b</td>\n      <td>2</td>\n    </tr>\n  </tbody>\n</table>\n</div>"
     },
     "execution_count": 36,
     "metadata": {},
     "output_type": "execute_result"
    }
   ],
   "source": [
    "pd.merge(df_obj2, df_obj1, left_index=True, right_on='key')"
   ],
   "metadata": {
    "collapsed": false,
    "pycharm": {
     "name": "#%%\n"
    }
   }
  },
  {
   "cell_type": "markdown",
   "source": [
    "# 数据合并(pd.concat)"
   ],
   "metadata": {
    "collapsed": false
   }
  },
  {
   "cell_type": "code",
   "execution_count": 37,
   "outputs": [
    {
     "name": "stdout",
     "output_type": "stream",
     "text": [
      "[[1 2 4 5]\n",
      " [7 0 5 3]\n",
      " [6 6 0 2]]\n",
      "\n",
      "\n",
      "[[4 5 7 7]\n",
      " [0 0 6 9]\n",
      " [1 4 0 9]]\n",
      "\n",
      "\n",
      "[[1 2 4 5]\n",
      " [7 0 5 3]\n",
      " [6 6 0 2]\n",
      " [4 5 7 7]\n",
      " [0 0 6 9]\n",
      " [1 4 0 9]]\n",
      "\n",
      "\n",
      "[[1 2 4 5 4 5 7 7]\n",
      " [7 0 5 3 0 0 6 9]\n",
      " [6 6 0 2 1 4 0 9]]\n"
     ]
    }
   ],
   "source": [
    "# np里边的合并\n",
    "arr1 = np.random.randint(0, 10, (3, 4))\n",
    "arr2 = np.random.randint(0, 10, (3, 4))\n",
    "\n",
    "print(arr1)\n",
    "print('\\n')\n",
    "print(arr2)\n",
    "print('\\n')\n",
    "\n",
    "print(np.concatenate([arr1, arr2]))\n",
    "print('\\n')\n",
    "print(np.concatenate([arr1, arr2], axis=1))"
   ],
   "metadata": {
    "collapsed": false,
    "pycharm": {
     "name": "#%%\n"
    }
   }
  },
  {
   "cell_type": "markdown",
   "source": [
    "## index没有重复的情况"
   ],
   "metadata": {
    "collapsed": false,
    "pycharm": {
     "name": "#%% md\n"
    }
   }
  },
  {
   "cell_type": "code",
   "execution_count": null,
   "outputs": [],
   "source": [
    "ser_obj1 = pd.Series(np.random.randint(0, 10, 5), index=range(0, 5))\n",
    "ser_obj2 = pd.Series(np.random.randint(0, 10, 4), index=range(5, 9))\n",
    "ser_obj3 = pd.Series(np.random.randint(0, 10, 3), index=range(9, 12))\n",
    "print(ser_obj1)\n",
    "print('\\n')\n",
    "print(ser_obj2)\n",
    "print('\\n')\n",
    "print(ser_obj3)"
   ],
   "metadata": {
    "collapsed": false,
    "pycharm": {
     "name": "#%%\n"
    }
   }
  },
  {
   "cell_type": "code",
   "execution_count": 39,
   "outputs": [
    {
     "name": "stdout",
     "output_type": "stream",
     "text": [
      "0     4\n",
      "1     8\n",
      "2     1\n",
      "3     3\n",
      "4     5\n",
      "5     9\n",
      "6     0\n",
      "7     5\n",
      "8     1\n",
      "9     6\n",
      "10    9\n",
      "11    7\n",
      "dtype: int32\n",
      "\n",
      "\n",
      "      0    1    2\n",
      "0   4.0  NaN  NaN\n",
      "1   8.0  NaN  NaN\n",
      "2   1.0  NaN  NaN\n",
      "3   3.0  NaN  NaN\n",
      "4   5.0  NaN  NaN\n",
      "5   NaN  9.0  NaN\n",
      "6   NaN  0.0  NaN\n",
      "7   NaN  5.0  NaN\n",
      "8   NaN  1.0  NaN\n",
      "9   NaN  NaN  6.0\n",
      "10  NaN  NaN  9.0\n",
      "11  NaN  NaN  7.0\n"
     ]
    }
   ],
   "source": [
    "print(pd.concat([ser_obj1, ser_obj2, ser_obj3]))\n",
    "print('\\n')\n",
    "print(pd.concat([ser_obj1, ser_obj2, ser_obj3], axis=1))"
   ],
   "metadata": {
    "collapsed": false,
    "pycharm": {
     "name": "#%%\n"
    }
   }
  },
  {
   "cell_type": "markdown",
   "source": [
    "## index 有重复的情况"
   ],
   "metadata": {
    "collapsed": false
   }
  },
  {
   "cell_type": "code",
   "execution_count": 40,
   "outputs": [
    {
     "name": "stdout",
     "output_type": "stream",
     "text": [
      "0    7\n",
      "1    5\n",
      "2    5\n",
      "3    2\n",
      "4    1\n",
      "dtype: int32\n",
      "\n",
      "\n",
      "0    8\n",
      "1    2\n",
      "2    9\n",
      "3    9\n",
      "dtype: int32\n",
      "\n",
      "\n",
      "0    2\n",
      "1    1\n",
      "2    2\n",
      "dtype: int32\n"
     ]
    }
   ],
   "source": [
    "# index有重复的情况\n",
    "ser_obj1 = pd.Series(np.random.randint(0, 10, 5), index=range(5))\n",
    "ser_obj2 = pd.Series(np.random.randint(0, 10, 4), index=range(4))\n",
    "ser_obj3 = pd.Series(np.random.randint(0, 10, 3), index=range(3))\n",
    "\n",
    "print(ser_obj1)\n",
    "print('\\n')\n",
    "print(ser_obj2)\n",
    "print('\\n')\n",
    "print(ser_obj3)"
   ],
   "metadata": {
    "collapsed": false,
    "pycharm": {
     "name": "#%%\n"
    }
   }
  },
  {
   "cell_type": "code",
   "execution_count": 41,
   "outputs": [
    {
     "name": "stdout",
     "output_type": "stream",
     "text": [
      "0    7\n",
      "1    5\n",
      "2    5\n",
      "3    2\n",
      "4    1\n",
      "0    8\n",
      "1    2\n",
      "2    9\n",
      "3    9\n",
      "0    2\n",
      "1    1\n",
      "2    2\n",
      "dtype: int32\n"
     ]
    }
   ],
   "source": [
    "# 相同索引名直接往下排\n",
    "print(pd.concat([ser_obj1, ser_obj2, ser_obj3]))"
   ],
   "metadata": {
    "collapsed": false,
    "pycharm": {
     "name": "#%%\n"
    }
   }
  },
  {
   "cell_type": "code",
   "execution_count": 44,
   "outputs": [
    {
     "name": "stdout",
     "output_type": "stream",
     "text": [
      "   0  1  2\n",
      "0  7  8  2\n",
      "1  5  2  1\n",
      "2  5  9  2\n",
      "\n",
      "\n",
      "   0    1    2\n",
      "0  7  8.0  2.0\n",
      "1  5  2.0  1.0\n",
      "2  5  9.0  2.0\n",
      "3  2  9.0  NaN\n",
      "4  1  NaN  NaN\n"
     ]
    }
   ],
   "source": [
    "#inner和outer代表内连接和全外连接\n",
    "print(pd.concat([ser_obj1, ser_obj2, ser_obj3], axis=1, join='inner'))\n",
    "print('\\n')\n",
    "print(pd.concat([ser_obj1, ser_obj2, ser_obj3], axis=1, join='outer'))"
   ],
   "metadata": {
    "collapsed": false,
    "pycharm": {
     "name": "#%%\n"
    }
   }
  },
  {
   "cell_type": "code",
   "execution_count": 45,
   "outputs": [
    {
     "name": "stdout",
     "output_type": "stream",
     "text": [
      "   A  B\n",
      "a  9  5\n",
      "b  2  7\n",
      "c  2  1\n",
      "\n",
      "\n",
      "   A  B\n",
      "a  7  1\n",
      "b  0  4\n",
      "\n",
      "\n",
      "   A  B\n",
      "a  9  5\n",
      "b  2  7\n",
      "c  2  1\n",
      "a  7  1\n",
      "b  0  4\n",
      "\n",
      "\n",
      "   A  B    A    B\n",
      "a  9  5  7.0  1.0\n",
      "b  2  7  0.0  4.0\n",
      "c  2  1  NaN  NaN\n"
     ]
    }
   ],
   "source": [
    "# df的concat\n",
    "import pandas as pd\n",
    "import numpy as np\n",
    "\n",
    "df_obj1 = pd.DataFrame(np.random.randint(0, 10, (3, 2)), index=['a', 'b', 'c'],\n",
    "                       columns=['A', 'B'])\n",
    "df_obj2 = pd.DataFrame(np.random.randint(0, 10, (2, 2)), index=['a', 'b'],\n",
    "                       columns=['A', 'B'])\n",
    "print(df_obj1)\n",
    "print('\\n')\n",
    "print(df_obj2)\n",
    "print('\\n')\n",
    "\n",
    "print(pd.concat([df_obj1, df_obj2]))\n",
    "print('\\n')\n",
    "print(pd.concat([df_obj1, df_obj2], axis=1))"
   ],
   "metadata": {
    "collapsed": false,
    "pycharm": {
     "name": "#%%\n"
    }
   }
  },
  {
   "cell_type": "markdown",
   "source": [
    "# 数据重构"
   ],
   "metadata": {
    "collapsed": false
   }
  },
  {
   "cell_type": "code",
   "execution_count": 46,
   "outputs": [
    {
     "name": "stdout",
     "output_type": "stream",
     "text": [
      "   data1  data2\n",
      "0      9      9\n",
      "1      8      6\n",
      "2      1      9\n",
      "3      6      1\n",
      "4      8      0\n",
      "\n",
      "\n",
      "0  data1    9\n",
      "   data2    9\n",
      "1  data1    8\n",
      "   data2    6\n",
      "2  data1    1\n",
      "   data2    9\n",
      "3  data1    6\n",
      "   data2    1\n",
      "4  data1    8\n",
      "   data2    0\n",
      "dtype: int32\n"
     ]
    }
   ],
   "source": [
    "df_obj = pd.DataFrame(np.random.randint(0, 10, (5, 2)), columns=['data1', 'data2'])\n",
    "print(df_obj)\n",
    "print('\\n')\n",
    "# 对df进行stack，就会变成mutiindex的series\n",
    "stacked = df_obj.stack()  # stack内部带的参数level，选择哪一个column变为index\n",
    "print(stacked)"
   ],
   "metadata": {
    "collapsed": false,
    "pycharm": {
     "name": "#%%\n"
    }
   }
  },
  {
   "cell_type": "code",
   "execution_count": 48,
   "outputs": [
    {
     "name": "stdout",
     "output_type": "stream",
     "text": [
      "   data1  data2\n",
      "0      9      9\n",
      "1      8      6\n",
      "2      1      9\n",
      "3      6      1\n",
      "4      8      0\n",
      "\n",
      "\n",
      "       0  1  2  3  4\n",
      "data1  9  8  1  6  8\n",
      "data2  9  6  9  1  0\n"
     ]
    }
   ],
   "source": [
    "# 默认操作内层索引\n",
    "print(stacked.unstack())\n",
    "print('\\n')\n",
    "# 通过level指定操作索引的级别，level=0操作外层索引\n",
    "print(stacked.unstack(level=0))"
   ],
   "metadata": {
    "collapsed": false,
    "pycharm": {
     "name": "#%%\n"
    }
   }
  },
  {
   "cell_type": "code",
   "execution_count": 55,
   "outputs": [
    {
     "name": "stdout",
     "output_type": "stream",
     "text": [
      "            data1  data2\n",
      "cloth size              \n",
      "a     0         0      1\n",
      "      1         2      3\n",
      "      2         4      5\n",
      "b     0         6      7\n",
      "      1         8      9\n",
      "      2        10     11\n",
      "c     0        12     13\n",
      "      1        14     15\n",
      "      2        16     17\n",
      "d     0        18     19\n",
      "      1        20     21\n",
      "      2        22     23\n",
      "\n",
      "\n",
      "      data1             data2            \n",
      "cloth     a   b   c   d     a   b   c   d\n",
      "size                                     \n",
      "0         0   6  12  18     1   7  13  19\n",
      "1         2   8  14  20     3   9  15  21\n",
      "2         4  10  16  22     5  11  17  23\n",
      "\n",
      "\n",
      "MultiIndex([('data1', 'a'),\n",
      "            ('data1', 'b'),\n",
      "            ('data1', 'c'),\n",
      "            ('data1', 'd'),\n",
      "            ('data2', 'a'),\n",
      "            ('data2', 'b'),\n",
      "            ('data2', 'c'),\n",
      "            ('data2', 'd')],\n",
      "           names=[None, 'cloth'])\n",
      "\n",
      "\n",
      "cloth       a   b   c   d\n",
      "size                     \n",
      "0    data1  0   6  12  18\n",
      "     data2  1   7  13  19\n",
      "1    data1  2   8  14  20\n",
      "     data2  3   9  15  21\n",
      "2    data1  4  10  16  22\n",
      "     data2  5  11  17  23\n"
     ]
    }
   ],
   "source": [
    "# stack和unstack对df操作\n",
    "index1 = pd.MultiIndex.from_arrays([['a', 'a', 'a', 'b', 'b', 'b', 'c', 'c', 'c', 'd', 'd', 'd'],\n",
    "                                    [0, 1, 2, 0, 1, 2, 0, 1, 2, 0, 1, 2]], names=['cloth', 'size'])\n",
    "df = pd.DataFrame(np.arange(24).reshape(12, 2), index=index1, columns=['data1', 'data2'])\n",
    "\n",
    "print(df)\n",
    "print('\\n')\n",
    "\n",
    "df_s = df.unstack(level=0)  # 把行索引中的一个级别拿到列索引\n",
    "print(df_s)\n",
    "print('\\n')\n",
    "\n",
    "print(df_s.columns)  # 看到columns索引变为层级索引\n",
    "print('\\n')\n",
    "\n",
    "print(df_s.stack(0))  # 把columns上的0层索引放到index的内层索引"
   ],
   "metadata": {
    "collapsed": false,
    "pycharm": {
     "name": "#%%\n"
    }
   }
  },
  {
   "cell_type": "markdown",
   "source": [
    "# 处理重复数据"
   ],
   "metadata": {
    "collapsed": false
   }
  },
  {
   "cell_type": "code",
   "execution_count": 56,
   "outputs": [
    {
     "name": "stdout",
     "output_type": "stream",
     "text": [
      "  data1  data2\n",
      "0     a      2\n",
      "1     a      1\n",
      "2     a      1\n",
      "3     a      2\n",
      "4     b      1\n",
      "5     b      0\n",
      "6     b      3\n",
      "7     b      1\n"
     ]
    }
   ],
   "source": [
    "df_obj = pd.DataFrame({'data1': ['a'] * 4 + ['b'] * 4,\n",
    "                       'data2': np.random.randint(0, 4, 8)})\n",
    "print(df_obj)"
   ],
   "metadata": {
    "collapsed": false,
    "pycharm": {
     "name": "#%%\n"
    }
   }
  },
  {
   "cell_type": "code",
   "execution_count": 57,
   "outputs": [
    {
     "name": "stdout",
     "output_type": "stream",
     "text": [
      "0    False\n",
      "1    False\n",
      "2     True\n",
      "3     True\n",
      "4    False\n",
      "5    False\n",
      "6    False\n",
      "7     True\n",
      "dtype: bool\n",
      "\n",
      "\n"
     ]
    },
    {
     "data": {
      "text/plain": "  data1  data2\n0     a      2\n1     a      1\n4     b      1\n5     b      0\n6     b      3",
      "text/html": "<div>\n<style scoped>\n    .dataframe tbody tr th:only-of-type {\n        vertical-align: middle;\n    }\n\n    .dataframe tbody tr th {\n        vertical-align: top;\n    }\n\n    .dataframe thead th {\n        text-align: right;\n    }\n</style>\n<table border=\"1\" class=\"dataframe\">\n  <thead>\n    <tr style=\"text-align: right;\">\n      <th></th>\n      <th>data1</th>\n      <th>data2</th>\n    </tr>\n  </thead>\n  <tbody>\n    <tr>\n      <th>0</th>\n      <td>a</td>\n      <td>2</td>\n    </tr>\n    <tr>\n      <th>1</th>\n      <td>a</td>\n      <td>1</td>\n    </tr>\n    <tr>\n      <th>4</th>\n      <td>b</td>\n      <td>1</td>\n    </tr>\n    <tr>\n      <th>5</th>\n      <td>b</td>\n      <td>0</td>\n    </tr>\n    <tr>\n      <th>6</th>\n      <td>b</td>\n      <td>3</td>\n    </tr>\n  </tbody>\n</table>\n</div>"
     },
     "execution_count": 57,
     "metadata": {},
     "output_type": "execute_result"
    }
   ],
   "source": [
    "print(df_obj.duplicated())\n",
    "print('\\n')\n",
    "df_obj[~df_obj.duplicated()]  # 取出不重复行"
   ],
   "metadata": {
    "collapsed": false,
    "pycharm": {
     "name": "#%%\n"
    }
   }
  },
  {
   "cell_type": "code",
   "execution_count": 58,
   "outputs": [
    {
     "name": "stdout",
     "output_type": "stream",
     "text": [
      "0    False\n",
      "1    False\n",
      "2     True\n",
      "3     True\n",
      "4     True\n",
      "5    False\n",
      "6    False\n",
      "7     True\n",
      "dtype: bool\n"
     ]
    }
   ],
   "source": [
    "# 按照某一列去重\n",
    "print(df_obj.duplicated('data2'))"
   ],
   "metadata": {
    "collapsed": false,
    "pycharm": {
     "name": "#%%\n"
    }
   }
  },
  {
   "cell_type": "code",
   "execution_count": 59,
   "outputs": [
    {
     "name": "stdout",
     "output_type": "stream",
     "text": [
      "   data1 data2\n",
      "0    NaN     1\n",
      "1    NaN     2\n",
      "2    NaN     3\n",
      "3    NaN     5\n"
     ]
    }
   ],
   "source": [
    "df_obj1 = pd.DataFrame({'data1': [np.nan] * 4,\n",
    "                        'data2': list('1235')})\n",
    "print(df_obj1)"
   ],
   "metadata": {
    "collapsed": false,
    "pycharm": {
     "name": "#%%\n"
    }
   }
  },
  {
   "cell_type": "code",
   "execution_count": 60,
   "outputs": [
    {
     "name": "stdout",
     "output_type": "stream",
     "text": [
      "   data1 data2\n",
      "0    NaN     1\n"
     ]
    }
   ],
   "source": [
    "# 在pd的duplicated认为空值和空值相等的\n",
    "df_obj1.duplicated('data1')\n",
    "print(df_obj1.drop_duplicates('data1'))"
   ],
   "metadata": {
    "collapsed": false,
    "pycharm": {
     "name": "#%%\n"
    }
   }
  },
  {
   "cell_type": "code",
   "execution_count": 61,
   "outputs": [
    {
     "name": "stdout",
     "output_type": "stream",
     "text": [
      "  data1  data2\n",
      "0     a      2\n",
      "1     a      1\n",
      "4     b      1\n",
      "5     b      0\n",
      "6     b      3\n",
      "  data1  data2\n",
      "0     a      2\n",
      "1     a      1\n",
      "5     b      0\n",
      "6     b      3\n"
     ]
    }
   ],
   "source": [
    "print(df_obj.drop_duplicates())  # 删除重复行\n",
    "print(df_obj.drop_duplicates('data2'))"
   ],
   "metadata": {
    "collapsed": false,
    "pycharm": {
     "name": "#%%\n"
    }
   }
  },
  {
   "cell_type": "code",
   "execution_count": 62,
   "outputs": [
    {
     "name": "stdout",
     "output_type": "stream",
     "text": [
      "  data1  data2\n",
      "0     a      2\n",
      "1     a      1\n",
      "2     a      1\n",
      "3     a      2\n",
      "4     b      1\n",
      "5     b      0\n",
      "6     b      3\n",
      "7     b      1\n"
     ]
    }
   ],
   "source": [
    "# 如果要在原有的df上去重，需要加inplace=True\n",
    "print(df_obj)"
   ],
   "metadata": {
    "collapsed": false,
    "pycharm": {
     "name": "#%%\n"
    }
   }
  },
  {
   "cell_type": "code",
   "execution_count": 63,
   "outputs": [
    {
     "name": "stdout",
     "output_type": "stream",
     "text": [
      "0    9\n",
      "1    7\n",
      "2    8\n",
      "3    4\n",
      "4    9\n",
      "5    4\n",
      "6    7\n",
      "7    5\n",
      "8    2\n",
      "9    4\n",
      "dtype: int32\n",
      "\n",
      "\n",
      "0    81\n",
      "1    49\n",
      "2    64\n",
      "3    16\n",
      "4    81\n",
      "5    16\n",
      "6    49\n",
      "7    25\n",
      "8     4\n",
      "9    16\n",
      "dtype: int64\n"
     ]
    }
   ],
   "source": [
    "ser_obj = pd.Series(np.random.randint(0, 10, 10))  # series 用map\n",
    "print(ser_obj)\n",
    "print('\\n')\n",
    "print(ser_obj.map(lambda x: x ** 2))"
   ],
   "metadata": {
    "collapsed": false,
    "pycharm": {
     "name": "#%%\n"
    }
   }
  },
  {
   "cell_type": "code",
   "execution_count": 66,
   "outputs": [
    {
     "name": "stdout",
     "output_type": "stream",
     "text": [
      "3     0\n",
      "4     1\n",
      "5     2\n",
      "6     3\n",
      "7     4\n",
      "8     5\n",
      "9     6\n",
      "10    7\n",
      "11    8\n",
      "12    9\n",
      "dtype: int32\n",
      "\n",
      "\n",
      "3       0\n",
      "4    -100\n",
      "5       2\n",
      "6       3\n",
      "7       4\n",
      "8       5\n",
      "9       6\n",
      "10      7\n",
      "11      8\n",
      "12      9\n",
      "dtype: int32\n",
      "\n",
      "\n",
      "3       0\n",
      "4       1\n",
      "5       2\n",
      "6       3\n",
      "7       4\n",
      "8       5\n",
      "9    -100\n",
      "10   -100\n",
      "11   -100\n",
      "12      9\n",
      "dtype: int32\n",
      "\n",
      "\n",
      "3       0\n",
      "4       1\n",
      "5       2\n",
      "6       3\n",
      "7    -100\n",
      "8       5\n",
      "9       6\n",
      "10   -200\n",
      "11      8\n",
      "12      9\n",
      "dtype: int32\n"
     ]
    }
   ],
   "source": [
    "ser_obj = pd.Series(np.arange(10), index=range(3, 13))\n",
    "print(ser_obj)\n",
    "print('\\n')\n",
    "# 单个值替换单个值\n",
    "print(ser_obj.replace(1, -100))\n",
    "print('\\n')\n",
    "# 多个值替换一个值\n",
    "print(ser_obj.replace(range(6, 9), -100))\n",
    "print('\\n')\n",
    "# 多个值替换多个值\n",
    "print(ser_obj.replace([4, 7], [-100, -200]))"
   ],
   "metadata": {
    "collapsed": false,
    "pycharm": {
     "name": "#%%\n"
    }
   }
  },
  {
   "cell_type": "code",
   "execution_count": 70,
   "outputs": [
    {
     "name": "stdout",
     "output_type": "stream",
     "text": [
      "   A  B  C\n",
      "0  0  5  a\n",
      "1  1  6  a\n",
      "2  2  7  c\n",
      "3  3  8  d\n",
      "4  4  9  e\n"
     ]
    }
   ],
   "source": [
    "df = pd.DataFrame({'A': [0, 1, 2, 3, 4],\n",
    "                   'B': [5, 6, 7, 8, 9],\n",
    "                   'C': ['a', 'a', 'c', 'd', 'e']})\n",
    "print(df)"
   ],
   "metadata": {
    "collapsed": false,
    "pycharm": {
     "name": "#%%\n"
    }
   }
  },
  {
   "cell_type": "code",
   "execution_count": 71,
   "outputs": [
    {
     "data": {
      "text/plain": "   A  B    C\n0  0  5  100\n1  1  6  100\n2  2  7    c\n3  3  8    d\n4  4  9    e",
      "text/html": "<div>\n<style scoped>\n    .dataframe tbody tr th:only-of-type {\n        vertical-align: middle;\n    }\n\n    .dataframe tbody tr th {\n        vertical-align: top;\n    }\n\n    .dataframe thead th {\n        text-align: right;\n    }\n</style>\n<table border=\"1\" class=\"dataframe\">\n  <thead>\n    <tr style=\"text-align: right;\">\n      <th></th>\n      <th>A</th>\n      <th>B</th>\n      <th>C</th>\n    </tr>\n  </thead>\n  <tbody>\n    <tr>\n      <th>0</th>\n      <td>0</td>\n      <td>5</td>\n      <td>100</td>\n    </tr>\n    <tr>\n      <th>1</th>\n      <td>1</td>\n      <td>6</td>\n      <td>100</td>\n    </tr>\n    <tr>\n      <th>2</th>\n      <td>2</td>\n      <td>7</td>\n      <td>c</td>\n    </tr>\n    <tr>\n      <th>3</th>\n      <td>3</td>\n      <td>8</td>\n      <td>d</td>\n    </tr>\n    <tr>\n      <th>4</th>\n      <td>4</td>\n      <td>9</td>\n      <td>e</td>\n    </tr>\n  </tbody>\n</table>\n</div>"
     },
     "execution_count": 71,
     "metadata": {},
     "output_type": "execute_result"
    }
   ],
   "source": [
    "df.replace(to_replace=r'^a', value=100, regex=True)  # 正则"
   ],
   "metadata": {
    "collapsed": false,
    "pycharm": {
     "name": "#%%\n"
    }
   }
  },
  {
   "cell_type": "code",
   "execution_count": 72,
   "outputs": [
    {
     "data": {
      "text/plain": "A     int64\nB     int64\nC    object\ndtype: object"
     },
     "execution_count": 72,
     "metadata": {},
     "output_type": "execute_result"
    }
   ],
   "source": [
    "df.dtypes"
   ],
   "metadata": {
    "collapsed": false,
    "pycharm": {
     "name": "#%%\n"
    }
   }
  }
 ],
 "metadata": {
  "kernelspec": {
   "display_name": "Python 3",
   "language": "python",
   "name": "python3"
  },
  "language_info": {
   "codemirror_mode": {
    "name": "ipython",
    "version": 2
   },
   "file_extension": ".py",
   "mimetype": "text/x-python",
   "name": "python",
   "nbconvert_exporter": "python",
   "pygments_lexer": "ipython2",
   "version": "2.7.6"
  }
 },
 "nbformat": 4,
 "nbformat_minor": 0
}