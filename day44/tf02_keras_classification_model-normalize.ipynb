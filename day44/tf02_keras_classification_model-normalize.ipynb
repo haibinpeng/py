{
 "cells": [
  {
   "cell_type": "code",
   "execution_count": 2,
   "id": "8d3ee3ce",
   "metadata": {},
   "outputs": [
    {
     "name": "stdout",
     "output_type": "stream",
     "text": [
      "2.9.1\n",
      "sys.version_info(major=3, minor=8, micro=10, releaselevel='final', serial=0)\n",
      "matplotlib 3.5.2\n",
      "numpy 1.23.1\n",
      "pandas 1.4.3\n",
      "sklearn 1.1.1\n",
      "tensorflow 2.9.1\n",
      "keras.api._v2.keras 2.9.0\n"
     ]
    }
   ],
   "source": [
    "import matplotlib as mpl\n",
    "import matplotlib.pyplot as plt\n",
    "%matplotlib inline\n",
    "import numpy as np\n",
    "import sklearn\n",
    "import pandas as pd\n",
    "import os\n",
    "import sys\n",
    "import time\n",
    "import tensorflow as tf\n",
    "from tensorflow import keras\n",
    "\n",
    "print(tf.__version__)\n",
    "print(sys.version_info)\n",
    "for module in mpl, np, pd, sklearn, tf, keras:\n",
    "    print(module.__name__, module.__version__)"
   ]
  },
  {
   "cell_type": "code",
   "execution_count": 3,
   "id": "d1e02c3d",
   "metadata": {},
   "outputs": [
    {
     "name": "stdout",
     "output_type": "stream",
     "text": [
      "(5000, 28, 28) (5000,)\n",
      "(55000, 28, 28) (55000,)\n",
      "(10000, 28, 28) (10000,)\n"
     ]
    }
   ],
   "source": [
    "fashion_mnist = keras.datasets.fashion_mnist\n",
    "(x_train_all, y_train_all), (x_test, y_test) = fashion_mnist.load_data()\n",
    "x_valid, x_train = x_train_all[:5000], x_train_all[5000:]\n",
    "y_valid, y_train = y_train_all[:5000], y_train_all[5000:]\n",
    "\n",
    "print(x_valid.shape, y_valid.shape)\n",
    "print(x_train.shape, y_train.shape)\n",
    "print(x_test.shape, y_test.shape)"
   ]
  },
  {
   "cell_type": "code",
   "execution_count": 4,
   "id": "4879d85f",
   "metadata": {},
   "outputs": [],
   "source": [
    "# 通过原有sklearn的标准化进行处理\n",
    "from sklearn.preprocessing import StandardScaler\n",
    "\n",
    "scaler = StandardScaler()\n",
    "# x_train: [None, 28, 28] -> [None, 784] -> [None, 28, 28]\n",
    "# 先reshape变为二维（相当于1列）的目的是对每一个像素点进行标准化（让其等价）\n",
    "x_train_scaled = scaler.fit_transform(\n",
    "    x_train.reshape(-1, 1)).reshape(-1, 28, 28)\n",
    "# 这个是验证集，验证集用的也是训练集的均值和方差\n",
    "x_valid_scaled = scaler.transform(\n",
    "    x_valid.reshape(-1, 1)).reshape(-1, 28, 28)\n",
    "# 这个是测试集\n",
    "x_test_scaled = scaler.transform(\n",
    "    x_test.reshape(-1, 1)).reshape(-1, 28, 28)"
   ]
  },
  {
   "cell_type": "code",
   "execution_count": 5,
   "id": "a0627d5a",
   "metadata": {},
   "outputs": [
    {
     "name": "stdout",
     "output_type": "stream",
     "text": [
      "2.023143278665243 -0.8105136544337038\n"
     ]
    }
   ],
   "source": [
    "print(np.max(x_train_scaled), np.min(x_train_scaled))"
   ]
  },
  {
   "cell_type": "code",
   "execution_count": 7,
   "id": "6829c31d",
   "metadata": {},
   "outputs": [],
   "source": [
    "# tf.keras.models.Sequential()\n",
    "\n",
    "model = keras.Sequential([\n",
    "    keras.layers.Flatten(input_shape=[28, 28]),\n",
    "    keras.layers.Dense(300, activation = 'relu'),\n",
    "    keras.layers.Dense(100, activation='relu'),\n",
    "    keras.layers.Dense(10, activation='softmax')\n",
    "])\n",
    "\n",
    "\"\"\"\n",
    "与上面的代码等价\n",
    "model = keras.models.Sequential()\n",
    "model.add(keras.layers.Flatten(input_shape=[28, 28]))\n",
    "model.add(keras.layers.Dense(300, activation=\"relu\"))\n",
    "model.add(keras.layers.Dense(100, activation=\"relu\"))\n",
    "model.add(keras.layers.Dense(10, activation=\"softmax\"))\n",
    "\"\"\"\n",
    "model.compile(loss=\"sparse_categorical_crossentropy\",\n",
    "              optimizer = keras.optimizers.SGD(0.001),\n",
    "              metrics = [\"accuracy\"])"
   ]
  },
  {
   "cell_type": "code",
   "execution_count": 8,
   "id": "6c27a142",
   "metadata": {},
   "outputs": [
    {
     "name": "stderr",
     "output_type": "stream",
     "text": [
      "2022-07-19 23:37:56.526265: W tensorflow/core/framework/cpu_allocator_impl.cc:82] Allocation of 172480000 exceeds 10% of free system memory.\n"
     ]
    },
    {
     "name": "stdout",
     "output_type": "stream",
     "text": [
      "Epoch 1/20\n",
      "1719/1719 [==============================] - 5s 2ms/step - loss: 0.8864 - accuracy: 0.7140 - val_loss: 0.5954 - val_accuracy: 0.7972\n",
      "Epoch 2/20\n",
      "1719/1719 [==============================] - 4s 2ms/step - loss: 0.5638 - accuracy: 0.8065 - val_loss: 0.5086 - val_accuracy: 0.8272\n",
      "Epoch 3/20\n",
      "1719/1719 [==============================] - 4s 2ms/step - loss: 0.5027 - accuracy: 0.8245 - val_loss: 0.4702 - val_accuracy: 0.8382\n",
      "Epoch 4/20\n",
      "1719/1719 [==============================] - 4s 2ms/step - loss: 0.4689 - accuracy: 0.8359 - val_loss: 0.4487 - val_accuracy: 0.8488\n",
      "Epoch 5/20\n",
      "1719/1719 [==============================] - 4s 2ms/step - loss: 0.4460 - accuracy: 0.8429 - val_loss: 0.4295 - val_accuracy: 0.8524\n",
      "Epoch 6/20\n",
      "1719/1719 [==============================] - 4s 2ms/step - loss: 0.4283 - accuracy: 0.8488 - val_loss: 0.4177 - val_accuracy: 0.8538\n",
      "Epoch 7/20\n",
      "1719/1719 [==============================] - 4s 2ms/step - loss: 0.4143 - accuracy: 0.8536 - val_loss: 0.4094 - val_accuracy: 0.8578\n",
      "Epoch 8/20\n",
      "1719/1719 [==============================] - 4s 2ms/step - loss: 0.4029 - accuracy: 0.8573 - val_loss: 0.3998 - val_accuracy: 0.8604\n",
      "Epoch 9/20\n",
      "1719/1719 [==============================] - 4s 2ms/step - loss: 0.3932 - accuracy: 0.8607 - val_loss: 0.3953 - val_accuracy: 0.8614\n",
      "Epoch 10/20\n",
      "1719/1719 [==============================] - 4s 2ms/step - loss: 0.3849 - accuracy: 0.8645 - val_loss: 0.3858 - val_accuracy: 0.8658\n",
      "Epoch 11/20\n",
      "1719/1719 [==============================] - 4s 2ms/step - loss: 0.3777 - accuracy: 0.8663 - val_loss: 0.3814 - val_accuracy: 0.8664\n",
      "Epoch 12/20\n",
      "1719/1719 [==============================] - 4s 2ms/step - loss: 0.3709 - accuracy: 0.8682 - val_loss: 0.3783 - val_accuracy: 0.8640\n",
      "Epoch 13/20\n",
      "1719/1719 [==============================] - 4s 2ms/step - loss: 0.3647 - accuracy: 0.8714 - val_loss: 0.3735 - val_accuracy: 0.8684\n",
      "Epoch 14/20\n",
      "1719/1719 [==============================] - 4s 2ms/step - loss: 0.3593 - accuracy: 0.8729 - val_loss: 0.3699 - val_accuracy: 0.8694\n",
      "Epoch 15/20\n",
      "1719/1719 [==============================] - 4s 2ms/step - loss: 0.3540 - accuracy: 0.8745 - val_loss: 0.3649 - val_accuracy: 0.8698\n",
      "Epoch 16/20\n",
      "1719/1719 [==============================] - 4s 2ms/step - loss: 0.3490 - accuracy: 0.8768 - val_loss: 0.3614 - val_accuracy: 0.8722\n",
      "Epoch 17/20\n",
      "1719/1719 [==============================] - 4s 2ms/step - loss: 0.3444 - accuracy: 0.8785 - val_loss: 0.3601 - val_accuracy: 0.8720\n",
      "Epoch 18/20\n",
      "1719/1719 [==============================] - 4s 2ms/step - loss: 0.3403 - accuracy: 0.8795 - val_loss: 0.3556 - val_accuracy: 0.8742\n",
      "Epoch 19/20\n",
      "1719/1719 [==============================] - 4s 2ms/step - loss: 0.3364 - accuracy: 0.8815 - val_loss: 0.3541 - val_accuracy: 0.8752\n",
      "Epoch 20/20\n",
      "1719/1719 [==============================] - 4s 2ms/step - loss: 0.3324 - accuracy: 0.8816 - val_loss: 0.3516 - val_accuracy: 0.8770\n"
     ]
    }
   ],
   "source": [
    "history = model.fit(x_train_scaled, y_train, epochs=20, \n",
    "                    validation_data=(x_valid_scaled, y_valid))"
   ]
  },
  {
   "cell_type": "code",
   "execution_count": 9,
   "id": "68919725",
   "metadata": {},
   "outputs": [
    {
     "data": {
      "text/plain": [
       "{'loss': [0.8863623738288879,\n",
       "  0.5638380646705627,\n",
       "  0.5026593208312988,\n",
       "  0.46890535950660706,\n",
       "  0.4459552466869354,\n",
       "  0.42828574776649475,\n",
       "  0.41433438658714294,\n",
       "  0.40294772386550903,\n",
       "  0.3932337462902069,\n",
       "  0.38492706418037415,\n",
       "  0.37767019867897034,\n",
       "  0.3708881139755249,\n",
       "  0.3646746873855591,\n",
       "  0.3593166768550873,\n",
       "  0.35399869084358215,\n",
       "  0.34904173016548157,\n",
       "  0.34437096118927,\n",
       "  0.3402608633041382,\n",
       "  0.3363914489746094,\n",
       "  0.3324379622936249],\n",
       " 'accuracy': [0.7140363454818726,\n",
       "  0.8064908981323242,\n",
       "  0.8245454430580139,\n",
       "  0.8359090685844421,\n",
       "  0.8429454565048218,\n",
       "  0.848836362361908,\n",
       "  0.853600025177002,\n",
       "  0.8572909235954285,\n",
       "  0.8606727123260498,\n",
       "  0.8644727468490601,\n",
       "  0.8663454651832581,\n",
       "  0.8682363629341125,\n",
       "  0.8714181780815125,\n",
       "  0.8728727102279663,\n",
       "  0.8745272755622864,\n",
       "  0.876800000667572,\n",
       "  0.8784545660018921,\n",
       "  0.8794545531272888,\n",
       "  0.8814908862113953,\n",
       "  0.881600022315979],\n",
       " 'val_loss': [0.5953664779663086,\n",
       "  0.5086076855659485,\n",
       "  0.47020038962364197,\n",
       "  0.44865626096725464,\n",
       "  0.42945513129234314,\n",
       "  0.4176684021949768,\n",
       "  0.40943676233291626,\n",
       "  0.3998139798641205,\n",
       "  0.39528971910476685,\n",
       "  0.3857712745666504,\n",
       "  0.3813871443271637,\n",
       "  0.3782627284526825,\n",
       "  0.3734871447086334,\n",
       "  0.3698907792568207,\n",
       "  0.3648848235607147,\n",
       "  0.36141666769981384,\n",
       "  0.36014431715011597,\n",
       "  0.3555505573749542,\n",
       "  0.3540889024734497,\n",
       "  0.3515765070915222],\n",
       " 'val_accuracy': [0.7972000241279602,\n",
       "  0.8271999955177307,\n",
       "  0.8381999731063843,\n",
       "  0.848800003528595,\n",
       "  0.852400004863739,\n",
       "  0.8537999987602234,\n",
       "  0.8578000068664551,\n",
       "  0.8604000210762024,\n",
       "  0.8614000082015991,\n",
       "  0.8658000230789185,\n",
       "  0.8664000034332275,\n",
       "  0.8640000224113464,\n",
       "  0.868399977684021,\n",
       "  0.8694000244140625,\n",
       "  0.8697999715805054,\n",
       "  0.8722000122070312,\n",
       "  0.871999979019165,\n",
       "  0.8741999864578247,\n",
       "  0.8751999735832214,\n",
       "  0.8769999742507935]}"
      ]
     },
     "execution_count": 9,
     "metadata": {},
     "output_type": "execute_result"
    }
   ],
   "source": [
    "history.history"
   ]
  },
  {
   "cell_type": "code",
   "execution_count": 10,
   "id": "05939a19",
   "metadata": {},
   "outputs": [
    {
     "data": {
      "image/png": "[encoded data removed]",
      "text/plain": [
       "<Figure size 576x360 with 1 Axes>"
      ]
     },
     "metadata": {
      "needs_background": "light"
     },
     "output_type": "display_data"
    }
   ],
   "source": [
    "def plot_learning_curves(history):\n",
    "    pd.DataFrame(history.history).plot(figsize=(8, 5))\n",
    "    plt.grid(True)\n",
    "    plt.gca().set_ylim(0, 1)\n",
    "    plt.show()\n",
    "\n",
    "plot_learning_curves(history)"
   ]
  },
  {
   "cell_type": "code",
   "execution_count": 11,
   "id": "619a7d8b",
   "metadata": {},
   "outputs": [
    {
     "data": {
      "text/plain": [
       "[0.3861204981803894, 0.8640000224113464]"
      ]
     },
     "execution_count": 11,
     "metadata": {},
     "output_type": "execute_result"
    }
   ],
   "source": [
    "model.evaluate(x_test_scaled, y_test, verbose=0)"
   ]
  }
 ],
 "metadata": {
  "kernelspec": {
   "display_name": "Python 3 (ipykernel)",
   "language": "python",
   "name": "python3"
  },
  "language_info": {
   "codemirror_mode": {
    "name": "ipython",
    "version": 3
   },
   "file_extension": ".py",
   "mimetype": "text/x-python",
   "name": "python",
   "nbconvert_exporter": "python",
   "pygments_lexer": "ipython3",
   "version": "3.8.10"
  }
 },
 "nbformat": 4,
 "nbformat_minor": 5
}
