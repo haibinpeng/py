{
 "cells": [
  {
   "cell_type": "code",
   "execution_count": 3,
   "id": "fcbb2123",
   "metadata": {},
   "outputs": [
    {
     "name": "stderr",
     "output_type": "stream",
     "text": [
      "2022-07-19 21:25:50.038712: W tensorflow/stream_executor/platform/default/dso_loader.cc:64] Could not load dynamic library 'libcudart.so.11.0'; dlerror: libcudart.so.11.0: cannot open shared object file: No such file or directory\n",
      "2022-07-19 21:25:50.038756: I tensorflow/stream_executor/cuda/cudart_stub.cc:29] Ignore above cudart dlerror if you do not have a GPU set up on your machine.\n"
     ]
    }
   ],
   "source": [
    "import matplotlib as mpl\n",
    "import matplotlib.pyplot as plt\n",
    "# 是一个魔法属性，内嵌绘图\n",
    "%matplotlib inline\n",
    "import numpy as np\n",
    "import sklearn\n",
    "import pandas as pd\n",
    "import os\n",
    "import sys\n",
    "import time\n",
    "import tensorflow as tf\n",
    "from tensorflow import keras"
   ]
  },
  {
   "cell_type": "code",
   "execution_count": 4,
   "id": "2a0970be",
   "metadata": {},
   "outputs": [
    {
     "name": "stdout",
     "output_type": "stream",
     "text": [
      "2.9.1\n",
      "sys.version_info(major=3, minor=8, micro=10, releaselevel='final', serial=0)\n",
      "matplotlib 3.5.2\n",
      "numpy 1.23.1\n",
      "pandas 1.4.3\n",
      "sklearn 1.1.1\n",
      "tensorflow 2.9.1\n",
      "keras.api._v2.keras 2.9.0\n"
     ]
    }
   ],
   "source": [
    "print(tf.__version__)\n",
    "print(sys.version_info)\n",
    "for module in mpl, np, pd, sklearn, tf, keras:\n",
    "    print(module.__name__, module.__version__)"
   ]
  },
  {
   "cell_type": "code",
   "execution_count": 8,
   "id": "7be0c92b",
   "metadata": {},
   "outputs": [
    {
     "name": "stdout",
     "output_type": "stream",
     "text": [
      "(60000, 28, 28)\n",
      "--------------------------------------------------\n",
      "(55000, 28, 28) (55000,)\n",
      "(5000, 28, 28) (5000,)\n",
      "(10000, 28, 28) (10000,)\n"
     ]
    }
   ],
   "source": [
    "# fashion_mnist图像分类数据集\n",
    "fashion_mnist = keras.datasets.fashion_mnist\n",
    "(x_train_all, y_train_all), (x_test, y_test) = fashion_mnist.load_data()\n",
    "print(x_train_all.shape)\n",
    "print('-'*50)\n",
    "x_valid, x_train = x_train_all[:5000], x_train_all[5000:]\n",
    "y_valid, y_train = y_train_all[:5000], y_train_all[5000:]\n",
    "print(x_train.shape, y_train.shape)  # 训练集，后55000个样本\n",
    "print(x_valid.shape, y_valid.shape)  # 验证集，前5000个样本\n",
    "print(x_test.shape, y_test.shape)  # 测试集"
   ]
  },
  {
   "cell_type": "code",
   "execution_count": 9,
   "id": "80253bf4",
   "metadata": {},
   "outputs": [
    {
     "data": {
      "text/plain": [
       "784"
      ]
     },
     "execution_count": 9,
     "metadata": {},
     "output_type": "execute_result"
    }
   ],
   "source": [
    "# 784个特征\n",
    "28*28"
   ]
  },
  {
   "cell_type": "code",
   "execution_count": 10,
   "id": "7100a4fa",
   "metadata": {},
   "outputs": [
    {
     "data": {
      "text/plain": [
       "numpy.ndarray"
      ]
     },
     "execution_count": 10,
     "metadata": {},
     "output_type": "execute_result"
    }
   ],
   "source": [
    "type(x_train)"
   ]
  },
  {
   "cell_type": "code",
   "execution_count": 14,
   "id": "df886494",
   "metadata": {},
   "outputs": [
    {
     "data": {
      "text/plain": [
       "array([[  0,   0,   0,   0,   0,   0,   0,  44,  55,  96, 201,  35,   0,\n",
       "          0,   0,   0,   0,  60, 184,  53,  50,  17,   0,   0,   0,   0,\n",
       "          0,   0],\n",
       "       [  0,   0,   0,   0,   0,   0,  91, 104,  83,  44, 179, 243, 214,\n",
       "        156, 148, 212, 248, 255, 184,  40,  86, 109,  78,   0,   0,   0,\n",
       "          0,   0],\n",
       "       [  0,   0,   0,   0,   0,  75, 142,  50,  75,  60,  21,  98, 212,\n",
       "        223, 187, 232, 212,  94,   4,  57,  65,  55, 143,  71,   0,   0,\n",
       "          0,   0],\n",
       "       [  0,   0,   0,   0,   0, 107, 135,  93,  63,  63,  55,  27,  29,\n",
       "         98, 112,  58,  37,  19,  53,  58,  60,  88, 122, 112,   0,   0,\n",
       "          0,   0],\n",
       "       [  0,   0,   0,   0,   0, 155, 116, 106,  71,  62,  49,  63,  49,\n",
       "         34,  31,  35,  50,  63,  55,  58,  65, 109, 114, 150,   0,   0,\n",
       "          0,   0],\n",
       "       [  0,   0,   0,   0,   0, 147, 138,  99,  96,  63,  62,  53,  37,\n",
       "         47,  49,  27,  32,  50,  57,  65,  80, 106, 135, 152,   1,   0,\n",
       "          0,   0],\n",
       "       [  0,   0,   0,   0,  52, 148, 106, 117,  83,  78,  34,  34,  60,\n",
       "         52,  58,  70,  57,  34,  50,  67,  70, 116, 106, 147,  47,   0,\n",
       "          0,   0],\n",
       "       [  0,   0,   0,   0, 129, 124, 101, 155, 132, 102,  70,  70,  55,\n",
       "         50,  37,  37,  62,  89,  42,  85, 119, 150, 116, 122, 120,   0,\n",
       "          0,   0],\n",
       "       [  0,   0,   0,   0,  75, 129, 143, 240, 170, 114,  89,  40,  37,\n",
       "         45,  49,  50,  34,  53,  98,  88, 156, 238, 140, 130,  76,   0,\n",
       "          0,   0],\n",
       "       [  0,   0,   0,   0,   0,   0,  17, 217, 225, 104,  99,  94,  49,\n",
       "         60,  50,  67,  67,  71,  89,  65, 212, 223,  17,   0,   0,   0,\n",
       "          0,   0],\n",
       "       [  0,   0,   0,   0,   0,   0,   0,  34, 181, 106,  75, 117,  42,\n",
       "         32,  73,  47,  29,  96,  83, 102, 171,  39,   0,   0,   0,   0,\n",
       "          0,   0],\n",
       "       [  0,   0,   0,   0,   0,   1,   0,  31, 178, 120,  68, 111,  98,\n",
       "          8,  42,  75,  52,  53,  60, 117, 174,  31,   0,   3,   0,   0,\n",
       "          0,   0],\n",
       "       [  0,   0,   0,   0,   0,   1,   0,   8, 163, 122,  88,  60, 107,\n",
       "        117,  78, 122,  94,  65,  63, 120, 168,   4,   0,   1,   0,   0,\n",
       "          0,   0],\n",
       "       [  0,   0,   0,   0,   0,   1,   0,   0, 147, 114, 109, 101,  63,\n",
       "         63, 106,  49,  40, 101, 102, 101, 153,   0,   0,   1,   0,   0,\n",
       "          0,   0],\n",
       "       [  0,   0,   0,   0,   0,   0,   0,   0, 127, 109, 104, 125, 107,\n",
       "         83, 104,  91,  98, 107, 104,  99, 132,   0,   0,   0,   0,   0,\n",
       "          0,   0],\n",
       "       [  0,   0,   0,   0,   0,   0,   0,   0, 116, 117, 112, 112, 109,\n",
       "        109, 119, 102, 101, 102, 102, 106, 114,   0,   0,   0,   0,   0,\n",
       "          0,   0],\n",
       "       [  0,   0,   0,   0,   0,   0,   0,   0, 119, 112, 107, 111, 111,\n",
       "         98, 114,  94,  94, 107, 101, 104, 117,   0,   0,   0,   0,   0,\n",
       "          0,   0],\n",
       "       [  0,   0,   0,   0,   0,   0,   0,   0, 114, 111, 109, 111, 114,\n",
       "        104, 117, 104,  98, 107, 112, 101, 117,   0,   0,   1,   0,   0,\n",
       "          0,   0],\n",
       "       [  0,   0,   0,   0,   0,   1,   0,   8, 119, 111, 111, 109, 114,\n",
       "        104, 119, 107,  99, 107, 117,  96, 119,   9,   0,   0,   0,   0,\n",
       "          0,   0],\n",
       "       [  0,   0,   0,   0,   0,   1,   0,  39, 124, 102, 114, 114, 106,\n",
       "        101, 120, 107,  98, 107, 109,  94, 117,  52,   0,   0,   0,   0,\n",
       "          0,   0],\n",
       "       [  0,   0,   0,   0,   0,   1,   0,  53, 124, 101, 114, 116, 106,\n",
       "        109, 120, 112, 102,  99, 116,  98, 109,  88,   0,   0,   0,   0,\n",
       "          0,   0],\n",
       "       [  0,   0,   0,   0,   0,   0,   0,  76, 114, 104, 107, 107, 102,\n",
       "        101, 114, 112, 102,  96, 120,  94, 109,  99,   0,   0,   0,   0,\n",
       "          0,   0],\n",
       "       [  0,   0,   0,   0,   0,   0,   0,  89, 107, 102, 107, 111, 107,\n",
       "        102, 111, 109, 102,  96, 112,  99, 111, 106,   0,   0,   0,   0,\n",
       "          0,   0],\n",
       "       [  0,   0,   0,   0,   0,   0,   0,  94,  98,  94, 107, 109, 106,\n",
       "        106, 112, 107,  94, 102, 120, 109,  96, 114,   0,   0,   0,   0,\n",
       "          0,   0],\n",
       "       [  0,   0,   0,   0,   0,   0,   0,  94,  96, 101, 106, 102, 104,\n",
       "        104, 112, 112,  96,  99, 112, 116,  99, 107,   0,   0,   0,   0,\n",
       "          0,   0],\n",
       "       [  0,   0,   0,   0,   0,   0,   0, 104,  98,  98, 102,  98, 101,\n",
       "         99, 104, 109,  93,  99,  98, 107, 104, 122,   0,   0,   1,   0,\n",
       "          0,   0],\n",
       "       [  0,   0,   0,   0,   0,   0,   0,  60, 106, 117, 111, 107, 104,\n",
       "        102, 114, 119, 101, 116, 116, 135, 116,  86,   0,   0,   1,   0,\n",
       "          0,   0],\n",
       "       [  0,   0,   0,   0,   0,   0,   0,   0,   0,  35,  60,  78,  88,\n",
       "         98, 101, 104,  81,  65,  55,  35,   0,   0,   0,   0,   0,   0,\n",
       "          0,   0]], dtype=uint8)"
      ]
     },
     "execution_count": 14,
     "metadata": {},
     "output_type": "execute_result"
    }
   ],
   "source": [
    "x_train[1]"
   ]
  },
  {
   "cell_type": "code",
   "execution_count": 11,
   "id": "b9525c77",
   "metadata": {},
   "outputs": [
    {
     "data": {
      "text/plain": [
       "4"
      ]
     },
     "execution_count": 11,
     "metadata": {},
     "output_type": "execute_result"
    }
   ],
   "source": [
    "# target是sparse编码\n",
    "y_train[0]"
   ]
  },
  {
   "cell_type": "code",
   "execution_count": 17,
   "id": "b1d8c664",
   "metadata": {},
   "outputs": [
    {
     "data": {
      "image/png": "[encoded data removed]",
      "text/plain": [
       "<Figure size 432x288 with 2 Axes>"
      ]
     },
     "metadata": {
      "needs_background": "light"
     },
     "output_type": "display_data"
    },
    {
     "name": "stdout",
     "output_type": "stream",
     "text": [
      "184\n"
     ]
    }
   ],
   "source": [
    "def show_single_image(img_arr):\n",
    "    plt.imshow(img_arr, cmap='binary')\n",
    "    plt.colorbar()  # 在旁边显示一条色阶条\n",
    "    plt.show()\n",
    "show_single_image(x_train[1])\n",
    "print(x_train[1, 0, 18])"
   ]
  },
  {
   "cell_type": "code",
   "execution_count": 18,
   "id": "39ffb5be",
   "metadata": {},
   "outputs": [
    {
     "data": {
      "image/png": "[encoded data removed]",
      "text/plain": [
       "<Figure size 504x345.6 with 15 Axes>"
      ]
     },
     "metadata": {
      "needs_background": "light"
     },
     "output_type": "display_data"
    }
   ],
   "source": [
    "def show_imgs(n_rows, n_cols, x_data, y_data, class_names):\n",
    "    assert len(x_data) == len(y_data)  # x和y的样本数一致\n",
    "    assert n_rows * n_cols < len(x_data)  # 确保打印的图片小于总样本数\n",
    "    plt.figure(figsize = (n_cols * 1.4, n_rows * 1.6))  # 宽1.4，高1.6\n",
    "    for row in range(n_rows):\n",
    "        for col in range(n_cols):\n",
    "            index = n_cols * row + col \n",
    "            plt.subplot(n_rows, n_cols, index+1) # 因为从1开始\n",
    "            plt.imshow(x_data[index], cmap=\"binary\",\n",
    "                       interpolation = 'nearest')\n",
    "            plt.axis('off') # 去除坐标系\n",
    "            plt.title(class_names[y_data[index]])\n",
    "    plt.show()\n",
    "# 已知的图片类别\n",
    "# lables在这个路径https://github.com/zalandoresearch/fashion-mnist\n",
    "class_names = ['T-shirt', 'Trouser', 'Pullover', 'Dress',\n",
    "               'Coat', 'Sandal', 'Shirt', 'Sneaker',\n",
    "               'Bag', 'Ankle boot']\n",
    "# 打印前15个样本\n",
    "show_imgs(3, 5, x_train, y_train, class_names)"
   ]
  },
  {
   "cell_type": "code",
   "execution_count": 23,
   "id": "89c95e33",
   "metadata": {},
   "outputs": [
    {
     "name": "stdout",
     "output_type": "stream",
     "text": [
      "(None, 784)\n"
     ]
    }
   ],
   "source": [
    "# tf.keras.models.Sequential()\n",
    "# 功能：Sequential将线性的层堆叠到一个tf.keras.Model\n",
    "\n",
    "model = keras.models.Sequential()\n",
    "# 把28*28的图片展平为一个一维向量\n",
    "model.add(keras.layers.Flatten(input_shape=[28, 28]))\n",
    "print(model.output_shape)\n",
    "# Dense是全连接层，添加全连接层\n",
    "# Dense(units,activation=None,**kwargs)\n",
    "#       units:神经元个数\n",
    "#       activation：激活函数\n",
    "# relu: y = max(0, x)\n",
    "# softmax: 将向量变成概率分布. x = [x1, x2, x3], \n",
    "#          y = [e^x1/sum, e^x2/sum, e^x3/sum], sum = e^x1 + e^x2 + e^x3\n",
    "model.add(keras.layers.Dense(300, activation=\"relu\"))\n",
    "model.add(keras.layers.Dense(100, activation=\"relu\"))\n",
    "model.add(keras.layers.Dense(10, activation=\"softmax\"))\n",
    "\n",
    "\n",
    "# model = keras.models.Sequential([\n",
    "#     keras.layers.Flatten(input_shape=[28, 28]),\n",
    "#     keras.layers.Dense(300, activation='relu'),\n",
    "#     keras.layers.Dense(100, activation='relu'),\n",
    "#     keras.layers.Dense(10, activation='softmax')\n",
    "# ])\n",
    "\n",
    "\n",
    "\n",
    "# reason for sparse: y->index. y->one_hot->[] \n",
    "# loss是损失函数 y如果只是一个数，那么使用sparse_categorical_crossentropy\n",
    "# sparse_categorical_crossentropy计算稀疏分类crossentropy损失\n",
    "# 计算的分类值是 0,1,2,...9\n",
    "# 如果是一个向量，那么使用categorical_crossentropy\n",
    "model.compile(loss=\"sparse_categorical_crossentropy\",  # 损失函数\n",
    "              optimizer = keras.optimizers.SGD(0.001),  # 内置优化器，SGD为梯度下降优化器\n",
    "              metrics = [\"accuracy\"])  # 模型在训练和测试期间要评估的指标列表"
   ]
  },
  {
   "cell_type": "code",
   "execution_count": 24,
   "id": "08c8066f",
   "metadata": {},
   "outputs": [
    {
     "data": {
      "text/plain": [
       "[<keras.layers.reshaping.flatten.Flatten at 0x7f00bf6cd5e0>,\n",
       " <keras.layers.core.dense.Dense at 0x7f00bfda96a0>,\n",
       " <keras.layers.core.dense.Dense at 0x7f00bf6cd0d0>,\n",
       " <keras.layers.core.dense.Dense at 0x7f00bfdc1160>]"
      ]
     },
     "execution_count": 24,
     "metadata": {},
     "output_type": "execute_result"
    }
   ],
   "source": [
    "# 层数\n",
    "model.layers"
   ]
  },
  {
   "cell_type": "code",
   "execution_count": 27,
   "id": "0fda3058",
   "metadata": {},
   "outputs": [
    {
     "name": "stdout",
     "output_type": "stream",
     "text": [
      "Model: \"sequential_4\"\n",
      "_________________________________________________________________\n",
      " Layer (type)                Output Shape              Param #   \n",
      "=================================================================\n",
      " flatten_4 (Flatten)         (None, 784)               0         \n",
      "                                                                 \n",
      " dense_12 (Dense)            (None, 300)               235500    \n",
      "                                                                 \n",
      " dense_13 (Dense)            (None, 100)               30100     \n",
      "                                                                 \n",
      " dense_14 (Dense)            (None, 10)                1010      \n",
      "                                                                 \n",
      "=================================================================\n",
      "Total params: 266,610\n",
      "Trainable params: 266,610\n",
      "Non-trainable params: 0\n",
      "_________________________________________________________________\n"
     ]
    }
   ],
   "source": [
    "# 每一层中的参数个数\n",
    "model.summary()"
   ]
  },
  {
   "cell_type": "code",
   "execution_count": 28,
   "id": "3cf2804e",
   "metadata": {},
   "outputs": [
    {
     "data": {
      "text/plain": [
       "235500"
      ]
     },
     "execution_count": 28,
     "metadata": {},
     "output_type": "execute_result"
    }
   ],
   "source": [
    "784*300+300  # 300是偏置"
   ]
  },
  {
   "cell_type": "code",
   "execution_count": 30,
   "id": "ad15e439",
   "metadata": {},
   "outputs": [
    {
     "data": {
      "text/plain": [
       "30100"
      ]
     },
     "execution_count": 30,
     "metadata": {},
     "output_type": "execute_result"
    }
   ],
   "source": [
    "300*100+100"
   ]
  },
  {
   "cell_type": "code",
   "execution_count": 31,
   "id": "c76f29db",
   "metadata": {},
   "outputs": [
    {
     "data": {
      "text/plain": [
       "1010"
      ]
     },
     "execution_count": 31,
     "metadata": {},
     "output_type": "execute_result"
    }
   ],
   "source": [
    "100*10+10"
   ]
  },
  {
   "cell_type": "code",
   "execution_count": 32,
   "id": "a4922c20",
   "metadata": {},
   "outputs": [
    {
     "data": {
      "text/plain": [
       "[<tf.Variable 'dense_12/kernel:0' shape=(784, 300) dtype=float32, numpy=\n",
       " array([[-0.02858496, -0.01207971, -0.04638882, ..., -0.00167204,\n",
       "          0.03135744, -0.06730996],\n",
       "        [ 0.01672873,  0.04578949,  0.05851021, ...,  0.04783885,\n",
       "         -0.04770028,  0.0210005 ],\n",
       "        [ 0.06374399, -0.03815441, -0.04272866, ...,  0.05554517,\n",
       "         -0.03999726, -0.00784895],\n",
       "        ...,\n",
       "        [ 0.0663545 , -0.06535651, -0.01285322, ...,  0.02345797,\n",
       "         -0.04374214,  0.00517704],\n",
       "        [ 0.03831077, -0.06373314, -0.0518935 , ...,  0.02098108,\n",
       "          0.02493777,  0.0685232 ],\n",
       "        [-0.02344242, -0.03383997, -0.0488357 , ..., -0.04332443,\n",
       "          0.01857964,  0.02862035]], dtype=float32)>,\n",
       " <tf.Variable 'dense_12/bias:0' shape=(300,) dtype=float32, numpy=\n",
       " array([0., 0., 0., 0., 0., 0., 0., 0., 0., 0., 0., 0., 0., 0., 0., 0., 0.,\n",
       "        0., 0., 0., 0., 0., 0., 0., 0., 0., 0., 0., 0., 0., 0., 0., 0., 0.,\n",
       "        0., 0., 0., 0., 0., 0., 0., 0., 0., 0., 0., 0., 0., 0., 0., 0., 0.,\n",
       "        0., 0., 0., 0., 0., 0., 0., 0., 0., 0., 0., 0., 0., 0., 0., 0., 0.,\n",
       "        0., 0., 0., 0., 0., 0., 0., 0., 0., 0., 0., 0., 0., 0., 0., 0., 0.,\n",
       "        0., 0., 0., 0., 0., 0., 0., 0., 0., 0., 0., 0., 0., 0., 0., 0., 0.,\n",
       "        0., 0., 0., 0., 0., 0., 0., 0., 0., 0., 0., 0., 0., 0., 0., 0., 0.,\n",
       "        0., 0., 0., 0., 0., 0., 0., 0., 0., 0., 0., 0., 0., 0., 0., 0., 0.,\n",
       "        0., 0., 0., 0., 0., 0., 0., 0., 0., 0., 0., 0., 0., 0., 0., 0., 0.,\n",
       "        0., 0., 0., 0., 0., 0., 0., 0., 0., 0., 0., 0., 0., 0., 0., 0., 0.,\n",
       "        0., 0., 0., 0., 0., 0., 0., 0., 0., 0., 0., 0., 0., 0., 0., 0., 0.,\n",
       "        0., 0., 0., 0., 0., 0., 0., 0., 0., 0., 0., 0., 0., 0., 0., 0., 0.,\n",
       "        0., 0., 0., 0., 0., 0., 0., 0., 0., 0., 0., 0., 0., 0., 0., 0., 0.,\n",
       "        0., 0., 0., 0., 0., 0., 0., 0., 0., 0., 0., 0., 0., 0., 0., 0., 0.,\n",
       "        0., 0., 0., 0., 0., 0., 0., 0., 0., 0., 0., 0., 0., 0., 0., 0., 0.,\n",
       "        0., 0., 0., 0., 0., 0., 0., 0., 0., 0., 0., 0., 0., 0., 0., 0., 0.,\n",
       "        0., 0., 0., 0., 0., 0., 0., 0., 0., 0., 0., 0., 0., 0., 0., 0., 0.,\n",
       "        0., 0., 0., 0., 0., 0., 0., 0., 0., 0., 0.], dtype=float32)>,\n",
       " <tf.Variable 'dense_13/kernel:0' shape=(300, 100) dtype=float32, numpy=\n",
       " array([[-0.08152661, -0.07487668, -0.0628476 , ...,  0.07043683,\n",
       "         -0.08505034, -0.02004182],\n",
       "        [-0.0240423 ,  0.0086427 ,  0.07755909, ..., -0.03334814,\n",
       "          0.0491451 ,  0.01715461],\n",
       "        [-0.03874404, -0.09749778, -0.06764367, ..., -0.09917147,\n",
       "         -0.02749061, -0.04853212],\n",
       "        ...,\n",
       "        [ 0.11238609, -0.0055525 , -0.11546904, ...,  0.07002025,\n",
       "          0.03674772,  0.00858036],\n",
       "        [ 0.08502518, -0.00474556,  0.10765623, ..., -0.11707969,\n",
       "          0.02421046,  0.01024101],\n",
       "        [-0.01395048,  0.03792959,  0.03343398, ...,  0.094793  ,\n",
       "          0.11472706,  0.09582496]], dtype=float32)>,\n",
       " <tf.Variable 'dense_13/bias:0' shape=(100,) dtype=float32, numpy=\n",
       " array([0., 0., 0., 0., 0., 0., 0., 0., 0., 0., 0., 0., 0., 0., 0., 0., 0.,\n",
       "        0., 0., 0., 0., 0., 0., 0., 0., 0., 0., 0., 0., 0., 0., 0., 0., 0.,\n",
       "        0., 0., 0., 0., 0., 0., 0., 0., 0., 0., 0., 0., 0., 0., 0., 0., 0.,\n",
       "        0., 0., 0., 0., 0., 0., 0., 0., 0., 0., 0., 0., 0., 0., 0., 0., 0.,\n",
       "        0., 0., 0., 0., 0., 0., 0., 0., 0., 0., 0., 0., 0., 0., 0., 0., 0.,\n",
       "        0., 0., 0., 0., 0., 0., 0., 0., 0., 0., 0., 0., 0., 0., 0.],\n",
       "       dtype=float32)>,\n",
       " <tf.Variable 'dense_14/kernel:0' shape=(100, 10) dtype=float32, numpy=\n",
       " array([[-1.68614596e-01, -2.24980518e-01, -1.80162728e-01,\n",
       "          6.10190332e-02, -5.40210158e-02,  1.43073350e-01,\n",
       "          1.47166848e-01,  2.16688037e-01,  1.12570763e-01,\n",
       "          1.71446502e-01],\n",
       "        [ 2.11765647e-01,  1.41370505e-01, -2.03519061e-01,\n",
       "          1.51223540e-01,  1.07927769e-01, -1.91865653e-01,\n",
       "          1.43623799e-02, -1.37503803e-01, -1.75430715e-01,\n",
       "         -5.63453734e-02],\n",
       "        [-1.69576466e-01, -1.75644085e-01,  2.68949568e-02,\n",
       "         -1.57591969e-01, -6.60572946e-03,  3.85639071e-02,\n",
       "          2.08798647e-02, -1.56660616e-01,  2.23599076e-02,\n",
       "          2.12834537e-01],\n",
       "        [ 5.12174070e-02, -1.66085109e-01, -2.12687641e-01,\n",
       "          8.68990719e-02, -1.11279808e-01, -2.07385883e-01,\n",
       "         -2.21641794e-01, -9.91098732e-02,  1.80528164e-01,\n",
       "         -2.05241054e-01],\n",
       "        [-1.07730150e-01, -6.38541728e-02,  1.38387024e-01,\n",
       "         -2.13056773e-01, -2.10139006e-01,  1.59337610e-01,\n",
       "          1.96756959e-01,  2.24631429e-02, -1.52027994e-01,\n",
       "          1.03000015e-01],\n",
       "        [-6.53670132e-02,  1.19523257e-02,  2.24498481e-01,\n",
       "          4.14094329e-03, -1.13668643e-01,  5.06136417e-02,\n",
       "         -7.48598874e-02, -2.18822092e-01, -1.63269803e-01,\n",
       "         -1.36734709e-01],\n",
       "        [-4.64556962e-02, -7.78692961e-03, -2.29935333e-01,\n",
       "         -1.63273245e-01, -2.28081822e-01, -1.12391457e-01,\n",
       "         -1.41019940e-01, -2.32266709e-01, -1.37838662e-01,\n",
       "         -8.68977457e-02],\n",
       "        [ 6.97520077e-02, -9.50434357e-02,  1.68718725e-01,\n",
       "         -1.64416909e-01,  1.61605567e-01,  1.80278420e-02,\n",
       "          4.22255397e-02,  5.96317649e-02,  1.00084603e-01,\n",
       "          1.72444224e-01],\n",
       "        [-1.15154982e-01,  2.24481553e-01, -4.06446159e-02,\n",
       "          2.20459610e-01, -7.37944096e-02, -1.15109988e-01,\n",
       "          2.27060616e-01, -1.01711705e-01,  4.15118635e-02,\n",
       "          7.46347606e-02],\n",
       "        [ 7.04029500e-02, -1.98554575e-01,  1.59994155e-01,\n",
       "          2.24520743e-01, -1.62220806e-01,  2.21663058e-01,\n",
       "          2.09440172e-01, -1.00499377e-01,  9.72200036e-02,\n",
       "         -7.15894252e-02],\n",
       "        [ 6.66474998e-02,  1.39669895e-01, -1.66021913e-01,\n",
       "          1.40419275e-01, -5.55330217e-02,  1.68990493e-02,\n",
       "          1.00370377e-01,  1.72845244e-01, -7.62325227e-02,\n",
       "         -1.29409671e-01],\n",
       "        [-7.74630457e-02,  1.60985142e-01, -6.18427545e-02,\n",
       "         -5.80537766e-02, -5.47013432e-02,  1.63722932e-02,\n",
       "         -1.92410618e-01, -1.30996063e-01,  1.03942066e-01,\n",
       "         -2.30666712e-01],\n",
       "        [ 1.28304809e-01,  1.38009518e-01, -1.04945302e-01,\n",
       "          2.13498324e-01, -1.83996022e-01,  1.09707654e-01,\n",
       "          2.98548341e-02, -2.29511410e-02, -2.59517580e-02,\n",
       "         -1.30302101e-01],\n",
       "        [ 6.72467947e-02,  1.81562692e-01,  1.10119432e-01,\n",
       "          2.04427034e-01, -4.38742042e-02,  1.15494967e-01,\n",
       "          1.20999992e-01,  1.21309698e-01, -2.23169953e-01,\n",
       "          1.41208082e-01],\n",
       "        [ 1.14098012e-01, -1.70760050e-01,  1.34063065e-01,\n",
       "         -1.86178669e-01,  1.92374796e-01, -1.88771144e-01,\n",
       "          1.23495221e-01,  3.34284306e-02, -1.64359123e-01,\n",
       "          9.08133388e-03],\n",
       "        [-7.76386112e-02, -1.58868313e-01, -1.06170982e-01,\n",
       "          2.24994391e-01,  8.97169113e-03, -1.58791974e-01,\n",
       "         -1.98058382e-01,  2.26297528e-01, -3.65875810e-02,\n",
       "          1.34358078e-01],\n",
       "        [-7.33568519e-02,  1.15920007e-01, -6.04385436e-02,\n",
       "          1.12678617e-01, -1.21208131e-02,  2.14143991e-02,\n",
       "          6.65844977e-02, -2.24035919e-01, -5.03965765e-02,\n",
       "          2.24665403e-02],\n",
       "        [ 8.98763537e-02,  1.82233632e-01, -1.45987600e-01,\n",
       "          6.46304488e-02, -1.14405490e-01, -1.14730515e-01,\n",
       "          1.63760304e-01, -8.41186196e-02, -7.89122283e-03,\n",
       "         -1.89516395e-01],\n",
       "        [ 2.12589532e-01, -6.05720282e-03,  1.71738297e-01,\n",
       "          1.65584177e-01, -8.35934281e-02,  3.76883149e-02,\n",
       "         -1.68573067e-01,  2.18678981e-01, -1.78992614e-01,\n",
       "          1.15363181e-01],\n",
       "        [-1.57334313e-01, -5.26176989e-02,  2.11624563e-01,\n",
       "         -1.44480765e-01, -3.48701626e-02, -1.05081946e-01,\n",
       "         -1.72555476e-01,  1.04851186e-01, -8.25546682e-02,\n",
       "         -1.90560997e-01],\n",
       "        [-2.02250227e-01, -2.02272713e-01,  2.31675863e-01,\n",
       "         -5.90004325e-02,  1.08460754e-01, -2.22525313e-01,\n",
       "         -1.53402001e-01, -9.32742804e-02, -1.36277437e-01,\n",
       "          1.65534735e-01],\n",
       "        [ 1.51133507e-01,  3.96704674e-03, -1.97967559e-01,\n",
       "          4.18916345e-03,  1.23545408e-01, -1.84360966e-01,\n",
       "          9.03023481e-02,  1.84641123e-01,  8.47982764e-02,\n",
       "         -5.79411238e-02],\n",
       "        [-1.59979343e-01, -1.05301723e-01, -1.08962633e-01,\n",
       "          2.00995147e-01,  1.94943458e-01,  2.04920977e-01,\n",
       "          7.61456490e-02,  7.00876117e-03, -1.56202063e-01,\n",
       "         -2.20444337e-01],\n",
       "        [ 1.36583984e-01,  1.83126599e-01,  7.15352893e-02,\n",
       "          1.47218108e-02, -2.09877968e-01, -2.21496135e-01,\n",
       "          2.10064262e-01,  1.72693402e-01,  1.03519499e-01,\n",
       "          4.88080680e-02],\n",
       "        [ 2.99803317e-02,  2.27658629e-01, -1.36141136e-01,\n",
       "          1.21517211e-01, -1.84836388e-01,  1.34202033e-01,\n",
       "          2.02211976e-01, -1.58314720e-01, -6.16226941e-02,\n",
       "         -2.27338731e-01],\n",
       "        [ 5.56016862e-02,  1.26406193e-01, -1.98583245e-01,\n",
       "          1.23994917e-01, -2.29191244e-01,  2.02711433e-01,\n",
       "         -1.48689762e-01, -2.21771702e-01, -1.15173802e-01,\n",
       "          1.12143606e-01],\n",
       "        [-6.40126914e-02,  1.92728609e-01,  2.00435072e-01,\n",
       "          6.27702475e-02, -9.73120332e-03, -1.56921297e-02,\n",
       "          1.39780670e-01,  3.38264406e-02,  1.18256718e-01,\n",
       "         -1.57959297e-01],\n",
       "        [-8.00983459e-02,  1.88994408e-02,  2.25046009e-01,\n",
       "         -1.23789288e-01, -5.38567454e-02,  7.99272954e-03,\n",
       "         -1.69831321e-01,  1.23932660e-01, -1.65605128e-01,\n",
       "          9.35594738e-03],\n",
       "        [-1.32697344e-01, -1.48819387e-01, -4.42659855e-03,\n",
       "          1.64069444e-01,  8.08206499e-02, -2.04435766e-01,\n",
       "          1.55914903e-01,  1.46201253e-02, -3.60340327e-02,\n",
       "         -1.42838076e-01],\n",
       "        [-1.82949975e-01,  9.06912982e-03,  1.06354117e-01,\n",
       "          1.50492549e-01, -1.21251665e-01, -5.05734235e-02,\n",
       "         -1.61658823e-02,  5.03129959e-02, -1.19046412e-01,\n",
       "         -3.17528248e-02],\n",
       "        [-6.78977370e-03,  1.59765750e-01, -1.05628699e-01,\n",
       "         -4.31467593e-02,  9.01664793e-02,  1.64763421e-01,\n",
       "          1.77012265e-01, -8.38059038e-02,  8.70697200e-03,\n",
       "          1.16222203e-01],\n",
       "        [-1.22381449e-02, -9.23995674e-02, -1.26881003e-01,\n",
       "         -2.29647502e-01, -2.30338588e-01, -9.40222144e-02,\n",
       "         -1.83937445e-01, -2.32275948e-01,  1.54940754e-01,\n",
       "         -2.54532397e-02],\n",
       "        [ 1.18186295e-01, -9.72251296e-02,  1.95665270e-01,\n",
       "          1.20845973e-01, -9.39892530e-02,  1.24789000e-01,\n",
       "         -1.13466293e-01, -1.46330208e-01, -8.93606395e-02,\n",
       "         -4.95753735e-02],\n",
       "        [-2.29024142e-01, -1.63118288e-01,  2.14834541e-01,\n",
       "         -1.02649897e-01,  9.27191377e-02, -5.71587831e-02,\n",
       "          3.91989350e-02,  1.21770024e-01,  1.86116308e-01,\n",
       "         -1.92493647e-02],\n",
       "        [-2.13657916e-02, -1.76027119e-02,  9.57960486e-02,\n",
       "         -2.90810019e-02, -3.82463038e-02, -1.22844130e-02,\n",
       "         -1.50597215e-01, -2.27435127e-01,  1.01569653e-01,\n",
       "          9.65524912e-02],\n",
       "        [-1.52771622e-01,  1.36309862e-01,  1.12883478e-01,\n",
       "          1.57381594e-03,  8.77457857e-02,  1.04416162e-01,\n",
       "          1.85333192e-01, -2.02525184e-01, -2.05481544e-01,\n",
       "          4.86543775e-03],\n",
       "        [-1.06673747e-01,  2.05748200e-01, -1.90367892e-01,\n",
       "         -2.04394177e-01,  1.04398996e-01,  1.90897048e-01,\n",
       "         -1.90333605e-01, -1.05122626e-02,  6.86950982e-03,\n",
       "         -3.79002988e-02],\n",
       "        [-1.28007635e-01, -1.52792007e-01, -2.48007476e-02,\n",
       "         -9.78221595e-02, -1.76923558e-01,  3.72692347e-02,\n",
       "         -1.72567233e-01, -1.14812478e-01, -2.41121650e-03,\n",
       "          1.75092757e-01],\n",
       "        [ 1.94632947e-01,  1.97803080e-01, -1.25961810e-01,\n",
       "         -5.19313067e-02,  1.15124255e-01,  1.79863602e-01,\n",
       "          3.23569179e-02,  5.32512069e-02,  2.15209275e-01,\n",
       "         -9.92463529e-03],\n",
       "        [-7.39515871e-02,  1.14518464e-01, -1.82162061e-01,\n",
       "         -1.49257556e-01, -1.47218406e-01,  1.48600161e-01,\n",
       "          1.15025192e-01,  1.07022583e-01,  2.32204348e-01,\n",
       "          1.25741452e-01],\n",
       "        [ 1.79634690e-02,  5.14968038e-02, -4.16789204e-02,\n",
       "         -1.58455536e-01,  9.28650200e-02, -6.29206449e-02,\n",
       "          7.60689676e-02, -6.08989298e-02, -9.71248448e-02,\n",
       "          1.82933658e-01],\n",
       "        [-2.20067814e-01,  2.44186521e-02,  1.75465465e-01,\n",
       "          1.01255506e-01,  1.65992945e-01, -2.06266835e-01,\n",
       "          1.24248445e-01,  1.63176358e-01, -1.89583555e-01,\n",
       "          1.69341385e-01],\n",
       "        [ 9.63269174e-03, -1.29543915e-01,  1.23422772e-01,\n",
       "         -2.11610585e-01,  2.27949142e-01,  1.39320046e-02,\n",
       "         -1.88563392e-01,  2.16084629e-01, -9.53032970e-02,\n",
       "          1.21938497e-01],\n",
       "        [ 2.22419292e-01, -2.27280110e-01, -1.37571618e-01,\n",
       "         -1.11485608e-01,  2.20494449e-01,  1.83775634e-01,\n",
       "          1.94280446e-01,  8.82335007e-02,  1.84379011e-01,\n",
       "         -3.21680009e-02],\n",
       "        [ 5.34782708e-02, -4.49313223e-03, -2.00333908e-01,\n",
       "          1.68794334e-01, -1.60396069e-01,  9.59863067e-02,\n",
       "         -4.97590154e-02, -2.31813386e-01,  1.81905478e-01,\n",
       "          1.39644146e-02],\n",
       "        [-1.98197424e-01, -1.57587111e-01,  2.05089092e-01,\n",
       "         -2.12777570e-01, -2.15667605e-01, -3.13007832e-03,\n",
       "          2.10266024e-01,  1.12349093e-01,  2.28634417e-01,\n",
       "          8.62635672e-02],\n",
       "        [ 1.20827258e-02,  6.36011064e-02, -1.01942733e-01,\n",
       "          1.64608896e-01, -1.41104341e-01, -6.83747083e-02,\n",
       "          1.65011168e-01, -7.48557746e-02,  6.33273721e-02,\n",
       "         -2.26298973e-01],\n",
       "        [ 1.97546482e-01, -1.47862822e-01, -3.89470756e-02,\n",
       "         -1.71579719e-02,  2.04668641e-01,  1.24476582e-01,\n",
       "         -2.23477185e-03, -1.68777257e-02,  2.20270067e-01,\n",
       "         -1.55967146e-01],\n",
       "        [ 2.06345558e-01, -3.29378694e-02, -7.86485374e-02,\n",
       "          1.61130190e-01,  4.85648513e-02, -1.55010819e-02,\n",
       "          4.50036526e-02, -1.30114377e-01,  2.20913529e-01,\n",
       "         -1.64725453e-01],\n",
       "        [-1.74390391e-01,  1.08691633e-01,  5.51582277e-02,\n",
       "          1.71807379e-01,  9.81269181e-02,  1.03501797e-01,\n",
       "         -1.17401272e-01, -2.04713851e-01,  2.03241497e-01,\n",
       "         -9.84635204e-02],\n",
       "        [ 5.66725731e-02,  7.81840384e-02,  1.72355294e-01,\n",
       "         -8.60888362e-02, -1.15554005e-01,  1.75372064e-01,\n",
       "          9.54773724e-02, -1.74259692e-02,  5.50190806e-02,\n",
       "          5.98082840e-02],\n",
       "        [ 1.54932946e-01, -2.29968235e-01,  1.72672272e-02,\n",
       "          1.92692816e-01,  1.20570838e-01, -1.99028432e-01,\n",
       "          1.28006637e-01,  1.25402212e-02, -1.28428593e-01,\n",
       "          2.32012630e-01],\n",
       "        [ 1.17580116e-01, -2.18156904e-01, -1.05495840e-01,\n",
       "          2.27992386e-01,  6.07733130e-02, -1.45712689e-01,\n",
       "          1.42244905e-01, -1.94075972e-01, -6.94532245e-02,\n",
       "          9.54037607e-02],\n",
       "        [ 1.03546709e-01, -1.60571098e-01,  4.61646616e-02,\n",
       "          1.47028029e-01, -3.97752225e-03,  1.64422661e-01,\n",
       "          8.07386935e-02,  1.59814149e-01, -8.31336528e-02,\n",
       "          1.61380768e-01],\n",
       "        [ 1.00336283e-01,  1.60181582e-01,  1.81783140e-01,\n",
       "         -5.10749668e-02,  2.23640859e-01, -1.37570843e-01,\n",
       "         -1.51677638e-01, -1.43778324e-01,  4.71180379e-02,\n",
       "          3.04028988e-02],\n",
       "        [-6.86884224e-02,  1.03267848e-01,  1.83654964e-01,\n",
       "         -4.05759513e-02,  1.65649563e-01,  1.67011321e-01,\n",
       "         -1.02119803e-01,  1.47277653e-01, -8.14658403e-03,\n",
       "         -1.17599331e-01],\n",
       "        [-1.45173371e-02,  5.75632155e-02,  3.17652524e-03,\n",
       "         -2.06156746e-01, -8.22594911e-02,  1.81865782e-01,\n",
       "         -2.56875455e-02, -5.95495105e-02,  1.73438102e-01,\n",
       "         -2.47072577e-02],\n",
       "        [-1.20147467e-02,  9.84458029e-02,  1.93853170e-01,\n",
       "         -3.35679650e-02, -2.24536672e-01, -4.68051583e-02,\n",
       "          3.70922387e-02, -2.07732171e-02, -1.69489771e-01,\n",
       "         -2.33076945e-01],\n",
       "        [-1.35425225e-01,  4.42754924e-02,  1.19430304e-01,\n",
       "         -1.38783887e-01,  8.31792653e-02, -3.62772644e-02,\n",
       "         -1.55882165e-01, -2.12627456e-01,  2.12454289e-01,\n",
       "         -4.14194167e-03],\n",
       "        [ 1.99307024e-01, -4.88158613e-02, -1.62934646e-01,\n",
       "          1.53402358e-01,  1.91912472e-01,  1.84740424e-02,\n",
       "          2.72079110e-02,  2.12294966e-01, -6.38009906e-02,\n",
       "         -1.52884990e-01],\n",
       "        [-1.12351254e-01,  2.38190591e-02,  8.07097852e-02,\n",
       "         -2.15122640e-01,  1.68530643e-02, -6.96092844e-04,\n",
       "          4.54995632e-02,  4.46618199e-02, -1.64788365e-01,\n",
       "         -6.25085980e-02],\n",
       "        [ 8.84169936e-02,  1.15799993e-01, -2.05313414e-02,\n",
       "         -9.06628221e-02,  2.14785218e-01, -1.09307170e-02,\n",
       "          1.52545333e-01, -1.45907253e-01, -1.77417457e-01,\n",
       "          1.83422655e-01],\n",
       "        [ 1.09315932e-01,  1.85477465e-01, -1.75436720e-01,\n",
       "         -1.31138265e-01, -1.79222748e-01, -1.19144022e-01,\n",
       "         -1.52011663e-01, -7.78755993e-02,  7.66125619e-02,\n",
       "          9.74447429e-02],\n",
       "        [ 1.06809437e-01, -2.11392522e-01, -1.38533264e-02,\n",
       "         -2.13344753e-01,  1.21528417e-01,  3.79843116e-02,\n",
       "         -8.06846172e-02, -1.75937757e-01,  1.88152850e-01,\n",
       "          4.38014269e-02],\n",
       "        [-1.71395898e-01,  1.68556958e-01, -4.26438451e-02,\n",
       "         -7.50894099e-02, -5.22150695e-02, -1.22875147e-01,\n",
       "          2.47775316e-02,  2.03014135e-01, -1.31009638e-01,\n",
       "          7.76542723e-02],\n",
       "        [ 1.25911236e-01, -1.68745518e-01,  7.77631104e-02,\n",
       "          1.49952710e-01,  2.14713931e-01, -6.26694709e-02,\n",
       "          1.33042336e-02, -1.79766327e-01,  3.54926884e-02,\n",
       "          8.59496891e-02],\n",
       "        [ 2.98291445e-04, -8.85649920e-02, -7.02066571e-02,\n",
       "          2.11620212e-01, -1.60066217e-01,  2.71098018e-02,\n",
       "         -1.13556609e-01,  5.95874786e-02,  1.26278788e-01,\n",
       "         -9.39100683e-02],\n",
       "        [ 2.13241309e-01, -3.16332281e-03, -1.24782108e-01,\n",
       "          2.26651013e-01,  3.69248390e-02,  2.01323837e-01,\n",
       "         -3.05964649e-02, -1.46956891e-02,  1.65956378e-01,\n",
       "          7.85040855e-03],\n",
       "        [-1.02934241e-03,  1.22466594e-01, -8.43262672e-02,\n",
       "         -9.48029459e-02,  1.36785060e-01,  1.76928282e-01,\n",
       "          2.20880240e-01, -1.33699507e-01, -1.66642934e-01,\n",
       "         -1.34719387e-01],\n",
       "        [-1.52168423e-01, -1.13214388e-01, -3.11686099e-02,\n",
       "          3.01852822e-04, -2.01035291e-02, -1.72777995e-01,\n",
       "          4.03077304e-02,  4.36216295e-02, -1.67631537e-01,\n",
       "         -8.50722194e-04],\n",
       "        [-2.06246346e-01,  4.58715260e-02,  5.52169681e-02,\n",
       "         -2.29872957e-01, -7.17772394e-02, -1.63123846e-01,\n",
       "         -7.07512349e-02, -7.78158605e-02, -1.84555471e-01,\n",
       "          1.79047406e-01],\n",
       "        [ 1.37044251e-01,  2.05158532e-01, -1.86562046e-01,\n",
       "         -1.50152266e-01,  2.76906788e-02, -2.25477874e-01,\n",
       "          1.81910932e-01,  1.02542937e-01,  1.67776048e-02,\n",
       "          1.04227841e-01],\n",
       "        [-2.30004638e-02, -1.23467557e-01,  2.55169272e-02,\n",
       "          3.65462601e-02, -1.35874450e-02,  2.24786520e-01,\n",
       "         -3.63153517e-02, -9.50519592e-02, -7.11271465e-02,\n",
       "         -1.46063328e-01],\n",
       "        [ 1.30233109e-01, -1.97973192e-01, -1.79558679e-01,\n",
       "         -1.04758874e-01,  9.20314491e-02, -6.71916753e-02,\n",
       "          1.73817694e-01,  3.42195630e-02,  6.75299466e-02,\n",
       "         -2.21327797e-01],\n",
       "        [ 5.55403829e-02, -1.85569391e-01, -1.36656374e-01,\n",
       "         -2.02322453e-01,  3.65720987e-02,  5.73483407e-02,\n",
       "          1.61517799e-01, -3.14037502e-02,  1.57281965e-01,\n",
       "          7.62447715e-02],\n",
       "        [-1.18452892e-01, -1.58027947e-01, -9.46599543e-02,\n",
       "         -1.33134440e-01,  6.58636391e-02, -2.07648590e-01,\n",
       "         -6.90684021e-02,  7.05162585e-02, -2.10588858e-01,\n",
       "          1.61821097e-01],\n",
       "        [ 1.33641273e-01,  2.23074615e-01,  1.80242807e-01,\n",
       "         -2.21757337e-01, -1.21412091e-01,  1.20582074e-01,\n",
       "          2.42396891e-02, -1.71107739e-01,  2.21749753e-01,\n",
       "          1.36658400e-02],\n",
       "        [-8.29675794e-03, -1.39632821e-01,  9.40905809e-02,\n",
       "         -1.26465708e-02, -3.21115404e-02,  2.06929386e-01,\n",
       "          1.83124661e-01,  7.55992532e-02, -3.92375141e-02,\n",
       "          1.48337692e-01],\n",
       "        [ 1.84018642e-01, -1.21391930e-01,  8.79099965e-03,\n",
       "         -1.59854144e-02, -1.72730103e-01, -8.08507800e-02,\n",
       "         -3.01638246e-03,  1.47957027e-01, -1.26963973e-01,\n",
       "         -1.30567759e-01],\n",
       "        [ 5.07123768e-03,  1.53275728e-01,  1.08670294e-01,\n",
       "          2.07906127e-01,  2.10444748e-01,  2.23341733e-01,\n",
       "         -1.32666871e-01, -1.76582783e-02,  1.12440467e-01,\n",
       "          1.44430667e-01],\n",
       "        [-7.96206445e-02, -1.85182571e-01, -1.87699199e-01,\n",
       "          2.01427281e-01, -1.83465257e-01,  6.84359968e-02,\n",
       "          1.53514594e-02,  6.12733960e-02, -2.15887055e-01,\n",
       "         -2.14002594e-01],\n",
       "        [ 6.08861446e-03,  7.46029615e-02, -2.14116633e-01,\n",
       "         -6.51534051e-02, -2.04089090e-01,  2.96843350e-02,\n",
       "         -1.79048359e-01, -2.32513323e-01,  9.99045372e-02,\n",
       "          1.86315656e-01],\n",
       "        [ 9.77712572e-02, -8.43258649e-02,  1.65671110e-01,\n",
       "          1.78312957e-02, -4.80339080e-02, -4.52436656e-02,\n",
       "         -4.92858738e-02, -1.75362825e-01,  2.19970703e-01,\n",
       "         -9.69766229e-02],\n",
       "        [-1.83180273e-01,  1.61311567e-01, -1.88283920e-02,\n",
       "         -7.66480267e-02,  1.54235631e-01,  8.88396800e-02,\n",
       "          1.83322310e-01,  4.57817614e-02, -1.83534697e-01,\n",
       "         -2.18211144e-01],\n",
       "        [-1.96451113e-01, -1.37910604e-01,  9.72661674e-02,\n",
       "          1.12990826e-01,  1.91394448e-01, -2.10945114e-01,\n",
       "          2.08292663e-01, -1.40663683e-02,  2.09851623e-01,\n",
       "         -1.53617114e-02],\n",
       "        [-7.30964243e-02, -7.95348883e-02, -1.85067296e-01,\n",
       "         -4.74887192e-02,  1.08613044e-01,  7.16565251e-02,\n",
       "          1.13197237e-01, -1.24343939e-01,  1.66292310e-01,\n",
       "          5.92590868e-03],\n",
       "        [-1.33666039e-01, -1.44195676e-01,  1.44896120e-01,\n",
       "         -1.70683324e-01, -4.51530516e-03,  1.23240858e-01,\n",
       "         -7.48141110e-02,  1.27884030e-01, -1.15489468e-01,\n",
       "          1.89972371e-01],\n",
       "        [-1.11877225e-01, -1.01321086e-01, -1.08849265e-01,\n",
       "         -2.26731747e-01,  1.25295728e-01, -2.21129015e-01,\n",
       "          1.02898240e-01,  1.42487288e-01, -1.87646851e-01,\n",
       "          6.45429492e-02],\n",
       "        [-2.28659645e-01, -2.31966570e-01,  1.53672695e-01,\n",
       "          5.84289134e-02, -1.49232954e-01, -1.39541507e-01,\n",
       "          1.44520640e-01,  6.30392432e-02, -2.29948863e-01,\n",
       "         -7.39489198e-02],\n",
       "        [-1.63182318e-01,  2.95143723e-02,  1.18175536e-01,\n",
       "          2.01051980e-01, -1.02989003e-01, -5.49537539e-02,\n",
       "         -1.48413509e-01,  1.14747226e-01,  9.52429473e-02,\n",
       "          2.08325416e-01],\n",
       "        [-1.85214132e-01, -1.74965039e-01, -9.69353020e-02,\n",
       "         -8.47801268e-02,  2.16396332e-01,  7.15995729e-02,\n",
       "         -7.36539662e-02,  2.11941004e-01,  2.07314879e-01,\n",
       "          1.43894106e-01],\n",
       "        [ 2.26906240e-01, -8.68909508e-02, -2.07849771e-01,\n",
       "         -1.06416881e-01,  1.44650996e-01, -2.25620538e-01,\n",
       "          2.26754248e-01,  3.26814353e-02,  1.89087421e-01,\n",
       "          7.22973645e-02],\n",
       "        [ 2.29245991e-01, -1.73364162e-01, -7.55612701e-02,\n",
       "         -1.11286268e-01,  1.62979364e-01,  1.42888755e-01,\n",
       "          7.62591958e-02, -1.98772967e-01,  3.55267227e-02,\n",
       "          1.50603414e-01],\n",
       "        [-8.88827741e-02,  1.05273396e-01,  6.83099031e-02,\n",
       "         -1.81523502e-01,  1.70712680e-01, -2.32173935e-01,\n",
       "          6.38642907e-02,  3.05545926e-02, -7.57752508e-02,\n",
       "         -1.52139246e-01],\n",
       "        [ 6.30880892e-02,  4.09360528e-02, -9.51270163e-02,\n",
       "         -1.45960256e-01, -6.40857518e-02,  2.26387113e-01,\n",
       "          7.10569918e-02, -1.89370453e-01, -1.79131716e-01,\n",
       "         -2.23060310e-01],\n",
       "        [ 2.00704694e-01, -2.06706166e-01, -4.70058471e-02,\n",
       "          9.25562084e-02,  5.31461835e-03, -1.91906512e-01,\n",
       "          1.61621600e-01, -1.96298957e-02,  9.27776396e-02,\n",
       "          1.35758162e-01],\n",
       "        [-2.52295583e-02, -1.84686050e-01, -4.43985611e-02,\n",
       "         -1.15111105e-01, -8.24158490e-02,  2.33482867e-01,\n",
       "          7.15331733e-03,  1.77134037e-01,  1.59544647e-01,\n",
       "         -8.93774480e-02],\n",
       "        [-1.58221126e-01, -1.63980037e-01, -1.34803653e-02,\n",
       "         -1.90093711e-01,  7.83702731e-02,  1.09366506e-01,\n",
       "          8.02487433e-02,  1.09277725e-01,  1.42122895e-01,\n",
       "         -2.09578112e-01],\n",
       "        [ 5.62557876e-02, -8.62882435e-02, -2.24582285e-01,\n",
       "          2.06661671e-01,  1.21629596e-01, -6.61594272e-02,\n",
       "         -8.76409858e-02,  3.05696130e-02,  1.28125072e-01,\n",
       "         -2.22652048e-01],\n",
       "        [-2.15828419e-04, -1.80158496e-01,  2.17822492e-02,\n",
       "         -2.02350572e-01,  1.14800721e-01,  1.48827463e-01,\n",
       "         -2.28272751e-01, -7.96601772e-02, -1.86032236e-01,\n",
       "          1.11028016e-01]], dtype=float32)>,\n",
       " <tf.Variable 'dense_14/bias:0' shape=(10,) dtype=float32, numpy=array([0., 0., 0., 0., 0., 0., 0., 0., 0., 0.], dtype=float32)>]"
      ]
     },
     "execution_count": 32,
     "metadata": {},
     "output_type": "execute_result"
    }
   ],
   "source": [
    "# 模型中自己训练的参数\n",
    "model.variables"
   ]
  },
  {
   "cell_type": "code",
   "execution_count": 33,
   "id": "d7f5f9c6",
   "metadata": {},
   "outputs": [
    {
     "data": {
      "text/plain": [
       "0.07439786"
      ]
     },
     "execution_count": 33,
     "metadata": {},
     "output_type": "execute_result"
    }
   ],
   "source": [
    "model.variables[0].numpy().max()"
   ]
  },
  {
   "cell_type": "code",
   "execution_count": 34,
   "id": "66718391",
   "metadata": {},
   "outputs": [
    {
     "name": "stdout",
     "output_type": "stream",
     "text": [
      "Epoch 1/20\n",
      "1719/1719 [==============================] - 5s 2ms/step - loss: 3.0486 - accuracy: 0.7178 - val_loss: 0.6676 - val_accuracy: 0.7738\n",
      "Epoch 2/20\n",
      "1719/1719 [==============================] - 4s 2ms/step - loss: 0.5742 - accuracy: 0.7986 - val_loss: 0.6004 - val_accuracy: 0.7952\n",
      "Epoch 3/20\n",
      "1719/1719 [==============================] - 4s 2ms/step - loss: 0.5066 - accuracy: 0.8185 - val_loss: 0.5646 - val_accuracy: 0.8048\n",
      "Epoch 4/20\n",
      "1719/1719 [==============================] - 4s 2ms/step - loss: 0.4697 - accuracy: 0.8295 - val_loss: 0.5053 - val_accuracy: 0.8270\n",
      "Epoch 5/20\n",
      "1719/1719 [==============================] - 4s 2ms/step - loss: 0.4439 - accuracy: 0.8356 - val_loss: 0.5281 - val_accuracy: 0.8204\n",
      "Epoch 6/20\n",
      "1719/1719 [==============================] - 4s 3ms/step - loss: 0.4252 - accuracy: 0.8423 - val_loss: 0.4921 - val_accuracy: 0.8380\n",
      "Epoch 7/20\n",
      "1719/1719 [==============================] - 4s 3ms/step - loss: 0.4125 - accuracy: 0.8473 - val_loss: 0.4787 - val_accuracy: 0.8432\n",
      "Epoch 8/20\n",
      "1719/1719 [==============================] - 4s 2ms/step - loss: 0.3986 - accuracy: 0.8520 - val_loss: 0.5030 - val_accuracy: 0.8332\n",
      "Epoch 9/20\n",
      "1719/1719 [==============================] - 4s 3ms/step - loss: 0.3908 - accuracy: 0.8549 - val_loss: 0.4713 - val_accuracy: 0.8452\n",
      "Epoch 10/20\n",
      "1719/1719 [==============================] - 4s 2ms/step - loss: 0.3806 - accuracy: 0.8585 - val_loss: 0.4842 - val_accuracy: 0.8446\n",
      "Epoch 11/20\n",
      "1719/1719 [==============================] - 4s 3ms/step - loss: 0.3738 - accuracy: 0.8593 - val_loss: 0.4862 - val_accuracy: 0.8414\n",
      "Epoch 12/20\n",
      "1719/1719 [==============================] - 4s 3ms/step - loss: 0.3658 - accuracy: 0.8624 - val_loss: 0.4766 - val_accuracy: 0.8486\n",
      "Epoch 13/20\n",
      "1719/1719 [==============================] - 4s 2ms/step - loss: 0.3616 - accuracy: 0.8657 - val_loss: 0.4621 - val_accuracy: 0.8556\n",
      "Epoch 14/20\n",
      "1719/1719 [==============================] - 4s 2ms/step - loss: 0.3546 - accuracy: 0.8668 - val_loss: 0.4625 - val_accuracy: 0.8532\n",
      "Epoch 15/20\n",
      "1719/1719 [==============================] - 4s 2ms/step - loss: 0.3496 - accuracy: 0.8691 - val_loss: 0.4640 - val_accuracy: 0.8520\n",
      "Epoch 16/20\n",
      "1719/1719 [==============================] - 4s 2ms/step - loss: 0.3440 - accuracy: 0.8713 - val_loss: 0.4662 - val_accuracy: 0.8516\n",
      "Epoch 17/20\n",
      "1719/1719 [==============================] - 4s 2ms/step - loss: 0.3390 - accuracy: 0.8720 - val_loss: 0.4663 - val_accuracy: 0.8488\n",
      "Epoch 18/20\n",
      "1719/1719 [==============================] - 4s 2ms/step - loss: 0.3355 - accuracy: 0.8745 - val_loss: 0.4482 - val_accuracy: 0.8614\n",
      "Epoch 19/20\n",
      "1719/1719 [==============================] - 4s 2ms/step - loss: 0.3308 - accuracy: 0.8773 - val_loss: 0.4545 - val_accuracy: 0.8546\n",
      "Epoch 20/20\n",
      "1719/1719 [==============================] - 4s 2ms/step - loss: 0.3256 - accuracy: 0.8776 - val_loss: 0.4564 - val_accuracy: 0.8572\n"
     ]
    }
   ],
   "source": [
    "# 训练\n",
    "history = model.fit(x_train, y_train, epochs=20, validation_data=(x_valid, y_valid))"
   ]
  },
  {
   "cell_type": "code",
   "execution_count": 35,
   "id": "26cb5691",
   "metadata": {},
   "outputs": [
    {
     "data": {
      "text/plain": [
       "keras.callbacks.History"
      ]
     },
     "execution_count": 35,
     "metadata": {},
     "output_type": "execute_result"
    }
   ],
   "source": [
    "type(history)"
   ]
  },
  {
   "cell_type": "code",
   "execution_count": 36,
   "id": "62ef2245",
   "metadata": {},
   "outputs": [
    {
     "data": {
      "text/plain": [
       "{'loss': [3.0486373901367188,\n",
       "  0.5741677284240723,\n",
       "  0.5065876841545105,\n",
       "  0.4697172939777374,\n",
       "  0.44386354088783264,\n",
       "  0.4251674711704254,\n",
       "  0.41248786449432373,\n",
       "  0.39861756563186646,\n",
       "  0.39080142974853516,\n",
       "  0.38060998916625977,\n",
       "  0.37383225560188293,\n",
       "  0.36578643321990967,\n",
       "  0.36157530546188354,\n",
       "  0.35460036993026733,\n",
       "  0.34959739446640015,\n",
       "  0.344049870967865,\n",
       "  0.3389741778373718,\n",
       "  0.33553546667099,\n",
       "  0.33079102635383606,\n",
       "  0.3256438970565796],\n",
       " 'accuracy': [0.7178000211715698,\n",
       "  0.7986181974411011,\n",
       "  0.8185272812843323,\n",
       "  0.8295272588729858,\n",
       "  0.8356363773345947,\n",
       "  0.8422909379005432,\n",
       "  0.8473454713821411,\n",
       "  0.8519636392593384,\n",
       "  0.8549273014068604,\n",
       "  0.8585454821586609,\n",
       "  0.8592545390129089,\n",
       "  0.8624363541603088,\n",
       "  0.8656908869743347,\n",
       "  0.8667818307876587,\n",
       "  0.8690545558929443,\n",
       "  0.8713454604148865,\n",
       "  0.871963620185852,\n",
       "  0.8745272755622864,\n",
       "  0.8773454427719116,\n",
       "  0.8776181936264038],\n",
       " 'val_loss': [0.6676291823387146,\n",
       "  0.6004212498664856,\n",
       "  0.5646458268165588,\n",
       "  0.5053224563598633,\n",
       "  0.5280505418777466,\n",
       "  0.49207621812820435,\n",
       "  0.47873353958129883,\n",
       "  0.5029542446136475,\n",
       "  0.47134390473365784,\n",
       "  0.4842299222946167,\n",
       "  0.48619818687438965,\n",
       "  0.476642906665802,\n",
       "  0.4620725214481354,\n",
       "  0.46247398853302,\n",
       "  0.46396318078041077,\n",
       "  0.46615296602249146,\n",
       "  0.46626773476600647,\n",
       "  0.44824305176734924,\n",
       "  0.4544927775859833,\n",
       "  0.45640742778778076],\n",
       " 'val_accuracy': [0.7738000154495239,\n",
       "  0.795199990272522,\n",
       "  0.8047999739646912,\n",
       "  0.8270000219345093,\n",
       "  0.8203999996185303,\n",
       "  0.8379999995231628,\n",
       "  0.8432000279426575,\n",
       "  0.8331999778747559,\n",
       "  0.8452000021934509,\n",
       "  0.8446000218391418,\n",
       "  0.8414000272750854,\n",
       "  0.8485999703407288,\n",
       "  0.8555999994277954,\n",
       "  0.8532000184059143,\n",
       "  0.8519999980926514,\n",
       "  0.8515999913215637,\n",
       "  0.848800003528595,\n",
       "  0.8614000082015991,\n",
       "  0.8546000123023987,\n",
       "  0.857200026512146]}"
      ]
     },
     "execution_count": 36,
     "metadata": {},
     "output_type": "execute_result"
    }
   ],
   "source": [
    "history.history"
   ]
  },
  {
   "cell_type": "code",
   "execution_count": 37,
   "id": "47004ad0",
   "metadata": {},
   "outputs": [
    {
     "data": {
      "image/png": "[encoded data removed]",
      "text/plain": [
       "<Figure size 576x360 with 1 Axes>"
      ]
     },
     "metadata": {
      "needs_background": "light"
     },
     "output_type": "display_data"
    }
   ],
   "source": [
    "# 绘图\n",
    "def plot_learning_curves(history):\n",
    "    pd.DataFrame(history.history).plot(figsize=(8, 5))  # 使用df中的折线图绘制\n",
    "    plt.grid(True)  # 网格线\n",
    "    plt.gca().set_ylim(0, 3)  # 纵坐标的刻度范围，注意损失不一定在0-1之间\n",
    "    plt.show()\n",
    "\n",
    "plot_learning_curves(history)  # 横坐标是epochs"
   ]
  },
  {
   "cell_type": "code",
   "execution_count": 38,
   "id": "f6bf8ff1",
   "metadata": {},
   "outputs": [
    {
     "data": {
      "image/png": "[encoded data removed]",
      "text/plain": [
       "<Figure size 576x360 with 1 Axes>"
      ]
     },
     "metadata": {
      "needs_background": "light"
     },
     "output_type": "display_data"
    }
   ],
   "source": [
    "# 绘图，缩小纵坐标范围，利于观察\n",
    "def plot_learning_curves(history):\n",
    "    pd.DataFrame(history.history).plot(figsize=(8, 5))  # 使用df中的折线图绘制\n",
    "    plt.grid(True)  # 网格线\n",
    "    plt.gca().set_ylim(0, 1)  # 纵坐标的刻度范围，注意损失不一定在0-1之间\n",
    "    plt.show()\n",
    "\n",
    "plot_learning_curves(history)  # 横坐标是epochs"
   ]
  },
  {
   "cell_type": "code",
   "execution_count": 39,
   "id": "361c968a",
   "metadata": {},
   "outputs": [
    {
     "data": {
      "text/plain": [
       "[0.4575308561325073, 0.8414999842643738]"
      ]
     },
     "execution_count": 39,
     "metadata": {},
     "output_type": "execute_result"
    }
   ],
   "source": [
    "# 在测试集上评估，一个是测试集的损失，一个是测试集的准确率\n",
    "model.evaluate(x_test, y_test, verbose=0)"
   ]
  },
  {
   "cell_type": "markdown",
   "id": "fa69b86b",
   "metadata": {},
   "source": [
    "# 一些计算"
   ]
  },
  {
   "cell_type": "code",
   "execution_count": 41,
   "id": "74c12beb",
   "metadata": {},
   "outputs": [
    {
     "name": "stdout",
     "output_type": "stream",
     "text": [
      "Loss:  0.09458992\n"
     ]
    }
   ],
   "source": [
    "# 理解交叉熵\n",
    "# 计算标签和预测之间的crossentropy（交叉熵）损失\n",
    "cce = keras.losses.SparseCategoricalCrossentropy()\n",
    "loss = cce(\n",
    "  [0, 1, 2],\n",
    "  [[.9, .05, .05], [.05, .89, .06], [.05, .01, .94]])\n",
    "print('Loss: ', loss.numpy())"
   ]
  },
  {
   "cell_type": "code",
   "execution_count": 42,
   "id": "0ff6da49",
   "metadata": {},
   "outputs": [
    {
     "name": "stdout",
     "output_type": "stream",
     "text": [
      "[0.9, 0.05, 0.05]\n",
      "0.10536051565782628\n",
      "[0.05, 0.89, 0.6]\n",
      "0.11653381625595151\n",
      "[0.05, 0.01, 0.94]\n",
      "0.06187540371808753\n"
     ]
    }
   ],
   "source": [
    "# 理解交叉熵\n",
    "#   [0, 1, 2],\n",
    "#   [[.9, .05, .05], [.5, .89, .6], [.05, .01, .94]]\n",
    "input1=[[.9, .05, .05], [.05, .89, .6], [.05, .01, .94]]\n",
    "total=0.0\n",
    "i=input1[0]\n",
    "print(i)\n",
    "print(-(1*np.log(i[0])+0*np.log(i[1])+0*np.log(i[2])))\n",
    "i=input1[1]\n",
    "print(i)\n",
    "print(-(0*np.log(i[0])+1*np.log(i[1])+0*np.log(i[2])))\n",
    "i=input1[2]\n",
    "print(i)\n",
    "print(-(0*np.log(i[0])+0*np.log(i[1])+1*np.log(i[2])))"
   ]
  },
  {
   "cell_type": "code",
   "execution_count": 43,
   "id": "32871ee5",
   "metadata": {},
   "outputs": [
    {
     "data": {
      "text/plain": [
       "0.09458991187728844"
      ]
     },
     "execution_count": 43,
     "metadata": {},
     "output_type": "execute_result"
    }
   ],
   "source": [
    "# 理解交叉熵\n",
    "(0.10536051565782628+0.11653381625595151+0.06187540371808753)/3"
   ]
  },
  {
   "cell_type": "code",
   "execution_count": 44,
   "id": "b2e251bc",
   "metadata": {},
   "outputs": [
    {
     "data": {
      "text/plain": [
       "array([0.02364054, 0.06426166, 0.1746813 , 0.474833  , 0.02364054,\n",
       "       0.06426166, 0.1746813 ])"
      ]
     },
     "execution_count": 44,
     "metadata": {},
     "output_type": "execute_result"
    }
   ],
   "source": [
    "# 计算softmax\n",
    "z = np.array([1.0, 2.0, 3.0, 4.0, 1.0, 2.0, 3.0])\n",
    "m = np.exp(z)/sum(np.exp(z))\n",
    "m"
   ]
  }
 ],
 "metadata": {
  "kernelspec": {
   "display_name": "Python 3 (ipykernel)",
   "language": "python",
   "name": "python3"
  },
  "language_info": {
   "codemirror_mode": {
    "name": "ipython",
    "version": 3
   },
   "file_extension": ".py",
   "mimetype": "text/x-python",
   "name": "python",
   "nbconvert_exporter": "python",
   "pygments_lexer": "ipython3",
   "version": "3.8.10"
  }
 },
 "nbformat": 4,
 "nbformat_minor": 5
}
