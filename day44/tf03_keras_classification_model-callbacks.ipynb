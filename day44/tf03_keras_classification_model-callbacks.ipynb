{
 "cells": [
  {
   "cell_type": "code",
   "execution_count": 2,
   "id": "8a9f5da0",
   "metadata": {},
   "outputs": [
    {
     "name": "stdout",
     "output_type": "stream",
     "text": [
      "2.9.1\n",
      "sys.version_info(major=3, minor=8, micro=10, releaselevel='final', serial=0)\n",
      "matplotlib 3.5.2\n",
      "numpy 1.23.1\n",
      "pandas 1.4.3\n",
      "sklearn 1.1.1\n",
      "tensorflow 2.9.1\n",
      "keras.api._v2.keras 2.9.0\n"
     ]
    }
   ],
   "source": [
    "import matplotlib as mpl\n",
    "import matplotlib.pyplot as plt\n",
    "%matplotlib inline\n",
    "import numpy as np\n",
    "import sklearn\n",
    "import pandas as pd\n",
    "import os\n",
    "import sys\n",
    "import time\n",
    "import tensorflow as tf\n",
    "from tensorflow import keras\n",
    "\n",
    "print(tf.__version__)\n",
    "print(sys.version_info)\n",
    "for module in mpl, np, pd, sklearn, tf, keras:\n",
    "    print(module.__name__, module.__version__)"
   ]
  },
  {
   "cell_type": "code",
   "execution_count": 3,
   "id": "149b87a0",
   "metadata": {},
   "outputs": [
    {
     "name": "stdout",
     "output_type": "stream",
     "text": [
      "chapter_2\r\n",
      "tf01_keras_classification_model.ipynb\r\n",
      "tf02_keras_classification_model-normalize.ipynb\r\n",
      "tf03_keras_classification_model-callbacks.ipynb\r\n",
      "tf2.ipynb\r\n"
     ]
    }
   ],
   "source": [
    "# 使用Linux命令\n",
    "!ls"
   ]
  },
  {
   "cell_type": "code",
   "execution_count": 4,
   "id": "40a538e4",
   "metadata": {},
   "outputs": [
    {
     "name": "stdout",
     "output_type": "stream",
     "text": [
      "/home/yf/py_warehouse/day44\r\n"
     ]
    }
   ],
   "source": [
    "!pwd"
   ]
  },
  {
   "cell_type": "code",
   "execution_count": 5,
   "id": "caef196c",
   "metadata": {},
   "outputs": [
    {
     "name": "stdout",
     "output_type": "stream",
     "text": [
      "(5000, 28, 28) (5000,)\n",
      "(55000, 28, 28) (55000,)\n",
      "(10000, 28, 28) (10000,)\n"
     ]
    }
   ],
   "source": [
    "fashion_mnist = keras.datasets.fashion_mnist\n",
    "(x_train_all, y_train_all), (x_test, y_test) = fashion_mnist.load_data()\n",
    "x_valid, x_train = x_train_all[:5000], x_train_all[5000:]\n",
    "y_valid, y_train = y_train_all[:5000], y_train_all[5000:]\n",
    "\n",
    "print(x_valid.shape, y_valid.shape)\n",
    "print(x_train.shape, y_train.shape)\n",
    "print(x_test.shape, y_test.shape)"
   ]
  },
  {
   "cell_type": "code",
   "execution_count": 6,
   "id": "596ad7ff",
   "metadata": {},
   "outputs": [],
   "source": [
    "# 通过原有sklearn的标准化进行处理\n",
    "from sklearn.preprocessing import StandardScaler\n",
    "\n",
    "scaler = StandardScaler()\n",
    "# x_train: [None, 28, 28] -> [None, 784] -> [None, 28, 28]\n",
    "# 先reshape变为二维（相当于1列）的目的是对每一个像素点进行标准化（让其等价）\n",
    "x_train_scaled = scaler.fit_transform(\n",
    "    x_train.reshape(-1, 1)).reshape(-1, 28, 28)\n",
    "# 这个是验证集，验证集用的也是训练集的均值和方差\n",
    "x_valid_scaled = scaler.transform(\n",
    "    x_valid.reshape(-1, 1)).reshape(-1, 28, 28)\n",
    "# 这个是测试集\n",
    "x_test_scaled = scaler.transform(\n",
    "    x_test.reshape(-1, 1)).reshape(-1, 28, 28)"
   ]
  },
  {
   "cell_type": "code",
   "execution_count": 8,
   "id": "092db2ad",
   "metadata": {},
   "outputs": [],
   "source": [
    "# tf.keras.models.Sequential()\n",
    "\n",
    "model = keras.Sequential([\n",
    "    keras.layers.Flatten(input_shape=[28, 28]),\n",
    "    keras.layers.Dense(300, activation = 'relu'),\n",
    "    keras.layers.Dense(100, activation='relu'),\n",
    "    keras.layers.Dense(10, activation='softmax')\n",
    "])\n",
    "\n",
    "\"\"\"\n",
    "与上面的代码等价\n",
    "model = keras.models.Sequential()\n",
    "model.add(keras.layers.Flatten(input_shape=[28, 28]))\n",
    "model.add(keras.layers.Dense(300, activation=\"relu\"))\n",
    "model.add(keras.layers.Dense(100, activation=\"relu\"))\n",
    "model.add(keras.layers.Dense(10, activation=\"softmax\"))\n",
    "\"\"\"\n",
    "model.compile(loss=\"sparse_categorical_crossentropy\",\n",
    "              optimizer = keras.optimizers.SGD(0.001),\n",
    "              metrics = [\"accuracy\"])"
   ]
  },
  {
   "cell_type": "code",
   "execution_count": 10,
   "id": "106ea9e6",
   "metadata": {},
   "outputs": [
    {
     "name": "stderr",
     "output_type": "stream",
     "text": [
      "2022-07-20 00:02:16.362635: W tensorflow/core/framework/cpu_allocator_impl.cc:82] Allocation of 172480000 exceeds 10% of free system memory.\n"
     ]
    },
    {
     "name": "stdout",
     "output_type": "stream",
     "text": [
      "Epoch 1/100\n",
      "1719/1719 [==============================] - 4s 2ms/step - loss: 0.3209 - accuracy: 0.8866 - val_loss: 0.3517 - val_accuracy: 0.8756\n",
      "Epoch 2/100\n",
      "1719/1719 [==============================] - 4s 3ms/step - loss: 0.3180 - accuracy: 0.8877 - val_loss: 0.3499 - val_accuracy: 0.8768\n",
      "Epoch 3/100\n",
      "1719/1719 [==============================] - 4s 2ms/step - loss: 0.3152 - accuracy: 0.8891 - val_loss: 0.3439 - val_accuracy: 0.8768\n",
      "Epoch 4/100\n",
      "1719/1719 [==============================] - 4s 2ms/step - loss: 0.3125 - accuracy: 0.8900 - val_loss: 0.3436 - val_accuracy: 0.8756\n",
      "Epoch 5/100\n",
      "1719/1719 [==============================] - 4s 2ms/step - loss: 0.3100 - accuracy: 0.8898 - val_loss: 0.3427 - val_accuracy: 0.8784\n",
      "Epoch 6/100\n",
      "1719/1719 [==============================] - 4s 2ms/step - loss: 0.3075 - accuracy: 0.8916 - val_loss: 0.3415 - val_accuracy: 0.8788\n",
      "Epoch 7/100\n",
      "1719/1719 [==============================] - 4s 2ms/step - loss: 0.3051 - accuracy: 0.8924 - val_loss: 0.3364 - val_accuracy: 0.8806\n",
      "Epoch 8/100\n",
      "1719/1719 [==============================] - 4s 2ms/step - loss: 0.3027 - accuracy: 0.8926 - val_loss: 0.3369 - val_accuracy: 0.8804\n",
      "Epoch 9/100\n",
      "1719/1719 [==============================] - 4s 2ms/step - loss: 0.3002 - accuracy: 0.8940 - val_loss: 0.3355 - val_accuracy: 0.8798\n",
      "Epoch 10/100\n",
      "1719/1719 [==============================] - 4s 2ms/step - loss: 0.2977 - accuracy: 0.8951 - val_loss: 0.3369 - val_accuracy: 0.8784\n",
      "Epoch 11/100\n",
      "1719/1719 [==============================] - 4s 2ms/step - loss: 0.2955 - accuracy: 0.8960 - val_loss: 0.3375 - val_accuracy: 0.8770\n"
     ]
    }
   ],
   "source": [
    "# Tensorboard, earlystopping, ModelCheckpoint\n",
    "logdir = './callbacks'\n",
    "if not os.path.exists(logdir):\n",
    "    os.mkdir(logdir)\n",
    "    \n",
    "# 模型保存路径\n",
    "output_model_file = os.path.join(logdir,\n",
    "                                 \"fashion_mnist_model.h5\")\n",
    "\n",
    "callbacks = [\n",
    "    keras.callbacks.TensorBoard(logdir),  # 画图使用\n",
    "    keras.callbacks.ModelCheckpoint(output_model_file,  # 保存模型的最佳参数\n",
    "                                    save_best_only = True),\n",
    "    # 可以继续调小min_delta，默认监控的指标是验证集的monitor='val_loss'\n",
    "    # 如果连续5次val_loss小于0.01，停止训练\n",
    "    keras.callbacks.EarlyStopping(patience=5, min_delta=1e-2),\n",
    "]\n",
    "history = model.fit(x_train_scaled, y_train, epochs=100,\n",
    "                    validation_data=(x_valid_scaled, y_valid),\n",
    "                    callbacks = callbacks)"
   ]
  },
  {
   "cell_type": "code",
   "execution_count": 12,
   "id": "3dfd3f28",
   "metadata": {},
   "outputs": [
    {
     "data": {
      "image/png": "[encoded data removed]",
      "text/plain": [
       "<Figure size 576x360 with 1 Axes>"
      ]
     },
     "metadata": {
      "needs_background": "light"
     },
     "output_type": "display_data"
    }
   ],
   "source": [
    "def plot_learning_curves(history):\n",
    "    pd.DataFrame(history.history).plot(figsize=(8, 5))\n",
    "    plt.grid(True)\n",
    "    plt.gca().set_ylim(0, 1)\n",
    "    plt.show()\n",
    "\n",
    "plot_learning_curves(history)"
   ]
  },
  {
   "cell_type": "code",
   "execution_count": 13,
   "id": "a5c26bf6",
   "metadata": {},
   "outputs": [
    {
     "data": {
      "text/plain": [
       "[0.37006503343582153, 0.8679999709129333]"
      ]
     },
     "execution_count": 13,
     "metadata": {},
     "output_type": "execute_result"
    }
   ],
   "source": [
    "model.evaluate(x_test_scaled, y_test, verbose=0)"
   ]
  }
 ],
 "metadata": {
  "kernelspec": {
   "display_name": "Python 3 (ipykernel)",
   "language": "python",
   "name": "python3"
  },
  "language_info": {
   "codemirror_mode": {
    "name": "ipython",
    "version": 3
   },
   "file_extension": ".py",
   "mimetype": "text/x-python",
   "name": "python",
   "nbconvert_exporter": "python",
   "pygments_lexer": "ipython3",
   "version": "3.8.10"
  }
 },
 "nbformat": 4,
 "nbformat_minor": 5
}
