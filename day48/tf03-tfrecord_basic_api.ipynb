{
 "cells": [
  {
   "cell_type": "code",
   "execution_count": 6,
   "metadata": {},
   "outputs": [
    {
     "name": "stdout",
     "output_type": "stream",
     "text": [
      "2.9.1\n",
      "sys.version_info(major=3, minor=9, micro=7, releaselevel='final', serial=0)\n",
      "matplotlib 3.5.2\n",
      "numpy 1.23.0\n",
      "pandas 1.4.3\n",
      "sklearn 1.1.1\n",
      "tensorflow 2.9.1\n",
      "keras.api._v2.keras 2.9.0\n"
     ]
    }
   ],
   "source": [
    "import matplotlib as mpl\n",
    "import matplotlib.pyplot as plt\n",
    "%matplotlib inline\n",
    "import numpy as np\n",
    "import sklearn\n",
    "import pandas as pd\n",
    "import os\n",
    "import sys\n",
    "import time\n",
    "import tensorflow as tf\n",
    "\n",
    "from tensorflow import keras\n",
    "\n",
    "print(tf.__version__)\n",
    "print(sys.version_info)\n",
    "for module in mpl, np, pd, sklearn, tf, keras:\n",
    "    print(module.__name__, module.__version__)"
   ]
  },
  {
   "cell_type": "code",
   "execution_count": 7,
   "metadata": {},
   "outputs": [
    {
     "name": "stdout",
     "output_type": "stream",
     "text": [
      "[b'machine learning', b'cc150']\n",
      "--------------------------------------------------\n",
      "<class 'tensorflow.core.example.feature_pb2.BytesList'>\n",
      "--------------------------------------------------\n",
      "value: \"machine learning\"\n",
      "value: \"cc150\"\n",
      "\n"
     ]
    }
   ],
   "source": [
    "# tfrecord 文件格式---往下层层分类\n",
    "# -> tf.train.Example\n",
    "#    -> tf.train.Features -> {\"key\": tf.train.Feature}\n",
    "#       -> tf.train.Feature -> tf.train.ByteList/FloatList/Int64List\n",
    "\n",
    "favorite_books = [name.encode('utf-8')\n",
    "                  for name in [\"machine learning\", \"cc150\"]]\n",
    "print(favorite_books)\n",
    "print('-'*50)\n",
    "favorite_books_bytelist = tf.train.BytesList(value = favorite_books)  # 字符串是变为BytesList\n",
    "print(type(favorite_books_bytelist))\n",
    "print('-'*50)\n",
    "print(favorite_books_bytelist)"
   ]
  },
  {
   "cell_type": "code",
   "execution_count": 8,
   "metadata": {},
   "outputs": [
    {
     "name": "stdout",
     "output_type": "stream",
     "text": [
      "<class 'tensorflow.core.example.feature_pb2.FloatList'>\n",
      "--------------------------------------------------\n",
      "value: 15.5\n",
      "value: 9.5\n",
      "value: 7.0\n",
      "value: 8.0\n",
      "\n",
      "--------------------------------------------------\n",
      "<class 'tensorflow.core.example.feature_pb2.Int64List'>\n",
      "--------------------------------------------------\n",
      "value: 42\n",
      "\n",
      "--------------------------------------------------\n",
      "<class 'tensorflow.core.example.feature_pb2.Features'>\n",
      "--------------------------------------------------\n",
      "feature {\n",
      "  key: \"age\"\n",
      "  value {\n",
      "    int64_list {\n",
      "      value: 42\n",
      "    }\n",
      "  }\n",
      "}\n",
      "feature {\n",
      "  key: \"favorite_books\"\n",
      "  value {\n",
      "    bytes_list {\n",
      "      value: \"machine learning\"\n",
      "      value: \"cc150\"\n",
      "    }\n",
      "  }\n",
      "}\n",
      "feature {\n",
      "  key: \"hours\"\n",
      "  value {\n",
      "    float_list {\n",
      "      value: 15.5\n",
      "      value: 9.5\n",
      "      value: 7.0\n",
      "      value: 8.0\n",
      "    }\n",
      "  }\n",
      "}\n",
      "\n"
     ]
    }
   ],
   "source": [
    "hours_floatlist = tf.train.FloatList(value = [15.5, 9.5, 7.0, 8.0])\n",
    "print(type(hours_floatlist))\n",
    "print('-'*50)\n",
    "print(hours_floatlist)\n",
    "print('-'*50)\n",
    "\n",
    "age_int64list = tf.train.Int64List(value = [42])\n",
    "print(type(age_int64list))\n",
    "print('-'*50)\n",
    "print(age_int64list)\n",
    "print('-'*50)\n",
    "\n",
    "# 进一步，开搞Features,Features类似字典，每一个值是feature，都是一个字节流\n",
    "features = tf.train.Features(\n",
    "    feature = {\n",
    "        \"favorite_books\": tf.train.Feature(\n",
    "            bytes_list = favorite_books_bytelist),\n",
    "        \"hours\": tf.train.Feature(\n",
    "            float_list = hours_floatlist),\n",
    "        \"age\": tf.train.Feature(int64_list = age_int64list),\n",
    "    }\n",
    ")\n",
    "print(type(features))\n",
    "print('-'*50)\n",
    "print(features)  # 类似于json的格式（和字典很类似）"
   ]
  },
  {
   "cell_type": "code",
   "execution_count": 9,
   "metadata": {},
   "outputs": [],
   "source": [
    "# features并没有封装完毕，需要变为Example"
   ]
  },
  {
   "cell_type": "code",
   "execution_count": 10,
   "metadata": {},
   "outputs": [
    {
     "name": "stdout",
     "output_type": "stream",
     "text": [
      "<class 'tensorflow.core.example.example_pb2.Example'>\n",
      "--------------------------------------------------\n",
      "features {\n",
      "  feature {\n",
      "    key: \"age\"\n",
      "    value {\n",
      "      int64_list {\n",
      "        value: 42\n",
      "      }\n",
      "    }\n",
      "  }\n",
      "  feature {\n",
      "    key: \"favorite_books\"\n",
      "    value {\n",
      "      bytes_list {\n",
      "        value: \"machine learning\"\n",
      "        value: \"cc150\"\n",
      "      }\n",
      "    }\n",
      "  }\n",
      "  feature {\n",
      "    key: \"hours\"\n",
      "    value {\n",
      "      float_list {\n",
      "        value: 15.5\n",
      "        value: 9.5\n",
      "        value: 7.0\n",
      "        value: 8.0\n",
      "      }\n",
      "    }\n",
      "  }\n",
      "}\n",
      "\n",
      "--------------------------------------------------\n",
      "<class 'bytes'>\n",
      "--------------------------------------------------\n",
      "b'\\n\\\\\\n\\x1d\\n\\x05hours\\x12\\x14\\x12\\x12\\n\\x10\\x00\\x00xA\\x00\\x00\\x18A\\x00\\x00\\xe0@\\x00\\x00\\x00A\\n\\x0c\\n\\x03age\\x12\\x05\\x1a\\x03\\n\\x01*\\n-\\n\\x0efavorite_books\\x12\\x1b\\n\\x19\\n\\x10machine learning\\n\\x05cc150'\n",
      "--------------------------------------------------\n",
      "94\n"
     ]
    }
   ],
   "source": [
    "# example又在外面加了features封装\n",
    "example = tf.train.Example(features=features)\n",
    "print(type(example))\n",
    "print('-'*50)\n",
    "print(example)\n",
    "print('-'*50)\n",
    "# 需要把Example对象进行序列化后，序列化后是变为字节流，才能写入文件\n",
    "serialized_example = example.SerializeToString()\n",
    "print(type(serialized_example))\n",
    "print('-'*50)\n",
    "print(serialized_example)\n",
    "print('-'*50)\n",
    "print(len(serialized_example))"
   ]
  },
  {
   "cell_type": "code",
   "execution_count": 11,
   "metadata": {},
   "outputs": [
    {
     "name": "stdout",
     "output_type": "stream",
     "text": [
      "total 1\n",
      "-rw-r--r-- 1 yf 197121   0 Jul 27 23:43 test.tfrecords\n",
      "-rw-r--r-- 1 yf 197121 127 May  3 11:12 test.tfrecords.zip\n"
     ]
    }
   ],
   "source": [
    "!ls -l tfrecord_basic"
   ]
  },
  {
   "cell_type": "code",
   "execution_count": 12,
   "metadata": {},
   "outputs": [],
   "source": [
    "!rm -rf tfrecord_basic"
   ]
  },
  {
   "cell_type": "code",
   "execution_count": 13,
   "metadata": {},
   "outputs": [],
   "source": [
    "# 生成test.tfrecords文件\n",
    "output_dir = 'tfrecord_basic'\n",
    "if not os.path.exists(output_dir):\n",
    "    os.mkdir(output_dir)\n",
    "filename = \"test.tfrecords\"\n",
    "filename_fullpath = os.path.join(output_dir, filename)\n",
    "with tf.io.TFRecordWriter(filename_fullpath) as writer:\n",
    "    # 把serialized_example写3遍到test.tfrecords里边\n",
    "    for i in range(3):\n",
    "        writer.write(serialized_example)\n"
   ]
  },
  {
   "cell_type": "code",
   "execution_count": 14,
   "metadata": {},
   "outputs": [
    {
     "name": "stdout",
     "output_type": "stream",
     "text": [
      "total 1\n",
      "-rw-r--r-- 1 yf 197121 330 Jul 27 23:44 test.tfrecords\n"
     ]
    }
   ],
   "source": [
    "!ls -l tfrecord_basic"
   ]
  },
  {
   "cell_type": "code",
   "execution_count": 15,
   "metadata": {},
   "outputs": [
    {
     "data": {
      "text/plain": [
       "'tfrecord_basic\\\\test.tfrecords'"
      ]
     },
     "execution_count": 15,
     "metadata": {},
     "output_type": "execute_result"
    }
   ],
   "source": [
    "filename_fullpath"
   ]
  },
  {
   "cell_type": "code",
   "execution_count": 16,
   "metadata": {},
   "outputs": [
    {
     "name": "stdout",
     "output_type": "stream",
     "text": [
      "tf.Tensor(b'\\n\\\\\\n\\x1d\\n\\x05hours\\x12\\x14\\x12\\x12\\n\\x10\\x00\\x00xA\\x00\\x00\\x18A\\x00\\x00\\xe0@\\x00\\x00\\x00A\\n\\x0c\\n\\x03age\\x12\\x05\\x1a\\x03\\n\\x01*\\n-\\n\\x0efavorite_books\\x12\\x1b\\n\\x19\\n\\x10machine learning\\n\\x05cc150', shape=(), dtype=string)\n",
      "tf.Tensor(b'\\n\\\\\\n\\x1d\\n\\x05hours\\x12\\x14\\x12\\x12\\n\\x10\\x00\\x00xA\\x00\\x00\\x18A\\x00\\x00\\xe0@\\x00\\x00\\x00A\\n\\x0c\\n\\x03age\\x12\\x05\\x1a\\x03\\n\\x01*\\n-\\n\\x0efavorite_books\\x12\\x1b\\n\\x19\\n\\x10machine learning\\n\\x05cc150', shape=(), dtype=string)\n",
      "tf.Tensor(b'\\n\\\\\\n\\x1d\\n\\x05hours\\x12\\x14\\x12\\x12\\n\\x10\\x00\\x00xA\\x00\\x00\\x18A\\x00\\x00\\xe0@\\x00\\x00\\x00A\\n\\x0c\\n\\x03age\\x12\\x05\\x1a\\x03\\n\\x01*\\n-\\n\\x0efavorite_books\\x12\\x1b\\n\\x19\\n\\x10machine learning\\n\\x05cc150', shape=(), dtype=string)\n"
     ]
    }
   ],
   "source": [
    "# 读取record并打印\n",
    "dataset = tf.data.TFRecordDataset([filename_fullpath])\n",
    "for serialized_example_tensor in dataset:\n",
    "    print(serialized_example_tensor)"
   ]
  },
  {
   "cell_type": "code",
   "execution_count": 17,
   "metadata": {},
   "outputs": [
    {
     "name": "stdout",
     "output_type": "stream",
     "text": [
      "{'hours': <tensorflow.python.framework.sparse_tensor.SparseTensor object at 0x000002968F5EC640>, 'age': <tf.Tensor: shape=(), dtype=int64, numpy=42>, 'favorite_books': <tf.Tensor: shape=(2,), dtype=string, numpy=array([b'machine learning', b'cc150'], dtype=object)>}\n",
      "--------------------------------------------------\n",
      "machine learning\n",
      "cc150\n",
      "--------------------------------------------------\n",
      "tf.Tensor([15.5  9.5  7.   8. ], shape=(4,), dtype=float32)\n",
      "15.5\n",
      "9.5\n",
      "7.0\n",
      "8.0\n",
      "--------------------------------------------------\n",
      "42\n",
      "{'hours': <tensorflow.python.framework.sparse_tensor.SparseTensor object at 0x000002968DA975E0>, 'age': <tf.Tensor: shape=(), dtype=int64, numpy=42>, 'favorite_books': <tf.Tensor: shape=(2,), dtype=string, numpy=array([b'machine learning', b'cc150'], dtype=object)>}\n",
      "--------------------------------------------------\n",
      "machine learning\n",
      "cc150\n",
      "--------------------------------------------------\n",
      "tf.Tensor([15.5  9.5  7.   8. ], shape=(4,), dtype=float32)\n",
      "15.5\n",
      "9.5\n",
      "7.0\n",
      "8.0\n",
      "--------------------------------------------------\n",
      "42\n",
      "{'hours': <tensorflow.python.framework.sparse_tensor.SparseTensor object at 0x000002968DA97700>, 'age': <tf.Tensor: shape=(), dtype=int64, numpy=42>, 'favorite_books': <tf.Tensor: shape=(2,), dtype=string, numpy=array([b'machine learning', b'cc150'], dtype=object)>}\n",
      "--------------------------------------------------\n",
      "machine learning\n",
      "cc150\n",
      "--------------------------------------------------\n",
      "tf.Tensor([15.5  9.5  7.   8. ], shape=(4,), dtype=float32)\n",
      "15.5\n",
      "9.5\n",
      "7.0\n",
      "8.0\n",
      "--------------------------------------------------\n",
      "42\n"
     ]
    }
   ],
   "source": [
    "# VarLenFeature是变长的，得到的是sparseTensor,要通过to_dense变为Tensor，\n",
    "# 如果FixedLenFeature，得到的是Tensor，必须传入原来保存时数据的shape\n",
    "expected_features = {\n",
    "    \"favorite_books\": tf.io.FixedLenFeature([2],dtype = tf.string),\n",
    "#     \"hours\": tf.io.FixedLenFeature([4],dtype = tf.float32),\n",
    "    \"hours\": tf.io.VarLenFeature(dtype = tf.float32),\n",
    "    \"age\": tf.io.FixedLenFeature([], dtype = tf.int64),\n",
    "}\n",
    "dataset = tf.data.TFRecordDataset([filename_fullpath])\n",
    "# sparse tensor 存储稀疏矩阵的时候效率比较高\n",
    "for serialized_example_tensor in dataset:\n",
    "    example = tf.io.parse_single_example(  # parse_single_example和map类似\n",
    "        serialized_example_tensor,  # 游标\n",
    "        expected_features   # 解析的类型\n",
    "    )\n",
    "    print(example)\n",
    "    # 把books从sparse tensor解析出来\n",
    "#     books = tf.sparse.to_dense(example[\"favorite_books\"],\n",
    "#                                default_value=b\"\")\n",
    "#     print(books)\n",
    "#     # 这里是为了把两个字符串解析出来\n",
    "#     for book in books:\n",
    "#         print(book.numpy().decode(\"UTF-8\"))\n",
    "    print('-'*50)\n",
    "    for i in example[\"favorite_books\"]:\n",
    "        print(i.numpy().decode(\"UTF-8\"))\n",
    "    print('-'*50)\n",
    "    hours = tf.sparse.to_dense(example[\"hours\"])\n",
    "    print(hours)\n",
    "    for hour in hours:\n",
    "        print(hour.numpy())\n",
    "    print('-'*50)\n",
    "    print(example[\"age\"].numpy())\n",
    "    "
   ]
  },
  {
   "cell_type": "code",
   "execution_count": 18,
   "metadata": {},
   "outputs": [],
   "source": [
    "# 把tfrecord存为压缩文件\n",
    "filename_fullpath_zip = filename_fullpath + '.zip'\n",
    "options = tf.io.TFRecordOptions(compression_type = \"GZIP\")\n",
    "with tf.io.TFRecordWriter(filename_fullpath_zip, options) as writer:\n",
    "    for i in range(3):\n",
    "        writer.write(serialized_example)"
   ]
  },
  {
   "cell_type": "code",
   "execution_count": 19,
   "metadata": {},
   "outputs": [
    {
     "name": "stdout",
     "output_type": "stream",
     "text": [
      "total 2\n",
      "-rw-r--r-- 1 yf 197121 330 Jul 27 23:44 test.tfrecords\n",
      "-rw-r--r-- 1 yf 197121 127 Jul 27 23:44 test.tfrecords.zip\n"
     ]
    }
   ],
   "source": [
    "!ls -l tfrecord_basic"
   ]
  },
  {
   "cell_type": "code",
   "execution_count": 20,
   "metadata": {},
   "outputs": [],
   "source": [
    "expected_features = {\n",
    "    \"favorite_books\": tf.io.FixedLenFeature([2],dtype = tf.string),\n",
    "    \"hours\": tf.io.FixedLenFeature([4],dtype = tf.float32),\n",
    "    \"age\": tf.io.FixedLenFeature([], dtype = tf.int64),\n",
    "}"
   ]
  },
  {
   "cell_type": "code",
   "execution_count": 21,
   "metadata": {},
   "outputs": [
    {
     "name": "stdout",
     "output_type": "stream",
     "text": [
      "{'age': <tf.Tensor: shape=(), dtype=int64, numpy=42>, 'favorite_books': <tf.Tensor: shape=(2,), dtype=string, numpy=array([b'machine learning', b'cc150'], dtype=object)>, 'hours': <tf.Tensor: shape=(4,), dtype=float32, numpy=array([15.5,  9.5,  7. ,  8. ], dtype=float32)>}\n",
      "{'age': <tf.Tensor: shape=(), dtype=int64, numpy=42>, 'favorite_books': <tf.Tensor: shape=(2,), dtype=string, numpy=array([b'machine learning', b'cc150'], dtype=object)>, 'hours': <tf.Tensor: shape=(4,), dtype=float32, numpy=array([15.5,  9.5,  7. ,  8. ], dtype=float32)>}\n",
      "{'age': <tf.Tensor: shape=(), dtype=int64, numpy=42>, 'favorite_books': <tf.Tensor: shape=(2,), dtype=string, numpy=array([b'machine learning', b'cc150'], dtype=object)>, 'hours': <tf.Tensor: shape=(4,), dtype=float32, numpy=array([15.5,  9.5,  7. ,  8. ], dtype=float32)>}\n"
     ]
    }
   ],
   "source": [
    "# 压缩后的文件的读取方法\n",
    "dataset_zip = tf.data.TFRecordDataset([filename_fullpath_zip], \n",
    "                                      compression_type= \"GZIP\")\n",
    "for serialized_example_tensor in dataset_zip:\n",
    "    example = tf.io.parse_single_example(\n",
    "        serialized_example_tensor,\n",
    "        expected_features)\n",
    "    print(example)"
   ]
  }
 ],
 "metadata": {
  "kernelspec": {
   "display_name": "Python 3 (ipykernel)",
   "language": "python",
   "name": "python3"
  },
  "language_info": {
   "codemirror_mode": {
    "name": "ipython",
    "version": 3
   },
   "file_extension": ".py",
   "mimetype": "text/x-python",
   "name": "python",
   "nbconvert_exporter": "python",
   "pygments_lexer": "ipython3",
   "version": "3.9.7"
  }
 },
 "nbformat": 4,
 "nbformat_minor": 2
}
