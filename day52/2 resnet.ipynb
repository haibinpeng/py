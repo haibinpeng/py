{
 "cells": [
  {
   "cell_type": "code",
   "execution_count": 1,
   "metadata": {},
   "outputs": [
    {
     "name": "stderr",
     "output_type": "stream",
     "text": [
      "/home/luke/.virtualenvs/tf1.13_py3/lib/python3.6/site-packages/tensorflow/python/framework/dtypes.py:526: FutureWarning: Passing (type, 1) or '1type' as a synonym of type is deprecated; in a future version of numpy, it will be understood as (type, (1,)) / '(1,)type'.\n",
      "  _np_qint8 = np.dtype([(\"qint8\", np.int8, 1)])\n",
      "/home/luke/.virtualenvs/tf1.13_py3/lib/python3.6/site-packages/tensorflow/python/framework/dtypes.py:527: FutureWarning: Passing (type, 1) or '1type' as a synonym of type is deprecated; in a future version of numpy, it will be understood as (type, (1,)) / '(1,)type'.\n",
      "  _np_quint8 = np.dtype([(\"quint8\", np.uint8, 1)])\n",
      "/home/luke/.virtualenvs/tf1.13_py3/lib/python3.6/site-packages/tensorflow/python/framework/dtypes.py:528: FutureWarning: Passing (type, 1) or '1type' as a synonym of type is deprecated; in a future version of numpy, it will be understood as (type, (1,)) / '(1,)type'.\n",
      "  _np_qint16 = np.dtype([(\"qint16\", np.int16, 1)])\n",
      "/home/luke/.virtualenvs/tf1.13_py3/lib/python3.6/site-packages/tensorflow/python/framework/dtypes.py:529: FutureWarning: Passing (type, 1) or '1type' as a synonym of type is deprecated; in a future version of numpy, it will be understood as (type, (1,)) / '(1,)type'.\n",
      "  _np_quint16 = np.dtype([(\"quint16\", np.uint16, 1)])\n",
      "/home/luke/.virtualenvs/tf1.13_py3/lib/python3.6/site-packages/tensorflow/python/framework/dtypes.py:530: FutureWarning: Passing (type, 1) or '1type' as a synonym of type is deprecated; in a future version of numpy, it will be understood as (type, (1,)) / '(1,)type'.\n",
      "  _np_qint32 = np.dtype([(\"qint32\", np.int32, 1)])\n",
      "/home/luke/.virtualenvs/tf1.13_py3/lib/python3.6/site-packages/tensorflow/python/framework/dtypes.py:535: FutureWarning: Passing (type, 1) or '1type' as a synonym of type is deprecated; in a future version of numpy, it will be understood as (type, (1,)) / '(1,)type'.\n",
      "  np_resource = np.dtype([(\"resource\", np.ubyte, 1)])\n"
     ]
    },
    {
     "name": "stdout",
     "output_type": "stream",
     "text": [
      "['data_batch_1', 'data_batch_5', 'data_batch_2', 'test_batch', 'batches.meta', 'readme.html', 'data_batch_4', 'data_batch_3']\n"
     ]
    }
   ],
   "source": [
    "import tensorflow as tf\n",
    "import os\n",
    "import pickle\n",
    "import numpy as np\n",
    "\n",
    "CIFAR_DIR = \"./cifar-10-batches-py\"\n",
    "print(os.listdir(CIFAR_DIR))"
   ]
  },
  {
   "cell_type": "code",
   "execution_count": 2,
   "metadata": {},
   "outputs": [
    {
     "name": "stdout",
     "output_type": "stream",
     "text": [
      "(50000, 3072)\n",
      "(50000,)\n",
      "(10000, 3072)\n",
      "(10000,)\n"
     ]
    }
   ],
   "source": [
    "def load_data(filename):\n",
    "    \"\"\"read data from data file.\"\"\"\n",
    "    with open(filename, 'rb') as f:\n",
    "        data = pickle.load(f, encoding='bytes')\n",
    "        return data[b'data'], data[b'labels']\n",
    "\n",
    "    \n",
    "class CifarData:\n",
    "    def __init__(self, filenames, need_shuffle):\n",
    "        all_data = []\n",
    "        all_labels = []\n",
    "        for filename in filenames:\n",
    "            data, labels = load_data(filename)\n",
    "            all_data.append(data)\n",
    "            all_labels.append(labels)\n",
    "        self._data = np.vstack(all_data)\n",
    "        self._data = self._data / 127.5 - 1\n",
    "        self._labels = np.hstack(all_labels)\n",
    "        print(self._data.shape)\n",
    "        print(self._labels.shape)\n",
    "        \n",
    "        self._num_examples = self._data.shape[0]\n",
    "        self._need_shuffle = need_shuffle\n",
    "        self._indicator = 0\n",
    "        if self._need_shuffle:\n",
    "            self._shuffle_data()\n",
    "            \n",
    "    def _shuffle_data(self):\n",
    "        # [0,1,2,3,4,5] -> [5,3,2,4,0,1]\n",
    "        p = np.random.permutation(self._num_examples)\n",
    "        self._data = self._data[p]\n",
    "        self._labels = self._labels[p]\n",
    "    \n",
    "    def next_batch(self, batch_size):\n",
    "        \"\"\"return batch_size examples as a batch.\"\"\"\n",
    "        end_indicator = self._indicator + batch_size\n",
    "        if end_indicator > self._num_examples:\n",
    "            if self._need_shuffle:\n",
    "                self._shuffle_data()\n",
    "                self._indicator = 0\n",
    "                end_indicator = batch_size\n",
    "            else:\n",
    "                raise Exception(\"have no more examples\")\n",
    "        if end_indicator > self._num_examples:\n",
    "            raise Exception(\"batch size is larger than all examples\")\n",
    "        batch_data = self._data[self._indicator: end_indicator]\n",
    "        batch_labels = self._labels[self._indicator: end_indicator]\n",
    "        self._indicator = end_indicator\n",
    "        return batch_data, batch_labels\n",
    "\n",
    "    \n",
    "train_filenames = [os.path.join(CIFAR_DIR, 'data_batch_%d' % i) for i in range(1, 6)]\n",
    "test_filenames = [os.path.join(CIFAR_DIR, 'test_batch')]\n",
    "\n",
    "train_data = CifarData(train_filenames, True)\n",
    "test_data = CifarData(test_filenames, False)"
   ]
  },
  {
   "cell_type": "code",
   "execution_count": 6,
   "metadata": {},
   "outputs": [
    {
     "data": {
      "text/plain": [
       "<tf.Tensor 'Pad_2:0' shape=(10, 32, 32, 64) dtype=float64>"
      ]
     },
     "execution_count": 6,
     "metadata": {},
     "output_type": "execute_result"
    }
   ],
   "source": [
    "t = tf.constant(np.ones((10,32,32,32)))\n",
    "tf.pad(t, [[0,0],[0, 0,], [0, 0],[16,16]])  # pad补0，[0,0]代表不补，[16，16]两边各补16个0"
   ]
  },
  {
   "cell_type": "code",
   "execution_count": 12,
   "metadata": {},
   "outputs": [
    {
     "data": {
      "text/plain": [
       "<tf.Tensor 'convzzz/Relu:0' shape=(10, 16, 16, 64) dtype=float64>"
      ]
     },
     "execution_count": 12,
     "metadata": {},
     "output_type": "execute_result"
    }
   ],
   "source": [
    "x=tf.constant(np.ones((10,32,32,32)))\n",
    "conv1 = tf.layers.conv2d(x,\n",
    "                        64,  # 输出通道数\n",
    "                        (7,7),\n",
    "                        strides = (2,2),  # 在设置了same的时候步长设置为2，输出的尺寸会缩小一半,32->16\n",
    "                        padding = 'same',\n",
    "                        activation = tf.nn.relu,\n",
    "                        name = 'convzzz')\n",
    "conv1"
   ]
  },
  {
   "cell_type": "code",
   "execution_count": null,
   "metadata": {},
   "outputs": [],
   "source": [
    "x=tf.constant([[1,2,3],[4,5,6]])\n",
    "x.get_shape().as_list()[0]  # 输出：行数\n",
    "x.get_shape().as_list()[1]  # 输出：列数"
   ]
  },
  {
   "cell_type": "code",
   "execution_count": 13,
   "metadata": {},
   "outputs": [
    {
     "name": "stdout",
     "output_type": "stream",
     "text": [
      "WARNING:tensorflow:From <ipython-input-13-1b6972a7ff09>:33: average_pooling2d (from tensorflow.python.layers.pooling) is deprecated and will be removed in a future version.\n",
      "Instructions for updating:\n",
      "Use keras.layers.average_pooling2d instead.\n",
      "WARNING:tensorflow:From <ipython-input-13-1b6972a7ff09>:87: dense (from tensorflow.python.layers.core) is deprecated and will be removed in a future version.\n",
      "Instructions for updating:\n",
      "Use keras.layers.dense instead.\n",
      "WARNING:tensorflow:From /home/luke/.virtualenvs/tf1.13_py3/lib/python3.6/site-packages/tensorflow/python/ops/losses/losses_impl.py:209: to_float (from tensorflow.python.ops.math_ops) is deprecated and will be removed in a future version.\n",
      "Instructions for updating:\n",
      "Use tf.cast instead.\n",
      "WARNING:tensorflow:From /home/luke/.virtualenvs/tf1.13_py3/lib/python3.6/site-packages/tensorflow/python/ops/math_ops.py:3066: to_int32 (from tensorflow.python.ops.math_ops) is deprecated and will be removed in a future version.\n",
      "Instructions for updating:\n",
      "Use tf.cast instead.\n"
     ]
    }
   ],
   "source": [
    "def residual_block(x, output_channel):\n",
    "    \"\"\"某个残差块的实现\"\"\"\n",
    "    input_channel = x.get_shape().as_list()[-1]  # 拿到输入通道数\n",
    "    # 如果输出通道是输入通道的两倍，因为输出通道的数目增加了，所以需要增加维度，increase_dim = True\n",
    "    if input_channel * 2 == output_channel:  \n",
    "        increase_dim = True  # 是否增加维度\n",
    "        strides = (2, 2)\n",
    "    # 如果输入通道和输出通道一致，图像大小不变小\n",
    "    elif input_channel == output_channel:\n",
    "        increase_dim = False\n",
    "        strides = (1, 1)\n",
    "    else:\n",
    "        raise Exception(\"input channel can't match output channel\")\n",
    "    # 接着根据图形经过两个卷积层，经过两个卷积层，输出大小变为1半（有一层same+步长为2），大小和通道数是两码事\n",
    "    conv1 = tf.layers.conv2d(x,\n",
    "                             output_channel,\n",
    "                             (3,3),\n",
    "                             strides = strides,\n",
    "                             padding = 'same',\n",
    "                             activation = tf.nn.relu,\n",
    "                             name = 'conv1')\n",
    "    conv2 = tf.layers.conv2d(conv1,\n",
    "                             output_channel,\n",
    "                             (3, 3),\n",
    "                             strides = (1, 1),\n",
    "                             padding = 'same',\n",
    "                             activation = tf.nn.relu,\n",
    "                             name = 'conv2')\n",
    "    if increase_dim:\n",
    "        # [None, image_width, image_height, channel] -> [,,,channel*2]\n",
    "        pooled_x = tf.layers.average_pooling2d(x,\n",
    "                                               (2, 2),\n",
    "                                               (2, 2),\n",
    "                                               padding = 'valid')  # 这里平均值和最大值池化都可以选\n",
    "        # 因为前面3维是样本数、宽、高，是零代表维度不变，最后一维通道左右各增加一半\n",
    "        padded_x = tf.pad(pooled_x,\n",
    "                          [[0,0],\n",
    "                           [0,0],\n",
    "                           [0,0],\n",
    "                           [input_channel // 2, input_channel // 2]])  \n",
    "    else:\n",
    "        padded_x = x\n",
    "    # 必须尺寸一样，才能够做残差连接\n",
    "    output_x = conv2 + padded_x  # 这里就是残差连接的基本结构，padded_x就是图中直连的那条线\n",
    "    return output_x\n",
    "\n",
    "\n",
    "def res_net(x, \n",
    "            num_residual_blocks,  # 每一层的残差块数目\n",
    "            num_filter_base,  # 通道数\n",
    "            class_num):\n",
    "    \"\"\"residual network implementation\"\"\"\n",
    "    \"\"\"\n",
    "    Args:\n",
    "    - x:\n",
    "    - num_residual_blocks: eg: [3, 4, 6, 3] 每一层的残差块数目\n",
    "    - num_filter_base:通道数\n",
    "    - class_num:\n",
    "    \"\"\"\n",
    "    num_subsampling = len(num_residual_blocks) # 需要做多少次降采样\n",
    "    layers = []  # 后面依次把层添加到里边\n",
    "    # x: [None, width, height, channel] -> [width, height, channel]\n",
    "    input_size = x.get_shape().as_list()[1:]\n",
    "    with tf.variable_scope('conv0'):\n",
    "        # 和图中类似，首先经过一个普通卷积\n",
    "        conv0 = tf.layers.conv2d(x, \n",
    "                                 num_filter_base,\n",
    "                                 (3, 3),\n",
    "                                 strides = (1, 1),\n",
    "                                 padding = 'same',\n",
    "                                 activation = tf.nn.relu,\n",
    "                                 name = 'conv0')  \n",
    "        layers.append(conv0)\n",
    "    # eg:num_subsampling = 4, sample_id = [0,1,2,3]\n",
    "    for sample_id in range(num_subsampling):  # 有几层\n",
    "        for i in range(num_residual_blocks[sample_id]):  # [3, 4, 6, 3] \n",
    "            with tf.variable_scope(\"conv%d_%d\" % (sample_id, i)):\n",
    "                conv = residual_block(\n",
    "                    layers[-1],  # 每次拿最新的层次作为输入\n",
    "                    num_filter_base * (2 ** sample_id))  # 2的零次方是1，通道数是不断翻倍的过程\n",
    "                layers.append(conv)  # 把刚做的一层输出添加进去\n",
    "    multiplier = 2 ** (num_subsampling - 1)  # 为了下面assert判断形状使用\n",
    "    assert layers[-1].get_shape().as_list()[1:] \\\n",
    "        == [input_size[0] / multiplier,\n",
    "            input_size[1] / multiplier,\n",
    "            num_filter_base * multiplier]  # 判断最终的形状是否正确\n",
    "    with tf.variable_scope('fc'):  # 最后是全连接层\n",
    "        # layer[-1].shape : [None, width, height, channel]\n",
    "        # kernal_size: image_width, image_height\n",
    "        global_pool = tf.reduce_mean(layers[-1], [1,2])  # 在1轴，2轴求平均，就是width, height\n",
    "        logits = tf.layers.dense(global_pool, class_num)\n",
    "        layers.append(logits)\n",
    "    return layers[-1]\n",
    "\n",
    "# 下面4行的输入和之前是一样的\n",
    "x = tf.placeholder(tf.float32, [None, 3072])\n",
    "y = tf.placeholder(tf.int64, [None])\n",
    "# [None], eg: [0,5,6,3]\n",
    "x_image = tf.reshape(x, [-1, 3, 32, 32])\n",
    "# 32*32\n",
    "x_image = tf.transpose(x_image, perm=[0, 2, 3, 1])\n",
    "\n",
    "# 得到输出，如果要和18层resnet一样，就是[2,2,2,2],64\n",
    "y_ = res_net(x_image, [2,3,2], 32, 10)\n",
    "# 下面内容和之前没差别\n",
    "loss = tf.losses.sparse_softmax_cross_entropy(labels=y, logits=y_)\n",
    "# y_ -> sofmax\n",
    "# y -> one_hot\n",
    "# loss = ylogy_\n",
    "\n",
    "# indices\n",
    "predict = tf.argmax(y_, 1)\n",
    "# [1,0,1,1,1,0,0,0]\n",
    "correct_prediction = tf.equal(predict, y)\n",
    "accuracy = tf.reduce_mean(tf.cast(correct_prediction, tf.float64))\n",
    "\n",
    "with tf.name_scope('train_op'):\n",
    "    train_op = tf.train.AdamOptimizer(1e-3).minimize(loss)"
   ]
  },
  {
   "cell_type": "code",
   "execution_count": null,
   "metadata": {},
   "outputs": [
    {
     "name": "stdout",
     "output_type": "stream",
     "text": [
      "[Train] Step: 100, loss: 2.21590, acc: 0.20000\n",
      "[Train] Step: 200, loss: 1.89409, acc: 0.35000\n",
      "[Train] Step: 300, loss: 1.49732, acc: 0.50000\n",
      "[Train] Step: 400, loss: 1.75772, acc: 0.30000\n",
      "[Train] Step: 500, loss: 1.63965, acc: 0.40000\n",
      "[Train] Step: 600, loss: 1.70055, acc: 0.35000\n",
      "[Train] Step: 700, loss: 1.14114, acc: 0.40000\n",
      "[Train] Step: 800, loss: 1.53200, acc: 0.30000\n",
      "[Train] Step: 900, loss: 1.32561, acc: 0.60000\n",
      "[Train] Step: 1000, loss: 1.61013, acc: 0.40000\n",
      "(10000, 3072)\n",
      "(10000,)\n",
      "[Test ] Step: 1000, acc: 0.44000\n",
      "[Train] Step: 1100, loss: 1.15241, acc: 0.75000\n",
      "[Train] Step: 1200, loss: 1.30290, acc: 0.55000\n",
      "[Train] Step: 1300, loss: 1.85836, acc: 0.40000\n",
      "[Train] Step: 1400, loss: 1.32878, acc: 0.70000\n",
      "[Train] Step: 1500, loss: 1.20099, acc: 0.55000\n",
      "[Train] Step: 1600, loss: 0.89269, acc: 0.60000\n",
      "[Train] Step: 1700, loss: 1.23826, acc: 0.50000\n",
      "[Train] Step: 1800, loss: 1.37455, acc: 0.50000\n",
      "[Train] Step: 1900, loss: 1.25782, acc: 0.40000\n",
      "[Train] Step: 2000, loss: 0.66939, acc: 0.85000\n",
      "(10000, 3072)\n",
      "(10000,)\n",
      "[Test ] Step: 2000, acc: 0.54550\n",
      "[Train] Step: 2100, loss: 1.55282, acc: 0.45000\n"
     ]
    }
   ],
   "source": [
    "# 训练这部分和之前一致的\n",
    "init = tf.global_variables_initializer() \n",
    "batch_size = 20\n",
    "train_steps = 10000\n",
    "test_steps = 100\n",
    "\n",
    "# train 7000次 67%  为什么没有之前好，因为我们没有加入bn等一些扩展，但是我们这次没加，通过fine-tune，能得到94%\n",
    "with tf.Session() as sess:\n",
    "    sess.run(init)\n",
    "    for i in range(train_steps):\n",
    "        batch_data, batch_labels = train_data.next_batch(batch_size)\n",
    "        loss_val, acc_val, _ = sess.run(\n",
    "            [loss, accuracy, train_op],\n",
    "            feed_dict={\n",
    "                x: batch_data,\n",
    "                y: batch_labels})\n",
    "        if (i+1) % 100 == 0:\n",
    "            print('[Train] Step: %d, loss: %4.5f, acc: %4.5f' \n",
    "                  % (i+1, loss_val, acc_val))\n",
    "        if (i+1) % 1000 == 0:\n",
    "            test_data = CifarData(test_filenames, False)\n",
    "            all_test_acc_val = []\n",
    "            for j in range(test_steps):\n",
    "                test_batch_data, test_batch_labels \\\n",
    "                    = test_data.next_batch(batch_size)\n",
    "                test_acc_val = sess.run(\n",
    "                    [accuracy],\n",
    "                    feed_dict = {\n",
    "                        x: test_batch_data, \n",
    "                        y: test_batch_labels\n",
    "                    })\n",
    "                all_test_acc_val.append(test_acc_val)\n",
    "            test_acc = np.mean(all_test_acc_val)\n",
    "            print('[Test ] Step: %d, acc: %4.5f' % (i+1, test_acc)) "
   ]
  },
  {
   "cell_type": "code",
   "execution_count": null,
   "metadata": {},
   "outputs": [],
   "source": []
  }
 ],
 "metadata": {
  "kernelspec": {
   "display_name": "Python 3 (ipykernel)",
   "language": "python",
   "name": "python3"
  },
  "language_info": {
   "codemirror_mode": {
    "name": "ipython",
    "version": 3
   },
   "file_extension": ".py",
   "mimetype": "text/x-python",
   "name": "python",
   "nbconvert_exporter": "python",
   "pygments_lexer": "ipython3",
   "version": "3.9.7"
  }
 },
 "nbformat": 4,
 "nbformat_minor": 2
}
