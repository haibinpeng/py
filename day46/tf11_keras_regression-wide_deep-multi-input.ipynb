{
 "cells": [
  {
   "cell_type": "code",
   "execution_count": 2,
   "metadata": {},
   "outputs": [
    {
     "name": "stdout",
     "output_type": "stream",
     "text": [
      "2.9.1\n",
      "sys.version_info(major=3, minor=8, micro=10, releaselevel='final', serial=0)\n",
      "matplotlib 3.5.2\n",
      "numpy 1.23.1\n",
      "pandas 1.4.3\n",
      "sklearn 1.1.1\n",
      "tensorflow 2.9.1\n",
      "keras.api._v2.keras 2.9.0\n"
     ]
    }
   ],
   "source": [
    "import matplotlib as mpl\n",
    "import matplotlib.pyplot as plt\n",
    "%matplotlib inline\n",
    "import numpy as np\n",
    "import sklearn\n",
    "import pandas as pd\n",
    "import os\n",
    "import sys\n",
    "import time\n",
    "import tensorflow as tf\n",
    "\n",
    "from tensorflow import keras\n",
    "\n",
    "print(tf.__version__)\n",
    "print(sys.version_info)\n",
    "for module in mpl, np, pd, sklearn, tf, keras:\n",
    "    print(module.__name__, module.__version__)"
   ]
  },
  {
   "cell_type": "code",
   "execution_count": 3,
   "metadata": {},
   "outputs": [
    {
     "name": "stdout",
     "output_type": "stream",
     "text": [
      ".. _california_housing_dataset:\n",
      "\n",
      "California Housing dataset\n",
      "--------------------------\n",
      "\n",
      "**Data Set Characteristics:**\n",
      "\n",
      "    :Number of Instances: 20640\n",
      "\n",
      "    :Number of Attributes: 8 numeric, predictive attributes and the target\n",
      "\n",
      "    :Attribute Information:\n",
      "        - MedInc        median income in block group\n",
      "        - HouseAge      median house age in block group\n",
      "        - AveRooms      average number of rooms per household\n",
      "        - AveBedrms     average number of bedrooms per household\n",
      "        - Population    block group population\n",
      "        - AveOccup      average number of household members\n",
      "        - Latitude      block group latitude\n",
      "        - Longitude     block group longitude\n",
      "\n",
      "    :Missing Attribute Values: None\n",
      "\n",
      "This dataset was obtained from the StatLib repository.\n",
      "https://www.dcc.fc.up.pt/~ltorgo/Regression/cal_housing.html\n",
      "\n",
      "The target variable is the median house value for California districts,\n",
      "expressed in hundreds of thousands of dollars ($100,000).\n",
      "\n",
      "This dataset was derived from the 1990 U.S. census, using one row per census\n",
      "block group. A block group is the smallest geographical unit for which the U.S.\n",
      "Census Bureau publishes sample data (a block group typically has a population\n",
      "of 600 to 3,000 people).\n",
      "\n",
      "An household is a group of people residing within a home. Since the average\n",
      "number of rooms and bedrooms in this dataset are provided per household, these\n",
      "columns may take surpinsingly large values for block groups with few households\n",
      "and many empty houses, such as vacation resorts.\n",
      "\n",
      "It can be downloaded/loaded using the\n",
      ":func:`sklearn.datasets.fetch_california_housing` function.\n",
      "\n",
      ".. topic:: References\n",
      "\n",
      "    - Pace, R. Kelley and Ronald Barry, Sparse Spatial Autoregressions,\n",
      "      Statistics and Probability Letters, 33 (1997) 291-297\n",
      "\n",
      "(20640, 8)\n",
      "(20640,)\n"
     ]
    }
   ],
   "source": [
    "from sklearn.datasets import fetch_california_housing\n",
    "\n",
    "housing = fetch_california_housing()\n",
    "print(housing.DESCR)\n",
    "print(housing.data.shape)\n",
    "print(housing.target.shape)"
   ]
  },
  {
   "cell_type": "code",
   "execution_count": 4,
   "metadata": {},
   "outputs": [
    {
     "name": "stdout",
     "output_type": "stream",
     "text": [
      "(11610, 8) (11610,)\n",
      "(3870, 8) (3870,)\n",
      "(5160, 8) (5160,)\n"
     ]
    }
   ],
   "source": [
    "from sklearn.model_selection import train_test_split\n",
    "\n",
    "x_train_all, x_test, y_train_all, y_test = train_test_split(\n",
    "    housing.data, housing.target, random_state = 7)\n",
    "x_train, x_valid, y_train, y_valid = train_test_split(\n",
    "    x_train_all, y_train_all, random_state = 11)\n",
    "print(x_train.shape, y_train.shape)\n",
    "print(x_valid.shape, y_valid.shape)\n",
    "print(x_test.shape, y_test.shape)\n"
   ]
  },
  {
   "cell_type": "code",
   "execution_count": 5,
   "metadata": {},
   "outputs": [],
   "source": [
    "from sklearn.preprocessing import StandardScaler\n",
    "\n",
    "scaler = StandardScaler()\n",
    "x_train_scaled = scaler.fit_transform(x_train)\n",
    "x_valid_scaled = scaler.transform(x_valid)\n",
    "x_test_scaled = scaler.transform(x_test)"
   ]
  },
  {
   "cell_type": "code",
   "execution_count": 9,
   "metadata": {},
   "outputs": [
    {
     "name": "stdout",
     "output_type": "stream",
     "text": [
      "KerasTensor(type_spec=TensorSpec(shape=(None, 5), dtype=tf.float32, name='input_3'), name='input_3', description=\"created by layer 'input_3'\")\n",
      "<class 'keras.engine.keras_tensor.KerasTensor'>\n",
      "KerasTensor(type_spec=TensorSpec(shape=(None, 6), dtype=tf.float32, name='input_4'), name='input_4', description=\"created by layer 'input_4'\")\n",
      "<class 'keras.engine.keras_tensor.KerasTensor'>\n",
      "Model: \"model_1\"\n",
      "__________________________________________________________________________________________________\n",
      " Layer (type)                   Output Shape         Param #     Connected to                     \n",
      "==================================================================================================\n",
      " input_4 (InputLayer)           [(None, 6)]          0           []                               \n",
      "                                                                                                  \n",
      " dense_3 (Dense)                (None, 30)           210         ['input_4[0][0]']                \n",
      "                                                                                                  \n",
      " input_3 (InputLayer)           [(None, 5)]          0           []                               \n",
      "                                                                                                  \n",
      " dense_4 (Dense)                (None, 30)           930         ['dense_3[0][0]']                \n",
      "                                                                                                  \n",
      " concatenate_1 (Concatenate)    (None, 35)           0           ['input_3[0][0]',                \n",
      "                                                                  'dense_4[0][0]']                \n",
      "                                                                                                  \n",
      " dense_5 (Dense)                (None, 1)            36          ['concatenate_1[0][0]']          \n",
      "                                                                                                  \n",
      "==================================================================================================\n",
      "Total params: 1,176\n",
      "Trainable params: 1,176\n",
      "Non-trainable params: 0\n",
      "__________________________________________________________________________________________________\n"
     ]
    }
   ],
   "source": [
    "# 多输入，输入不再是同一个，wind和deep的输入不一样\n",
    "input_wide = keras.layers.Input(shape=[5])\n",
    "print(input_wide)\n",
    "print(type(input_wide))\n",
    "input_deep = keras.layers.Input(shape=[6])\n",
    "print(input_deep)\n",
    "print(type(input_deep))\n",
    "# deep的输入是input_deep，之前deep的输入就是input\n",
    "hidden1 = keras.layers.Dense(30, activation='relu')(input_deep)\n",
    "hidden2 = keras.layers.Dense(30, activation='relu')(hidden1)\n",
    "concat = keras.layers.concatenate([input_wide, hidden2])\n",
    "output = keras.layers.Dense(1)(concat)\n",
    "# 这里是多输入,Model的inputs如何给多个\n",
    "model = keras.models.Model(inputs = [input_wide, input_deep],\n",
    "                           outputs = [output])\n",
    "\n",
    "model.compile(loss=\"mean_squared_error\", optimizer=\"sgd\")\n",
    "callbacks = [keras.callbacks.EarlyStopping(patience=5, min_delta=1e-2)]\n",
    "model.summary()"
   ]
  },
  {
   "cell_type": "code",
   "execution_count": 10,
   "metadata": {},
   "outputs": [
    {
     "name": "stdout",
     "output_type": "stream",
     "text": [
      "[[ 0.80154431  0.27216142 -0.11624393 -0.20231151 -0.54305157]\n",
      " [-0.29807281  0.35226166 -0.10920508 -0.25055521 -0.03406402]\n",
      " [-0.03058829 -0.92934213  0.25962148 -0.00601274 -0.50040912]\n",
      " [ 1.90638325  0.51246213  0.4475828  -0.27672178 -0.63105833]\n",
      " [ 3.88017387 -0.92934213  1.29029867 -0.17269133 -0.22550141]]\n",
      "[[-0.11624393 -0.20231151 -0.54305157 -0.02103962 -0.58976206 -0.08241846]\n",
      " [-0.10920508 -0.25055521 -0.03406402 -0.006034    1.08055484 -1.06113817]\n",
      " [ 0.25962148 -0.00601274 -0.50040912 -0.03077987  1.59844639 -1.81515182]\n",
      " [ 0.4475828  -0.27672178 -0.63105833 -0.07081147 -0.7064043   0.74649722]\n",
      " [ 1.29029867 -0.17269133 -0.22550141  0.0514101  -0.84637499  0.88631432]]\n"
     ]
    }
   ],
   "source": [
    "# wide选的是前面5列，deep选的是后面6列（一共8列0-7，后面6列就是从2开始）\n",
    "x_train_scaled_wide = x_train_scaled[:, :5]\n",
    "x_train_scaled_deep = x_train_scaled[:, 2:]\n",
    "x_valid_scaled_wide = x_valid_scaled[:, :5]\n",
    "x_valid_scaled_deep = x_valid_scaled[:, 2:]\n",
    "x_test_scaled_wide = x_test_scaled[:, :5]\n",
    "x_test_scaled_deep = x_test_scaled[:, 2:]\n",
    "print(x_train_scaled_wide[:5])\n",
    "print(x_train_scaled_deep[:5])\n",
    "x_train_scaled_wide=x_train_scaled_wide[:10000]\n",
    "x_train_scaled_deep=x_train_scaled_deep[:10000]\n",
    "y_train=y_train[:10000]"
   ]
  },
  {
   "cell_type": "code",
   "execution_count": 11,
   "metadata": {},
   "outputs": [
    {
     "name": "stdout",
     "output_type": "stream",
     "text": [
      "Epoch 1/100\n",
      "313/313 [==============================] - 1s 2ms/step - loss: 0.9225 - val_loss: 0.5557\n",
      "Epoch 2/100\n",
      "313/313 [==============================] - 1s 2ms/step - loss: 0.4914 - val_loss: 0.4873\n",
      "Epoch 3/100\n",
      "313/313 [==============================] - 1s 2ms/step - loss: 0.4499 - val_loss: 0.4608\n",
      "Epoch 4/100\n",
      "313/313 [==============================] - 1s 2ms/step - loss: 0.4511 - val_loss: 0.4551\n",
      "Epoch 5/100\n",
      "313/313 [==============================] - 1s 2ms/step - loss: 0.4249 - val_loss: 0.7694\n",
      "Epoch 6/100\n",
      "313/313 [==============================] - 1s 2ms/step - loss: 0.4252 - val_loss: 0.4226\n",
      "Epoch 7/100\n",
      "313/313 [==============================] - 1s 2ms/step - loss: 0.4144 - val_loss: 0.4359\n",
      "Epoch 8/100\n",
      "313/313 [==============================] - 1s 2ms/step - loss: 0.3989 - val_loss: 0.4116\n",
      "Epoch 9/100\n",
      "313/313 [==============================] - 1s 2ms/step - loss: 0.3885 - val_loss: 0.4035\n",
      "Epoch 10/100\n",
      "313/313 [==============================] - 1s 2ms/step - loss: 0.3863 - val_loss: 0.4042\n",
      "Epoch 11/100\n",
      "313/313 [==============================] - 1s 2ms/step - loss: 0.3825 - val_loss: 0.3985\n",
      "Epoch 12/100\n",
      "313/313 [==============================] - 1s 2ms/step - loss: 0.3748 - val_loss: 0.4036\n",
      "Epoch 13/100\n",
      "313/313 [==============================] - 1s 2ms/step - loss: 0.3773 - val_loss: 0.3928\n",
      "Epoch 14/100\n",
      "313/313 [==============================] - 1s 2ms/step - loss: 0.3683 - val_loss: 0.3818\n",
      "Epoch 15/100\n",
      "313/313 [==============================] - 1s 2ms/step - loss: 0.3670 - val_loss: 0.3832\n",
      "Epoch 16/100\n",
      "313/313 [==============================] - 1s 2ms/step - loss: 0.3639 - val_loss: 0.3881\n",
      "Epoch 17/100\n",
      "313/313 [==============================] - 1s 2ms/step - loss: 0.3594 - val_loss: 0.4103\n",
      "Epoch 18/100\n",
      "313/313 [==============================] - 1s 2ms/step - loss: 0.3588 - val_loss: 0.3716\n",
      "Epoch 19/100\n",
      "313/313 [==============================] - 1s 2ms/step - loss: 0.3556 - val_loss: 0.3707\n",
      "Epoch 20/100\n",
      "313/313 [==============================] - 1s 2ms/step - loss: 0.3522 - val_loss: 0.3763\n",
      "Epoch 21/100\n",
      "313/313 [==============================] - 1s 2ms/step - loss: 0.3505 - val_loss: 0.3622\n",
      "Epoch 22/100\n",
      "313/313 [==============================] - 1s 2ms/step - loss: 0.3484 - val_loss: 0.3754\n",
      "Epoch 23/100\n",
      "313/313 [==============================] - 1s 2ms/step - loss: 0.3461 - val_loss: 0.3635\n"
     ]
    }
   ],
   "source": [
    "history = model.fit([x_train_scaled_wide, x_train_scaled_deep],\n",
    "                    y_train,\n",
    "                    validation_data = (\n",
    "                        [x_valid_scaled_wide, x_valid_scaled_deep],\n",
    "                        y_valid),\n",
    "                    epochs = 100,\n",
    "                    callbacks = callbacks)"
   ]
  },
  {
   "cell_type": "code",
   "execution_count": 12,
   "metadata": {},
   "outputs": [
    {
     "data": {
      "image/png": "[encoded data removed]",
      "text/plain": [
       "<Figure size 576x360 with 1 Axes>"
      ]
     },
     "metadata": {
      "needs_background": "light"
     },
     "output_type": "display_data"
    }
   ],
   "source": [
    "def plot_learning_curves(history):\n",
    "    pd.DataFrame(history.history).plot(figsize=(8, 5))\n",
    "    plt.grid(True)\n",
    "    plt.gca().set_ylim(0, 1)\n",
    "    plt.show()\n",
    "plot_learning_curves(history)"
   ]
  },
  {
   "cell_type": "code",
   "execution_count": 13,
   "metadata": {},
   "outputs": [
    {
     "data": {
      "text/plain": [
       "0.36218497157096863"
      ]
     },
     "execution_count": 13,
     "metadata": {},
     "output_type": "execute_result"
    }
   ],
   "source": [
    "model.evaluate([x_test_scaled_wide, x_test_scaled_deep], y_test, verbose=0)"
   ]
  }
 ],
 "metadata": {
  "kernelspec": {
   "display_name": "Python 3 (ipykernel)",
   "language": "python",
   "name": "python3"
  },
  "language_info": {
   "codemirror_mode": {
    "name": "ipython",
    "version": 3
   },
   "file_extension": ".py",
   "mimetype": "text/x-python",
   "name": "python",
   "nbconvert_exporter": "python",
   "pygments_lexer": "ipython3",
   "version": "3.8.10"
  }
 },
 "nbformat": 4,
 "nbformat_minor": 2
}
