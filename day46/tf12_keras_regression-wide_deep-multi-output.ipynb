{
 "cells": [
  {
   "cell_type": "code",
   "execution_count": 2,
   "metadata": {},
   "outputs": [
    {
     "name": "stdout",
     "output_type": "stream",
     "text": [
      "2.9.1\n",
      "sys.version_info(major=3, minor=8, micro=10, releaselevel='final', serial=0)\n",
      "matplotlib 3.5.2\n",
      "numpy 1.23.1\n",
      "pandas 1.4.3\n",
      "sklearn 1.1.1\n",
      "tensorflow 2.9.1\n",
      "keras.api._v2.keras 2.9.0\n"
     ]
    }
   ],
   "source": [
    "import matplotlib as mpl\n",
    "import matplotlib.pyplot as plt\n",
    "%matplotlib inline\n",
    "import numpy as np\n",
    "import sklearn\n",
    "import pandas as pd\n",
    "import os\n",
    "import sys\n",
    "import time\n",
    "import tensorflow as tf\n",
    "\n",
    "from tensorflow import keras\n",
    "\n",
    "print(tf.__version__)\n",
    "print(sys.version_info)\n",
    "for module in mpl, np, pd, sklearn, tf, keras:\n",
    "    print(module.__name__, module.__version__)"
   ]
  },
  {
   "cell_type": "code",
   "execution_count": 3,
   "metadata": {
    "scrolled": true
   },
   "outputs": [
    {
     "name": "stdout",
     "output_type": "stream",
     "text": [
      ".. _california_housing_dataset:\n",
      "\n",
      "California Housing dataset\n",
      "--------------------------\n",
      "\n",
      "**Data Set Characteristics:**\n",
      "\n",
      "    :Number of Instances: 20640\n",
      "\n",
      "    :Number of Attributes: 8 numeric, predictive attributes and the target\n",
      "\n",
      "    :Attribute Information:\n",
      "        - MedInc        median income in block group\n",
      "        - HouseAge      median house age in block group\n",
      "        - AveRooms      average number of rooms per household\n",
      "        - AveBedrms     average number of bedrooms per household\n",
      "        - Population    block group population\n",
      "        - AveOccup      average number of household members\n",
      "        - Latitude      block group latitude\n",
      "        - Longitude     block group longitude\n",
      "\n",
      "    :Missing Attribute Values: None\n",
      "\n",
      "This dataset was obtained from the StatLib repository.\n",
      "https://www.dcc.fc.up.pt/~ltorgo/Regression/cal_housing.html\n",
      "\n",
      "The target variable is the median house value for California districts,\n",
      "expressed in hundreds of thousands of dollars ($100,000).\n",
      "\n",
      "This dataset was derived from the 1990 U.S. census, using one row per census\n",
      "block group. A block group is the smallest geographical unit for which the U.S.\n",
      "Census Bureau publishes sample data (a block group typically has a population\n",
      "of 600 to 3,000 people).\n",
      "\n",
      "An household is a group of people residing within a home. Since the average\n",
      "number of rooms and bedrooms in this dataset are provided per household, these\n",
      "columns may take surpinsingly large values for block groups with few households\n",
      "and many empty houses, such as vacation resorts.\n",
      "\n",
      "It can be downloaded/loaded using the\n",
      ":func:`sklearn.datasets.fetch_california_housing` function.\n",
      "\n",
      ".. topic:: References\n",
      "\n",
      "    - Pace, R. Kelley and Ronald Barry, Sparse Spatial Autoregressions,\n",
      "      Statistics and Probability Letters, 33 (1997) 291-297\n",
      "\n",
      "(20640, 8)\n",
      "(20640,)\n"
     ]
    }
   ],
   "source": [
    "from sklearn.datasets import fetch_california_housing\n",
    "\n",
    "housing = fetch_california_housing()\n",
    "print(housing.DESCR)\n",
    "print(housing.data.shape)\n",
    "print(housing.target.shape)"
   ]
  },
  {
   "cell_type": "code",
   "execution_count": 4,
   "metadata": {},
   "outputs": [
    {
     "name": "stdout",
     "output_type": "stream",
     "text": [
      "(11610, 8) (11610,)\n",
      "(3870, 8) (3870,)\n",
      "(5160, 8) (5160,)\n"
     ]
    }
   ],
   "source": [
    "from sklearn.model_selection import train_test_split\n",
    "\n",
    "x_train_all, x_test, y_train_all, y_test = train_test_split(\n",
    "    housing.data, housing.target, random_state = 7)\n",
    "x_train, x_valid, y_train, y_valid = train_test_split(\n",
    "    x_train_all, y_train_all, random_state = 11)\n",
    "print(x_train.shape, y_train.shape)\n",
    "print(x_valid.shape, y_valid.shape)\n",
    "print(x_test.shape, y_test.shape)\n"
   ]
  },
  {
   "cell_type": "code",
   "execution_count": 5,
   "metadata": {},
   "outputs": [],
   "source": [
    "from sklearn.preprocessing import StandardScaler\n",
    "\n",
    "scaler = StandardScaler()\n",
    "x_train_scaled = scaler.fit_transform(x_train)\n",
    "x_valid_scaled = scaler.transform(x_valid)\n",
    "x_test_scaled = scaler.transform(x_test)"
   ]
  },
  {
   "cell_type": "code",
   "execution_count": 7,
   "metadata": {},
   "outputs": [
    {
     "name": "stdout",
     "output_type": "stream",
     "text": [
      "Model: \"model_1\"\n",
      "__________________________________________________________________________________________________\n",
      " Layer (type)                   Output Shape         Param #     Connected to                     \n",
      "==================================================================================================\n",
      " input_4 (InputLayer)           [(None, 6)]          0           []                               \n",
      "                                                                                                  \n",
      " dense_4 (Dense)                (None, 30)           210         ['input_4[0][0]']                \n",
      "                                                                                                  \n",
      " input_3 (InputLayer)           [(None, 5)]          0           []                               \n",
      "                                                                                                  \n",
      " dense_5 (Dense)                (None, 30)           930         ['dense_4[0][0]']                \n",
      "                                                                                                  \n",
      " concatenate_1 (Concatenate)    (None, 35)           0           ['input_3[0][0]',                \n",
      "                                                                  'dense_5[0][0]']                \n",
      "                                                                                                  \n",
      " dense_6 (Dense)                (None, 1)            36          ['concatenate_1[0][0]']          \n",
      "                                                                                                  \n",
      " dense_7 (Dense)                (None, 1)            31          ['dense_5[0][0]']                \n",
      "                                                                                                  \n",
      "==================================================================================================\n",
      "Total params: 1,207\n",
      "Trainable params: 1,207\n",
      "Non-trainable params: 0\n",
      "__________________________________________________________________________________________________\n"
     ]
    }
   ],
   "source": [
    "# 多输出\n",
    "input_wide = keras.layers.Input(shape=[5])\n",
    "input_deep = keras.layers.Input(shape=[6])\n",
    "hidden1 = keras.layers.Dense(30, activation='relu')(input_deep)\n",
    "hidden2 = keras.layers.Dense(30, activation='relu')(hidden1)\n",
    "concat = keras.layers.concatenate([input_wide, hidden2])\n",
    "output = keras.layers.Dense(1)(concat)\n",
    "# 多的输出，是使用hidden2作为一个输入，只用deep做预测\n",
    "output2 = keras.layers.Dense(1)(hidden2)\n",
    "model = keras.models.Model(inputs = [input_wide, input_deep],\n",
    "                           outputs = [output, output2])\n",
    "        \n",
    "model.compile(loss=\"mean_squared_error\", optimizer=\"sgd\")\n",
    "callbacks = [keras.callbacks.EarlyStopping(\n",
    "    patience=5, min_delta=1e-2)]\n",
    "model.summary()"
   ]
  },
  {
   "cell_type": "code",
   "execution_count": 8,
   "metadata": {},
   "outputs": [
    {
     "name": "stdout",
     "output_type": "stream",
     "text": [
      "Epoch 1/100\n",
      "363/363 [==============================] - 1s 2ms/step - loss: 1.7257 - dense_6_loss: 0.7118 - dense_7_loss: 1.0138 - val_loss: 1.2362 - val_dense_6_loss: 0.5168 - val_dense_7_loss: 0.7194\n",
      "Epoch 2/100\n",
      "363/363 [==============================] - 1s 2ms/step - loss: 1.0938 - dense_6_loss: 0.4586 - dense_7_loss: 0.6351 - val_loss: 1.1124 - val_dense_6_loss: 0.4695 - val_dense_7_loss: 0.6429\n",
      "Epoch 3/100\n",
      "363/363 [==============================] - 1s 2ms/step - loss: 0.9957 - dense_6_loss: 0.4357 - dense_7_loss: 0.5600 - val_loss: 1.0461 - val_dense_6_loss: 0.4309 - val_dense_7_loss: 0.6152\n",
      "Epoch 4/100\n",
      "363/363 [==============================] - 1s 2ms/step - loss: 0.9259 - dense_6_loss: 0.4059 - dense_7_loss: 0.5200 - val_loss: 0.9495 - val_dense_6_loss: 0.4212 - val_dense_7_loss: 0.5283\n",
      "Epoch 5/100\n",
      "363/363 [==============================] - 1s 2ms/step - loss: 0.8823 - dense_6_loss: 0.3891 - dense_7_loss: 0.4933 - val_loss: 0.8947 - val_dense_6_loss: 0.3962 - val_dense_7_loss: 0.4985\n",
      "Epoch 6/100\n",
      "363/363 [==============================] - 1s 2ms/step - loss: 0.8500 - dense_6_loss: 0.3784 - dense_7_loss: 0.4716 - val_loss: 0.9193 - val_dense_6_loss: 0.4265 - val_dense_7_loss: 0.4928\n",
      "Epoch 7/100\n",
      "363/363 [==============================] - 1s 2ms/step - loss: 0.8335 - dense_6_loss: 0.3759 - dense_7_loss: 0.4576 - val_loss: 0.8699 - val_dense_6_loss: 0.3904 - val_dense_7_loss: 0.4794\n",
      "Epoch 8/100\n",
      "363/363 [==============================] - 1s 2ms/step - loss: 0.8131 - dense_6_loss: 0.3664 - dense_7_loss: 0.4467 - val_loss: 0.8470 - val_dense_6_loss: 0.3818 - val_dense_7_loss: 0.4652\n",
      "Epoch 9/100\n",
      "363/363 [==============================] - 1s 2ms/step - loss: 0.7973 - dense_6_loss: 0.3600 - dense_7_loss: 0.4373 - val_loss: 0.9414 - val_dense_6_loss: 0.4168 - val_dense_7_loss: 0.5246\n",
      "Epoch 10/100\n",
      "363/363 [==============================] - 1s 2ms/step - loss: 0.7868 - dense_6_loss: 0.3573 - dense_7_loss: 0.4295 - val_loss: 0.7911 - val_dense_6_loss: 0.3613 - val_dense_7_loss: 0.4299\n",
      "Epoch 11/100\n",
      "363/363 [==============================] - 1s 2ms/step - loss: 0.7708 - dense_6_loss: 0.3509 - dense_7_loss: 0.4199 - val_loss: 0.7865 - val_dense_6_loss: 0.3593 - val_dense_7_loss: 0.4273\n",
      "Epoch 12/100\n",
      "363/363 [==============================] - 1s 2ms/step - loss: 0.7625 - dense_6_loss: 0.3478 - dense_7_loss: 0.4148 - val_loss: 0.7699 - val_dense_6_loss: 0.3506 - val_dense_7_loss: 0.4193\n",
      "Epoch 13/100\n",
      "363/363 [==============================] - 1s 2ms/step - loss: 0.7514 - dense_6_loss: 0.3428 - dense_7_loss: 0.4086 - val_loss: 0.7573 - val_dense_6_loss: 0.3488 - val_dense_7_loss: 0.4085\n",
      "Epoch 14/100\n",
      "363/363 [==============================] - 1s 2ms/step - loss: 0.7408 - dense_6_loss: 0.3392 - dense_7_loss: 0.4016 - val_loss: 0.7920 - val_dense_6_loss: 0.3615 - val_dense_7_loss: 0.4305\n",
      "Epoch 15/100\n",
      "363/363 [==============================] - 1s 2ms/step - loss: 0.7341 - dense_6_loss: 0.3361 - dense_7_loss: 0.3980 - val_loss: 0.7390 - val_dense_6_loss: 0.3419 - val_dense_7_loss: 0.3971\n",
      "Epoch 16/100\n",
      "363/363 [==============================] - 1s 2ms/step - loss: 0.7279 - dense_6_loss: 0.3341 - dense_7_loss: 0.3938 - val_loss: 0.7284 - val_dense_6_loss: 0.3366 - val_dense_7_loss: 0.3918\n",
      "Epoch 17/100\n",
      "363/363 [==============================] - 1s 2ms/step - loss: 0.7228 - dense_6_loss: 0.3316 - dense_7_loss: 0.3912 - val_loss: 0.7389 - val_dense_6_loss: 0.3411 - val_dense_7_loss: 0.3978\n",
      "Epoch 18/100\n",
      "363/363 [==============================] - 1s 2ms/step - loss: 0.7163 - dense_6_loss: 0.3288 - dense_7_loss: 0.3875 - val_loss: 0.7436 - val_dense_6_loss: 0.3410 - val_dense_7_loss: 0.4026\n",
      "Epoch 19/100\n",
      "363/363 [==============================] - 1s 2ms/step - loss: 0.7195 - dense_6_loss: 0.3306 - dense_7_loss: 0.3889 - val_loss: 0.7556 - val_dense_6_loss: 0.3667 - val_dense_7_loss: 0.3888\n",
      "Epoch 20/100\n",
      "363/363 [==============================] - 1s 2ms/step - loss: 0.7070 - dense_6_loss: 0.3255 - dense_7_loss: 0.3815 - val_loss: 0.7158 - val_dense_6_loss: 0.3306 - val_dense_7_loss: 0.3852\n",
      "Epoch 21/100\n",
      "363/363 [==============================] - 1s 2ms/step - loss: 0.7133 - dense_6_loss: 0.3286 - dense_7_loss: 0.3848 - val_loss: 0.7097 - val_dense_6_loss: 0.3279 - val_dense_7_loss: 0.3818\n",
      "Epoch 22/100\n",
      "363/363 [==============================] - 1s 2ms/step - loss: 0.7024 - dense_6_loss: 0.3230 - dense_7_loss: 0.3793 - val_loss: 0.7085 - val_dense_6_loss: 0.3282 - val_dense_7_loss: 0.3803\n",
      "Epoch 23/100\n",
      "363/363 [==============================] - 1s 2ms/step - loss: 0.7032 - dense_6_loss: 0.3249 - dense_7_loss: 0.3783 - val_loss: 0.7044 - val_dense_6_loss: 0.3261 - val_dense_7_loss: 0.3782\n",
      "Epoch 24/100\n",
      "363/363 [==============================] - 1s 2ms/step - loss: 0.6953 - dense_6_loss: 0.3200 - dense_7_loss: 0.3753 - val_loss: 0.7395 - val_dense_6_loss: 0.3363 - val_dense_7_loss: 0.4032\n",
      "Epoch 25/100\n",
      "363/363 [==============================] - 1s 2ms/step - loss: 0.7021 - dense_6_loss: 0.3245 - dense_7_loss: 0.3776 - val_loss: 0.7182 - val_dense_6_loss: 0.3288 - val_dense_7_loss: 0.3893\n",
      "Epoch 26/100\n",
      "363/363 [==============================] - 1s 2ms/step - loss: 0.6887 - dense_6_loss: 0.3178 - dense_7_loss: 0.3710 - val_loss: 0.7081 - val_dense_6_loss: 0.3264 - val_dense_7_loss: 0.3817\n",
      "Epoch 27/100\n",
      "363/363 [==============================] - 1s 2ms/step - loss: 0.6899 - dense_6_loss: 0.3181 - dense_7_loss: 0.3718 - val_loss: 0.7185 - val_dense_6_loss: 0.3312 - val_dense_7_loss: 0.3873\n",
      "Epoch 28/100\n",
      "363/363 [==============================] - 1s 2ms/step - loss: 0.6870 - dense_6_loss: 0.3172 - dense_7_loss: 0.3697 - val_loss: 0.7611 - val_dense_6_loss: 0.3466 - val_dense_7_loss: 0.4145\n"
     ]
    }
   ],
   "source": [
    "x_train_scaled_wide = x_train_scaled[:, :5]\n",
    "x_train_scaled_deep = x_train_scaled[:, 2:]\n",
    "x_valid_scaled_wide = x_valid_scaled[:, :5]\n",
    "x_valid_scaled_deep = x_valid_scaled[:, 2:]\n",
    "x_test_scaled_wide = x_test_scaled[:, :5]\n",
    "x_test_scaled_deep = x_test_scaled[:, 2:]\n",
    "\n",
    "# 因为有多个output，所以需要有多个y\n",
    "history = model.fit([x_train_scaled_wide, x_train_scaled_deep],\n",
    "                    [y_train, y_train],\n",
    "                    validation_data = (\n",
    "                        [x_valid_scaled_wide, x_valid_scaled_deep],\n",
    "                        [y_valid, y_valid]),\n",
    "                    epochs = 100,\n",
    "                    callbacks = callbacks)"
   ]
  },
  {
   "cell_type": "code",
   "execution_count": 9,
   "metadata": {},
   "outputs": [
    {
     "name": "stdout",
     "output_type": "stream",
     "text": [
      "{'loss': [1.725669264793396, 1.093778371810913, 0.9957433342933655, 0.9258897304534912, 0.8823041319847107, 0.8500095009803772, 0.8334752917289734, 0.813149094581604, 0.7973303198814392, 0.7868197560310364, 0.7708067297935486, 0.7625411152839661, 0.7513846755027771, 0.7407735586166382, 0.7341181039810181, 0.727911114692688, 0.7228460907936096, 0.7163286209106445, 0.7194739580154419, 0.7069661617279053, 0.713340699672699, 0.702363908290863, 0.7031678557395935, 0.6953387260437012, 0.7020865082740784, 0.688742458820343, 0.6899184584617615, 0.6869584918022156], 'dense_6_loss': [0.711849570274353, 0.458631694316864, 0.43574056029319763, 0.4058510959148407, 0.3890500068664551, 0.37844976782798767, 0.37588274478912354, 0.3664243221282959, 0.3600231111049652, 0.3573211431503296, 0.3509455621242523, 0.3477526605129242, 0.34282732009887695, 0.3391807973384857, 0.33614641427993774, 0.33411499857902527, 0.33161574602127075, 0.32883262634277344, 0.33057522773742676, 0.3254900276660919, 0.32857629656791687, 0.32301750779151917, 0.3249127268791199, 0.3200068771839142, 0.3244588375091553, 0.31776732206344604, 0.3181050419807434, 0.31722256541252136], 'dense_7_loss': [1.013821005821228, 0.6351470351219177, 0.5600022673606873, 0.5200387835502625, 0.493254154920578, 0.4715595841407776, 0.4575924575328827, 0.44672495126724243, 0.4373074173927307, 0.42949816584587097, 0.4198618531227112, 0.41478827595710754, 0.40855783224105835, 0.40159279108047485, 0.3979713022708893, 0.39379626512527466, 0.39123019576072693, 0.3874959945678711, 0.388898640871048, 0.38147568702697754, 0.38476449251174927, 0.3793458640575409, 0.37825480103492737, 0.37533167004585266, 0.3776272237300873, 0.37097489833831787, 0.3718130588531494, 0.3697357177734375], 'val_loss': [1.2362065315246582, 1.1124216318130493, 1.0460503101348877, 0.9495272636413574, 0.8946648836135864, 0.9192792177200317, 0.8698597550392151, 0.8470416069030762, 0.9414034485816956, 0.7911444902420044, 0.7865215539932251, 0.7699386477470398, 0.7572506070137024, 0.7920173406600952, 0.7390142679214478, 0.7284001708030701, 0.7389459013938904, 0.7436299324035645, 0.7555686831474304, 0.7158217430114746, 0.7096884250640869, 0.7085395455360413, 0.7043965458869934, 0.7394543290138245, 0.718153715133667, 0.7081155776977539, 0.7185022830963135, 0.7610823512077332], 'val_dense_6_loss': [0.5168380737304688, 0.4694855511188507, 0.4308728575706482, 0.4212339222431183, 0.39620453119277954, 0.42647814750671387, 0.3904142379760742, 0.3818413019180298, 0.4168412387371063, 0.3612860441207886, 0.3592665493488312, 0.35063114762306213, 0.348800390958786, 0.36148157715797424, 0.3419150710105896, 0.3365745544433594, 0.3411264717578888, 0.3410044014453888, 0.3667494058609009, 0.3305981457233429, 0.32786881923675537, 0.3282398581504822, 0.3261469602584839, 0.33630120754241943, 0.3288092017173767, 0.32642433047294617, 0.3311987519264221, 0.34662964940071106], 'val_dense_7_loss': [0.7193685173988342, 0.6429360508918762, 0.6151774525642395, 0.5282931327819824, 0.4984605610370636, 0.49280089139938354, 0.4794456362724304, 0.46520060300827026, 0.5245622992515564, 0.42985859513282776, 0.4272550642490387, 0.4193076193332672, 0.40845027565956116, 0.4305359125137329, 0.3970995247364044, 0.3918255865573883, 0.3978192210197449, 0.40262553095817566, 0.38881921768188477, 0.38522377610206604, 0.3818194270133972, 0.38029974699020386, 0.3782498836517334, 0.40315279364585876, 0.3893444538116455, 0.38169100880622864, 0.3873034119606018, 0.4144524335861206]}\n"
     ]
    }
   ],
   "source": [
    "print(history.history)"
   ]
  },
  {
   "cell_type": "code",
   "execution_count": 10,
   "metadata": {},
   "outputs": [
    {
     "data": {
      "image/png": "[encoded data removed]",
      "text/plain": [
       "<Figure size 576x360 with 1 Axes>"
      ]
     },
     "metadata": {
      "needs_background": "light"
     },
     "output_type": "display_data"
    }
   ],
   "source": [
    "def plot_learning_curves(history):\n",
    "    pd.DataFrame(history.history).plot(figsize=(8, 5))\n",
    "    plt.grid(True)\n",
    "    plt.gca().set_ylim(0, 2)\n",
    "    plt.show()\n",
    "plot_learning_curves(history)"
   ]
  },
  {
   "cell_type": "code",
   "execution_count": 11,
   "metadata": {},
   "outputs": [
    {
     "data": {
      "text/plain": [
       "[0.7439249157905579, 0.34518104791641235, 0.3987436592578888]"
      ]
     },
     "execution_count": 11,
     "metadata": {},
     "output_type": "execute_result"
    }
   ],
   "source": [
    "model.evaluate([x_test_scaled_wide, x_test_scaled_deep],\n",
    "               [y_test, y_test], verbose=0)"
   ]
  }
 ],
 "metadata": {
  "kernelspec": {
   "display_name": "Python 3 (ipykernel)",
   "language": "python",
   "name": "python3"
  },
  "language_info": {
   "codemirror_mode": {
    "name": "ipython",
    "version": 3
   },
   "file_extension": ".py",
   "mimetype": "text/x-python",
   "name": "python",
   "nbconvert_exporter": "python",
   "pygments_lexer": "ipython3",
   "version": "3.8.10"
  }
 },
 "nbformat": 4,
 "nbformat_minor": 2
}
