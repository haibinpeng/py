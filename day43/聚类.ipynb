{
 "cells": [
  {
   "cell_type": "code",
   "execution_count": null,
   "metadata": {
    "collapsed": true
   },
   "outputs": [],
   "source": [
    "import pandas as pd\n",
    "from sklearn.decomposition import PCA\n",
    "from sklearn.cluster import KMeans\n",
    "import matplotlib.pyplot as plt\n",
    "from sklearn.metrics import silhouette_score"
   ]
  },
  {
   "cell_type": "markdown",
   "source": [
    "# 聚类"
   ],
   "metadata": {
    "collapsed": false,
    "pycharm": {
     "name": "#%% md\n"
    }
   }
  },
  {
   "cell_type": "code",
   "execution_count": null,
   "outputs": [],
   "source": [
    "# 读取数据，四张表\n",
    "# 读取了订单和产品的关联\n",
    "prior = pd.read_csv(\"./data/instacart/order_products__prior.csv\")\n",
    "print(prior.head())\n",
    "print()\n",
    "# 产品id和产品名称的对应\n",
    "products = pd.read_csv(\"./data/instacart/products.csv\")\n",
    "print(products.head())\n",
    "print()\n",
    "# 订单id和用户id的对应\n",
    "orders = pd.read_csv(\"./data/instacart/orders.csv\")\n",
    "print(orders.head())\n",
    "print()\n",
    "# 超市的过道/过道放的产品品类\n",
    "aisles = pd.read_csv(\"./data/instacart/aisles.csv\")\n",
    "print(aisles.head())\n",
    "print()\n",
    "\n",
    "# 合并四张表成一张表（用户-物品类别）\n",
    "_mg = pd.merge(prior, products, on=['product_id', 'product_id'])\n",
    "_mg = pd.merge(_mg, orders, on=['order_id', 'order_id'])\n",
    "mt = pd.merge(_mg, aisles, on=['aisle_id', 'aisle_id'])\n",
    "print(mt.head())\n",
    "print(mt.shape)\n",
    "print()\n",
    "\n",
    "# 交叉表（特殊的分组工具）\n",
    "cross = pd.crosstab(mt['user_id'], mt['aisle'])\n",
    "print(cross.head())\n",
    "print(cross.shape)\n",
    "print()\n",
    "\n",
    "# 数据截取\n",
    "table = cross[:100]\n",
    "\n",
    "# 特征工程(pca)\n",
    "# 主成分分析进行特征降维\n",
    "# n_components:小数 业界选择 90~95%\n",
    "# n_components:整数 减少到的特征数量\n",
    "pca = PCA(n_components=0.9)\n",
    "data = pca.fit_transform(table)  # 聚类是无监督学习，没有目标值\n",
    "\n",
    "# 机器学习（k-means）\n",
    "# 假设用户一共分为四个类别\n",
    "km = KMeans(n_clusters=4,random_state=22)\n",
    "km.fit(data)\n",
    "\n",
    "# 模型预测\n",
    "predict = km.predict(data)\n",
    "print(predict)\n",
    "print(len(predict))\n",
    "\n",
    "# 模型评估\n",
    "silhouette_score(data, predict)\n",
    "\n",
    "# 显示聚类的结果\n",
    "plt.figure(figsize=(20, 20))\n",
    "color = ['orange', 'green', 'blue', 'purple']\n",
    "col = [color[i] for i in predict]\n",
    "# 取任意两个特征看聚类的图\n",
    "plt.scatter(x[:,2], x[:,20], color=col)\n",
    "plt.show()\n",
    "\n",
    "# n_clusters分为2个类别时\n",
    "km = KMeans(n_clusters=2, random_state=22)\n",
    "km.fit(data)\n",
    "predict = km.predict(data)\n",
    "silhouette_score(data, predict)\n",
    "\n",
    "# n_clusters分为3个类别时\n",
    "km = KMeans(n_clusters=3, random_state=22)\n",
    "km.fit(data)\n",
    "predict = km.predict(data)\n",
    "silhouette_score(data, predict)"
   ],
   "metadata": {
    "collapsed": false,
    "pycharm": {
     "name": "#%%\n"
    }
   }
  }
 ],
 "metadata": {
  "kernelspec": {
   "display_name": "Python 3",
   "language": "python",
   "name": "python3"
  },
  "language_info": {
   "codemirror_mode": {
    "name": "ipython",
    "version": 2
   },
   "file_extension": ".py",
   "mimetype": "text/x-python",
   "name": "python",
   "nbconvert_exporter": "python",
   "pygments_lexer": "ipython2",
   "version": "2.7.6"
  }
 },
 "nbformat": 4,
 "nbformat_minor": 0
}