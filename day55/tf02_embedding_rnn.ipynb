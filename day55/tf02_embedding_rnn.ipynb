{
 "cells": [
  {
   "cell_type": "code",
   "execution_count": 1,
   "metadata": {},
   "outputs": [
    {
     "name": "stdout",
     "output_type": "stream",
     "text": [
      "2.9.1\n",
      "sys.version_info(major=3, minor=9, micro=7, releaselevel='final', serial=0)\n",
      "matplotlib 3.5.2\n",
      "numpy 1.23.0\n",
      "pandas 1.4.3\n",
      "sklearn 1.1.1\n",
      "tensorflow 2.9.1\n",
      "keras.api._v2.keras 2.9.0\n"
     ]
    }
   ],
   "source": [
    "import matplotlib as mpl\n",
    "import matplotlib.pyplot as plt\n",
    "%matplotlib inline\n",
    "import numpy as np\n",
    "import sklearn\n",
    "import pandas as pd\n",
    "import os\n",
    "import sys\n",
    "import time\n",
    "import tensorflow as tf\n",
    "\n",
    "from tensorflow import keras\n",
    "\n",
    "print(tf.__version__)\n",
    "print(sys.version_info)\n",
    "for module in mpl, np, pd, sklearn, tf, keras:\n",
    "    print(module.__name__, module.__version__)\n"
   ]
  },
  {
   "cell_type": "code",
   "execution_count": 2,
   "metadata": {},
   "outputs": [],
   "source": [
    "imdb = keras.datasets.imdb\n",
    "vocab_size = 10000\n",
    "index_from = 3\n",
    "(train_data, train_labels), (test_data, test_labels) = imdb.load_data(\n",
    "    num_words = vocab_size, index_from = index_from)"
   ]
  },
  {
   "cell_type": "code",
   "execution_count": 3,
   "metadata": {},
   "outputs": [
    {
     "name": "stdout",
     "output_type": "stream",
     "text": [
      "88584\n"
     ]
    }
   ],
   "source": [
    "word_index = imdb.get_word_index()\n",
    "print(len(word_index))"
   ]
  },
  {
   "cell_type": "code",
   "execution_count": 4,
   "metadata": {},
   "outputs": [],
   "source": [
    "word_index = {k:(v+3) for k, v in word_index.items()}"
   ]
  },
  {
   "cell_type": "code",
   "execution_count": 5,
   "metadata": {},
   "outputs": [
    {
     "name": "stdout",
     "output_type": "stream",
     "text": [
      "[1, 14, 22, 16, 43, 530, 973, 1622, 1385, 65, 458, 4468, 66, 3941, 4, 173, 36, 256, 5, 25, 100, 43, 838, 112, 50, 670, 2, 9, 35, 480, 284, 5, 150, 4, 172, 112, 167, 2, 336, 385, 39, 4, 172, 4536, 1111, 17, 546, 38, 13, 447, 4, 192, 50, 16, 6, 147, 2025, 19, 14, 22, 4, 1920, 4613, 469, 4, 22, 71, 87, 12, 16, 43, 530, 38, 76, 15, 13, 1247, 4, 22, 17, 515, 17, 12, 16, 626, 18, 2, 5, 62, 386, 12, 8, 316, 8, 106, 5, 4, 2223, 5244, 16, 480, 66, 3785, 33, 4, 130, 12, 16, 38, 619, 5, 25, 124, 51, 36, 135, 48, 25, 1415, 33, 6, 22, 12, 215, 28, 77, 52, 5, 14, 407, 16, 82, 2, 8, 4, 107, 117, 5952, 15, 256, 4, 2, 7, 3766, 5, 723, 36, 71, 43, 530, 476, 26, 400, 317, 46, 7, 4, 2, 1029, 13, 104, 88, 4, 381, 15, 297, 98, 32, 2071, 56, 26, 141, 6, 194, 7486, 18, 4, 226, 22, 21, 134, 476, 26, 480, 5, 144, 30, 5535, 18, 51, 36, 28, 224, 92, 25, 104, 4, 226, 65, 16, 38, 1334, 88, 12, 16, 283, 5, 16, 4472, 113, 103, 32, 15, 16, 5345, 19, 178, 32]\n"
     ]
    }
   ],
   "source": [
    "print(train_data[0])"
   ]
  },
  {
   "cell_type": "code",
   "execution_count": 7,
   "metadata": {},
   "outputs": [
    {
     "data": {
      "text/plain": [
       "\"<START> this film was just brilliant casting location scenery story direction everyone's really suited the part they played and you could just imagine being there robert <UNK> is an amazing actor and now the same being director <UNK> father came from the same scottish island as myself so i loved the fact there was a real connection with this film the witty remarks throughout the film were great it was just brilliant so much that i bought the film as soon as it was released for <UNK> and would recommend it to everyone to watch and the fly fishing was amazing really cried at the end it was so sad and you know what they say if you cry at a film it must have been good and this definitely was also <UNK> to the two little boy's that played the <UNK> of norman and paul they were just brilliant children are often left out of the <UNK> list i think because the stars that play them all grown up are such a big profile for the whole film but these children are amazing and should be praised for what they have done don't you think the whole story was so lovely because it was true and was someone's life after all that was shared with us all\""
      ]
     },
     "execution_count": 7,
     "metadata": {},
     "output_type": "execute_result"
    }
   ],
   "source": [
    "word_index['<PAD>'] = 0\n",
    "word_index['<START>'] = 1\n",
    "word_index['<UNK>'] = 2\n",
    "word_index['<END>'] = 3\n",
    "\n",
    "reverse_word_index = dict(\n",
    "    [(value, key) for key, value in word_index.items()])\n",
    "\n",
    "def decode_review(text_ids):\n",
    "    return ' '.join(\n",
    "        [reverse_word_index.get(word_id, \"<UNK>\") for word_id in text_ids])\n",
    "\n",
    "decode_review(train_data[0])"
   ]
  },
  {
   "cell_type": "code",
   "execution_count": 8,
   "metadata": {},
   "outputs": [
    {
     "name": "stdout",
     "output_type": "stream",
     "text": [
      "[   1  194 1153  194 8255   78  228    5    6 1463 4369 5012  134   26\n",
      "    4  715    8  118 1634   14  394   20   13  119  954  189  102    5\n",
      "  207  110 3103   21   14   69  188    8   30   23    7    4  249  126\n",
      "   93    4  114    9 2300 1523    5  647    4  116    9   35 8163    4\n",
      "  229    9  340 1322    4  118    9    4  130 4901   19    4 1002    5\n",
      "   89   29  952   46   37    4  455    9   45   43   38 1543 1905  398\n",
      "    4 1649   26 6853    5  163   11 3215    2    4 1153    9  194  775\n",
      "    7 8255    2  349 2637  148  605    2 8003   15  123  125   68    2\n",
      " 6853   15  349  165 4362   98    5    4  228    9   43    2 1157   15\n",
      "  299  120    5  120  174   11  220  175  136   50    9 4373  228 8255\n",
      "    5    2  656  245 2350    5    4 9837  131  152  491   18    2   32\n",
      " 7464 1212   14    9    6  371   78   22  625   64 1382    9    8  168\n",
      "  145   23    4 1690   15   16    4 1355    5   28    6   52  154  462\n",
      "   33   89   78  285   16  145   95    0    0    0    0    0    0    0\n",
      "    0    0    0    0    0    0    0    0    0    0    0    0    0    0\n",
      "    0    0    0    0    0    0    0    0    0    0    0    0    0    0\n",
      "    0    0    0    0    0    0    0    0    0    0    0    0    0    0\n",
      "    0    0    0    0    0    0    0    0    0    0    0    0    0    0\n",
      "    0    0    0    0    0    0    0    0    0    0    0    0    0    0\n",
      "    0    0    0    0    0    0    0    0    0    0    0    0    0    0\n",
      "    0    0    0    0    0    0    0    0    0    0    0    0    0    0\n",
      "    0    0    0    0    0    0    0    0    0    0    0    0    0    0\n",
      "    0    0    0    0    0    0    0    0    0    0    0    0    0    0\n",
      "    0    0    0    0    0    0    0    0    0    0    0    0    0    0\n",
      "    0    0    0    0    0    0    0    0    0    0    0    0    0    0\n",
      "    0    0    0    0    0    0    0    0    0    0    0    0    0    0\n",
      "    0    0    0    0    0    0    0    0    0    0    0    0    0    0\n",
      "    0    0    0    0    0    0    0    0    0    0    0    0    0    0\n",
      "    0    0    0    0    0    0    0    0    0    0    0    0    0    0\n",
      "    0    0    0    0    0    0    0    0    0    0    0    0    0    0\n",
      "    0    0    0    0    0    0    0    0    0    0    0    0    0    0\n",
      "    0    0    0    0    0    0    0    0    0    0    0    0    0    0\n",
      "    0    0    0    0    0    0    0    0    0    0    0    0    0    0\n",
      "    0    0    0    0    0    0    0    0    0    0    0    0    0    0\n",
      "    0    0    0    0    0    0    0    0    0    0    0    0    0    0\n",
      "    0    0    0    0    0    0    0    0    0    0]\n"
     ]
    }
   ],
   "source": [
    "max_length = 500\n",
    "\n",
    "train_data = keras.preprocessing.sequence.pad_sequences(\n",
    "    train_data,  # list of list\n",
    "    value = word_index['<PAD>'],\n",
    "    padding = 'post',  # post, pre\n",
    "    maxlen = max_length)\n",
    "\n",
    "test_data = keras.preprocessing.sequence.pad_sequences(\n",
    "    test_data,  # list of list\n",
    "    value = word_index['<PAD>'],\n",
    "    padding = 'post',  # post, pre\n",
    "    maxlen = max_length)\n",
    "\n",
    "print(train_data[1])"
   ]
  },
  {
   "cell_type": "code",
   "execution_count": 9,
   "metadata": {},
   "outputs": [
    {
     "name": "stdout",
     "output_type": "stream",
     "text": [
      "Model: \"sequential\"\n",
      "_________________________________________________________________\n",
      " Layer (type)                Output Shape              Param #   \n",
      "=================================================================\n",
      " embedding (Embedding)       (None, 500, 16)           160000    \n",
      "                                                                 \n",
      " simple_rnn (SimpleRNN)      (None, 64)                5184      \n",
      "                                                                 \n",
      " dense (Dense)               (None, 64)                4160      \n",
      "                                                                 \n",
      " dense_1 (Dense)             (None, 1)                 65        \n",
      "                                                                 \n",
      "=================================================================\n",
      "Total params: 169,409\n",
      "Trainable params: 169,409\n",
      "Non-trainable params: 0\n",
      "_________________________________________________________________\n"
     ]
    }
   ],
   "source": [
    "embedding_dim = 16\n",
    "batch_size = 512\n",
    "# 相对于之前主要改的是这里\n",
    "single_rnn_model = keras.models.Sequential([\n",
    "    # 1. define matrix: [vocab_size, embedding_dim]\n",
    "    # 2. [1,2,3,4..], max_length * embedding_dim\n",
    "    # 3. batch_size * max_length * embedding_dim\n",
    "    keras.layers.Embedding(vocab_size, embedding_dim,\n",
    "                           input_length = max_length),\n",
    "    # return_sequences是返回输出序列中的最后一个输出还是完整序列,False就是返回最后一个\n",
    "    keras.layers.SimpleRNN(units = 64, return_sequences = False),\n",
    "    keras.layers.Dense(64, activation = 'relu'),\n",
    "    keras.layers.Dense(1, activation='sigmoid'),\n",
    "])\n",
    "\n",
    "single_rnn_model.summary()\n",
    "single_rnn_model.compile(optimizer = 'adam',\n",
    "                         loss = 'binary_crossentropy',\n",
    "                         metrics = ['accuracy'])"
   ]
  },
  {
   "cell_type": "code",
   "execution_count": 10,
   "metadata": {},
   "outputs": [
    {
     "data": {
      "text/plain": [
       "4160"
      ]
     },
     "execution_count": 10,
     "metadata": {},
     "output_type": "execute_result"
    }
   ],
   "source": [
    "64*64+64"
   ]
  },
  {
   "cell_type": "code",
   "execution_count": 11,
   "metadata": {},
   "outputs": [
    {
     "data": {
      "text/plain": [
       "5184"
      ]
     },
     "execution_count": 11,
     "metadata": {},
     "output_type": "execute_result"
    }
   ],
   "source": [
    "16*64+64*64+64"
   ]
  },
  {
   "cell_type": "code",
   "execution_count": 12,
   "metadata": {},
   "outputs": [
    {
     "data": {
      "text/plain": [
       "[<tf.Variable 'embedding/embeddings:0' shape=(10000, 16) dtype=float32, numpy=\n",
       " array([[ 0.00604207,  0.01461054, -0.02242902, ..., -0.02690858,\n",
       "          0.0210441 , -0.0215456 ],\n",
       "        [-0.00756894, -0.02948549, -0.04172619, ...,  0.03427619,\n",
       "         -0.01418797, -0.01363814],\n",
       "        [ 0.04765723, -0.01734861,  0.02706269, ...,  0.02328638,\n",
       "         -0.03743243,  0.00589164],\n",
       "        ...,\n",
       "        [-0.01173525, -0.00503498,  0.04445739, ..., -0.03746833,\n",
       "          0.04376042,  0.00352485],\n",
       "        [ 0.01727838,  0.00669666, -0.04644064, ..., -0.02577463,\n",
       "          0.03590597, -0.03302183],\n",
       "        [ 0.02804257,  0.02367513,  0.03421286, ...,  0.00043613,\n",
       "          0.01747378,  0.00069573]], dtype=float32)>,\n",
       " <tf.Variable 'simple_rnn/simple_rnn_cell/kernel:0' shape=(16, 64) dtype=float32, numpy=\n",
       " array([[ 0.08796629, -0.05376421,  0.0710409 , ...,  0.07882252,\n",
       "         -0.13089243,  0.17443052],\n",
       "        [ 0.1894038 ,  0.22253579, -0.22044855, ..., -0.25774565,\n",
       "          0.15224212,  0.19265333],\n",
       "        [-0.17898901,  0.04465854, -0.0955151 , ...,  0.04611251,\n",
       "         -0.0661203 , -0.05046014],\n",
       "        ...,\n",
       "        [-0.03898108,  0.23648566,  0.265859  , ..., -0.21315037,\n",
       "         -0.12801094, -0.18288821],\n",
       "        [ 0.03439876, -0.02362749,  0.09502512, ...,  0.09944963,\n",
       "          0.11646456, -0.1486726 ],\n",
       "        [-0.13312449, -0.20631863,  0.07114661, ...,  0.10133007,\n",
       "         -0.26946813, -0.18696344]], dtype=float32)>,\n",
       " <tf.Variable 'simple_rnn/simple_rnn_cell/recurrent_kernel:0' shape=(64, 64) dtype=float32, numpy=\n",
       " array([[-0.08666968, -0.02744036, -0.16587755, ..., -0.21894835,\n",
       "          0.11634187,  0.2897039 ],\n",
       "        [-0.15196303, -0.05926263, -0.16166335, ...,  0.15624532,\n",
       "          0.13775165, -0.00126611],\n",
       "        [ 0.03304327, -0.13787064,  0.12391222, ..., -0.02406196,\n",
       "         -0.14916286,  0.03278763],\n",
       "        ...,\n",
       "        [ 0.05439721, -0.02429088,  0.13677685, ...,  0.00354792,\n",
       "          0.01776445,  0.10570824],\n",
       "        [-0.15468109, -0.03618662, -0.0222609 , ..., -0.11757657,\n",
       "          0.06389539,  0.21432209],\n",
       "        [ 0.0749801 ,  0.02434894,  0.05777273, ..., -0.02139952,\n",
       "          0.1760669 ,  0.20145464]], dtype=float32)>,\n",
       " <tf.Variable 'simple_rnn/simple_rnn_cell/bias:0' shape=(64,) dtype=float32, numpy=\n",
       " array([0., 0., 0., 0., 0., 0., 0., 0., 0., 0., 0., 0., 0., 0., 0., 0., 0.,\n",
       "        0., 0., 0., 0., 0., 0., 0., 0., 0., 0., 0., 0., 0., 0., 0., 0., 0.,\n",
       "        0., 0., 0., 0., 0., 0., 0., 0., 0., 0., 0., 0., 0., 0., 0., 0., 0.,\n",
       "        0., 0., 0., 0., 0., 0., 0., 0., 0., 0., 0., 0., 0.], dtype=float32)>,\n",
       " <tf.Variable 'dense/kernel:0' shape=(64, 64) dtype=float32, numpy=\n",
       " array([[ 0.03032675,  0.17880695,  0.05906437, ..., -0.15988094,\n",
       "         -0.02140769, -0.0502599 ],\n",
       "        [ 0.14484034,  0.20834439, -0.14762634, ...,  0.19590093,\n",
       "         -0.17167471, -0.0574187 ],\n",
       "        [-0.20224057, -0.03635392,  0.02637103, ...,  0.10576095,\n",
       "          0.16734396, -0.0023561 ],\n",
       "        ...,\n",
       "        [ 0.05047686,  0.21645613,  0.07323764, ..., -0.03974776,\n",
       "          0.01597534, -0.0526991 ],\n",
       "        [-0.17562725,  0.18466605, -0.00497748, ...,  0.13595717,\n",
       "          0.1645854 , -0.06151153],\n",
       "        [-0.01898052, -0.19713064, -0.21374415, ...,  0.01572882,\n",
       "          0.125594  , -0.21277888]], dtype=float32)>,\n",
       " <tf.Variable 'dense/bias:0' shape=(64,) dtype=float32, numpy=\n",
       " array([0., 0., 0., 0., 0., 0., 0., 0., 0., 0., 0., 0., 0., 0., 0., 0., 0.,\n",
       "        0., 0., 0., 0., 0., 0., 0., 0., 0., 0., 0., 0., 0., 0., 0., 0., 0.,\n",
       "        0., 0., 0., 0., 0., 0., 0., 0., 0., 0., 0., 0., 0., 0., 0., 0., 0.,\n",
       "        0., 0., 0., 0., 0., 0., 0., 0., 0., 0., 0., 0., 0.], dtype=float32)>,\n",
       " <tf.Variable 'dense_1/kernel:0' shape=(64, 1) dtype=float32, numpy=\n",
       " array([[ 0.11551476],\n",
       "        [-0.01605663],\n",
       "        [-0.08753207],\n",
       "        [ 0.22323358],\n",
       "        [-0.19503765],\n",
       "        [-0.04596418],\n",
       "        [-0.24059516],\n",
       "        [-0.18063338],\n",
       "        [-0.0655825 ],\n",
       "        [-0.14128675],\n",
       "        [-0.014494  ],\n",
       "        [-0.24873437],\n",
       "        [-0.29109785],\n",
       "        [ 0.2610857 ],\n",
       "        [-0.04255152],\n",
       "        [ 0.12621832],\n",
       "        [-0.14144936],\n",
       "        [-0.17993248],\n",
       "        [-0.07963756],\n",
       "        [-0.17110737],\n",
       "        [-0.25690624],\n",
       "        [ 0.27136737],\n",
       "        [ 0.17638865],\n",
       "        [-0.11184692],\n",
       "        [-0.00281635],\n",
       "        [-0.11966966],\n",
       "        [-0.24136806],\n",
       "        [-0.22310182],\n",
       "        [-0.13990827],\n",
       "        [ 0.09549657],\n",
       "        [ 0.02336657],\n",
       "        [ 0.06178218],\n",
       "        [-0.07794406],\n",
       "        [ 0.01350176],\n",
       "        [-0.04041311],\n",
       "        [-0.14875302],\n",
       "        [-0.22135262],\n",
       "        [-0.05674392],\n",
       "        [-0.18258983],\n",
       "        [-0.24427682],\n",
       "        [-0.16107407],\n",
       "        [-0.00620559],\n",
       "        [ 0.1820806 ],\n",
       "        [ 0.30093187],\n",
       "        [ 0.19071752],\n",
       "        [-0.00580594],\n",
       "        [-0.02089199],\n",
       "        [-0.18442856],\n",
       "        [-0.22874254],\n",
       "        [-0.29052466],\n",
       "        [ 0.25918788],\n",
       "        [ 0.2118715 ],\n",
       "        [ 0.25857145],\n",
       "        [-0.27344725],\n",
       "        [-0.16436271],\n",
       "        [ 0.25233775],\n",
       "        [-0.02095857],\n",
       "        [ 0.29238194],\n",
       "        [-0.10991721],\n",
       "        [-0.01365316],\n",
       "        [ 0.26742464],\n",
       "        [-0.07502927],\n",
       "        [-0.00517726],\n",
       "        [ 0.14728987]], dtype=float32)>,\n",
       " <tf.Variable 'dense_1/bias:0' shape=(1,) dtype=float32, numpy=array([0.], dtype=float32)>]"
      ]
     },
     "execution_count": 12,
     "metadata": {},
     "output_type": "execute_result"
    }
   ],
   "source": [
    "single_rnn_model.variables"
   ]
  },
  {
   "cell_type": "code",
   "execution_count": 11,
   "metadata": {},
   "outputs": [
    {
     "data": {
      "image/png": "[encoded data removed]",
      "text/plain": [
       "<IPython.core.display.Image object>"
      ]
     },
     "execution_count": 11,
     "metadata": {},
     "output_type": "execute_result"
    }
   ],
   "source": [
    "from tensorflow.keras.utils import plot_model\n",
    "\n",
    "plot_model(single_rnn_model)"
   ]
  },
  {
   "cell_type": "code",
   "execution_count": 13,
   "metadata": {},
   "outputs": [
    {
     "name": "stdout",
     "output_type": "stream",
     "text": [
      "Epoch 1/30\n",
      "40/40 [==============================] - 10s 240ms/step - loss: 0.6942 - accuracy: 0.5031 - val_loss: 0.6946 - val_accuracy: 0.5076\n",
      "Epoch 2/30\n",
      "40/40 [==============================] - 10s 240ms/step - loss: 0.6924 - accuracy: 0.5084 - val_loss: 0.6934 - val_accuracy: 0.5024\n",
      "Epoch 3/30\n",
      "40/40 [==============================] - 10s 240ms/step - loss: 0.6890 - accuracy: 0.5210 - val_loss: 0.6918 - val_accuracy: 0.5132\n",
      "Epoch 4/30\n",
      "40/40 [==============================] - 10s 246ms/step - loss: 0.6865 - accuracy: 0.5235 - val_loss: 0.6993 - val_accuracy: 0.4966\n",
      "Epoch 5/30\n",
      "40/40 [==============================] - 10s 244ms/step - loss: 0.6789 - accuracy: 0.5261 - val_loss: 0.6982 - val_accuracy: 0.5074\n",
      "Epoch 6/30\n",
      "40/40 [==============================] - 10s 245ms/step - loss: 0.6596 - accuracy: 0.5391 - val_loss: 0.6992 - val_accuracy: 0.5092\n",
      "Epoch 7/30\n",
      "40/40 [==============================] - 10s 245ms/step - loss: 0.6436 - accuracy: 0.5452 - val_loss: 0.7080 - val_accuracy: 0.5002\n",
      "Epoch 8/30\n",
      "40/40 [==============================] - 10s 246ms/step - loss: 0.6382 - accuracy: 0.5469 - val_loss: 0.7293 - val_accuracy: 0.5092\n",
      "Epoch 9/30\n",
      "40/40 [==============================] - 10s 248ms/step - loss: 0.6316 - accuracy: 0.5462 - val_loss: 0.7184 - val_accuracy: 0.5018\n",
      "Epoch 10/30\n",
      "40/40 [==============================] - 10s 243ms/step - loss: 0.6281 - accuracy: 0.5516 - val_loss: 0.7401 - val_accuracy: 0.5072\n",
      "Epoch 11/30\n",
      "40/40 [==============================] - 10s 245ms/step - loss: 0.6302 - accuracy: 0.5534 - val_loss: 0.7416 - val_accuracy: 0.5040\n",
      "Epoch 12/30\n",
      "40/40 [==============================] - 10s 248ms/step - loss: 0.6557 - accuracy: 0.5412 - val_loss: 0.6948 - val_accuracy: 0.5044\n",
      "Epoch 13/30\n",
      "40/40 [==============================] - 10s 249ms/step - loss: 0.6798 - accuracy: 0.5314 - val_loss: 0.6935 - val_accuracy: 0.4982\n",
      "Epoch 14/30\n",
      "40/40 [==============================] - 10s 245ms/step - loss: 0.6511 - accuracy: 0.5429 - val_loss: 0.7033 - val_accuracy: 0.5040\n",
      "Epoch 15/30\n",
      "40/40 [==============================] - 10s 245ms/step - loss: 0.7031 - accuracy: 0.5308 - val_loss: 0.7107 - val_accuracy: 0.4922\n",
      "Epoch 16/30\n",
      "40/40 [==============================] - 10s 246ms/step - loss: 0.7150 - accuracy: 0.5217 - val_loss: 0.6944 - val_accuracy: 0.5064\n",
      "Epoch 17/30\n",
      "40/40 [==============================] - 10s 244ms/step - loss: 0.6872 - accuracy: 0.5234 - val_loss: 0.6944 - val_accuracy: 0.5048\n",
      "Epoch 18/30\n",
      "40/40 [==============================] - 10s 246ms/step - loss: 0.6814 - accuracy: 0.5303 - val_loss: 0.6918 - val_accuracy: 0.5114\n",
      "Epoch 19/30\n",
      "40/40 [==============================] - 10s 243ms/step - loss: 0.6736 - accuracy: 0.5373 - val_loss: 0.6916 - val_accuracy: 0.5102\n",
      "Epoch 20/30\n",
      "40/40 [==============================] - 10s 245ms/step - loss: 0.6732 - accuracy: 0.5315 - val_loss: 0.6913 - val_accuracy: 0.5030\n",
      "Epoch 21/30\n",
      "40/40 [==============================] - 10s 246ms/step - loss: 0.6761 - accuracy: 0.5296 - val_loss: 0.6950 - val_accuracy: 0.5116\n",
      "Epoch 22/30\n",
      "40/40 [==============================] - 10s 245ms/step - loss: 0.6760 - accuracy: 0.5328 - val_loss: 0.6913 - val_accuracy: 0.5068\n",
      "Epoch 23/30\n",
      "40/40 [==============================] - 10s 251ms/step - loss: 0.6771 - accuracy: 0.5307 - val_loss: 0.6974 - val_accuracy: 0.5002\n",
      "Epoch 24/30\n",
      "40/40 [==============================] - 10s 246ms/step - loss: 0.6689 - accuracy: 0.5288 - val_loss: 0.6910 - val_accuracy: 0.5114\n",
      "Epoch 25/30\n",
      "40/40 [==============================] - 10s 245ms/step - loss: 0.6628 - accuracy: 0.5365 - val_loss: 0.6905 - val_accuracy: 0.5092\n",
      "Epoch 26/30\n",
      "40/40 [==============================] - 10s 247ms/step - loss: 0.6634 - accuracy: 0.5314 - val_loss: 0.6932 - val_accuracy: 0.5130\n",
      "Epoch 27/30\n",
      "40/40 [==============================] - 10s 248ms/step - loss: 0.6634 - accuracy: 0.5347 - val_loss: 0.6932 - val_accuracy: 0.5148\n",
      "Epoch 28/30\n",
      "40/40 [==============================] - 10s 250ms/step - loss: 0.6598 - accuracy: 0.5394 - val_loss: 0.6949 - val_accuracy: 0.5144\n",
      "Epoch 29/30\n",
      "40/40 [==============================] - 10s 249ms/step - loss: 0.6571 - accuracy: 0.5304 - val_loss: 0.6962 - val_accuracy: 0.5110\n",
      "Epoch 30/30\n",
      "40/40 [==============================] - 10s 249ms/step - loss: 0.6552 - accuracy: 0.5394 - val_loss: 0.6995 - val_accuracy: 0.5000\n"
     ]
    }
   ],
   "source": [
    "history_single_rnn = single_rnn_model.fit(\n",
    "    train_data, train_labels,\n",
    "    epochs = 30,\n",
    "    batch_size = batch_size,\n",
    "    # 所以分20%给验证集\n",
    "    validation_split = 0.2)"
   ]
  },
  {
   "cell_type": "code",
   "execution_count": 38,
   "metadata": {},
   "outputs": [
    {
     "data": {
      "image/png": "[encoded data removed]",
      "text/plain": [
       "<Figure size 576x360 with 1 Axes>"
      ]
     },
     "metadata": {
      "needs_background": "light"
     },
     "output_type": "display_data"
    },
    {
     "data": {
      "image/png": "[encoded data removed]",
      "text/plain": [
       "<Figure size 576x360 with 1 Axes>"
      ]
     },
     "metadata": {
      "needs_background": "light"
     },
     "output_type": "display_data"
    }
   ],
   "source": [
    "def plot_learning_curves(history, label, epochs, min_value, max_value):\n",
    "    data = {}\n",
    "    data[label] = history.history[label]\n",
    "    data['val_'+label] = history.history['val_'+label]\n",
    "    pd.DataFrame(data).plot(figsize=(8, 5))\n",
    "    plt.grid(True)\n",
    "    plt.axis([0, epochs, min_value, max_value])\n",
    "    plt.show()\n",
    "    \n",
    "plot_learning_curves(history_single_rnn, 'accuracy', 30, 0, 1)\n",
    "plot_learning_curves(history_single_rnn, 'loss', 30, 0, 1)"
   ]
  },
  {
   "cell_type": "code",
   "execution_count": 39,
   "metadata": {},
   "outputs": [
    {
     "data": {
      "text/plain": [
       "[0.6994760036468506, 0.5013999938964844]"
      ]
     },
     "execution_count": 39,
     "metadata": {},
     "output_type": "execute_result"
    }
   ],
   "source": [
    "single_rnn_model.evaluate(\n",
    "    test_data, test_labels,\n",
    "    batch_size = batch_size,\n",
    "    verbose = 0)"
   ]
  },
  {
   "cell_type": "code",
   "execution_count": 13,
   "metadata": {
    "scrolled": false
   },
   "outputs": [
    {
     "name": "stdout",
     "output_type": "stream",
     "text": [
      "Model: \"sequential_1\"\n",
      "_________________________________________________________________\n",
      "Layer (type)                 Output Shape              Param #   \n",
      "=================================================================\n",
      "embedding_1 (Embedding)      (None, 500, 16)           160000    \n",
      "_________________________________________________________________\n",
      "bidirectional (Bidirectional (None, 500, 128)          10368     \n",
      "_________________________________________________________________\n",
      "bidirectional_1 (Bidirection (None, 128)               24704     \n",
      "_________________________________________________________________\n",
      "dense_2 (Dense)              (None, 64)                8256      \n",
      "_________________________________________________________________\n",
      "dense_3 (Dense)              (None, 1)                 65        \n",
      "=================================================================\n",
      "Total params: 203,393\n",
      "Trainable params: 203,393\n",
      "Non-trainable params: 0\n",
      "_________________________________________________________________\n"
     ]
    }
   ],
   "source": [
    "# 如果我们实现双向的rnn是不是会好一些\n",
    "embedding_dim = 16\n",
    "batch_size = 512\n",
    "\n",
    "model = keras.models.Sequential([\n",
    "    # 1. define matrix: [vocab_size, embedding_dim]\n",
    "    # 2. [1,2,3,4..], max_length * embedding_dim\n",
    "    # 3. batch_size * max_length * embedding_dim\n",
    "    keras.layers.Embedding(vocab_size, embedding_dim,\n",
    "                           input_length = max_length),\n",
    "    # Bidirectional代表双向rnn，前面的计算会收到后面样本的影响\n",
    "    keras.layers.Bidirectional(\n",
    "        keras.layers.SimpleRNN(\n",
    "            units = 64, return_sequences = True)),\n",
    "    keras.layers.Bidirectional(\n",
    "        keras.layers.SimpleRNN(\n",
    "            units = 64, return_sequences = False)),\n",
    "    keras.layers.Dense(64, activation = 'relu'),\n",
    "    keras.layers.Dense(1, activation='sigmoid'),\n",
    "])\n",
    "\n",
    "model.summary()\n",
    "model.compile(optimizer = 'adam',\n",
    "              #  当只有两个标签类别（假定为0和1）时，使用此交叉熵损失\n",
    "              loss = 'binary_crossentropy',\n",
    "              metrics = ['accuracy'])"
   ]
  },
  {
   "cell_type": "code",
   "execution_count": 14,
   "metadata": {},
   "outputs": [
    {
     "data": {
      "image/png": "[encoded data removed]",
      "text/plain": [
       "<IPython.core.display.Image object>"
      ]
     },
     "execution_count": 14,
     "metadata": {},
     "output_type": "execute_result"
    }
   ],
   "source": [
    "from tensorflow.keras.utils import plot_model\n",
    "\n",
    "plot_model(model)"
   ]
  },
  {
   "cell_type": "code",
   "execution_count": 10,
   "metadata": {},
   "outputs": [
    {
     "data": {
      "text/plain": [
       "10368"
      ]
     },
     "execution_count": 10,
     "metadata": {},
     "output_type": "execute_result"
    }
   ],
   "source": [
    "(16*64+64*64+64)*2"
   ]
  },
  {
   "cell_type": "code",
   "execution_count": 11,
   "metadata": {},
   "outputs": [
    {
     "data": {
      "text/plain": [
       "24704"
      ]
     },
     "execution_count": 11,
     "metadata": {},
     "output_type": "execute_result"
    }
   ],
   "source": [
    "(128*64+64*64+64)*2"
   ]
  },
  {
   "cell_type": "code",
   "execution_count": 15,
   "metadata": {
    "collapsed": true
   },
   "outputs": [
    {
     "data": {
      "text/plain": [
       "[<tf.Variable 'embedding_1/embeddings:0' shape=(10000, 16) dtype=float32, numpy=\n",
       " array([[ 0.04392276, -0.01782315,  0.01301999, ...,  0.03445024,\n",
       "          0.04081282,  0.03201583],\n",
       "        [-0.04895258,  0.01554293, -0.04856571, ...,  0.00284834,\n",
       "          0.01467666, -0.01277251],\n",
       "        [ 0.04066503, -0.00124564, -0.01691554, ..., -0.03525679,\n",
       "         -0.04461484,  0.01834759],\n",
       "        ...,\n",
       "        [-0.01946018, -0.02939216,  0.01952095, ...,  0.04030868,\n",
       "          0.02618023,  0.02735529],\n",
       "        [ 0.00579703, -0.03879444,  0.00493236, ...,  0.00431925,\n",
       "          0.005515  , -0.00825004],\n",
       "        [ 0.04420784,  0.01089859, -0.04410768, ...,  0.02897542,\n",
       "          0.020563  ,  0.01881981]], dtype=float32)>,\n",
       " <tf.Variable 'bidirectional/forward_simple_rnn_1/simple_rnn_cell_2/kernel:0' shape=(16, 64) dtype=float32, numpy=\n",
       " array([[ 0.06369889, -0.06107473, -0.02475569, ..., -0.12447511,\n",
       "          0.22859848,  0.13200516],\n",
       "        [-0.02048254,  0.06155777,  0.1519607 , ...,  0.09409091,\n",
       "          0.21570492, -0.11077474],\n",
       "        [-0.00390914,  0.10946795, -0.20304912, ...,  0.07899868,\n",
       "         -0.17427108,  0.08769241],\n",
       "        ...,\n",
       "        [ 0.16762245, -0.09456977, -0.00746697, ..., -0.04931229,\n",
       "          0.00043419,  0.04777658],\n",
       "        [ 0.24988043,  0.26373285,  0.25599223, ...,  0.19449434,\n",
       "          0.0051561 , -0.07310234],\n",
       "        [-0.08809839,  0.24128336, -0.13609685, ...,  0.2292741 ,\n",
       "         -0.04719187,  0.13361019]], dtype=float32)>,\n",
       " <tf.Variable 'bidirectional/forward_simple_rnn_1/simple_rnn_cell_2/recurrent_kernel:0' shape=(64, 64) dtype=float32, numpy=\n",
       " array([[-0.0143913 ,  0.1050952 ,  0.04321434, ..., -0.13143267,\n",
       "         -0.04658531, -0.07086685],\n",
       "        [-0.01134695, -0.03672051, -0.09834294, ...,  0.18691626,\n",
       "          0.15923677,  0.0563659 ],\n",
       "        [ 0.18536541,  0.04447528, -0.00666189, ...,  0.21026315,\n",
       "          0.10704555,  0.23488475],\n",
       "        ...,\n",
       "        [-0.19410916,  0.14708719, -0.01289101, ...,  0.02933486,\n",
       "          0.23444244, -0.09420918],\n",
       "        [-0.01472505, -0.02698132, -0.22590947, ..., -0.14046691,\n",
       "         -0.02225195, -0.09935194],\n",
       "        [-0.12386028, -0.09124295,  0.23617262, ...,  0.22173321,\n",
       "          0.13256782, -0.00989117]], dtype=float32)>,\n",
       " <tf.Variable 'bidirectional/forward_simple_rnn_1/simple_rnn_cell_2/bias:0' shape=(64,) dtype=float32, numpy=\n",
       " array([0., 0., 0., 0., 0., 0., 0., 0., 0., 0., 0., 0., 0., 0., 0., 0., 0.,\n",
       "        0., 0., 0., 0., 0., 0., 0., 0., 0., 0., 0., 0., 0., 0., 0., 0., 0.,\n",
       "        0., 0., 0., 0., 0., 0., 0., 0., 0., 0., 0., 0., 0., 0., 0., 0., 0.,\n",
       "        0., 0., 0., 0., 0., 0., 0., 0., 0., 0., 0., 0., 0.], dtype=float32)>,\n",
       " <tf.Variable 'bidirectional/backward_simple_rnn_1/simple_rnn_cell_3/kernel:0' shape=(16, 64) dtype=float32, numpy=\n",
       " array([[ 0.06110269,  0.16821283, -0.13667065, ..., -0.21126848,\n",
       "          0.26507688,  0.06997126],\n",
       "        [ 0.11483797,  0.1549784 ,  0.1556423 , ..., -0.2626494 ,\n",
       "          0.19897944, -0.12841368],\n",
       "        [ 0.192235  , -0.12699367, -0.10227272, ...,  0.06051674,\n",
       "         -0.1483537 , -0.19005543],\n",
       "        ...,\n",
       "        [-0.18641302,  0.2405442 ,  0.11334816, ...,  0.01089665,\n",
       "          0.04486102, -0.04574431],\n",
       "        [ 0.11296037,  0.02239257,  0.08845398, ..., -0.14734314,\n",
       "         -0.18731198,  0.2088455 ],\n",
       "        [-0.1824478 , -0.12098059, -0.03610659, ...,  0.11740327,\n",
       "         -0.08438691,  0.13743648]], dtype=float32)>,\n",
       " <tf.Variable 'bidirectional/backward_simple_rnn_1/simple_rnn_cell_3/recurrent_kernel:0' shape=(64, 64) dtype=float32, numpy=\n",
       " array([[ 0.10151005, -0.15555768, -0.06186193, ..., -0.03699454,\n",
       "         -0.32870066, -0.09117991],\n",
       "        [ 0.03697281,  0.20320702, -0.092422  , ..., -0.00205456,\n",
       "         -0.08497657,  0.1557558 ],\n",
       "        [-0.307838  ,  0.05607177, -0.2893169 , ..., -0.10259273,\n",
       "          0.18691315, -0.13672103],\n",
       "        ...,\n",
       "        [-0.03165315, -0.13786367, -0.05672405, ...,  0.04848927,\n",
       "         -0.33341205,  0.07271668],\n",
       "        [ 0.05757781, -0.00220016, -0.04983944, ...,  0.26118746,\n",
       "          0.2832459 , -0.02696543],\n",
       "        [ 0.01549063,  0.05736248,  0.01344552, ...,  0.12652516,\n",
       "          0.06680839, -0.01738067]], dtype=float32)>,\n",
       " <tf.Variable 'bidirectional/backward_simple_rnn_1/simple_rnn_cell_3/bias:0' shape=(64,) dtype=float32, numpy=\n",
       " array([0., 0., 0., 0., 0., 0., 0., 0., 0., 0., 0., 0., 0., 0., 0., 0., 0.,\n",
       "        0., 0., 0., 0., 0., 0., 0., 0., 0., 0., 0., 0., 0., 0., 0., 0., 0.,\n",
       "        0., 0., 0., 0., 0., 0., 0., 0., 0., 0., 0., 0., 0., 0., 0., 0., 0.,\n",
       "        0., 0., 0., 0., 0., 0., 0., 0., 0., 0., 0., 0., 0.], dtype=float32)>,\n",
       " <tf.Variable 'bidirectional_1/forward_simple_rnn_2/simple_rnn_cell_5/kernel:0' shape=(128, 64) dtype=float32, numpy=\n",
       " array([[-1.59690976e-02, -1.60092488e-01,  8.03783536e-04, ...,\n",
       "         -8.20409432e-02,  7.28617609e-03,  1.51627555e-01],\n",
       "        [-1.34736300e-04, -9.62032974e-02, -1.67685330e-01, ...,\n",
       "         -1.39337301e-01, -1.36178866e-01,  8.78249258e-02],\n",
       "        [ 1.96345299e-02, -6.57151565e-02,  8.57564062e-02, ...,\n",
       "          1.62709638e-01, -1.09155871e-01, -2.08582282e-02],\n",
       "        ...,\n",
       "        [-1.38557434e-01, -8.48297998e-02, -1.69210538e-01, ...,\n",
       "         -1.73052683e-01,  6.14210963e-04, -2.67762244e-02],\n",
       "        [-1.55627906e-01,  1.14473954e-01,  6.39445633e-02, ...,\n",
       "         -1.74207166e-01, -8.71621221e-02, -1.47992820e-02],\n",
       "        [ 1.14751354e-01,  6.31038845e-03,  1.16282269e-01, ...,\n",
       "          2.81097144e-02, -7.43601918e-02, -1.22515954e-01]], dtype=float32)>,\n",
       " <tf.Variable 'bidirectional_1/forward_simple_rnn_2/simple_rnn_cell_5/recurrent_kernel:0' shape=(64, 64) dtype=float32, numpy=\n",
       " array([[ 0.09767926, -0.06437416, -0.08170455, ...,  0.29593906,\n",
       "         -0.1359155 , -0.1442585 ],\n",
       "        [ 0.02944612, -0.13092995,  0.01465184, ...,  0.287437  ,\n",
       "          0.16351618, -0.19361097],\n",
       "        [-0.20245314,  0.01910877,  0.15231788, ..., -0.09179952,\n",
       "         -0.1699221 , -0.1900523 ],\n",
       "        ...,\n",
       "        [-0.05317092,  0.01986838, -0.09663729, ...,  0.1751143 ,\n",
       "         -0.14118654,  0.05432397],\n",
       "        [-0.1703111 ,  0.06567141, -0.08804277, ..., -0.09075348,\n",
       "          0.02554588, -0.04507408],\n",
       "        [-0.01809997, -0.25359946, -0.07893224, ..., -0.00299536,\n",
       "          0.11244375, -0.1925585 ]], dtype=float32)>,\n",
       " <tf.Variable 'bidirectional_1/forward_simple_rnn_2/simple_rnn_cell_5/bias:0' shape=(64,) dtype=float32, numpy=\n",
       " array([0., 0., 0., 0., 0., 0., 0., 0., 0., 0., 0., 0., 0., 0., 0., 0., 0.,\n",
       "        0., 0., 0., 0., 0., 0., 0., 0., 0., 0., 0., 0., 0., 0., 0., 0., 0.,\n",
       "        0., 0., 0., 0., 0., 0., 0., 0., 0., 0., 0., 0., 0., 0., 0., 0., 0.,\n",
       "        0., 0., 0., 0., 0., 0., 0., 0., 0., 0., 0., 0., 0.], dtype=float32)>,\n",
       " <tf.Variable 'bidirectional_1/backward_simple_rnn_2/simple_rnn_cell_6/kernel:0' shape=(128, 64) dtype=float32, numpy=\n",
       " array([[ 0.00812916, -0.066879  ,  0.14999266, ..., -0.05789253,\n",
       "         -0.10073619, -0.10569958],\n",
       "        [ 0.07730149,  0.11938082,  0.12041809, ...,  0.0153023 ,\n",
       "         -0.12223829, -0.09254652],\n",
       "        [ 0.07332523, -0.16686848,  0.0244922 , ...,  0.0528927 ,\n",
       "          0.10472788, -0.02299283],\n",
       "        ...,\n",
       "        [ 0.05879228,  0.02876911, -0.01055866, ..., -0.06598274,\n",
       "         -0.09226523,  0.14620121],\n",
       "        [-0.05812421, -0.00268725, -0.03788854, ...,  0.04545909,\n",
       "         -0.0557226 , -0.01811704],\n",
       "        [-0.01313232, -0.03769012,  0.00190707, ..., -0.14823699,\n",
       "          0.12473647, -0.04786277]], dtype=float32)>,\n",
       " <tf.Variable 'bidirectional_1/backward_simple_rnn_2/simple_rnn_cell_6/recurrent_kernel:0' shape=(64, 64) dtype=float32, numpy=\n",
       " array([[-0.11629844,  0.06190355, -0.22734794, ..., -0.05952785,\n",
       "          0.13651532,  0.1149063 ],\n",
       "        [ 0.09096198,  0.01990306,  0.02379869, ...,  0.06577517,\n",
       "          0.133411  , -0.13961321],\n",
       "        [-0.08209802,  0.18407992, -0.10342538, ...,  0.14769138,\n",
       "         -0.15462938,  0.31572488],\n",
       "        ...,\n",
       "        [-0.18784018, -0.05895226,  0.02980964, ..., -0.14478478,\n",
       "         -0.19191936,  0.20522211],\n",
       "        [ 0.11876635,  0.08710593,  0.2135289 , ..., -0.23769741,\n",
       "         -0.1215317 ,  0.04771782],\n",
       "        [ 0.13413039,  0.08596516, -0.02704514, ...,  0.14887959,\n",
       "          0.11653296, -0.07462761]], dtype=float32)>,\n",
       " <tf.Variable 'bidirectional_1/backward_simple_rnn_2/simple_rnn_cell_6/bias:0' shape=(64,) dtype=float32, numpy=\n",
       " array([0., 0., 0., 0., 0., 0., 0., 0., 0., 0., 0., 0., 0., 0., 0., 0., 0.,\n",
       "        0., 0., 0., 0., 0., 0., 0., 0., 0., 0., 0., 0., 0., 0., 0., 0., 0.,\n",
       "        0., 0., 0., 0., 0., 0., 0., 0., 0., 0., 0., 0., 0., 0., 0., 0., 0.,\n",
       "        0., 0., 0., 0., 0., 0., 0., 0., 0., 0., 0., 0., 0.], dtype=float32)>,\n",
       " <tf.Variable 'dense_2/kernel:0' shape=(128, 64) dtype=float32, numpy=\n",
       " array([[-0.09064628,  0.02441183, -0.06658882, ...,  0.14387293,\n",
       "          0.09136985,  0.06242509],\n",
       "        [-0.11204461,  0.14604379, -0.04316406, ...,  0.15927832,\n",
       "         -0.02691743,  0.11643012],\n",
       "        [ 0.14120854, -0.04050758,  0.1198348 , ...,  0.12968947,\n",
       "          0.12345089,  0.05710092],\n",
       "        ...,\n",
       "        [ 0.12354498, -0.10085601,  0.00467008, ..., -0.05397321,\n",
       "         -0.10236883, -0.0151327 ],\n",
       "        [-0.12219248,  0.1476831 ,  0.046516  , ...,  0.03497885,\n",
       "         -0.17492063, -0.03441796],\n",
       "        [-0.07439189,  0.1251149 , -0.07266344, ..., -0.11806858,\n",
       "          0.08053406, -0.0770632 ]], dtype=float32)>,\n",
       " <tf.Variable 'dense_2/bias:0' shape=(64,) dtype=float32, numpy=\n",
       " array([0., 0., 0., 0., 0., 0., 0., 0., 0., 0., 0., 0., 0., 0., 0., 0., 0.,\n",
       "        0., 0., 0., 0., 0., 0., 0., 0., 0., 0., 0., 0., 0., 0., 0., 0., 0.,\n",
       "        0., 0., 0., 0., 0., 0., 0., 0., 0., 0., 0., 0., 0., 0., 0., 0., 0.,\n",
       "        0., 0., 0., 0., 0., 0., 0., 0., 0., 0., 0., 0., 0.], dtype=float32)>,\n",
       " <tf.Variable 'dense_3/kernel:0' shape=(64, 1) dtype=float32, numpy=\n",
       " array([[ 0.0033862 ],\n",
       "        [-0.009197  ],\n",
       "        [-0.1370155 ],\n",
       "        [-0.15226975],\n",
       "        [-0.08700952],\n",
       "        [ 0.2843747 ],\n",
       "        [ 0.0975371 ],\n",
       "        [ 0.20449376],\n",
       "        [-0.09977287],\n",
       "        [-0.09858274],\n",
       "        [ 0.0228669 ],\n",
       "        [ 0.10654542],\n",
       "        [-0.09227473],\n",
       "        [ 0.02038074],\n",
       "        [ 0.22658306],\n",
       "        [ 0.17114213],\n",
       "        [-0.01475188],\n",
       "        [-0.08872034],\n",
       "        [-0.22919361],\n",
       "        [-0.2465814 ],\n",
       "        [-0.20453505],\n",
       "        [ 0.00344285],\n",
       "        [-0.22137718],\n",
       "        [-0.18012545],\n",
       "        [ 0.23693454],\n",
       "        [ 0.23343694],\n",
       "        [ 0.17578068],\n",
       "        [ 0.1107806 ],\n",
       "        [ 0.06090271],\n",
       "        [ 0.29186046],\n",
       "        [-0.0407398 ],\n",
       "        [-0.15178211],\n",
       "        [ 0.07994208],\n",
       "        [-0.30032218],\n",
       "        [ 0.10113576],\n",
       "        [-0.2884429 ],\n",
       "        [-0.05944538],\n",
       "        [-0.22882216],\n",
       "        [-0.26197436],\n",
       "        [ 0.02690822],\n",
       "        [-0.25050458],\n",
       "        [ 0.17763877],\n",
       "        [ 0.27859133],\n",
       "        [-0.1991945 ],\n",
       "        [ 0.17688426],\n",
       "        [-0.05330127],\n",
       "        [ 0.1314525 ],\n",
       "        [-0.0368793 ],\n",
       "        [-0.10899089],\n",
       "        [-0.08761349],\n",
       "        [-0.28068107],\n",
       "        [ 0.13580176],\n",
       "        [-0.06165151],\n",
       "        [-0.26129243],\n",
       "        [ 0.20118272],\n",
       "        [ 0.03539869],\n",
       "        [-0.18730807],\n",
       "        [ 0.10547221],\n",
       "        [-0.22003311],\n",
       "        [-0.16936497],\n",
       "        [ 0.1999672 ],\n",
       "        [-0.06319992],\n",
       "        [-0.20998345],\n",
       "        [ 0.22565275]], dtype=float32)>,\n",
       " <tf.Variable 'dense_3/bias:0' shape=(1,) dtype=float32, numpy=array([0.], dtype=float32)>]"
      ]
     },
     "execution_count": 15,
     "metadata": {},
     "output_type": "execute_result"
    }
   ],
   "source": [
    "model.variables"
   ]
  },
  {
   "cell_type": "code",
   "execution_count": 43,
   "metadata": {
    "scrolled": true
   },
   "outputs": [
    {
     "name": "stdout",
     "output_type": "stream",
     "text": [
      "Epoch 1/30\n",
      "40/40 [==============================] - 112s 3s/step - loss: 0.6995 - accuracy: 0.5040 - val_loss: 0.6943 - val_accuracy: 0.5066\n",
      "Epoch 2/30\n",
      "40/40 [==============================] - 95s 2s/step - loss: 0.6870 - accuracy: 0.5378 - val_loss: 0.7052 - val_accuracy: 0.5222\n",
      "Epoch 3/30\n",
      "40/40 [==============================] - 103s 3s/step - loss: 0.6342 - accuracy: 0.6386 - val_loss: 0.7107 - val_accuracy: 0.5510\n",
      "Epoch 4/30\n",
      "40/40 [==============================] - 114s 3s/step - loss: 0.4848 - accuracy: 0.7742 - val_loss: 0.7927 - val_accuracy: 0.5600\n",
      "Epoch 5/30\n",
      "40/40 [==============================] - 110s 3s/step - loss: 0.3031 - accuracy: 0.8791 - val_loss: 1.0862 - val_accuracy: 0.5574\n",
      "Epoch 6/30\n",
      "40/40 [==============================] - 97s 2s/step - loss: 0.1503 - accuracy: 0.9475 - val_loss: 1.4877 - val_accuracy: 0.5564\n",
      "Epoch 7/30\n",
      "40/40 [==============================] - 98s 2s/step - loss: 0.0859 - accuracy: 0.9722 - val_loss: 1.7664 - val_accuracy: 0.5554\n",
      "Epoch 8/30\n",
      "40/40 [==============================] - 101s 3s/step - loss: 0.0245 - accuracy: 0.9940 - val_loss: 2.1913 - val_accuracy: 0.5560\n",
      "Epoch 9/30\n",
      "40/40 [==============================] - 99s 2s/step - loss: 0.0114 - accuracy: 0.9976 - val_loss: 2.4675 - val_accuracy: 0.5570\n",
      "Epoch 10/30\n",
      "40/40 [==============================] - 101s 3s/step - loss: 0.0057 - accuracy: 0.9991 - val_loss: 2.6950 - val_accuracy: 0.5536\n",
      "Epoch 11/30\n",
      "40/40 [==============================] - 100s 3s/step - loss: 0.0072 - accuracy: 0.9979 - val_loss: 2.9187 - val_accuracy: 0.5546\n",
      "Epoch 12/30\n",
      "40/40 [==============================] - 95s 2s/step - loss: 0.0057 - accuracy: 0.9980 - val_loss: 3.0194 - val_accuracy: 0.5602\n",
      "Epoch 13/30\n",
      "40/40 [==============================] - 111s 3s/step - loss: 0.0064 - accuracy: 0.9980 - val_loss: 3.1456 - val_accuracy: 0.5598\n",
      "Epoch 14/30\n",
      "40/40 [==============================] - 98s 2s/step - loss: 0.0058 - accuracy: 0.9984 - val_loss: 3.1904 - val_accuracy: 0.5528\n",
      "Epoch 15/30\n",
      "40/40 [==============================] - 88s 2s/step - loss: 0.0063 - accuracy: 0.9982 - val_loss: 3.4109 - val_accuracy: 0.5554\n",
      "Epoch 16/30\n",
      "40/40 [==============================] - 67s 2s/step - loss: 0.0226 - accuracy: 0.9920 - val_loss: 3.0463 - val_accuracy: 0.5508\n",
      "Epoch 17/30\n",
      "40/40 [==============================] - 64s 2s/step - loss: 0.0881 - accuracy: 0.9697 - val_loss: 1.9868 - val_accuracy: 0.5526\n",
      "Epoch 18/30\n",
      "40/40 [==============================] - 61s 2s/step - loss: 0.0226 - accuracy: 0.9919 - val_loss: 2.4469 - val_accuracy: 0.5638\n",
      "Epoch 19/30\n",
      "40/40 [==============================] - 61s 2s/step - loss: 0.0146 - accuracy: 0.9952 - val_loss: 2.5850 - val_accuracy: 0.5654\n",
      "Epoch 20/30\n",
      "40/40 [==============================] - 61s 2s/step - loss: 0.0022 - accuracy: 0.9996 - val_loss: 2.8307 - val_accuracy: 0.5670\n",
      "Epoch 21/30\n",
      "40/40 [==============================] - 61s 2s/step - loss: 0.0012 - accuracy: 0.9998 - val_loss: 2.9494 - val_accuracy: 0.5666\n",
      "Epoch 22/30\n",
      "40/40 [==============================] - 62s 2s/step - loss: 3.9793e-04 - accuracy: 1.0000 - val_loss: 3.0112 - val_accuracy: 0.5666\n",
      "Epoch 23/30\n",
      "40/40 [==============================] - 61s 2s/step - loss: 1.6716e-04 - accuracy: 1.0000 - val_loss: 3.0774 - val_accuracy: 0.5670\n",
      "Epoch 24/30\n",
      "40/40 [==============================] - 64s 2s/step - loss: 1.2366e-04 - accuracy: 1.0000 - val_loss: 3.1221 - val_accuracy: 0.5674\n",
      "Epoch 25/30\n",
      "40/40 [==============================] - 62s 2s/step - loss: 1.1873e-04 - accuracy: 1.0000 - val_loss: 3.1626 - val_accuracy: 0.5670\n",
      "Epoch 26/30\n",
      "40/40 [==============================] - 64s 2s/step - loss: 9.4081e-05 - accuracy: 1.0000 - val_loss: 3.1972 - val_accuracy: 0.5662\n",
      "Epoch 27/30\n",
      "40/40 [==============================] - 65s 2s/step - loss: 8.2315e-05 - accuracy: 1.0000 - val_loss: 3.2270 - val_accuracy: 0.5670\n",
      "Epoch 28/30\n",
      "40/40 [==============================] - 65s 2s/step - loss: 7.3202e-05 - accuracy: 1.0000 - val_loss: 3.2551 - val_accuracy: 0.5678\n",
      "Epoch 29/30\n",
      "40/40 [==============================] - 67s 2s/step - loss: 6.5790e-05 - accuracy: 1.0000 - val_loss: 3.2822 - val_accuracy: 0.5676\n",
      "Epoch 30/30\n",
      "40/40 [==============================] - 66s 2s/step - loss: 5.9603e-05 - accuracy: 1.0000 - val_loss: 3.3076 - val_accuracy: 0.5676\n"
     ]
    }
   ],
   "source": [
    "history = model.fit(\n",
    "    train_data, train_labels,\n",
    "    epochs = 30,\n",
    "    batch_size = batch_size,\n",
    "    validation_split = 0.2)"
   ]
  },
  {
   "cell_type": "code",
   "execution_count": 44,
   "metadata": {
    "collapsed": true
   },
   "outputs": [
    {
     "data": {
      "image/png": "[encoded data removed]",
      "text/plain": [
       "<Figure size 576x360 with 1 Axes>"
      ]
     },
     "metadata": {
      "needs_background": "light"
     },
     "output_type": "display_data"
    },
    {
     "data": {
      "image/png": "[encoded data removed]",
      "text/plain": [
       "<Figure size 576x360 with 1 Axes>"
      ]
     },
     "metadata": {
      "needs_background": "light"
     },
     "output_type": "display_data"
    }
   ],
   "source": [
    "plot_learning_curves(history, 'accuracy', 30, 0, 1)\n",
    "plot_learning_curves(history, 'loss', 30, 0, 3.8)\n",
    "#m我们发现过拟合了，可能是模型太复杂了，我们改为单层的rnn"
   ]
  },
  {
   "cell_type": "code",
   "execution_count": 45,
   "metadata": {},
   "outputs": [
    {
     "name": "stdout",
     "output_type": "stream",
     "text": [
      "Model: \"sequential_4\"\n",
      "_________________________________________________________________\n",
      "Layer (type)                 Output Shape              Param #   \n",
      "=================================================================\n",
      "embedding_4 (Embedding)      (None, 500, 16)           160000    \n",
      "_________________________________________________________________\n",
      "bidirectional_2 (Bidirection (None, 64)                3136      \n",
      "_________________________________________________________________\n",
      "dense_8 (Dense)              (None, 32)                2080      \n",
      "_________________________________________________________________\n",
      "dense_9 (Dense)              (None, 1)                 33        \n",
      "=================================================================\n",
      "Total params: 165,249\n",
      "Trainable params: 165,249\n",
      "Non-trainable params: 0\n",
      "_________________________________________________________________\n"
     ]
    }
   ],
   "source": [
    "embedding_dim = 16\n",
    "batch_size = 512\n",
    "\n",
    "bi_rnn_model = keras.models.Sequential([\n",
    "    # 1. define matrix: [vocab_size, embedding_dim]\n",
    "    # 2. [1,2,3,4..], max_length * embedding_dim\n",
    "    # 3. batch_size * max_length * embedding_dim\n",
    "    keras.layers.Embedding(vocab_size, embedding_dim,\n",
    "                           input_length = max_length),\n",
    "    keras.layers.Bidirectional(\n",
    "        keras.layers.SimpleRNN(\n",
    "            units = 32, return_sequences = False)),\n",
    "    keras.layers.Dense(32, activation = 'relu'),\n",
    "    keras.layers.Dense(1, activation='sigmoid'),\n",
    "])\n",
    "\n",
    "bi_rnn_model.summary()\n",
    "bi_rnn_model.compile(optimizer = 'adam',\n",
    "                     loss = 'binary_crossentropy',\n",
    "                     metrics = ['accuracy'])"
   ]
  },
  {
   "cell_type": "code",
   "execution_count": 46,
   "metadata": {},
   "outputs": [
    {
     "name": "stdout",
     "output_type": "stream",
     "text": [
      "Epoch 1/30\n",
      "40/40 [==============================] - 10s 244ms/step - loss: 0.6933 - accuracy: 0.5090 - val_loss: 0.6909 - val_accuracy: 0.5220\n",
      "Epoch 2/30\n",
      "40/40 [==============================] - 11s 279ms/step - loss: 0.6682 - accuracy: 0.6123 - val_loss: 0.6780 - val_accuracy: 0.5430\n",
      "Epoch 3/30\n",
      "40/40 [==============================] - 10s 253ms/step - loss: 0.5777 - accuracy: 0.7121 - val_loss: 0.5491 - val_accuracy: 0.7470\n",
      "Epoch 4/30\n",
      "40/40 [==============================] - 10s 246ms/step - loss: 0.3915 - accuracy: 0.8378 - val_loss: 0.4528 - val_accuracy: 0.8088\n",
      "Epoch 5/30\n",
      "40/40 [==============================] - 9s 235ms/step - loss: 0.2788 - accuracy: 0.8910 - val_loss: 0.4505 - val_accuracy: 0.8146\n",
      "Epoch 6/30\n",
      "40/40 [==============================] - 9s 228ms/step - loss: 0.2074 - accuracy: 0.9229 - val_loss: 0.4675 - val_accuracy: 0.8308\n",
      "Epoch 7/30\n",
      "40/40 [==============================] - 8s 212ms/step - loss: 0.1241 - accuracy: 0.9590 - val_loss: 0.4998 - val_accuracy: 0.8264\n",
      "Epoch 8/30\n",
      "40/40 [==============================] - 8s 212ms/step - loss: 0.0719 - accuracy: 0.9789 - val_loss: 0.5931 - val_accuracy: 0.8186\n",
      "Epoch 9/30\n",
      "40/40 [==============================] - 9s 214ms/step - loss: 0.0345 - accuracy: 0.9916 - val_loss: 0.6556 - val_accuracy: 0.8130\n",
      "Epoch 10/30\n",
      "40/40 [==============================] - 9s 214ms/step - loss: 0.0143 - accuracy: 0.9977 - val_loss: 0.7314 - val_accuracy: 0.8116\n",
      "Epoch 11/30\n",
      "40/40 [==============================] - 8s 212ms/step - loss: 0.0190 - accuracy: 0.9956 - val_loss: 0.7519 - val_accuracy: 0.8218\n",
      "Epoch 12/30\n",
      "40/40 [==============================] - 8s 212ms/step - loss: 0.0140 - accuracy: 0.9969 - val_loss: 0.8037 - val_accuracy: 0.8218\n",
      "Epoch 13/30\n",
      "40/40 [==============================] - 8s 210ms/step - loss: 0.0060 - accuracy: 0.9992 - val_loss: 0.8258 - val_accuracy: 0.8178\n",
      "Epoch 14/30\n",
      "40/40 [==============================] - 9s 216ms/step - loss: 0.0025 - accuracy: 0.9998 - val_loss: 0.8598 - val_accuracy: 0.8208\n",
      "Epoch 15/30\n",
      "40/40 [==============================] - 9s 217ms/step - loss: 0.0016 - accuracy: 0.9999 - val_loss: 0.8925 - val_accuracy: 0.8136\n",
      "Epoch 16/30\n",
      "40/40 [==============================] - 9s 215ms/step - loss: 0.0012 - accuracy: 0.9999 - val_loss: 0.9083 - val_accuracy: 0.8224\n",
      "Epoch 17/30\n",
      "40/40 [==============================] - 9s 217ms/step - loss: 9.2463e-04 - accuracy: 0.9999 - val_loss: 0.9266 - val_accuracy: 0.8192\n",
      "Epoch 18/30\n",
      "40/40 [==============================] - 9s 216ms/step - loss: 7.4178e-04 - accuracy: 0.9999 - val_loss: 0.9414 - val_accuracy: 0.8202\n",
      "Epoch 19/30\n",
      "40/40 [==============================] - 9s 216ms/step - loss: 5.9451e-04 - accuracy: 0.9999 - val_loss: 0.9589 - val_accuracy: 0.8192\n",
      "Epoch 20/30\n",
      "40/40 [==============================] - 9s 215ms/step - loss: 5.0388e-04 - accuracy: 1.0000 - val_loss: 0.9725 - val_accuracy: 0.8192\n",
      "Epoch 21/30\n",
      "40/40 [==============================] - 9s 218ms/step - loss: 4.1309e-04 - accuracy: 1.0000 - val_loss: 0.9849 - val_accuracy: 0.8188\n",
      "Epoch 22/30\n",
      "40/40 [==============================] - 9s 215ms/step - loss: 3.5405e-04 - accuracy: 1.0000 - val_loss: 0.9937 - val_accuracy: 0.8222\n",
      "Epoch 23/30\n",
      "40/40 [==============================] - 9s 218ms/step - loss: 3.1145e-04 - accuracy: 1.0000 - val_loss: 1.0035 - val_accuracy: 0.8214\n",
      "Epoch 24/30\n",
      "40/40 [==============================] - 9s 217ms/step - loss: 2.7615e-04 - accuracy: 1.0000 - val_loss: 1.0161 - val_accuracy: 0.8206\n",
      "Epoch 25/30\n",
      "40/40 [==============================] - 9s 217ms/step - loss: 2.4696e-04 - accuracy: 1.0000 - val_loss: 1.0265 - val_accuracy: 0.8208\n",
      "Epoch 26/30\n",
      "40/40 [==============================] - 9s 220ms/step - loss: 2.2064e-04 - accuracy: 1.0000 - val_loss: 1.0336 - val_accuracy: 0.8222\n",
      "Epoch 27/30\n",
      "40/40 [==============================] - 9s 230ms/step - loss: 2.0008e-04 - accuracy: 1.0000 - val_loss: 1.0433 - val_accuracy: 0.8212\n",
      "Epoch 28/30\n",
      "40/40 [==============================] - 9s 223ms/step - loss: 1.8242e-04 - accuracy: 1.0000 - val_loss: 1.0529 - val_accuracy: 0.8214\n",
      "Epoch 29/30\n",
      "40/40 [==============================] - 9s 237ms/step - loss: 1.6671e-04 - accuracy: 1.0000 - val_loss: 1.0590 - val_accuracy: 0.8218\n",
      "Epoch 30/30\n",
      "40/40 [==============================] - 9s 222ms/step - loss: 1.5335e-04 - accuracy: 1.0000 - val_loss: 1.0668 - val_accuracy: 0.8216\n"
     ]
    }
   ],
   "source": [
    "history = bi_rnn_model.fit(\n",
    "    train_data, train_labels,\n",
    "    epochs = 30,\n",
    "    batch_size = batch_size,\n",
    "    validation_split = 0.2)"
   ]
  },
  {
   "cell_type": "code",
   "execution_count": 47,
   "metadata": {},
   "outputs": [
    {
     "data": {
      "image/png": "[encoded data removed]",
      "text/plain": [
       "<Figure size 576x360 with 1 Axes>"
      ]
     },
     "metadata": {
      "needs_background": "light"
     },
     "output_type": "display_data"
    },
    {
     "data": {
      "image/png": "[encoded data removed]",
      "text/plain": [
       "<Figure size 576x360 with 1 Axes>"
      ]
     },
     "metadata": {
      "needs_background": "light"
     },
     "output_type": "display_data"
    }
   ],
   "source": [
    "plot_learning_curves(history, 'accuracy', 30, 0, 1.1)\n",
    "plot_learning_curves(history, 'loss', 30, 0, 2.5)"
   ]
  },
  {
   "cell_type": "code",
   "execution_count": 48,
   "metadata": {},
   "outputs": [
    {
     "data": {
      "text/plain": [
       "[1.1711177825927734, 0.8067600131034851]"
      ]
     },
     "execution_count": 48,
     "metadata": {},
     "output_type": "execute_result"
    }
   ],
   "source": [
    "bi_rnn_model.evaluate(test_data, test_labels, batch_size = batch_size, verbose = 0)"
   ]
  },
  {
   "cell_type": "code",
   "execution_count": 49,
   "metadata": {},
   "outputs": [],
   "source": [
    "# 最终效果变好了，但是仍然过拟合，过拟合说明一点我们模型很强大"
   ]
  },
  {
   "cell_type": "code",
   "execution_count": 50,
   "metadata": {},
   "outputs": [
    {
     "data": {
      "text/plain": [
       "array([0.9162905], dtype=float32)"
      ]
     },
     "execution_count": 50,
     "metadata": {},
     "output_type": "execute_result"
    }
   ],
   "source": [
    "# 就是前面的交叉熵的损失\n",
    "y_true = [[0, 1]]\n",
    "y_pred = [[0.6, 0.4]]\n",
    "loss = tf.keras.losses.binary_crossentropy(y_true, y_pred)\n",
    "# assert loss.shape == (2,)\n",
    "loss.numpy()"
   ]
  },
  {
   "cell_type": "code",
   "execution_count": 51,
   "metadata": {},
   "outputs": [
    {
     "data": {
      "text/plain": [
       "-0.916290731874155"
      ]
     },
     "execution_count": 51,
     "metadata": {},
     "output_type": "execute_result"
    }
   ],
   "source": [
    "1*np.log(0.4)"
   ]
  },
  {
   "cell_type": "code",
   "execution_count": 19,
   "metadata": {},
   "outputs": [
    {
     "name": "stdout",
     "output_type": "stream",
     "text": [
      "tf.Tensor(\n",
      "[[-0.11674929  0.03768268 -0.5296053  -0.05389068]\n",
      " [-0.13850148  0.59134066 -0.270788   -0.24964361]\n",
      " [-0.76396585  0.5241694  -0.974536    0.21472673]\n",
      " [ 0.13231383  0.6406638  -0.4140324  -0.3573697 ]\n",
      " [ 0.41566592  0.0792245  -0.6074939   0.12900102]\n",
      " [-0.7098357   0.10097048 -0.7415774   0.315959  ]\n",
      " [ 0.48493513  0.6250705  -0.44819617 -0.25536817]\n",
      " [-0.21142295  0.7860653  -0.7161278  -0.6608166 ]\n",
      " [ 0.26585194  0.1949985  -0.77909124 -0.07691476]\n",
      " [ 0.7000049   0.8233278  -0.5370569  -0.5426825 ]\n",
      " [ 0.7384418   0.91392004 -0.65363955 -0.52854985]\n",
      " [ 0.58076346  0.34979206 -0.56162757 -0.10018706]\n",
      " [ 0.4799821   0.53558654 -0.01417232 -0.66756517]\n",
      " [ 0.04138417 -0.23143402 -0.7742861   0.16586946]\n",
      " [ 0.1748495   0.708071   -0.8217012   0.38114238]\n",
      " [-0.31198946  0.6363559  -0.6900099  -0.43791175]\n",
      " [-0.65312386 -0.5788597  -0.89072174  0.55672324]\n",
      " [ 0.24859734  0.46776032 -0.78230834 -0.57377875]\n",
      " [ 0.4498516   0.7060624  -0.83813155 -0.36486733]\n",
      " [ 0.16392678  0.7183276  -0.44157097 -0.36563218]\n",
      " [-0.4893789   0.51365393 -0.82565075  0.20825428]\n",
      " [-0.1946211   0.64514244 -0.8938188   0.04070575]\n",
      " [ 0.60846514  0.8274775  -0.63523006 -0.8144778 ]\n",
      " [-0.17710337  0.9320999  -0.7628445  -0.7783555 ]\n",
      " [ 0.40908086 -0.08225326 -0.12723638 -0.06941164]\n",
      " [ 0.33516076  0.6025593  -0.12181455  0.23072867]\n",
      " [ 0.5549079   0.28121954 -0.09355511 -0.46249026]\n",
      " [ 0.5758808   0.9495169  -0.6424897  -0.69543624]\n",
      " [-0.53222907  0.43718633 -0.66080695 -0.30231133]\n",
      " [ 0.637739    0.03774547 -0.41557285 -0.6408856 ]\n",
      " [-0.62503636  0.47297686 -0.84144634 -0.37374008]\n",
      " [-0.00231331  0.8410284  -0.87858593 -0.5653006 ]], shape=(32, 4), dtype=float32)\n"
     ]
    }
   ],
   "source": [
    "inputs = np.random.random([32, 10, 8]).astype(np.float32) # 32是样本数，每个样本10个词，8个密集向量\n",
    "simple_rnn = tf.keras.layers.SimpleRNN(4)\n",
    "\n",
    "output = simple_rnn(inputs)  # The output has shape `[32, 4]`.\n",
    "print(output)\n",
    "simple_rnn = tf.keras.layers.SimpleRNN(\n",
    "    4, return_sequences=False,return_state=True)\n",
    "\n",
    "# whole_sequence_output has shape `[32, 10, 4]`.\n",
    "# final_state has shape `[32, 4]`.\n",
    "whole_sequence_output,final_state = simple_rnn(inputs)"
   ]
  },
  {
   "cell_type": "code",
   "execution_count": 21,
   "metadata": {},
   "outputs": [
    {
     "name": "stdout",
     "output_type": "stream",
     "text": [
      "tf.Tensor(\n",
      "[[-0.47545692 -0.69790685 -0.88248867  0.84130615]\n",
      " [-0.25347906 -0.51073027 -0.8813619   0.30092227]\n",
      " [ 0.4625923  -0.78524446 -0.94941694  0.7231995 ]\n",
      " [-0.02490686 -0.6493673  -0.81091744 -0.3388508 ]\n",
      " [ 0.14214413 -0.20077237 -0.9183255   0.2945501 ]\n",
      " [ 0.6268465  -0.63695204 -0.92192394  0.6959476 ]\n",
      " [ 0.41904193 -0.12967838 -0.06075424 -0.6805534 ]\n",
      " [-0.06913431 -0.8388472  -0.9465746  -0.06211059]\n",
      " [ 0.03850814 -0.40626252 -0.4524978   0.26984638]\n",
      " [-0.45582873 -0.5204227  -0.7908509  -0.26026967]\n",
      " [-0.3530798  -0.0017871  -0.64372367 -0.46839863]\n",
      " [ 0.33360076 -0.74255043 -0.9696496   0.80020106]\n",
      " [-0.19084132 -0.90250045 -0.6833049   0.5531578 ]\n",
      " [ 0.43084973  0.02761898 -0.9071847   0.77665025]\n",
      " [ 0.18457331 -0.6844885  -0.7954134   0.33093914]\n",
      " [ 0.544442   -0.8364918  -0.73775244  0.22715777]\n",
      " [ 0.6013251  -0.6646503  -0.9363969   0.9154557 ]\n",
      " [-0.2410638  -0.08839986 -0.6909418   0.5635222 ]\n",
      " [ 0.31631488 -0.5276123  -0.9176652   0.4939099 ]\n",
      " [ 0.0882124  -0.48418203 -0.86843514 -0.12961355]\n",
      " [ 0.00944598 -0.8622069  -0.3027892   0.73500663]\n",
      " [ 0.7088114  -0.0953766  -0.8976566   0.7495546 ]\n",
      " [-0.33710852 -0.16908684 -0.7647691  -0.21017638]\n",
      " [ 0.24841022 -0.44100308 -0.92068654  0.4796952 ]\n",
      " [-0.24231178 -0.82400477 -0.35587078  0.4703876 ]\n",
      " [-0.27960828 -0.4085608   0.649681   -0.21609217]\n",
      " [-0.44255808 -0.4717126  -0.7537107  -0.40580592]\n",
      " [-0.6094365  -0.52353877 -0.76692104 -0.7387327 ]\n",
      " [ 0.63598907 -0.45478356 -0.9579694   0.80821943]\n",
      " [-0.59291667 -0.6973365  -0.7581943   0.4802062 ]\n",
      " [ 0.15072516 -0.96891797 -0.3205593   0.49602082]\n",
      " [ 0.3381543  -0.7939802  -0.4881118   0.37420753]], shape=(32, 4), dtype=float32)\n",
      "--------------------------------------------------\n"
     ]
    },
    {
     "data": {
      "text/plain": [
       "<tf.Tensor: shape=(32, 4), dtype=float32, numpy=\n",
       "array([[-0.47545692, -0.69790685, -0.88248867,  0.84130615],\n",
       "       [-0.25347906, -0.51073027, -0.8813619 ,  0.30092227],\n",
       "       [ 0.4625923 , -0.78524446, -0.94941694,  0.7231995 ],\n",
       "       [-0.02490686, -0.6493673 , -0.81091744, -0.3388508 ],\n",
       "       [ 0.14214413, -0.20077237, -0.9183255 ,  0.2945501 ],\n",
       "       [ 0.6268465 , -0.63695204, -0.92192394,  0.6959476 ],\n",
       "       [ 0.41904193, -0.12967838, -0.06075424, -0.6805534 ],\n",
       "       [-0.06913431, -0.8388472 , -0.9465746 , -0.06211059],\n",
       "       [ 0.03850814, -0.40626252, -0.4524978 ,  0.26984638],\n",
       "       [-0.45582873, -0.5204227 , -0.7908509 , -0.26026967],\n",
       "       [-0.3530798 , -0.0017871 , -0.64372367, -0.46839863],\n",
       "       [ 0.33360076, -0.74255043, -0.9696496 ,  0.80020106],\n",
       "       [-0.19084132, -0.90250045, -0.6833049 ,  0.5531578 ],\n",
       "       [ 0.43084973,  0.02761898, -0.9071847 ,  0.77665025],\n",
       "       [ 0.18457331, -0.6844885 , -0.7954134 ,  0.33093914],\n",
       "       [ 0.544442  , -0.8364918 , -0.73775244,  0.22715777],\n",
       "       [ 0.6013251 , -0.6646503 , -0.9363969 ,  0.9154557 ],\n",
       "       [-0.2410638 , -0.08839986, -0.6909418 ,  0.5635222 ],\n",
       "       [ 0.31631488, -0.5276123 , -0.9176652 ,  0.4939099 ],\n",
       "       [ 0.0882124 , -0.48418203, -0.86843514, -0.12961355],\n",
       "       [ 0.00944598, -0.8622069 , -0.3027892 ,  0.73500663],\n",
       "       [ 0.7088114 , -0.0953766 , -0.8976566 ,  0.7495546 ],\n",
       "       [-0.33710852, -0.16908684, -0.7647691 , -0.21017638],\n",
       "       [ 0.24841022, -0.44100308, -0.92068654,  0.4796952 ],\n",
       "       [-0.24231178, -0.82400477, -0.35587078,  0.4703876 ],\n",
       "       [-0.27960828, -0.4085608 ,  0.649681  , -0.21609217],\n",
       "       [-0.44255808, -0.4717126 , -0.7537107 , -0.40580592],\n",
       "       [-0.6094365 , -0.52353877, -0.76692104, -0.7387327 ],\n",
       "       [ 0.63598907, -0.45478356, -0.9579694 ,  0.80821943],\n",
       "       [-0.59291667, -0.6973365 , -0.7581943 ,  0.4802062 ],\n",
       "       [ 0.15072516, -0.96891797, -0.3205593 ,  0.49602082],\n",
       "       [ 0.3381543 , -0.7939802 , -0.4881118 ,  0.37420753]],\n",
       "      dtype=float32)>"
      ]
     },
     "execution_count": 21,
     "metadata": {},
     "output_type": "execute_result"
    }
   ],
   "source": [
    "print(whole_sequence_output)\n",
    "print('-'*50)\n",
    "final_state"
   ]
  }
 ],
 "metadata": {
  "kernelspec": {
   "display_name": "Python 3 (ipykernel)",
   "language": "python",
   "name": "python3"
  },
  "language_info": {
   "codemirror_mode": {
    "name": "ipython",
    "version": 3
   },
   "file_extension": ".py",
   "mimetype": "text/x-python",
   "name": "python",
   "nbconvert_exporter": "python",
   "pygments_lexer": "ipython3",
   "version": "3.9.7"
  }
 },
 "nbformat": 4,
 "nbformat_minor": 2
}
