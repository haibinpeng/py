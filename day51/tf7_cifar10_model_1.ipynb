{
  "nbformat": 4,
  "nbformat_minor": 0,
  "metadata": {
    "kernelspec": {
      "display_name": "Python 3",
      "language": "python",
      "name": "python3"
    },
    "language_info": {
      "codemirror_mode": {
        "name": "ipython",
        "version": 3
      },
      "file_extension": ".py",
      "mimetype": "text/x-python",
      "name": "python",
      "nbconvert_exporter": "python",
      "pygments_lexer": "ipython3",
      "version": "3.6.9"
    },
    "colab": {
      "name": "tf6_cifar10_model_1.ipynb",
      "provenance": [],
      "collapsed_sections": []
    },
    "gpuClass": "standard"
  },
  "cells": [
    {
      "cell_type": "code",
      "metadata": {
        "_cell_guid": "79c7e3d0-c299-4dcb-8224-4455121ee9b0",
        "_uuid": "d629ff2d2480ee46fbb7e2d37f6b5fab8052498a",
        "colab": {
          "base_uri": "https://localhost:8080/"
        },
        "id": "gcTSfiR4cQYK",
        "outputId": "125451da-7311-40c3-ebef-2dc33f9d2fba"
      },
      "source": [
        "%matplotlib inline\n",
        "import matplotlib as mpl\n",
        "import matplotlib.pyplot as plt\n",
        "import numpy as np\n",
        "import os\n",
        "import pandas as pd\n",
        "import sklearn\n",
        "import sys\n",
        "import tensorflow as tf\n",
        "import time\n",
        "\n",
        "from tensorflow import keras\n",
        "\n",
        "print(tf.__version__)\n",
        "print(sys.version_info)\n",
        "for module in mpl, np, pd, sklearn, tf, keras:\n",
        "    print(module.__name__, module.__version__)"
      ],
      "execution_count": null,
      "outputs": [
        {
          "output_type": "stream",
          "name": "stdout",
          "text": [
            "2.8.2\n",
            "sys.version_info(major=3, minor=7, micro=13, releaselevel='final', serial=0)\n",
            "matplotlib 3.2.2\n",
            "numpy 1.21.6\n",
            "pandas 1.3.5\n",
            "sklearn 1.0.2\n",
            "tensorflow 2.8.2\n",
            "keras.api._v2.keras 2.8.0\n"
          ]
        }
      ]
    },
    {
      "cell_type": "code",
      "metadata": {
        "id": "bO5VT_YYEume",
        "colab": {
          "base_uri": "https://localhost:8080/"
        },
        "outputId": "edf96bcd-feba-4d4a-95e3-9a1a5e584a09"
      },
      "source": [
        "!nvidia-smi"
      ],
      "execution_count": null,
      "outputs": [
        {
          "output_type": "stream",
          "name": "stdout",
          "text": [
            "NVIDIA-SMI has failed because it couldn't communicate with the NVIDIA driver. Make sure that the latest NVIDIA driver is installed and running.\n",
            "\n"
          ]
        }
      ]
    },
    {
      "cell_type": "code",
      "metadata": {
        "colab": {
          "base_uri": "https://localhost:8080/"
        },
        "id": "4NOao51JYfzi",
        "outputId": "072a0249-f693-40e6-80a6-a5627f3213b8"
      },
      "source": [
        "!pip install kaggle"
      ],
      "execution_count": null,
      "outputs": [
        {
          "output_type": "stream",
          "name": "stdout",
          "text": [
            "Looking in indexes: https://pypi.org/simple, https://us-python.pkg.dev/colab-wheels/public/simple/\n",
            "Requirement already satisfied: kaggle in /usr/local/lib/python3.7/dist-packages (1.5.12)\n",
            "Requirement already satisfied: python-slugify in /usr/local/lib/python3.7/dist-packages (from kaggle) (6.1.2)\n",
            "Requirement already satisfied: six>=1.10 in /usr/local/lib/python3.7/dist-packages (from kaggle) (1.15.0)\n",
            "Requirement already satisfied: tqdm in /usr/local/lib/python3.7/dist-packages (from kaggle) (4.64.0)\n",
            "Requirement already satisfied: requests in /usr/local/lib/python3.7/dist-packages (from kaggle) (2.23.0)\n",
            "Requirement already satisfied: certifi in /usr/local/lib/python3.7/dist-packages (from kaggle) (2022.6.15)\n",
            "Requirement already satisfied: urllib3 in /usr/local/lib/python3.7/dist-packages (from kaggle) (1.24.3)\n",
            "Requirement already satisfied: python-dateutil in /usr/local/lib/python3.7/dist-packages (from kaggle) (2.8.2)\n",
            "Requirement already satisfied: text-unidecode>=1.3 in /usr/local/lib/python3.7/dist-packages (from python-slugify->kaggle) (1.3)\n",
            "Requirement already satisfied: chardet<4,>=3.0.2 in /usr/local/lib/python3.7/dist-packages (from requests->kaggle) (3.0.4)\n",
            "Requirement already satisfied: idna<3,>=2.5 in /usr/local/lib/python3.7/dist-packages (from requests->kaggle) (2.10)\n"
          ]
        }
      ]
    },
    {
      "cell_type": "code",
      "metadata": {
        "id": "Fi46_oyAY6qD"
      },
      "source": [
        "import json\n",
        "token = {\"username\":\"yf9761\",\"key\":\"49473b3a8574a87b8e62f8b01f265d4b\"}\n",
        "with open('/content/kaggle.json', 'w') as file:\n",
        "  json.dump(token, file)"
      ],
      "execution_count": null,
      "outputs": []
    },
    {
      "cell_type": "code",
      "metadata": {
        "colab": {
          "base_uri": "https://localhost:8080/"
        },
        "id": "FBunE0OvY6ZY",
        "outputId": "75e65281-b085-41d9-9153-47563cd2391c"
      },
      "source": [
        "!cat /content/kaggle.json"
      ],
      "execution_count": null,
      "outputs": [
        {
          "output_type": "stream",
          "name": "stdout",
          "text": [
            "{\"username\": \"yf9761\", \"key\": \"49473b3a8574a87b8e62f8b01f265d4b\"}"
          ]
        }
      ]
    },
    {
      "cell_type": "code",
      "metadata": {
        "colab": {
          "base_uri": "https://localhost:8080/"
        },
        "id": "qXgB8rdbZIDU",
        "outputId": "d576b6cf-2134-42c5-aafb-9bb58f4b521f"
      },
      "source": [
        "!mkdir -p ~/.kaggle\n",
        "!cp /content/kaggle.json ~/.kaggle/\n",
        "!chmod 600 ~/.kaggle/kaggle.json\n",
        "!kaggle config set -n path -v /content"
      ],
      "execution_count": null,
      "outputs": [
        {
          "output_type": "stream",
          "name": "stdout",
          "text": [
            "- path is now set to: /content\n"
          ]
        }
      ]
    },
    {
      "cell_type": "code",
      "metadata": {
        "colab": {
          "base_uri": "https://localhost:8080/"
        },
        "id": "Xtn4YxW2ZSI5",
        "outputId": "f39a3043-9a7f-43b1-b29a-96e991888c86"
      },
      "source": [
        "!pwd"
      ],
      "execution_count": null,
      "outputs": [
        {
          "output_type": "stream",
          "name": "stdout",
          "text": [
            "/content\n"
          ]
        }
      ]
    },
    {
      "cell_type": "code",
      "metadata": {
        "id": "p0A-3wMTZTe2"
      },
      "source": [
        "# 普通数据集的下载方式\n",
        "# !kaggle datasets download -d slothkong/10-monkey-species"
      ],
      "execution_count": null,
      "outputs": []
    },
    {
      "cell_type": "code",
      "metadata": {
        "colab": {
          "base_uri": "https://localhost:8080/"
        },
        "id": "JL8vRjqkZg3G",
        "outputId": "3d5a5d4b-3c82-4b5d-f395-7c7a8c081d59"
      },
      "source": [
        "# 比赛数据集的下载方式\n",
        "!kaggle competitions download -c cifar-10"
      ],
      "execution_count": null,
      "outputs": [
        {
          "output_type": "stream",
          "name": "stdout",
          "text": [
            "Downloading cifar-10.zip to /content/competitions/cifar-10\n",
            " 99% 705M/715M [00:05<00:00, 126MB/s]\n",
            "100% 715M/715M [00:05<00:00, 130MB/s]\n"
          ]
        }
      ]
    },
    {
      "cell_type": "markdown",
      "source": [
        "# 新段落"
      ],
      "metadata": {
        "id": "RDrGNb8RaqCz"
      }
    },
    {
      "cell_type": "code",
      "metadata": {
        "colab": {
          "base_uri": "https://localhost:8080/"
        },
        "id": "EZkDbHbEaC7x",
        "outputId": "7e776a9a-0121-4c1b-95aa-bcbfbac32ed6"
      },
      "source": [
        "!ls /content/competitions/cifar-10"
      ],
      "execution_count": null,
      "outputs": [
        {
          "output_type": "stream",
          "name": "stdout",
          "text": [
            "cifar-10.zip\n"
          ]
        }
      ]
    },
    {
      "cell_type": "code",
      "source": [
        "!unzip /content/competitions/cifar-10/cifar-10.zip"
      ],
      "metadata": {
        "colab": {
          "base_uri": "https://localhost:8080/"
        },
        "id": "psY5LhQee3Ir",
        "outputId": "88bca225-41c0-4881-f04c-5f33078b51af"
      },
      "execution_count": null,
      "outputs": [
        {
          "output_type": "stream",
          "name": "stdout",
          "text": [
            "Archive:  /content/competitions/cifar-10/cifar-10.zip\n",
            "  inflating: sampleSubmission.csv    \n",
            "  inflating: test.7z                 \n",
            "  inflating: train.7z                \n",
            "  inflating: trainLabels.csv         \n"
          ]
        }
      ]
    },
    {
      "cell_type": "code",
      "source": [
        "!ls /content/"
      ],
      "metadata": {
        "colab": {
          "base_uri": "https://localhost:8080/"
        },
        "id": "bDHJECaAfEAE",
        "outputId": "eea90216-c2a3-4ef9-ec95-e3e6605d2f25"
      },
      "execution_count": null,
      "outputs": [
        {
          "output_type": "stream",
          "name": "stdout",
          "text": [
            "competitions  sample_data\t    test.7z   trainLabels.csv\n",
            "kaggle.json   sampleSubmission.csv  train.7z\n"
          ]
        }
      ]
    },
    {
      "cell_type": "code",
      "metadata": {
        "colab": {
          "base_uri": "https://localhost:8080/"
        },
        "id": "gIcDMwAcaktp",
        "outputId": "f62d92e7-e1df-4598-d3e1-275fa97b074b"
      },
      "source": [
        "%pip install py7zr\n",
        "import py7zr\n",
        "a = py7zr.SevenZipFile(r'./train.7z','r')\n",
        "a.extractall(path=r'./competitions/cifar-10/')\n",
        "a.close()"
      ],
      "execution_count": null,
      "outputs": [
        {
          "output_type": "stream",
          "name": "stdout",
          "text": [
            "Looking in indexes: https://pypi.org/simple, https://us-python.pkg.dev/colab-wheels/public/simple/\n",
            "Collecting py7zr\n",
            "  Downloading py7zr-0.19.0-py3-none-any.whl (65 kB)\n",
            "\u001b[K     |████████████████████████████████| 65 kB 1.8 MB/s \n",
            "\u001b[?25hCollecting pyzstd>=0.14.4\n",
            "  Downloading pyzstd-0.15.2-cp37-cp37m-manylinux_2_17_x86_64.manylinux2014_x86_64.whl (2.4 MB)\n",
            "\u001b[K     |████████████████████████████████| 2.4 MB 11.4 MB/s \n",
            "\u001b[?25hCollecting pycryptodomex>=3.6.6\n",
            "  Downloading pycryptodomex-3.15.0-cp35-abi3-manylinux2010_x86_64.whl (2.3 MB)\n",
            "\u001b[K     |████████████████████████████████| 2.3 MB 49.6 MB/s \n",
            "\u001b[?25hCollecting brotli>=1.0.9\n",
            "  Downloading Brotli-1.0.9-cp37-cp37m-manylinux1_x86_64.whl (357 kB)\n",
            "\u001b[K     |████████████████████████████████| 357 kB 42.1 MB/s \n",
            "\u001b[?25hCollecting pybcj>=0.6.0\n",
            "  Downloading pybcj-0.6.1-cp37-cp37m-manylinux_2_17_x86_64.manylinux2014_x86_64.whl (50 kB)\n",
            "\u001b[K     |████████████████████████████████| 50 kB 5.6 MB/s \n",
            "\u001b[?25hCollecting inflate64>=0.1.2\n",
            "  Downloading inflate64-0.1.4-cp37-cp37m-manylinux_2_17_x86_64.manylinux2014_x86_64.whl (94 kB)\n",
            "\u001b[K     |████████████████████████████████| 94 kB 1.9 MB/s \n",
            "\u001b[?25hRequirement already satisfied: importlib-metadata in /usr/local/lib/python3.7/dist-packages (from py7zr) (4.12.0)\n",
            "Collecting multivolumefile>=0.2.3\n",
            "  Downloading multivolumefile-0.2.3-py3-none-any.whl (17 kB)\n",
            "Requirement already satisfied: psutil in /usr/local/lib/python3.7/dist-packages (from py7zr) (5.4.8)\n",
            "Collecting texttable\n",
            "  Downloading texttable-1.6.4-py2.py3-none-any.whl (10 kB)\n",
            "Collecting pyppmd<0.19.0,>=0.18.1\n",
            "  Downloading pyppmd-0.18.3-cp37-cp37m-manylinux_2_17_x86_64.manylinux2014_x86_64.whl (138 kB)\n",
            "\u001b[K     |████████████████████████████████| 138 kB 44.6 MB/s \n",
            "\u001b[?25hRequirement already satisfied: zipp>=0.5 in /usr/local/lib/python3.7/dist-packages (from importlib-metadata->py7zr) (3.8.1)\n",
            "Requirement already satisfied: typing-extensions>=3.6.4 in /usr/local/lib/python3.7/dist-packages (from importlib-metadata->py7zr) (4.1.1)\n",
            "Installing collected packages: texttable, pyzstd, pyppmd, pycryptodomex, pybcj, multivolumefile, inflate64, brotli, py7zr\n",
            "Successfully installed brotli-1.0.9 inflate64-0.1.4 multivolumefile-0.2.3 py7zr-0.19.0 pybcj-0.6.1 pycryptodomex-3.15.0 pyppmd-0.18.3 pyzstd-0.15.2 texttable-1.6.4\n"
          ]
        }
      ]
    },
    {
      "cell_type": "code",
      "metadata": {
        "colab": {
          "base_uri": "https://localhost:8080/"
        },
        "id": "jxHEojoXcEGX",
        "outputId": "22307a8e-c06c-44f6-cfec-5a9f0e8556bc"
      },
      "source": [
        "!ls /content/competitions/cifar-10/train|wc -l"
      ],
      "execution_count": null,
      "outputs": [
        {
          "output_type": "stream",
          "name": "stdout",
          "text": [
            "50000\n"
          ]
        }
      ]
    },
    {
      "cell_type": "code",
      "metadata": {
        "id": "sYrWDOmEcWfW"
      },
      "source": [
        "# 测试集\n",
        "a = py7zr.SevenZipFile(r'./test.7z','r')\n",
        "a.extractall(path=r'./competitions/cifar-10/')\n",
        "a.close()"
      ],
      "execution_count": null,
      "outputs": []
    },
    {
      "cell_type": "code",
      "metadata": {
        "colab": {
          "base_uri": "https://localhost:8080/"
        },
        "id": "o6OPszZggi_R",
        "outputId": "41a436f6-b73b-401f-e928-5d30bc59f8dd"
      },
      "source": [
        "!ls /content/competitions/cifar-10/test|wc -l"
      ],
      "execution_count": null,
      "outputs": [
        {
          "output_type": "stream",
          "name": "stdout",
          "text": [
            "300000\n"
          ]
        }
      ]
    },
    {
      "cell_type": "code",
      "metadata": {
        "id": "f0BwBptMgs5g"
      },
      "source": [
        "!cp sampleSubmission.csv trainLabels.csv /content/competitions/cifar-10"
      ],
      "execution_count": null,
      "outputs": []
    },
    {
      "cell_type": "code",
      "source": [
        "!ls /content/competitions/cifar-10"
      ],
      "metadata": {
        "colab": {
          "base_uri": "https://localhost:8080/"
        },
        "id": "vMG0bW82lrHb",
        "outputId": "49715560-8259-491a-e41b-d5cefaaab07b"
      },
      "execution_count": null,
      "outputs": [
        {
          "output_type": "stream",
          "name": "stdout",
          "text": [
            "cifar-10.zip  sampleSubmission.csv  test  train  trainLabels.csv\n"
          ]
        }
      ]
    },
    {
      "cell_type": "code",
      "metadata": {
        "id": "RtO1NobRcQYS",
        "colab": {
          "base_uri": "https://localhost:8080/"
        },
        "outputId": "0b3a5910-c4f4-4621-e56c-8e9a74faf905"
      },
      "source": [
        "# 所有的类别\n",
        "class_names = [\n",
        "    'airplane',\n",
        "    'automobile',\n",
        "    'bird',\n",
        "    'cat',\n",
        "    'deer',\n",
        "    'dog',\n",
        "    'frog',\n",
        "    'horse',\n",
        "    'ship',\n",
        "    'truck',\n",
        "]\n",
        "\n",
        "train_lables_file = 'competitions/cifar-10/trainLabels.csv'\n",
        "test_csv_file = 'competitions/cifar-10/sampleSubmission.csv'\n",
        "train_folder = 'competitions/cifar-10/train/'\n",
        "test_folder = 'competitions/cifar-10/test'\n",
        "\n",
        "def parse_csv_file(filepath, folder):\n",
        "    \"\"\"Parses csv files into (filename(path), label) format\"\"\"\n",
        "    results = []\n",
        "    # 读取所有行\n",
        "    with open(filepath, 'r') as f:\n",
        "        # lines = f.readlines()\n",
        "        lines = f.readlines()[1:]  # 跳过第0行\n",
        "    for line in lines:\n",
        "        image_id, label_str = line.strip('\\n').split(',')  # strip()用于移除字符串头尾指定的字符或字符序列。\n",
        "        image_full_path = os.path.join(folder, image_id + '.png')\n",
        "        results.append((image_full_path, label_str))  # 使用flow_from_df要求这种格式\n",
        "    return results \n",
        "\n",
        "# 解析对应的文件夹\n",
        "train_labels_info = parse_csv_file(train_lables_file, train_folder)\n",
        "test_csv_info = parse_csv_file(test_csv_file, test_folder)\n",
        "# 打印\n",
        "import pprint\n",
        "pprint.pprint(train_labels_info[0:5])\n",
        "pprint.pprint(test_csv_info[0:5])\n",
        "print(len(train_labels_info), len(test_csv_info))"
      ],
      "execution_count": null,
      "outputs": [
        {
          "output_type": "stream",
          "name": "stdout",
          "text": [
            "[('competitions/cifar-10/train/1.png', 'frog'),\n",
            " ('competitions/cifar-10/train/2.png', 'truck'),\n",
            " ('competitions/cifar-10/train/3.png', 'truck'),\n",
            " ('competitions/cifar-10/train/4.png', 'deer'),\n",
            " ('competitions/cifar-10/train/5.png', 'automobile')]\n",
            "[('competitions/cifar-10/test/1.png', 'cat'),\n",
            " ('competitions/cifar-10/test/2.png', 'cat'),\n",
            " ('competitions/cifar-10/test/3.png', 'cat'),\n",
            " ('competitions/cifar-10/test/4.png', 'cat'),\n",
            " ('competitions/cifar-10/test/5.png', 'cat')]\n",
            "50000 300000\n"
          ]
        }
      ]
    },
    {
      "cell_type": "code",
      "metadata": {
        "id": "QRMjHfbUcQYT",
        "colab": {
          "base_uri": "https://localhost:8080/"
        },
        "outputId": "ee7a557d-2ea7-4ced-89d5-3c0c03706ad4"
      },
      "source": [
        "# train_df = pd.DataFrame(train_labels_info)\n",
        "train_df = pd.DataFrame(train_labels_info[0:45000])  # 训练集\n",
        "valid_df = pd.DataFrame(train_labels_info[45000:])  # 验证集\n",
        "test_df = pd.DataFrame(test_csv_info)  # 测试集\n",
        "\n",
        "train_df.columns = ['filepath', 'class']  # 给df赋列索引名\n",
        "valid_df.columns = ['filepath', 'class']\n",
        "test_df.columns = ['filepath', 'class']\n",
        "\n",
        "print(train_df.head())\n",
        "print(valid_df.head())\n",
        "print(test_df.head())"
      ],
      "execution_count": null,
      "outputs": [
        {
          "output_type": "stream",
          "name": "stdout",
          "text": [
            "                            filepath       class\n",
            "0  competitions/cifar-10/train/1.png        frog\n",
            "1  competitions/cifar-10/train/2.png       truck\n",
            "2  competitions/cifar-10/train/3.png       truck\n",
            "3  competitions/cifar-10/train/4.png        deer\n",
            "4  competitions/cifar-10/train/5.png  automobile\n",
            "                                filepath       class\n",
            "0  competitions/cifar-10/train/45001.png       horse\n",
            "1  competitions/cifar-10/train/45002.png  automobile\n",
            "2  competitions/cifar-10/train/45003.png        deer\n",
            "3  competitions/cifar-10/train/45004.png  automobile\n",
            "4  competitions/cifar-10/train/45005.png    airplane\n",
            "                           filepath class\n",
            "0  competitions/cifar-10/test/1.png   cat\n",
            "1  competitions/cifar-10/test/2.png   cat\n",
            "2  competitions/cifar-10/test/3.png   cat\n",
            "3  competitions/cifar-10/test/4.png   cat\n",
            "4  competitions/cifar-10/test/5.png   cat\n"
          ]
        }
      ]
    },
    {
      "cell_type": "code",
      "source": [
        "!ls competitions/cifar-10/train/1.png"
      ],
      "metadata": {
        "colab": {
          "base_uri": "https://localhost:8080/"
        },
        "id": "2GO1KfuZnJCm",
        "outputId": "eda3ef51-20e0-4534-ca7d-ba7fed6bfb6c"
      },
      "execution_count": null,
      "outputs": [
        {
          "output_type": "stream",
          "name": "stdout",
          "text": [
            "competitions/cifar-10/train/1.png\n"
          ]
        }
      ]
    },
    {
      "cell_type": "code",
      "metadata": {
        "id": "RQZszrnZcQYU",
        "colab": {
          "base_uri": "https://localhost:8080/"
        },
        "outputId": "b6b9deef-1b55-44c1-a258-92e52ac3cd24"
      },
      "source": [
        "height = 32\n",
        "width = 32\n",
        "channels = 3\n",
        "batch_size = 32\n",
        "num_classes = 10\n",
        "\n",
        "train_datagen = keras.preprocessing.image.ImageDataGenerator(\n",
        "    rescale = 1./255,\n",
        "    rotation_range = 40,\n",
        "    width_shift_range = 0.2,\n",
        "    height_shift_range = 0.2,\n",
        "    shear_range = 0.2,\n",
        "    zoom_range = 0.2,\n",
        "    horizontal_flip = True,\n",
        "    fill_mode = 'nearest',\n",
        ")\n",
        "\n",
        "# 训练集\n",
        "train_generator = train_datagen.flow_from_dataframe(\n",
        "    train_df,  # 这里放的是df，与之前不同\n",
        "    directory = './',  # 目录，当前路径\n",
        "    x_col = 'filepath',  # 特征的名字\n",
        "    y_col = 'class',  # 标签的名字\n",
        "    # 将标签转换为id\n",
        "    classes = class_names,\n",
        "    target_size = (height, width),\n",
        "    batch_size = batch_size,\n",
        "    seed = 7,\n",
        "    shuffle = True,\n",
        "    class_mode = 'sparse',  # 因为类别是1，2，3...不是ont-hot编码，所以这里是sparse\n",
        ")\n",
        "\n",
        "# 验证集，和上面一致\n",
        "valid_datagen = keras.preprocessing.image.ImageDataGenerator(\n",
        "    rescale = 1./255)\n",
        "valid_generator = valid_datagen.flow_from_dataframe(\n",
        "    valid_df,\n",
        "    directory = './',\n",
        "    x_col = 'filepath',\n",
        "    y_col = 'class',\n",
        "    classes = class_names,\n",
        "    target_size = (height, width),\n",
        "    batch_size = batch_size,\n",
        "    seed = 7,\n",
        "    shuffle = False,\n",
        "    class_mode = \"sparse\")\n",
        "\n",
        "train_num = train_generator.samples\n",
        "valid_num = valid_generator.samples\n",
        "print(train_num, valid_num)"
      ],
      "execution_count": null,
      "outputs": [
        {
          "output_type": "stream",
          "name": "stdout",
          "text": [
            "Found 45000 validated image filenames belonging to 10 classes.\n",
            "Found 5000 validated image filenames belonging to 10 classes.\n",
            "45000 5000\n"
          ]
        }
      ]
    },
    {
      "cell_type": "code",
      "metadata": {
        "id": "_IB_xO64cQYV",
        "colab": {
          "base_uri": "https://localhost:8080/"
        },
        "outputId": "7f98fca9-ac55-4a67-fdb2-b6ceb26982b4"
      },
      "source": [
        "for i in range(2):\n",
        "    x, y = train_generator.next()\n",
        "    print(x.shape, y.shape)\n",
        "    print(y)"
      ],
      "execution_count": null,
      "outputs": [
        {
          "output_type": "stream",
          "name": "stdout",
          "text": [
            "(32, 32, 32, 3) (32,)\n",
            "[2. 1. 4. 4. 4. 4. 6. 5. 2. 8. 4. 6. 6. 3. 7. 1. 7. 2. 8. 8. 3. 0. 5. 3.\n",
            " 9. 1. 4. 5. 6. 7. 9. 2.]\n",
            "(32, 32, 32, 3) (32,)\n",
            "[0. 7. 2. 7. 5. 5. 7. 0. 5. 4. 9. 7. 6. 3. 0. 4. 4. 4. 6. 3. 5. 4. 6. 6.\n",
            " 4. 1. 8. 2. 4. 4. 3. 0.]\n"
          ]
        }
      ]
    },
    {
      "cell_type": "code",
      "metadata": {
        "id": "Cqqwrl9ycQYV",
        "colab": {
          "base_uri": "https://localhost:8080/"
        },
        "outputId": "e5e56661-9c44-4feb-91af-cfea4075fa0f"
      },
      "source": [
        "model = keras.models.Sequential([\n",
        "    keras.layers.Conv2D(filters=128,  # 这里设的更大是为了从更多角度看图\n",
        "              kernel_size=3, padding='same',\n",
        "              activation='relu', \n",
        "              input_shape=[width, height, channels]),\n",
        "    keras.layers.BatchNormalization(),  # 批归一化\n",
        "    keras.layers.Conv2D(filters=128, kernel_size=3, padding='same',\n",
        "              activation='relu'),  # 用relu为了模型训练的更快，用selu效果会更好\n",
        "    keras.layers.BatchNormalization(),\n",
        "    keras.layers.MaxPool2D(pool_size=2),\n",
        "    keras.layers.Conv2D(filters=256, kernel_size=3, padding='same',\n",
        "              activation='relu'),\n",
        "    keras.layers.BatchNormalization(),\n",
        "    keras.layers.Conv2D(filters=256, kernel_size=3, padding='same',\n",
        "              activation='relu'),\n",
        "    keras.layers.BatchNormalization(),\n",
        "    keras.layers.MaxPool2D(pool_size=2),\n",
        "    keras.layers.Conv2D(filters=512, kernel_size=3, padding='same',\n",
        "              activation='relu'),\n",
        "    keras.layers.BatchNormalization(),\n",
        "    keras.layers.Conv2D(filters=512, kernel_size=3, padding='same',\n",
        "              activation='relu'),\n",
        "    keras.layers.BatchNormalization(),\n",
        "    keras.layers.MaxPool2D(pool_size=2),\n",
        "    keras.layers.Flatten(),\n",
        "    keras.layers.Dense(512, activation='relu'),\n",
        "    keras.layers.Dense(num_classes, activation='softmax'),\n",
        "])\n",
        "\n",
        "model.compile(loss=\"sparse_categorical_crossentropy\",  # 因为前面是sparse\n",
        "      optimizer=\"adam\", \n",
        "      metrics=['accuracy'])\n",
        "model.summary()"
      ],
      "execution_count": null,
      "outputs": [
        {
          "output_type": "stream",
          "name": "stdout",
          "text": [
            "Model: \"sequential\"\n",
            "_________________________________________________________________\n",
            " Layer (type)                Output Shape              Param #   \n",
            "=================================================================\n",
            " conv2d (Conv2D)             (None, 32, 32, 128)       3584      \n",
            "                                                                 \n",
            " batch_normalization (BatchN  (None, 32, 32, 128)      512       \n",
            " ormalization)                                                   \n",
            "                                                                 \n",
            " conv2d_1 (Conv2D)           (None, 32, 32, 128)       147584    \n",
            "                                                                 \n",
            " batch_normalization_1 (Batc  (None, 32, 32, 128)      512       \n",
            " hNormalization)                                                 \n",
            "                                                                 \n",
            " max_pooling2d (MaxPooling2D  (None, 16, 16, 128)      0         \n",
            " )                                                               \n",
            "                                                                 \n",
            " conv2d_2 (Conv2D)           (None, 16, 16, 256)       295168    \n",
            "                                                                 \n",
            " batch_normalization_2 (Batc  (None, 16, 16, 256)      1024      \n",
            " hNormalization)                                                 \n",
            "                                                                 \n",
            " conv2d_3 (Conv2D)           (None, 16, 16, 256)       590080    \n",
            "                                                                 \n",
            " batch_normalization_3 (Batc  (None, 16, 16, 256)      1024      \n",
            " hNormalization)                                                 \n",
            "                                                                 \n",
            " max_pooling2d_1 (MaxPooling  (None, 8, 8, 256)        0         \n",
            " 2D)                                                             \n",
            "                                                                 \n",
            " conv2d_4 (Conv2D)           (None, 8, 8, 512)         1180160   \n",
            "                                                                 \n",
            " batch_normalization_4 (Batc  (None, 8, 8, 512)        2048      \n",
            " hNormalization)                                                 \n",
            "                                                                 \n",
            " conv2d_5 (Conv2D)           (None, 8, 8, 512)         2359808   \n",
            "                                                                 \n",
            " batch_normalization_5 (Batc  (None, 8, 8, 512)        2048      \n",
            " hNormalization)                                                 \n",
            "                                                                 \n",
            " max_pooling2d_2 (MaxPooling  (None, 4, 4, 512)        0         \n",
            " 2D)                                                             \n",
            "                                                                 \n",
            " flatten (Flatten)           (None, 8192)              0         \n",
            "                                                                 \n",
            " dense (Dense)               (None, 512)               4194816   \n",
            "                                                                 \n",
            " dense_1 (Dense)             (None, 10)                5130      \n",
            "                                                                 \n",
            "=================================================================\n",
            "Total params: 8,783,498\n",
            "Trainable params: 8,779,914\n",
            "Non-trainable params: 3,584\n",
            "_________________________________________________________________\n"
          ]
        }
      ]
    },
    {
      "cell_type": "code",
      "metadata": {
        "id": "E2CMfhLEcQYW",
        "colab": {
          "base_uri": "https://localhost:8080/"
        },
        "outputId": "61d02070-80c5-494e-8ceb-377039b7eb48"
      },
      "source": [
        "epochs = 20\n",
        "history = model.fit(train_generator,\n",
        "           steps_per_epoch = train_num // batch_size,\n",
        "           epochs = epochs,\n",
        "           validation_data = valid_generator,\n",
        "           validation_steps = valid_num // batch_size)"
      ],
      "execution_count": null,
      "outputs": [
        {
          "output_type": "stream",
          "name": "stderr",
          "text": [
            "/usr/local/lib/python3.7/dist-packages/ipykernel_launcher.py:6: UserWarning: `Model.fit_generator` is deprecated and will be removed in a future version. Please use `Model.fit`, which supports generators.\n",
            "  \n"
          ]
        },
        {
          "output_type": "stream",
          "name": "stdout",
          "text": [
            "Epoch 1/20\n",
            "1406/1406 [==============================] - 68s 38ms/step - loss: 1.8650 - accuracy: 0.3558 - val_loss: 1.7227 - val_accuracy: 0.4139\n",
            "Epoch 2/20\n",
            "1406/1406 [==============================] - 51s 36ms/step - loss: 1.4550 - accuracy: 0.4748 - val_loss: 1.1957 - val_accuracy: 0.5813\n",
            "Epoch 3/20\n",
            "1406/1406 [==============================] - 50s 36ms/step - loss: 1.2447 - accuracy: 0.5573 - val_loss: 1.5736 - val_accuracy: 0.5351\n",
            "Epoch 4/20\n",
            "1406/1406 [==============================] - 50s 36ms/step - loss: 1.0872 - accuracy: 0.6218 - val_loss: 0.8610 - val_accuracy: 0.7065\n",
            "Epoch 5/20\n",
            "1406/1406 [==============================] - 50s 36ms/step - loss: 0.9577 - accuracy: 0.6690 - val_loss: 0.8862 - val_accuracy: 0.7169\n",
            "Epoch 6/20\n",
            "1406/1406 [==============================] - 50s 36ms/step - loss: 0.8634 - accuracy: 0.7059 - val_loss: 0.9001 - val_accuracy: 0.7194\n",
            "Epoch 7/20\n",
            "1406/1406 [==============================] - 51s 36ms/step - loss: 0.7852 - accuracy: 0.7330 - val_loss: 0.6775 - val_accuracy: 0.7851\n",
            "Epoch 8/20\n",
            "1406/1406 [==============================] - 50s 36ms/step - loss: 0.7237 - accuracy: 0.7531 - val_loss: 0.7251 - val_accuracy: 0.7646\n",
            "Epoch 9/20\n",
            "1406/1406 [==============================] - 50s 36ms/step - loss: 0.6814 - accuracy: 0.7691 - val_loss: 0.6261 - val_accuracy: 0.8043\n",
            "Epoch 10/20\n",
            "1406/1406 [==============================] - 50s 36ms/step - loss: 0.6344 - accuracy: 0.7836 - val_loss: 0.6143 - val_accuracy: 0.8087\n",
            "Epoch 11/20\n",
            "1406/1406 [==============================] - 50s 36ms/step - loss: 0.6070 - accuracy: 0.7950 - val_loss: 0.5469 - val_accuracy: 0.8253\n",
            "Epoch 12/20\n",
            "1406/1406 [==============================] - 50s 36ms/step - loss: 0.5829 - accuracy: 0.8024 - val_loss: 0.5271 - val_accuracy: 0.8367\n",
            "Epoch 13/20\n",
            "1406/1406 [==============================] - 50s 35ms/step - loss: 0.5523 - accuracy: 0.8120 - val_loss: 0.5204 - val_accuracy: 0.8375\n",
            "Epoch 14/20\n",
            "1406/1406 [==============================] - 50s 36ms/step - loss: 0.5293 - accuracy: 0.8192 - val_loss: 0.4806 - val_accuracy: 0.8391\n",
            "Epoch 15/20\n",
            "1406/1406 [==============================] - 50s 36ms/step - loss: 0.5131 - accuracy: 0.8263 - val_loss: 0.4983 - val_accuracy: 0.8343\n",
            "Epoch 16/20\n",
            "1406/1406 [==============================] - 50s 36ms/step - loss: 0.4895 - accuracy: 0.8334 - val_loss: 0.6343 - val_accuracy: 0.8127\n",
            "Epoch 17/20\n",
            "1406/1406 [==============================] - 50s 36ms/step - loss: 0.4808 - accuracy: 0.8373 - val_loss: 0.4522 - val_accuracy: 0.8556\n",
            "Epoch 18/20\n",
            "1406/1406 [==============================] - 50s 36ms/step - loss: 0.4663 - accuracy: 0.8428 - val_loss: 0.4203 - val_accuracy: 0.8616\n",
            "Epoch 19/20\n",
            "1406/1406 [==============================] - 50s 36ms/step - loss: 0.4433 - accuracy: 0.8508 - val_loss: 0.4079 - val_accuracy: 0.8668\n",
            "Epoch 20/20\n",
            "1406/1406 [==============================] - 50s 35ms/step - loss: 0.4306 - accuracy: 0.8535 - val_loss: 0.4719 - val_accuracy: 0.8586\n"
          ]
        }
      ]
    },
    {
      "cell_type": "code",
      "metadata": {
        "id": "mRzGnOEtcQYX",
        "colab": {
          "base_uri": "https://localhost:8080/",
          "height": 668
        },
        "outputId": "a34ce1f8-0dac-497f-a0e6-fbe77a3d6562"
      },
      "source": [
        "print(history.history)\n",
        "def plot_learning_curves(history, label, epcohs, min_value, max_value):\n",
        "    data = {}\n",
        "    data[label] = history.history[label]\n",
        "    data['val_'+label] = history.history['val_'+label]\n",
        "    pd.DataFrame(data).plot(figsize=(8, 5))\n",
        "    plt.grid(True)\n",
        "    plt.axis([0, epochs, min_value, max_value])\n",
        "    plt.show()\n",
        "    \n",
        "plot_learning_curves(history, 'accuracy', epochs, 0, 1)\n",
        "plot_learning_curves(history, 'loss', epochs, 0, 2)"
      ],
      "execution_count": null,
      "outputs": [
        {
          "output_type": "stream",
          "name": "stdout",
          "text": [
            "{'loss': [1.8649669885635376, 1.4550131559371948, 1.2446813583374023, 1.0872282981872559, 0.9576906561851501, 0.8633630871772766, 0.785202145576477, 0.7237411141395569, 0.6814003586769104, 0.6343750357627869, 0.6069622039794922, 0.5829338431358337, 0.5522756576538086, 0.5293101072311401, 0.5130939483642578, 0.4894617199897766, 0.4808277189731598, 0.46631884574890137, 0.4432668089866638, 0.4306395649909973], 'accuracy': [0.3558308184146881, 0.47482654452323914, 0.5573296546936035, 0.6217977404594421, 0.6689646244049072, 0.7058797478675842, 0.7330324053764343, 0.7530688643455505, 0.7690802216529846, 0.783579409122467, 0.7949653267860413, 0.8024150729179382, 0.8119773864746094, 0.8192492723464966, 0.8262764811515808, 0.8334148526191711, 0.8372620344161987, 0.8427548408508301, 0.8508050441741943, 0.8534736037254333], 'val_loss': [1.7226895093917847, 1.1957228183746338, 1.5735962390899658, 0.8610317707061768, 0.8861889839172363, 0.9000901579856873, 0.6774706840515137, 0.7250857949256897, 0.6260829567909241, 0.6142674684524536, 0.5468789339065552, 0.5271130800247192, 0.520409882068634, 0.4806002676486969, 0.4983333647251129, 0.6342980265617371, 0.45223647356033325, 0.42032164335250854, 0.40792959928512573, 0.4719116985797882], 'val_accuracy': [0.4138621687889099, 0.5813301205635071, 0.5350561141967773, 0.7065304517745972, 0.7169471383094788, 0.7193509340286255, 0.7850561141967773, 0.7646234035491943, 0.8042868375778198, 0.8086938858032227, 0.8253205418586731, 0.8367387652397156, 0.8375400900840759, 0.8391426205635071, 0.8343349099159241, 0.8127003312110901, 0.8555688858032227, 0.8615785241127014, 0.8667868375778198, 0.8585737347602844]}\n"
          ]
        },
        {
          "output_type": "display_data",
          "data": {
            "text/plain": [
              "<Figure size 576x360 with 1 Axes>"
            ],
            "image/png": "[encoded data removed]"
          },
          "metadata": {
            "needs_background": "light"
          }
        },
        {
          "output_type": "display_data",
          "data": {
            "text/plain": [
              "<Figure size 576x360 with 1 Axes>"
            ],
            "image/png": "[encoded data removed]"
          },
          "metadata": {
            "needs_background": "light"
          }
        }
      ]
    },
    {
      "cell_type": "code",
      "metadata": {
        "id": "f8yiLEO6cQYX",
        "colab": {
          "base_uri": "https://localhost:8080/"
        },
        "outputId": "23a7f355-6844-4293-da95-a4f069ad39e4"
      },
      "source": [
        "# 测试集\n",
        "test_datagen = keras.preprocessing.image.ImageDataGenerator(\n",
        "    rescale = 1./255)\n",
        "test_generator = valid_datagen.flow_from_dataframe(\n",
        "    test_df,\n",
        "    directory = './',\n",
        "    x_col = 'filepath',\n",
        "    y_col = 'class',\n",
        "    classes = class_names,\n",
        "    target_size = (height, width),\n",
        "    batch_size = batch_size,\n",
        "    seed = 7,\n",
        "    shuffle = False,\n",
        "    class_mode = \"sparse\")\n",
        "test_num = test_generator.samples\n",
        "print(test_num)"
      ],
      "execution_count": null,
      "outputs": [
        {
          "output_type": "stream",
          "name": "stdout",
          "text": [
            "Found 300000 validated image filenames belonging to 10 classes.\n",
            "300000\n"
          ]
        }
      ]
    },
    {
      "cell_type": "code",
      "source": [
        "!cat /proc/cpuinfo"
      ],
      "metadata": {
        "colab": {
          "base_uri": "https://localhost:8080/"
        },
        "id": "gru8e1Z0xsGN",
        "outputId": "b0751bb5-0c68-42f0-fa23-f3bd68ca1d1a"
      },
      "execution_count": null,
      "outputs": [
        {
          "output_type": "stream",
          "name": "stdout",
          "text": [
            "processor\t: 0\n",
            "vendor_id\t: GenuineIntel\n",
            "cpu family\t: 6\n",
            "model\t\t: 79\n",
            "model name\t: Intel(R) Xeon(R) CPU @ 2.20GHz\n",
            "stepping\t: 0\n",
            "microcode\t: 0x1\n",
            "cpu MHz\t\t: 2199.998\n",
            "cache size\t: 56320 KB\n",
            "physical id\t: 0\n",
            "siblings\t: 2\n",
            "core id\t\t: 0\n",
            "cpu cores\t: 1\n",
            "apicid\t\t: 0\n",
            "initial apicid\t: 0\n",
            "fpu\t\t: yes\n",
            "fpu_exception\t: yes\n",
            "cpuid level\t: 13\n",
            "wp\t\t: yes\n",
            "flags\t\t: fpu vme de pse tsc msr pae mce cx8 apic sep mtrr pge mca cmov pat pse36 clflush mmx fxsr sse sse2 ss ht syscall nx pdpe1gb rdtscp lm constant_tsc rep_good nopl xtopology nonstop_tsc cpuid tsc_known_freq pni pclmulqdq ssse3 fma cx16 pcid sse4_1 sse4_2 x2apic movbe popcnt aes xsave avx f16c rdrand hypervisor lahf_lm abm 3dnowprefetch invpcid_single ssbd ibrs ibpb stibp fsgsbase tsc_adjust bmi1 hle avx2 smep bmi2 erms invpcid rtm rdseed adx smap xsaveopt arat md_clear arch_capabilities\n",
            "bugs\t\t: cpu_meltdown spectre_v1 spectre_v2 spec_store_bypass l1tf mds swapgs taa\n",
            "bogomips\t: 4399.99\n",
            "clflush size\t: 64\n",
            "cache_alignment\t: 64\n",
            "address sizes\t: 46 bits physical, 48 bits virtual\n",
            "power management:\n",
            "\n",
            "processor\t: 1\n",
            "vendor_id\t: GenuineIntel\n",
            "cpu family\t: 6\n",
            "model\t\t: 79\n",
            "model name\t: Intel(R) Xeon(R) CPU @ 2.20GHz\n",
            "stepping\t: 0\n",
            "microcode\t: 0x1\n",
            "cpu MHz\t\t: 2199.998\n",
            "cache size\t: 56320 KB\n",
            "physical id\t: 0\n",
            "siblings\t: 2\n",
            "core id\t\t: 0\n",
            "cpu cores\t: 1\n",
            "apicid\t\t: 1\n",
            "initial apicid\t: 1\n",
            "fpu\t\t: yes\n",
            "fpu_exception\t: yes\n",
            "cpuid level\t: 13\n",
            "wp\t\t: yes\n",
            "flags\t\t: fpu vme de pse tsc msr pae mce cx8 apic sep mtrr pge mca cmov pat pse36 clflush mmx fxsr sse sse2 ss ht syscall nx pdpe1gb rdtscp lm constant_tsc rep_good nopl xtopology nonstop_tsc cpuid tsc_known_freq pni pclmulqdq ssse3 fma cx16 pcid sse4_1 sse4_2 x2apic movbe popcnt aes xsave avx f16c rdrand hypervisor lahf_lm abm 3dnowprefetch invpcid_single ssbd ibrs ibpb stibp fsgsbase tsc_adjust bmi1 hle avx2 smep bmi2 erms invpcid rtm rdseed adx smap xsaveopt arat md_clear arch_capabilities\n",
            "bugs\t\t: cpu_meltdown spectre_v1 spectre_v2 spec_store_bypass l1tf mds swapgs taa\n",
            "bogomips\t: 4399.99\n",
            "clflush size\t: 64\n",
            "cache_alignment\t: 64\n",
            "address sizes\t: 46 bits physical, 48 bits virtual\n",
            "power management:\n",
            "\n"
          ]
        }
      ]
    },
    {
      "cell_type": "code",
      "metadata": {
        "id": "U9xh0XHjcQYY",
        "colab": {
          "base_uri": "https://localhost:8080/"
        },
        "outputId": "b3177a14-2716-403f-ad83-a13865e42cd7"
      },
      "source": [
        "test_predict = model.predict_generator(test_generator,\n",
        "                     workers = 2,  # 获取batch时的“线程”并行数\n",
        "                     use_multiprocessing = True  # 是否使用基于进程的线程\n",
        ")"
      ],
      "execution_count": null,
      "outputs": [
        {
          "output_type": "stream",
          "name": "stderr",
          "text": [
            "/usr/local/lib/python3.7/dist-packages/ipykernel_launcher.py:4: UserWarning: `Model.predict_generator` is deprecated and will be removed in a future version. Please use `Model.predict`, which supports generators.\n",
            "  after removing the cwd from sys.path.\n"
          ]
        }
      ]
    },
    {
      "cell_type": "code",
      "metadata": {
        "id": "Bap3Z-tXcQYY",
        "colab": {
          "base_uri": "https://localhost:8080/"
        },
        "outputId": "cb53998f-92f7-4429-a800-6c96327df223"
      },
      "source": [
        "print(test_predict.shape)"
      ],
      "execution_count": null,
      "outputs": [
        {
          "output_type": "stream",
          "name": "stdout",
          "text": [
            "(300000, 10)\n"
          ]
        }
      ]
    },
    {
      "cell_type": "code",
      "metadata": {
        "id": "_xRdjEBocQYZ",
        "colab": {
          "base_uri": "https://localhost:8080/"
        },
        "outputId": "0a835748-4463-4b1b-afe8-c025e7dc3c23"
      },
      "source": [
        "# 每一个样本预测输出的是10个概率值\n",
        "print(test_predict[0:5])"
      ],
      "execution_count": null,
      "outputs": [
        {
          "output_type": "stream",
          "name": "stdout",
          "text": [
            "[[2.9825654e-03 4.8608057e-02 8.4211575e-03 1.8869705e-02 4.8231356e-02\n",
            "  5.7584206e-03 7.2723660e-03 8.5549010e-03 5.5470476e-03 8.4575444e-01]\n",
            " [4.2291296e-01 2.9361260e-03 5.0616646e-01 2.0560015e-02 5.4331156e-03\n",
            "  2.8564632e-03 2.1517325e-02 1.8680176e-03 1.2480187e-02 3.2693185e-03]\n",
            " [6.5588140e-10 9.7837454e-01 8.9828887e-11 8.8154803e-11 1.3022000e-10\n",
            "  9.2986278e-12 3.7225209e-11 5.0626595e-12 2.0872630e-09 2.1625441e-02]\n",
            " [7.6473829e-05 1.5460106e-04 2.1332708e-06 1.3529681e-06 7.6818100e-07\n",
            "  1.5457928e-07 2.0060052e-06 9.4226785e-08 9.9975914e-01 3.3613235e-06]\n",
            " [7.1585035e-01 4.1006489e-05 2.2374186e-01 4.7421562e-03 2.8799851e-03\n",
            "  2.8631883e-03 2.4603202e-03 1.4794760e-03 4.5833930e-02 1.0761671e-04]]\n"
          ]
        }
      ]
    },
    {
      "cell_type": "code",
      "metadata": {
        "id": "E_2GxNDIcQYZ"
      },
      "source": [
        "# 一个向量中谁的值最大，返回其下标\n",
        "test_predict_class_indices = np.argmax(test_predict, axis = 1)"
      ],
      "execution_count": null,
      "outputs": []
    },
    {
      "cell_type": "code",
      "metadata": {
        "id": "xM0A3hBicQYZ",
        "colab": {
          "base_uri": "https://localhost:8080/"
        },
        "outputId": "a83929ba-dd42-4155-f420-b5075b31502e"
      },
      "source": [
        "print(test_predict_class_indices[0:5])"
      ],
      "execution_count": null,
      "outputs": [
        {
          "output_type": "stream",
          "name": "stdout",
          "text": [
            "[9 2 1 8 0]\n"
          ]
        }
      ]
    },
    {
      "cell_type": "code",
      "metadata": {
        "id": "-QhBtxE2cQYZ"
      },
      "source": [
        "test_predict_class = [class_names[index] for index in test_predict_class_indices]"
      ],
      "execution_count": null,
      "outputs": []
    },
    {
      "cell_type": "code",
      "metadata": {
        "id": "9UcaE4OvcQYa",
        "colab": {
          "base_uri": "https://localhost:8080/"
        },
        "outputId": "c4a88100-eb04-4612-cb26-9e648164da35"
      },
      "source": [
        "print(test_predict_class[0:5])"
      ],
      "execution_count": null,
      "outputs": [
        {
          "output_type": "stream",
          "name": "stdout",
          "text": [
            "['truck', 'bird', 'automobile', 'ship', 'airplane']\n"
          ]
        }
      ]
    },
    {
      "cell_type": "code",
      "metadata": {
        "id": "HJqU2T2McQYa"
      },
      "source": [
        "# 产生最终的报告\n",
        "def generate_submissions(filename, predict_class):\n",
        "  with open(filename, 'w') as f:\n",
        "    f.write('id, label\\n')\n",
        "    for i in range(len(predict_class)):\n",
        "      f.write('%d,%s\\n' % (i+1, predict_class[i]))  # 类别是从1开始的，而range是从0开始的\n",
        "\n",
        "output_file = \"./submission.csv\"\n",
        "generate_submissions(output_file, test_predict_class)"
      ],
      "execution_count": null,
      "outputs": []
    },
    {
      "cell_type": "code",
      "metadata": {
        "id": "e6YfIry9cQYa",
        "colab": {
          "base_uri": "https://localhost:8080/"
        },
        "outputId": "812ccb8a-bd3e-40c8-ce8b-1a6cdfdbcfec"
      },
      "source": [
        "!ls"
      ],
      "execution_count": null,
      "outputs": [
        {
          "output_type": "stream",
          "name": "stdout",
          "text": [
            "competitions  sample_data\t    submission.csv  train.7z\n",
            "kaggle.json   sampleSubmission.csv  test.7z\t    trainLabels.csv\n"
          ]
        }
      ]
    }
  ]
}