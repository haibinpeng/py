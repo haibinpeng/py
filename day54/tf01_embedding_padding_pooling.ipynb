{
 "cells": [
  {
   "cell_type": "code",
   "execution_count": 1,
   "metadata": {},
   "outputs": [
    {
     "name": "stdout",
     "output_type": "stream",
     "text": [
      "2.9.1\n",
      "sys.version_info(major=3, minor=9, micro=7, releaselevel='final', serial=0)\n",
      "matplotlib 3.5.2\n",
      "numpy 1.23.0\n",
      "pandas 1.4.3\n",
      "sklearn 1.1.1\n",
      "tensorflow 2.9.1\n",
      "keras.api._v2.keras 2.9.0\n"
     ]
    }
   ],
   "source": [
    "import matplotlib as mpl\n",
    "import matplotlib.pyplot as plt\n",
    "%matplotlib inline\n",
    "import numpy as np\n",
    "import sklearn\n",
    "import pandas as pd\n",
    "import os\n",
    "import sys\n",
    "import time\n",
    "import tensorflow as tf\n",
    "\n",
    "from tensorflow import keras\n",
    "\n",
    "print(tf.__version__)\n",
    "print(sys.version_info)\n",
    "for module in mpl, np, pd, sklearn, tf, keras:\n",
    "    print(module.__name__, module.__version__)"
   ]
  },
  {
   "cell_type": "code",
   "execution_count": 2,
   "metadata": {},
   "outputs": [],
   "source": [
    "# 用karas里的数据集imdb，电影分类,分为积极的、消极的\n",
    "imdb = keras.datasets.imdb\n",
    "# 载入数据\n",
    "vocab_size = 10000  # 词典大小，仅保留训练数据中前10000个最经常出现的单词，低频单词被舍弃\n",
    "index_from = 3  # 0,1,2,3空出来做别的用处\n",
    "# 前一万个词出现词频最高的会保留下来进行处理，后面的作为特殊字符处理\n",
    "# 数据集中有说明，小于3的id都是特殊字符\n",
    "# 需要注意的一点是取出来的词表还是从1开始的，需要做处理\n",
    "(train_data, train_labels), (test_data, test_labels) = imdb.load_data(\n",
    "    num_words = vocab_size, index_from = index_from)"
   ]
  },
  {
   "cell_type": "code",
   "execution_count": 3,
   "metadata": {},
   "outputs": [
    {
     "data": {
      "text/plain": [
       "numpy.ndarray"
      ]
     },
     "execution_count": 3,
     "metadata": {},
     "output_type": "execute_result"
    }
   ],
   "source": [
    "type(train_data)"
   ]
  },
  {
   "cell_type": "code",
   "execution_count": 4,
   "metadata": {},
   "outputs": [
    {
     "data": {
      "text/plain": [
       "(25000,)"
      ]
     },
     "execution_count": 4,
     "metadata": {},
     "output_type": "execute_result"
    }
   ],
   "source": [
    "train_data.shape"
   ]
  },
  {
   "cell_type": "code",
   "execution_count": 5,
   "metadata": {},
   "outputs": [
    {
     "data": {
      "text/plain": [
       "list"
      ]
     },
     "execution_count": 5,
     "metadata": {},
     "output_type": "execute_result"
    }
   ],
   "source": [
    "type(train_data[0])"
   ]
  },
  {
   "cell_type": "code",
   "execution_count": 6,
   "metadata": {},
   "outputs": [
    {
     "data": {
      "text/plain": [
       "218"
      ]
     },
     "execution_count": 6,
     "metadata": {},
     "output_type": "execute_result"
    }
   ],
   "source": [
    "len(train_data[0])"
   ]
  },
  {
   "cell_type": "code",
   "execution_count": 7,
   "metadata": {},
   "outputs": [
    {
     "data": {
      "text/plain": [
       "1"
      ]
     },
     "execution_count": 7,
     "metadata": {},
     "output_type": "execute_result"
    }
   ],
   "source": [
    "min([ j for  i  in train_data  for j in i ])  # 说明词的index是从1开始"
   ]
  },
  {
   "cell_type": "code",
   "execution_count": 8,
   "metadata": {},
   "outputs": [
    {
     "data": {
      "text/plain": [
       "0"
      ]
     },
     "execution_count": 8,
     "metadata": {},
     "output_type": "execute_result"
    }
   ],
   "source": [
    "# 标签分为两个类别，积极和消极\n",
    "min(train_labels)"
   ]
  },
  {
   "cell_type": "code",
   "execution_count": 9,
   "metadata": {},
   "outputs": [
    {
     "data": {
      "text/plain": [
       "1"
      ]
     },
     "execution_count": 9,
     "metadata": {},
     "output_type": "execute_result"
    }
   ],
   "source": [
    "max(train_labels)"
   ]
  },
  {
   "cell_type": "code",
   "execution_count": 10,
   "metadata": {},
   "outputs": [
    {
     "name": "stdout",
     "output_type": "stream",
     "text": [
      "[1, 14, 22, 16, 43, 530, 973, 1622, 1385, 65, 458, 4468, 66, 3941, 4, 173, 36, 256, 5, 25, 100, 43, 838, 112, 50, 670, 2, 9, 35, 480, 284, 5, 150, 4, 172, 112, 167, 2, 336, 385, 39, 4, 172, 4536, 1111, 17, 546, 38, 13, 447, 4, 192, 50, 16, 6, 147, 2025, 19, 14, 22, 4, 1920, 4613, 469, 4, 22, 71, 87, 12, 16, 43, 530, 38, 76, 15, 13, 1247, 4, 22, 17, 515, 17, 12, 16, 626, 18, 2, 5, 62, 386, 12, 8, 316, 8, 106, 5, 4, 2223, 5244, 16, 480, 66, 3785, 33, 4, 130, 12, 16, 38, 619, 5, 25, 124, 51, 36, 135, 48, 25, 1415, 33, 6, 22, 12, 215, 28, 77, 52, 5, 14, 407, 16, 82, 2, 8, 4, 107, 117, 5952, 15, 256, 4, 2, 7, 3766, 5, 723, 36, 71, 43, 530, 476, 26, 400, 317, 46, 7, 4, 2, 1029, 13, 104, 88, 4, 381, 15, 297, 98, 32, 2071, 56, 26, 141, 6, 194, 7486, 18, 4, 226, 22, 21, 134, 476, 26, 480, 5, 144, 30, 5535, 18, 51, 36, 28, 224, 92, 25, 104, 4, 226, 65, 16, 38, 1334, 88, 12, 16, 283, 5, 16, 4472, 113, 103, 32, 15, 16, 5345, 19, 178, 32] 1\n",
      "<class 'list'>\n",
      "--------------------------------------------------\n",
      "(25000,) (25000,)\n",
      "218 189\n",
      "<class 'numpy.ndarray'>\n",
      "<class 'numpy.ndarray'>\n",
      "[0 1]\n"
     ]
    }
   ],
   "source": [
    "# train_data每个样本都是一个向量\n",
    "# train_labels的每个样本都是一个值，0或者1\n",
    "# label为pos(positive) 1和neg(negative) 0\n",
    "print(train_data[0], train_labels[0])\n",
    "print(type(train_data[0]))\n",
    "print('-'*50)\n",
    "# 两个形状,train_data.shape显示的只有一维，是因为另外一维是变长的\n",
    "print(train_data.shape, train_labels.shape)\n",
    "# 打印第一个、第二个样本长度，可以看出是变长的，变长我们要把它都变为一样的长度\n",
    "print(len(train_data[0]), len(train_data[1]))\n",
    "print(type(train_data))\n",
    "print(type(train_labels))\n",
    "\n",
    "print(np.unique(train_labels))"
   ]
  },
  {
   "cell_type": "code",
   "execution_count": 11,
   "metadata": {
    "scrolled": true
   },
   "outputs": [
    {
     "data": {
      "text/plain": [
       "[1,\n",
       " 194,\n",
       " 1153,\n",
       " 194,\n",
       " 8255,\n",
       " 78,\n",
       " 228,\n",
       " 5,\n",
       " 6,\n",
       " 1463,\n",
       " 4369,\n",
       " 5012,\n",
       " 134,\n",
       " 26,\n",
       " 4,\n",
       " 715,\n",
       " 8,\n",
       " 118,\n",
       " 1634,\n",
       " 14,\n",
       " 394,\n",
       " 20,\n",
       " 13,\n",
       " 119,\n",
       " 954,\n",
       " 189,\n",
       " 102,\n",
       " 5,\n",
       " 207,\n",
       " 110,\n",
       " 3103,\n",
       " 21,\n",
       " 14,\n",
       " 69,\n",
       " 188,\n",
       " 8,\n",
       " 30,\n",
       " 23,\n",
       " 7,\n",
       " 4,\n",
       " 249,\n",
       " 126,\n",
       " 93,\n",
       " 4,\n",
       " 114,\n",
       " 9,\n",
       " 2300,\n",
       " 1523,\n",
       " 5,\n",
       " 647,\n",
       " 4,\n",
       " 116,\n",
       " 9,\n",
       " 35,\n",
       " 8163,\n",
       " 4,\n",
       " 229,\n",
       " 9,\n",
       " 340,\n",
       " 1322,\n",
       " 4,\n",
       " 118,\n",
       " 9,\n",
       " 4,\n",
       " 130,\n",
       " 4901,\n",
       " 19,\n",
       " 4,\n",
       " 1002,\n",
       " 5,\n",
       " 89,\n",
       " 29,\n",
       " 952,\n",
       " 46,\n",
       " 37,\n",
       " 4,\n",
       " 455,\n",
       " 9,\n",
       " 45,\n",
       " 43,\n",
       " 38,\n",
       " 1543,\n",
       " 1905,\n",
       " 398,\n",
       " 4,\n",
       " 1649,\n",
       " 26,\n",
       " 6853,\n",
       " 5,\n",
       " 163,\n",
       " 11,\n",
       " 3215,\n",
       " 2,\n",
       " 4,\n",
       " 1153,\n",
       " 9,\n",
       " 194,\n",
       " 775,\n",
       " 7,\n",
       " 8255,\n",
       " 2,\n",
       " 349,\n",
       " 2637,\n",
       " 148,\n",
       " 605,\n",
       " 2,\n",
       " 8003,\n",
       " 15,\n",
       " 123,\n",
       " 125,\n",
       " 68,\n",
       " 2,\n",
       " 6853,\n",
       " 15,\n",
       " 349,\n",
       " 165,\n",
       " 4362,\n",
       " 98,\n",
       " 5,\n",
       " 4,\n",
       " 228,\n",
       " 9,\n",
       " 43,\n",
       " 2,\n",
       " 1157,\n",
       " 15,\n",
       " 299,\n",
       " 120,\n",
       " 5,\n",
       " 120,\n",
       " 174,\n",
       " 11,\n",
       " 220,\n",
       " 175,\n",
       " 136,\n",
       " 50,\n",
       " 9,\n",
       " 4373,\n",
       " 228,\n",
       " 8255,\n",
       " 5,\n",
       " 2,\n",
       " 656,\n",
       " 245,\n",
       " 2350,\n",
       " 5,\n",
       " 4,\n",
       " 9837,\n",
       " 131,\n",
       " 152,\n",
       " 491,\n",
       " 18,\n",
       " 2,\n",
       " 32,\n",
       " 7464,\n",
       " 1212,\n",
       " 14,\n",
       " 9,\n",
       " 6,\n",
       " 371,\n",
       " 78,\n",
       " 22,\n",
       " 625,\n",
       " 64,\n",
       " 1382,\n",
       " 9,\n",
       " 8,\n",
       " 168,\n",
       " 145,\n",
       " 23,\n",
       " 4,\n",
       " 1690,\n",
       " 15,\n",
       " 16,\n",
       " 4,\n",
       " 1355,\n",
       " 5,\n",
       " 28,\n",
       " 6,\n",
       " 52,\n",
       " 154,\n",
       " 462,\n",
       " 33,\n",
       " 89,\n",
       " 78,\n",
       " 285,\n",
       " 16,\n",
       " 145,\n",
       " 95]"
      ]
     },
     "execution_count": 11,
     "metadata": {},
     "output_type": "execute_result"
    }
   ],
   "source": [
    "train_data[1]"
   ]
  },
  {
   "cell_type": "code",
   "execution_count": 12,
   "metadata": {},
   "outputs": [
    {
     "name": "stdout",
     "output_type": "stream",
     "text": [
      "(25000,) (25000,)\n"
     ]
    }
   ],
   "source": [
    "print(test_data.shape, test_labels.shape)"
   ]
  },
  {
   "cell_type": "code",
   "execution_count": 13,
   "metadata": {},
   "outputs": [
    {
     "name": "stdout",
     "output_type": "stream",
     "text": [
      "(25000,) (25000,)\n"
     ]
    }
   ],
   "source": [
    "print(train_data.shape, train_labels.shape)"
   ]
  },
  {
   "cell_type": "code",
   "execution_count": 14,
   "metadata": {},
   "outputs": [
    {
     "name": "stdout",
     "output_type": "stream",
     "text": [
      "88584\n",
      "<class 'dict'>\n"
     ]
    }
   ],
   "source": [
    "# 载入词表，看下词表长度，词表就像英语字典\n",
    "word_index = imdb.get_word_index()\n",
    "print(len(word_index))\n",
    "print(type(word_index))\n",
    "# 词表虽然有8万多，但是我们只载入了最高频的1万词"
   ]
  },
  {
   "cell_type": "code",
   "execution_count": 15,
   "metadata": {},
   "outputs": [
    {
     "name": "stdout",
     "output_type": "stream",
     "text": [
      "fawn 34701\n"
     ]
    }
   ],
   "source": [
    "for key, value in word_index.items():\n",
    "    print(key,value)\n",
    "    break"
   ]
  },
  {
   "cell_type": "code",
   "execution_count": 16,
   "metadata": {},
   "outputs": [
    {
     "data": {
      "text/plain": [
       "{1: 'a', 2: 'b'}"
      ]
     },
     "execution_count": 16,
     "metadata": {},
     "output_type": "execute_result"
    }
   ],
   "source": [
    "dict([(1,'a'),(2,'b')])"
   ]
  },
  {
   "cell_type": "code",
   "execution_count": 17,
   "metadata": {},
   "outputs": [
    {
     "name": "stdout",
     "output_type": "stream",
     "text": [
      "<class 'dict'>\n"
     ]
    },
    {
     "data": {
      "text/plain": [
       "'of'"
      ]
     },
     "execution_count": 17,
     "metadata": {},
     "output_type": "execute_result"
    }
   ],
   "source": [
    "# 为什么要翻过来，是因为原来的key，是单词，是一个字符串，而value是数值\n",
    "reverse_word_index = dict(\n",
    "    [(value, key) for key, value in word_index.items()])\n",
    "print(type(reverse_word_index))\n",
    "reverse_word_index.get(4)"
   ]
  },
  {
   "cell_type": "code",
   "execution_count": 18,
   "metadata": {},
   "outputs": [],
   "source": [
    "# 需要注意的一点是取出来的词表还是从1开始的，需要做处理，偏移3,是因为index_from的缘故\n",
    "word_index = {k:(v+3) for k, v in word_index.items()}"
   ]
  },
  {
   "cell_type": "code",
   "execution_count": 19,
   "metadata": {},
   "outputs": [
    {
     "data": {
      "text/plain": [
       "7"
      ]
     },
     "execution_count": 19,
     "metadata": {},
     "output_type": "execute_result"
    }
   ],
   "source": [
    "word_index['of']"
   ]
  },
  {
   "cell_type": "code",
   "execution_count": 20,
   "metadata": {},
   "outputs": [
    {
     "data": {
      "text/plain": [
       "\"<START> this film was just brilliant casting location scenery story direction everyone's really suited the part they played and you could just imagine being there robert <UNK> is an amazing actor and now the same being director <UNK> father came from the same scottish island as myself so i loved the fact there was a real connection with this film the witty remarks throughout the film were great it was just brilliant so much that i bought the film as soon as it was released for <UNK> and would recommend it to everyone to watch and the fly fishing was amazing really cried at the end it was so sad and you know what they say if you cry at a film it must have been good and this definitely was also <UNK> to the two little boy's that played the <UNK> of norman and paul they were just brilliant children are often left out of the <UNK> list i think because the stars that play them all grown up are such a big profile for the whole film but these children are amazing and should be praised for what they have done don't you think the whole story was so lovely because it was true and was someone's life after all that was shared with us all\""
      ]
     },
     "execution_count": 20,
     "metadata": {},
     "output_type": "execute_result"
    }
   ],
   "source": [
    "# 小于3的id都是特殊字符，下面的代码中给这些id的意义做了明确，因为我们做了偏移，因此对于这些多余槽位我们给与新的释义\n",
    "word_index['<PAD>'] = 0   # 做padding时，我们来填充的字符\n",
    "word_index['<START>'] = 1  # 起始\n",
    "word_index['<UNK>'] = 2  # 找不到就返回UNK，排名到1万名以后的词，标记为UNK\n",
    "word_index['<END>'] = 3  # 每个句子末尾\n",
    "\n",
    "# 做了偏移3的处理后再翻转\n",
    "reverse_word_index = dict(\n",
    "    [(value, key) for key, value in word_index.items()])\n",
    "\n",
    "\n",
    "def decode_review(text_ids):\n",
    "    return ' '.join(\n",
    "        [reverse_word_index.get(word_id, \"<UNK>\") for word_id in text_ids])\n",
    "# 有了reverse我们可以反向转回来看看这句话是什么，就是把数字解释为了真实的文本\n",
    "decode_review(train_data[0])"
   ]
  },
  {
   "cell_type": "code",
   "execution_count": 21,
   "metadata": {},
   "outputs": [
    {
     "name": "stdout",
     "output_type": "stream",
     "text": [
      "[   1   14   22   16   43  530  973 1622 1385   65  458 4468   66 3941\n",
      "    4  173   36  256    5   25  100   43  838  112   50  670    2    9\n",
      "   35  480  284    5  150    4  172  112  167    2  336  385   39    4\n",
      "  172 4536 1111   17  546   38   13  447    4  192   50   16    6  147\n",
      " 2025   19   14   22    4 1920 4613  469    4   22   71   87   12   16\n",
      "   43  530   38   76   15   13 1247    4   22   17  515   17   12   16\n",
      "  626   18    2    5   62  386   12    8  316    8  106    5    4 2223\n",
      " 5244   16  480   66 3785   33    4  130   12   16   38  619    5   25\n",
      "  124   51   36  135   48   25 1415   33    6   22   12  215   28   77\n",
      "   52    5   14  407   16   82    2    8    4  107  117 5952   15  256\n",
      "    4    2    7 3766    5  723   36   71   43  530  476   26  400  317\n",
      "   46    7    4    2 1029   13  104   88    4  381   15  297   98   32\n",
      " 2071   56   26  141    6  194 7486   18    4  226   22   21  134  476\n",
      "   26  480    5  144   30 5535   18   51   36   28  224   92   25  104\n",
      "    4  226   65   16   38 1334   88   12   16  283    5   16 4472  113\n",
      "  103   32   15   16 5345   19  178   32    0    0    0    0    0    0\n",
      "    0    0    0    0    0    0    0    0    0    0    0    0    0    0\n",
      "    0    0    0    0    0    0    0    0    0    0    0    0    0    0\n",
      "    0    0    0    0    0    0    0    0    0    0    0    0    0    0\n",
      "    0    0    0    0    0    0    0    0    0    0    0    0    0    0\n",
      "    0    0    0    0    0    0    0    0    0    0    0    0    0    0\n",
      "    0    0    0    0    0    0    0    0    0    0    0    0    0    0\n",
      "    0    0    0    0    0    0    0    0    0    0    0    0    0    0\n",
      "    0    0    0    0    0    0    0    0    0    0    0    0    0    0\n",
      "    0    0    0    0    0    0    0    0    0    0    0    0    0    0\n",
      "    0    0    0    0    0    0    0    0    0    0    0    0    0    0\n",
      "    0    0    0    0    0    0    0    0    0    0    0    0    0    0\n",
      "    0    0    0    0    0    0    0    0    0    0    0    0    0    0\n",
      "    0    0    0    0    0    0    0    0    0    0    0    0    0    0\n",
      "    0    0    0    0    0    0    0    0    0    0    0    0    0    0\n",
      "    0    0    0    0    0    0    0    0    0    0    0    0    0    0\n",
      "    0    0    0    0    0    0    0    0    0    0    0    0    0    0\n",
      "    0    0    0    0    0    0    0    0    0    0    0    0    0    0\n",
      "    0    0    0    0    0    0    0    0    0    0    0    0    0    0\n",
      "    0    0    0    0    0    0    0    0    0    0    0    0    0    0\n",
      "    0    0    0    0    0    0    0    0    0    0]\n"
     ]
    }
   ],
   "source": [
    "# 长度低于500会被补全，高于500会被截断\n",
    "max_length = 500\n",
    "\n",
    "# pad_sequences用来做padding\n",
    "train_data = keras.preprocessing.sequence.pad_sequences(\n",
    "    train_data,  # list of list\n",
    "    value = word_index['<PAD>'],  # 填充啥内容\n",
    "    padding = 'post',  # pre，post: padding的顺序，一个是零放前面，一个是后面\n",
    "    maxlen = max_length)  # 长度低于500会被补全，高于500会被截断\n",
    "\n",
    "# 对应test一样的\n",
    "test_data = keras.preprocessing.sequence.pad_sequences(\n",
    "    test_data,  # list of list\n",
    "    value = word_index['<PAD>'],\n",
    "    padding = 'post',  # post, pre\n",
    "    maxlen = max_length)\n",
    "\n",
    "print(train_data[0])"
   ]
  },
  {
   "cell_type": "code",
   "execution_count": 22,
   "metadata": {},
   "outputs": [
    {
     "data": {
      "text/plain": [
       "numpy.ndarray"
      ]
     },
     "execution_count": 22,
     "metadata": {},
     "output_type": "execute_result"
    }
   ],
   "source": [
    "type(train_data[0])"
   ]
  },
  {
   "cell_type": "code",
   "execution_count": 23,
   "metadata": {},
   "outputs": [
    {
     "name": "stdout",
     "output_type": "stream",
     "text": [
      "(25000, 500)\n"
     ]
    }
   ],
   "source": [
    "print(train_data.shape)"
   ]
  },
  {
   "attachments": {
    "image.png": {
     "image/png": "[encoded data removed]"
    }
   },
   "cell_type": "markdown",
   "metadata": {},
   "source": [
    "![image.png](attachment:image.png)"
   ]
  },
  {
   "cell_type": "code",
   "execution_count": 24,
   "metadata": {},
   "outputs": [
    {
     "data": {
      "text/plain": [
       "array([1.0601315], dtype=float32)"
      ]
     },
     "execution_count": 24,
     "metadata": {},
     "output_type": "execute_result"
    }
   ],
   "source": [
    "# 上图是交叉熵损失的公式\n",
    "y_true = [[0,1]]\n",
    "y_pred = [[0.6,0.3]]\n",
    "loss = tf.keras.losses.binary_crossentropy(y_true, y_pred)\n",
    "# assert loss.shape == (2,)\n",
    "loss.numpy()"
   ]
  },
  {
   "cell_type": "code",
   "execution_count": 25,
   "metadata": {},
   "outputs": [
    {
     "data": {
      "text/plain": [
       "1.0601317681000455"
      ]
     },
     "execution_count": 25,
     "metadata": {},
     "output_type": "execute_result"
    }
   ],
   "source": [
    "(-1*np.log(0.4)-1*np.log(0.3))/2"
   ]
  },
  {
   "cell_type": "code",
   "execution_count": 26,
   "metadata": {},
   "outputs": [
    {
     "name": "stdout",
     "output_type": "stream",
     "text": [
      "Model: \"sequential\"\n",
      "_________________________________________________________________\n",
      " Layer (type)                Output Shape              Param #   \n",
      "=================================================================\n",
      " embedding (Embedding)       (None, 500, 16)           160000    \n",
      "                                                                 \n",
      " global_average_pooling1d (G  (None, 16)               0         \n",
      " lobalAveragePooling1D)                                          \n",
      "                                                                 \n",
      " dense (Dense)               (None, 64)                1088      \n",
      "                                                                 \n",
      " dense_1 (Dense)             (None, 1)                 65        \n",
      "                                                                 \n",
      "=================================================================\n",
      "Total params: 161,153\n",
      "Trainable params: 161,153\n",
      "Non-trainable params: 0\n",
      "_________________________________________________________________\n"
     ]
    }
   ],
   "source": [
    "embedding_dim = 16\n",
    "batch_size = 128\n",
    "model = keras.models.Sequential([\n",
    "    # 1. define matrix: [vocab_size, embedding_dim]\n",
    "    # 2. [1,2,3,4..], max_length * embedding_dim\n",
    "    # 3. batch_size * max_length * embedding_dim  最后变为\n",
    "    keras.layers.Embedding(vocab_size,  # vocab_size为词袋大小\n",
    "                           embedding_dim,  # embedding_dim，每个词的密度向量维度是16\n",
    "                           input_length = max_length),\n",
    "    # GlobalAveragePooling1D是把batch_size * max_length * embedding_dim \n",
    "    #   -> batch_size * embedding_dim，消除维度max_length\n",
    "    keras.layers.GlobalAveragePooling1D(),  # 全剧平均值池化，抽象上让一个词表示整篇文章\n",
    "    keras.layers.Dense(64, activation = 'relu'),\n",
    "    keras.layers.Dense(1, activation = 'sigmoid'),\n",
    "])\n",
    "\n",
    "model.summary()\n",
    "model.compile(optimizer = 'adam', loss = 'binary_crossentropy',\n",
    "              metrics = ['accuracy'])\n",
    "# 160000 是vocab_size*embedding_dim的结果\n",
    "# 1088 是embedding_dim*64+64得到的结果  wx+b\n",
    "# 65是 w*1+1"
   ]
  },
  {
   "cell_type": "code",
   "execution_count": 27,
   "metadata": {},
   "outputs": [
    {
     "name": "stdout",
     "output_type": "stream",
     "text": [
      "You must install pydot (`pip install pydot`) and install graphviz (see instructions at https://graphviz.gitlab.io/download/) for plot_model/model_to_dot to work.\n"
     ]
    }
   ],
   "source": [
    "from tensorflow.keras.utils import plot_model\n",
    "\n",
    "plot_model(model)"
   ]
  },
  {
   "cell_type": "code",
   "execution_count": 28,
   "metadata": {},
   "outputs": [
    {
     "data": {
      "text/plain": [
       "[<tf.Variable 'embedding/embeddings:0' shape=(10000, 16) dtype=float32, numpy=\n",
       " array([[ 0.01109232, -0.01282833,  0.02683771, ...,  0.02851734,\n",
       "          0.02263183,  0.01505737],\n",
       "        [ 0.0287188 ,  0.02306494,  0.01900971, ...,  0.00927439,\n",
       "         -0.04658753, -0.02292444],\n",
       "        [ 0.03207815, -0.01268139, -0.01565129, ...,  0.04250921,\n",
       "          0.02595207,  0.03190101],\n",
       "        ...,\n",
       "        [ 0.00173556,  0.03048125, -0.03157035, ..., -0.00594581,\n",
       "         -0.03788459,  0.01076487],\n",
       "        [-0.02796408,  0.0061504 ,  0.02227152, ..., -0.0321392 ,\n",
       "         -0.0201616 ,  0.00707381],\n",
       "        [ 0.01370862,  0.03239581, -0.04347644, ..., -0.03397691,\n",
       "          0.01861546,  0.00089153]], dtype=float32)>,\n",
       " <tf.Variable 'dense/kernel:0' shape=(16, 64) dtype=float32, numpy=\n",
       " array([[-0.2045945 , -0.08192645, -0.00072876, ..., -0.19702977,\n",
       "         -0.05810434, -0.22142392],\n",
       "        [ 0.12319973,  0.25983232,  0.19021338, ..., -0.10598585,\n",
       "          0.01096293, -0.2164565 ],\n",
       "        [-0.01692817, -0.10993239, -0.15083048, ..., -0.02022386,\n",
       "         -0.2723519 , -0.19186348],\n",
       "        ...,\n",
       "        [-0.22270903,  0.23107308,  0.21871775, ..., -0.14279127,\n",
       "          0.1201545 , -0.05957821],\n",
       "        [-0.07020867, -0.15694013, -0.18983388, ...,  0.07876584,\n",
       "          0.19381616,  0.19895363],\n",
       "        [-0.07261036,  0.06935248,  0.00707692, ..., -0.07973592,\n",
       "         -0.22455768,  0.21271369]], dtype=float32)>,\n",
       " <tf.Variable 'dense/bias:0' shape=(64,) dtype=float32, numpy=\n",
       " array([0., 0., 0., 0., 0., 0., 0., 0., 0., 0., 0., 0., 0., 0., 0., 0., 0.,\n",
       "        0., 0., 0., 0., 0., 0., 0., 0., 0., 0., 0., 0., 0., 0., 0., 0., 0.,\n",
       "        0., 0., 0., 0., 0., 0., 0., 0., 0., 0., 0., 0., 0., 0., 0., 0., 0.,\n",
       "        0., 0., 0., 0., 0., 0., 0., 0., 0., 0., 0., 0., 0.], dtype=float32)>,\n",
       " <tf.Variable 'dense_1/kernel:0' shape=(64, 1) dtype=float32, numpy=\n",
       " array([[-0.09096298],\n",
       "        [-0.21571037],\n",
       "        [ 0.0760234 ],\n",
       "        [-0.17225665],\n",
       "        [ 0.29545087],\n",
       "        [ 0.20909584],\n",
       "        [-0.2821443 ],\n",
       "        [ 0.13755393],\n",
       "        [-0.1473208 ],\n",
       "        [-0.20316926],\n",
       "        [ 0.0434075 ],\n",
       "        [-0.14956214],\n",
       "        [-0.18820664],\n",
       "        [ 0.24338794],\n",
       "        [-0.01322594],\n",
       "        [ 0.06306431],\n",
       "        [-0.18802208],\n",
       "        [ 0.08124834],\n",
       "        [ 0.2055921 ],\n",
       "        [-0.26537353],\n",
       "        [-0.27810735],\n",
       "        [ 0.26392245],\n",
       "        [-0.22543414],\n",
       "        [ 0.04735154],\n",
       "        [ 0.181894  ],\n",
       "        [ 0.20963669],\n",
       "        [-0.27792755],\n",
       "        [ 0.09036857],\n",
       "        [ 0.12281618],\n",
       "        [-0.15574288],\n",
       "        [-0.07309934],\n",
       "        [ 0.1845698 ],\n",
       "        [ 0.18297991],\n",
       "        [ 0.01804304],\n",
       "        [ 0.20389187],\n",
       "        [-0.11776008],\n",
       "        [ 0.02935535],\n",
       "        [-0.29237282],\n",
       "        [ 0.28632092],\n",
       "        [ 0.08757532],\n",
       "        [-0.29746613],\n",
       "        [ 0.01948065],\n",
       "        [ 0.00194412],\n",
       "        [-0.18490258],\n",
       "        [-0.12447728],\n",
       "        [-0.12032601],\n",
       "        [ 0.21999753],\n",
       "        [-0.18219063],\n",
       "        [-0.20736009],\n",
       "        [-0.08411147],\n",
       "        [-0.14192659],\n",
       "        [ 0.23943335],\n",
       "        [ 0.06806606],\n",
       "        [ 0.18122867],\n",
       "        [-0.11684746],\n",
       "        [-0.27342734],\n",
       "        [ 0.07758695],\n",
       "        [-0.11143802],\n",
       "        [-0.08321042],\n",
       "        [ 0.19838333],\n",
       "        [-0.250972  ],\n",
       "        [-0.06870468],\n",
       "        [ 0.19514608],\n",
       "        [-0.27767584]], dtype=float32)>,\n",
       " <tf.Variable 'dense_1/bias:0' shape=(1,) dtype=float32, numpy=array([0.], dtype=float32)>]"
      ]
     },
     "execution_count": 28,
     "metadata": {},
     "output_type": "execute_result"
    }
   ],
   "source": [
    "model.variables"
   ]
  },
  {
   "cell_type": "code",
   "execution_count": 29,
   "metadata": {},
   "outputs": [
    {
     "name": "stdout",
     "output_type": "stream",
     "text": [
      "Epoch 1/30\n",
      "157/157 [==============================] - 2s 7ms/step - loss: 0.6831 - accuracy: 0.5885 - val_loss: 0.6474 - val_accuracy: 0.7046\n",
      "Epoch 2/30\n",
      "157/157 [==============================] - 1s 7ms/step - loss: 0.5446 - accuracy: 0.8033 - val_loss: 0.4401 - val_accuracy: 0.8492\n",
      "Epoch 3/30\n",
      "157/157 [==============================] - 1s 6ms/step - loss: 0.3626 - accuracy: 0.8727 - val_loss: 0.3400 - val_accuracy: 0.8726\n",
      "Epoch 4/30\n",
      "157/157 [==============================] - 1s 6ms/step - loss: 0.2820 - accuracy: 0.8990 - val_loss: 0.3084 - val_accuracy: 0.8828\n",
      "Epoch 5/30\n",
      "157/157 [==============================] - 1s 7ms/step - loss: 0.2395 - accuracy: 0.9132 - val_loss: 0.2903 - val_accuracy: 0.8878\n",
      "Epoch 6/30\n",
      "157/157 [==============================] - 1s 7ms/step - loss: 0.2115 - accuracy: 0.9239 - val_loss: 0.2826 - val_accuracy: 0.8922\n",
      "Epoch 7/30\n",
      "157/157 [==============================] - 1s 6ms/step - loss: 0.1889 - accuracy: 0.9322 - val_loss: 0.2794 - val_accuracy: 0.8942\n",
      "Epoch 8/30\n",
      "157/157 [==============================] - 1s 6ms/step - loss: 0.1720 - accuracy: 0.9398 - val_loss: 0.2798 - val_accuracy: 0.8942\n",
      "Epoch 9/30\n",
      "157/157 [==============================] - 1s 6ms/step - loss: 0.1552 - accuracy: 0.9459 - val_loss: 0.2825 - val_accuracy: 0.8958\n",
      "Epoch 10/30\n",
      "157/157 [==============================] - 1s 7ms/step - loss: 0.1431 - accuracy: 0.9512 - val_loss: 0.2866 - val_accuracy: 0.8954\n",
      "Epoch 11/30\n",
      "157/157 [==============================] - 1s 7ms/step - loss: 0.1316 - accuracy: 0.9571 - val_loss: 0.2969 - val_accuracy: 0.8940\n",
      "Epoch 12/30\n",
      "157/157 [==============================] - 1s 6ms/step - loss: 0.1207 - accuracy: 0.9604 - val_loss: 0.3021 - val_accuracy: 0.8940\n",
      "Epoch 13/30\n",
      "157/157 [==============================] - 1s 7ms/step - loss: 0.1105 - accuracy: 0.9640 - val_loss: 0.3165 - val_accuracy: 0.8944\n",
      "Epoch 14/30\n",
      "157/157 [==============================] - 1s 7ms/step - loss: 0.1025 - accuracy: 0.9671 - val_loss: 0.3239 - val_accuracy: 0.8934\n",
      "Epoch 15/30\n",
      "157/157 [==============================] - 1s 7ms/step - loss: 0.0939 - accuracy: 0.9711 - val_loss: 0.3577 - val_accuracy: 0.8844\n",
      "Epoch 16/30\n",
      "157/157 [==============================] - 1s 7ms/step - loss: 0.0864 - accuracy: 0.9735 - val_loss: 0.3687 - val_accuracy: 0.8814\n",
      "Epoch 17/30\n",
      "157/157 [==============================] - 1s 7ms/step - loss: 0.0804 - accuracy: 0.9758 - val_loss: 0.3673 - val_accuracy: 0.8844\n",
      "Epoch 18/30\n",
      "157/157 [==============================] - 1s 7ms/step - loss: 0.0724 - accuracy: 0.9790 - val_loss: 0.3806 - val_accuracy: 0.8838\n",
      "Epoch 19/30\n",
      "157/157 [==============================] - 1s 7ms/step - loss: 0.0662 - accuracy: 0.9811 - val_loss: 0.3925 - val_accuracy: 0.8874\n",
      "Epoch 20/30\n",
      "157/157 [==============================] - 1s 7ms/step - loss: 0.0608 - accuracy: 0.9832 - val_loss: 0.4042 - val_accuracy: 0.8860\n",
      "Epoch 21/30\n",
      "157/157 [==============================] - 1s 7ms/step - loss: 0.0559 - accuracy: 0.9850 - val_loss: 0.4271 - val_accuracy: 0.8858\n",
      "Epoch 22/30\n",
      "157/157 [==============================] - 1s 7ms/step - loss: 0.0497 - accuracy: 0.9872 - val_loss: 0.4387 - val_accuracy: 0.8840\n",
      "Epoch 23/30\n",
      "157/157 [==============================] - 1s 7ms/step - loss: 0.0457 - accuracy: 0.9892 - val_loss: 0.4560 - val_accuracy: 0.8826\n",
      "Epoch 24/30\n",
      "157/157 [==============================] - 1s 7ms/step - loss: 0.0403 - accuracy: 0.9911 - val_loss: 0.4771 - val_accuracy: 0.8838\n",
      "Epoch 25/30\n",
      "157/157 [==============================] - 1s 7ms/step - loss: 0.0386 - accuracy: 0.9908 - val_loss: 0.5216 - val_accuracy: 0.8746\n",
      "Epoch 26/30\n",
      "157/157 [==============================] - 1s 7ms/step - loss: 0.0335 - accuracy: 0.9924 - val_loss: 0.5134 - val_accuracy: 0.8802\n",
      "Epoch 27/30\n",
      "157/157 [==============================] - 1s 7ms/step - loss: 0.0304 - accuracy: 0.9945 - val_loss: 0.5355 - val_accuracy: 0.8772\n",
      "Epoch 28/30\n",
      "157/157 [==============================] - 1s 7ms/step - loss: 0.0271 - accuracy: 0.9943 - val_loss: 0.5546 - val_accuracy: 0.8798\n",
      "Epoch 29/30\n",
      "157/157 [==============================] - 1s 7ms/step - loss: 0.0247 - accuracy: 0.9953 - val_loss: 0.5815 - val_accuracy: 0.8780\n",
      "Epoch 30/30\n",
      "157/157 [==============================] - 1s 7ms/step - loss: 0.0217 - accuracy: 0.9962 - val_loss: 0.5943 - val_accuracy: 0.8790\n"
     ]
    }
   ],
   "source": [
    "# validation_split可以将训练集按比例分为训练集和验证集\n",
    "history = model.fit(train_data, train_labels,\n",
    "                    epochs = 30,\n",
    "                    batch_size = batch_size,\n",
    "                    validation_split = 0.2)"
   ]
  },
  {
   "cell_type": "code",
   "execution_count": 30,
   "metadata": {},
   "outputs": [
    {
     "data": {
      "image/png": "[encoded data removed]",
      "text/plain": [
       "<Figure size 576x360 with 1 Axes>"
      ]
     },
     "metadata": {
      "needs_background": "light"
     },
     "output_type": "display_data"
    },
    {
     "data": {
      "image/png": "[encoded data removed]",
      "text/plain": [
       "<Figure size 576x360 with 1 Axes>"
      ]
     },
     "metadata": {
      "needs_background": "light"
     },
     "output_type": "display_data"
    }
   ],
   "source": [
    "def plot_learning_curves(history, label, epochs, min_value, max_value):\n",
    "    data = {}\n",
    "    data[label] = history.history[label]\n",
    "    data['val_'+label] = history.history['val_'+label]\n",
    "    pd.DataFrame(data).plot(figsize=(8, 5))\n",
    "    plt.grid(True)\n",
    "    plt.axis([0, epochs, min_value, max_value])\n",
    "    plt.show()\n",
    "    \n",
    "plot_learning_curves(history, 'accuracy', 30, 0, 1)\n",
    "plot_learning_curves(history, 'loss', 30, 0, 1)\n",
    "# 可以看出loss发生了过拟合"
   ]
  },
  {
   "cell_type": "code",
   "execution_count": 31,
   "metadata": {},
   "outputs": [
    {
     "data": {
      "text/plain": [
       "[0.63817298412323, 0.8600000143051147]"
      ]
     },
     "execution_count": 31,
     "metadata": {},
     "output_type": "execute_result"
    }
   ],
   "source": [
    "model.evaluate(\n",
    "    test_data, test_labels,\n",
    "    batch_size = batch_size,\n",
    "    verbose = 0)"
   ]
  }
 ],
 "metadata": {
  "kernelspec": {
   "display_name": "Python 3 (ipykernel)",
   "language": "python",
   "name": "python3"
  },
  "language_info": {
   "codemirror_mode": {
    "name": "ipython",
    "version": 3
   },
   "file_extension": ".py",
   "mimetype": "text/x-python",
   "name": "python",
   "nbconvert_exporter": "python",
   "pygments_lexer": "ipython3",
   "version": "3.9.7"
  }
 },
 "nbformat": 4,
 "nbformat_minor": 2
}
