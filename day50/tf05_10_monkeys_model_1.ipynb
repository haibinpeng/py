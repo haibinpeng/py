{
  "cells": [
    {
      "cell_type": "code",
      "execution_count": null,
      "metadata": {
        "id": "xBsPcRiULyR7"
      },
      "outputs": [],
      "source": [
        "!python -V"
      ]
    },
    {
      "cell_type": "code",
      "execution_count": 1,
      "metadata": {
        "id": "4VsN6E0iK9E9",
        "colab": {
          "base_uri": "https://localhost:8080/"
        },
        "outputId": "45f23591-a333-4c45-c7d3-85baf7baab36"
      },
      "outputs": [
        {
          "output_type": "stream",
          "name": "stdout",
          "text": [
            "2.8.2\n",
            "sys.version_info(major=3, minor=7, micro=13, releaselevel='final', serial=0)\n",
            "matplotlib 3.2.2\n",
            "numpy 1.21.6\n",
            "pandas 1.3.5\n",
            "sklearn 1.0.2\n",
            "tensorflow 2.8.2\n",
            "keras.api._v2.keras 2.8.0\n"
          ]
        }
      ],
      "source": [
        "%matplotlib inline\n",
        "import matplotlib as mpl\n",
        "import matplotlib.pyplot as plt\n",
        "import numpy as np\n",
        "import os\n",
        "import pandas as pd\n",
        "import sklearn\n",
        "import sys\n",
        "import tensorflow as tf\n",
        "import time\n",
        "\n",
        "from tensorflow import keras\n",
        "\n",
        "print(tf.__version__)\n",
        "print(sys.version_info)\n",
        "for module in mpl, np, pd, sklearn, tf, keras:\n",
        "    print(module.__name__, module.__version__)"
      ]
    },
    {
      "cell_type": "code",
      "execution_count": 2,
      "metadata": {
        "id": "QZXdXdT3VH4g",
        "colab": {
          "base_uri": "https://localhost:8080/"
        },
        "outputId": "d79e9eee-0111-4b66-c1d3-2f3e41630d01"
      },
      "outputs": [
        {
          "output_type": "stream",
          "name": "stdout",
          "text": [
            "Looking in indexes: https://pypi.org/simple, https://us-python.pkg.dev/colab-wheels/public/simple/\n",
            "Requirement already satisfied: kaggle in /usr/local/lib/python3.7/dist-packages (1.5.12)\n",
            "Requirement already satisfied: tqdm in /usr/local/lib/python3.7/dist-packages (from kaggle) (4.64.0)\n",
            "Requirement already satisfied: python-dateutil in /usr/local/lib/python3.7/dist-packages (from kaggle) (2.8.2)\n",
            "Requirement already satisfied: requests in /usr/local/lib/python3.7/dist-packages (from kaggle) (2.23.0)\n",
            "Requirement already satisfied: urllib3 in /usr/local/lib/python3.7/dist-packages (from kaggle) (1.24.3)\n",
            "Requirement already satisfied: python-slugify in /usr/local/lib/python3.7/dist-packages (from kaggle) (6.1.2)\n",
            "Requirement already satisfied: certifi in /usr/local/lib/python3.7/dist-packages (from kaggle) (2022.6.15)\n",
            "Requirement already satisfied: six>=1.10 in /usr/local/lib/python3.7/dist-packages (from kaggle) (1.15.0)\n",
            "Requirement already satisfied: text-unidecode>=1.3 in /usr/local/lib/python3.7/dist-packages (from python-slugify->kaggle) (1.3)\n",
            "Requirement already satisfied: chardet<4,>=3.0.2 in /usr/local/lib/python3.7/dist-packages (from requests->kaggle) (3.0.4)\n",
            "Requirement already satisfied: idna<3,>=2.5 in /usr/local/lib/python3.7/dist-packages (from requests->kaggle) (2.10)\n"
          ]
        }
      ],
      "source": [
        "!pip install kaggle"
      ]
    },
    {
      "cell_type": "code",
      "execution_count": 3,
      "metadata": {
        "id": "UJAcHJ-bLfw8",
        "colab": {
          "base_uri": "https://localhost:8080/"
        },
        "outputId": "2e6b1758-387c-4fee-f24b-c42dda067110"
      },
      "outputs": [
        {
          "output_type": "stream",
          "name": "stdout",
          "text": [
            "kaggle                        1.5.12\n"
          ]
        }
      ],
      "source": [
        "!pip list|grep kaggle"
      ]
    },
    {
      "cell_type": "code",
      "execution_count": 4,
      "metadata": {
        "id": "zDGHuDrhJlgs"
      },
      "outputs": [],
      "source": [
        "# 去kaggle那边拿数据，需要有key\n",
        "import json\n",
        "token = {\"username\":\"yf9761\",\"key\":\"49473b3a8574a87b8e62f8b01f265d4b\"}\n",
        "with open('/content/kaggle.json', 'w') as file:\n",
        "  json.dump(token, file)  # json.dump类似于write"
      ]
    },
    {
      "cell_type": "code",
      "execution_count": 5,
      "metadata": {
        "id": "HjqfeLpyKaIj",
        "colab": {
          "base_uri": "https://localhost:8080/"
        },
        "outputId": "ac13a6d6-8494-458a-859e-75196b61192c"
      },
      "outputs": [
        {
          "output_type": "stream",
          "name": "stdout",
          "text": [
            "{\"username\": \"yf9761\", \"key\": \"49473b3a8574a87b8e62f8b01f265d4b\"}"
          ]
        }
      ],
      "source": [
        "!cat /content/kaggle.json"
      ]
    },
    {
      "cell_type": "code",
      "execution_count": 6,
      "metadata": {
        "id": "ACxPFNQzLSSb",
        "colab": {
          "base_uri": "https://localhost:8080/"
        },
        "outputId": "655b8b54-9c95-4e90-ed25-db99b61fb27a"
      },
      "outputs": [
        {
          "output_type": "stream",
          "name": "stdout",
          "text": [
            "ls: cannot access '/root/.kaggle': No such file or directory\n"
          ]
        }
      ],
      "source": [
        "!ls -l ~/.kaggle"
      ]
    },
    {
      "cell_type": "code",
      "execution_count": 7,
      "metadata": {
        "id": "9XA4pXB-JuVr",
        "colab": {
          "base_uri": "https://localhost:8080/"
        },
        "outputId": "4c200bbb-07ac-4602-ee03-89ec94a4f0c8"
      },
      "outputs": [
        {
          "output_type": "stream",
          "name": "stdout",
          "text": [
            "- path is now set to: /content\n"
          ]
        }
      ],
      "source": [
        "# 顺序是固定的\n",
        "!mkdir -p ~/.kaggle\n",
        "!cp /content/kaggle.json ~/.kaggle/\n",
        "!chmod 600 ~/.kaggle/kaggle.json\n",
        "!kaggle config set -n path -v /content"
      ]
    },
    {
      "cell_type": "code",
      "execution_count": 8,
      "metadata": {
        "id": "3ujpD-B2J0O7",
        "colab": {
          "base_uri": "https://localhost:8080/"
        },
        "outputId": "e7d8b413-e24a-4537-985c-7870988e3122"
      },
      "outputs": [
        {
          "output_type": "stream",
          "name": "stdout",
          "text": [
            "anscombe.json\t\t      mnist_test.csv\n",
            "california_housing_test.csv   mnist_train_small.csv\n",
            "california_housing_train.csv  README.md\n"
          ]
        }
      ],
      "source": [
        "!ls sample_data"
      ]
    },
    {
      "cell_type": "code",
      "execution_count": 9,
      "metadata": {
        "id": "XpBWWtewKBVr",
        "colab": {
          "base_uri": "https://localhost:8080/"
        },
        "outputId": "f7ae1122-41fe-48b9-83a9-1ae337ab233f"
      },
      "outputs": [
        {
          "output_type": "stream",
          "name": "stdout",
          "text": [
            "Downloading 10-monkey-species.zip to /content/datasets/slothkong/10-monkey-species\n",
            " 95% 521M/547M [00:11<00:00, 31.1MB/s]\n",
            "100% 547M/547M [00:11<00:00, 50.9MB/s]\n"
          ]
        }
      ],
      "source": [
        "# 从kaggle下载数据\n",
        "!kaggle datasets download -d slothkong/10-monkey-species"
      ]
    },
    {
      "cell_type": "code",
      "execution_count": 10,
      "metadata": {
        "id": "J-bCGJRqMhW1",
        "colab": {
          "base_uri": "https://localhost:8080/"
        },
        "outputId": "c372e4ed-80e6-45a2-d99f-9a8c5035f81c"
      },
      "outputs": [
        {
          "output_type": "stream",
          "name": "stdout",
          "text": [
            "10-monkey-species.zip\n"
          ]
        }
      ],
      "source": [
        "!ls datasets/slothkong/10-monkey-species"
      ]
    },
    {
      "cell_type": "code",
      "execution_count": null,
      "metadata": {
        "id": "BxSfAM9zMffb"
      },
      "outputs": [],
      "source": [
        "!unzip -o -d /content /content/datasets/slothkong/10-monkey-species/10-monkey-species.zip"
      ]
    },
    {
      "cell_type": "code",
      "execution_count": 12,
      "metadata": {
        "id": "ADiyYUNUMfST",
        "colab": {
          "base_uri": "https://localhost:8080/"
        },
        "outputId": "48dd125b-7ba7-49ac-95e9-2c78277ea365"
      },
      "outputs": [
        {
          "output_type": "stream",
          "name": "stdout",
          "text": [
            "datasets  kaggle.json  monkey_labels.txt  sample_data  training  validation\n"
          ]
        }
      ],
      "source": [
        "!ls /content"
      ]
    },
    {
      "cell_type": "markdown",
      "metadata": {
        "id": "rtc1SDCfUQ4U"
      },
      "source": [
        "# 新段落"
      ]
    },
    {
      "cell_type": "code",
      "execution_count": 13,
      "metadata": {
        "id": "NJ5o-QdFT3HO",
        "scrolled": true,
        "colab": {
          "base_uri": "https://localhost:8080/"
        },
        "outputId": "a768a0fc-d696-4a02-c855-9cffe2f8faef"
      },
      "outputs": [
        {
          "output_type": "stream",
          "name": "stdout",
          "text": [
            "True\n",
            "True\n",
            "True\n",
            "['n5', 'n4', 'n0', 'n1', 'n6', 'n8', 'n2', 'n3', 'n7', 'n9']\n",
            "['n5', 'n4', 'n0', 'n1', 'n6', 'n8', 'n2', 'n3', 'n7', 'n9']\n"
          ]
        }
      ],
      "source": [
        "train_dir = \"./training/training\"\n",
        "valid_dir = \"./validation/validation\"\n",
        "label_file = \"./monkey_labels.txt\"\n",
        "print(os.path.exists(train_dir))\n",
        "print(os.path.exists(valid_dir))\n",
        "print(os.path.exists(label_file))\n",
        "\n",
        "print(os.listdir(train_dir))\n",
        "print(os.listdir(valid_dir))"
      ]
    },
    {
      "cell_type": "code",
      "execution_count": 14,
      "metadata": {
        "id": "2UKLMR7kRQil",
        "colab": {
          "base_uri": "https://localhost:8080/"
        },
        "outputId": "759e7943-a136-4afa-edad-af0b3bf7dcb2"
      },
      "outputs": [
        {
          "output_type": "stream",
          "name": "stdout",
          "text": [
            "Tue Jul 26 13:47:00 2022       \n",
            "+-----------------------------------------------------------------------------+\n",
            "| NVIDIA-SMI 460.32.03    Driver Version: 460.32.03    CUDA Version: 11.2     |\n",
            "|-------------------------------+----------------------+----------------------+\n",
            "| GPU  Name        Persistence-M| Bus-Id        Disp.A | Volatile Uncorr. ECC |\n",
            "| Fan  Temp  Perf  Pwr:Usage/Cap|         Memory-Usage | GPU-Util  Compute M. |\n",
            "|                               |                      |               MIG M. |\n",
            "|===============================+======================+======================|\n",
            "|   0  Tesla T4            Off  | 00000000:00:04.0 Off |                    0 |\n",
            "| N/A   47C    P8    10W /  70W |      0MiB / 15109MiB |      0%      Default |\n",
            "|                               |                      |                  N/A |\n",
            "+-------------------------------+----------------------+----------------------+\n",
            "                                                                               \n",
            "+-----------------------------------------------------------------------------+\n",
            "| Processes:                                                                  |\n",
            "|  GPU   GI   CI        PID   Type   Process name                  GPU Memory |\n",
            "|        ID   ID                                                   Usage      |\n",
            "|=============================================================================|\n",
            "|  No running processes found                                                 |\n",
            "+-----------------------------------------------------------------------------+\n"
          ]
        }
      ],
      "source": [
        "!nvidia-smi"
      ]
    },
    {
      "cell_type": "code",
      "source": [
        "!pwd"
      ],
      "metadata": {
        "colab": {
          "base_uri": "https://localhost:8080/"
        },
        "id": "4CnUs5sDxVgy",
        "outputId": "e5c52518-7f72-456b-9b6b-99a988875df6"
      },
      "execution_count": 17,
      "outputs": [
        {
          "output_type": "stream",
          "name": "stdout",
          "text": [
            "/content\n"
          ]
        }
      ]
    },
    {
      "cell_type": "code",
      "execution_count": 19,
      "metadata": {
        "id": "flD-2YUrT3HP",
        "scrolled": true,
        "colab": {
          "base_uri": "https://localhost:8080/"
        },
        "outputId": "faeb6747-66bc-4c89-e400-a7a1f0720534"
      },
      "outputs": [
        {
          "output_type": "stream",
          "name": "stdout",
          "text": [
            "   Label     Latin Name              Common Name                     \\\n",
            "0  n0         alouatta_palliata\\t    mantled_howler                   \n",
            "1  n1        erythrocebus_patas\\t    patas_monkey                     \n",
            "2  n2        cacajao_calvus\\t        bald_uakari                      \n",
            "3  n3        macaca_fuscata\\t        japanese_macaque                 \n",
            "4  n4       cebuella_pygmea\\t        pygmy_marmoset                   \n",
            "5  n5       cebus_capucinus\\t        white_headed_capuchin            \n",
            "6  n6       mico_argentatus\\t        silvery_marmoset                 \n",
            "7  n7      saimiri_sciureus\\t        common_squirrel_monkey           \n",
            "8  n8       aotus_nigriceps\\t        black_headed_night_monkey        \n",
            "9  n9       trachypithecus_johnii    nilgiri_langur                   \n",
            "\n",
            "    Train Images    Validation Images  \n",
            "0             131                  26  \n",
            "1             139                  28  \n",
            "2             137                  27  \n",
            "3             152                  30  \n",
            "4             131                  26  \n",
            "5             141                  28  \n",
            "6             132                  26  \n",
            "7             142                  28  \n",
            "8             133                  27  \n",
            "9             132                  26  \n"
          ]
        }
      ],
      "source": [
        "labels = pd.read_csv(label_file, header=0)\n",
        "print(labels)"
      ]
    },
    {
      "cell_type": "code",
      "execution_count": 22,
      "metadata": {
        "id": "VKUCAMLVT3HQ",
        "colab": {
          "base_uri": "https://localhost:8080/"
        },
        "outputId": "a5122c61-d3a7-4d7f-bfc9-c4ab8fd838e8"
      },
      "outputs": [
        {
          "output_type": "stream",
          "name": "stdout",
          "text": [
            "Found 1098 images belonging to 10 classes.\n",
            "Found 272 images belonging to 10 classes.\n",
            "1098 272\n"
          ]
        }
      ],
      "source": [
        "height = 128\n",
        "width = 128\n",
        "channels = 3\n",
        "batch_size = 64\n",
        "num_classes = 10\n",
        "\n",
        "train_datagen = keras.preprocessing.image.ImageDataGenerator(\n",
        "    rescale = 1./255,  # 图片中的每个像素点都乘以1/255\n",
        "    rotation_range = 40,  # 把图形随机旋转一个角度，在0-40度之间\n",
        "    width_shift_range = 0.2,  # 位移，0-20%之间选择做偏移\n",
        "    height_shift_range = 0.2,  # 垂直方向位移，如果是0-1之间的数，就是比例，大于1就是像素\n",
        "    shear_range = 0.2,  # 剪切强度（逆时针剪切角，以度为单位）\n",
        "    zoom_range = 0.2,  # 缩放强度\n",
        "    horizontal_flip = True,  # 水平随机翻转\n",
        "    fill_mode = 'nearest',  # 图形放大后，有些地方需要填充，可以是“常数”，“最近”，“反射”或“环绕”之一。默认值为“最近”。输入边界之外的点将根据给定模式进行填充\n",
        ")\n",
        "# 读取图片\n",
        "train_generator = train_datagen.flow_from_directory(train_dir,\n",
        "                          target_size = (height, width),  # 生成图片多大\n",
        "                          batch_size = batch_size,  # 生成的图片以多少张为一组\n",
        "                          seed = 7,\n",
        "                          shuffle = True,               \n",
        "                          class_mode = \"categorical\",  # one-hot编码后的一种模式\n",
        ")\n",
        "# 对验证集必须做一个值的缩放，其他的不需要做\n",
        "valid_datagen = keras.preprocessing.image.ImageDataGenerator(rescale = 1./255)\n",
        "valid_generator = valid_datagen.flow_from_directory(valid_dir,\n",
        "                           target_size = (height, width),\n",
        "                           batch_size = batch_size,\n",
        "                           seed = 7,\n",
        "                           shuffle = False,\n",
        "                           class_mode = \"categorical\")\n",
        "train_num = train_generator.samples\n",
        "valid_num = valid_generator.samples\n",
        "print(train_num, valid_num)"
      ]
    },
    {
      "cell_type": "code",
      "execution_count": 23,
      "metadata": {
        "id": "Up24spZ1T3HR",
        "colab": {
          "base_uri": "https://localhost:8080/"
        },
        "outputId": "c10f8d0a-2b19-46f7-bd2d-54d40e14fea9"
      },
      "outputs": [
        {
          "output_type": "stream",
          "name": "stdout",
          "text": [
            "(64, 128, 128, 3) (64, 10)\n",
            "[[0. 0. 0. 0. 0. 0. 0. 0. 1. 0.]\n",
            " [0. 0. 0. 0. 1. 0. 0. 0. 0. 0.]\n",
            " [0. 0. 0. 0. 0. 0. 1. 0. 0. 0.]\n",
            " [0. 0. 0. 0. 0. 0. 0. 0. 0. 1.]\n",
            " [0. 0. 0. 0. 0. 0. 1. 0. 0. 0.]\n",
            " [0. 0. 0. 0. 0. 1. 0. 0. 0. 0.]\n",
            " [0. 1. 0. 0. 0. 0. 0. 0. 0. 0.]\n",
            " [0. 0. 1. 0. 0. 0. 0. 0. 0. 0.]\n",
            " [0. 0. 0. 0. 0. 0. 0. 1. 0. 0.]\n",
            " [0. 0. 0. 1. 0. 0. 0. 0. 0. 0.]\n",
            " [0. 1. 0. 0. 0. 0. 0. 0. 0. 0.]\n",
            " [0. 1. 0. 0. 0. 0. 0. 0. 0. 0.]\n",
            " [0. 0. 0. 0. 0. 0. 0. 1. 0. 0.]\n",
            " [0. 0. 0. 0. 0. 1. 0. 0. 0. 0.]\n",
            " [1. 0. 0. 0. 0. 0. 0. 0. 0. 0.]\n",
            " [0. 0. 0. 0. 1. 0. 0. 0. 0. 0.]\n",
            " [0. 0. 0. 0. 1. 0. 0. 0. 0. 0.]\n",
            " [0. 0. 0. 0. 0. 0. 0. 1. 0. 0.]\n",
            " [0. 0. 0. 0. 0. 0. 0. 1. 0. 0.]\n",
            " [0. 0. 0. 0. 1. 0. 0. 0. 0. 0.]\n",
            " [0. 0. 1. 0. 0. 0. 0. 0. 0. 0.]\n",
            " [0. 0. 0. 0. 0. 1. 0. 0. 0. 0.]\n",
            " [0. 1. 0. 0. 0. 0. 0. 0. 0. 0.]\n",
            " [0. 0. 0. 0. 0. 1. 0. 0. 0. 0.]\n",
            " [0. 0. 0. 0. 0. 0. 0. 0. 0. 1.]\n",
            " [0. 0. 0. 0. 0. 0. 1. 0. 0. 0.]\n",
            " [0. 0. 0. 1. 0. 0. 0. 0. 0. 0.]\n",
            " [1. 0. 0. 0. 0. 0. 0. 0. 0. 0.]\n",
            " [1. 0. 0. 0. 0. 0. 0. 0. 0. 0.]\n",
            " [0. 0. 0. 1. 0. 0. 0. 0. 0. 0.]\n",
            " [0. 1. 0. 0. 0. 0. 0. 0. 0. 0.]\n",
            " [0. 0. 0. 1. 0. 0. 0. 0. 0. 0.]\n",
            " [0. 0. 0. 1. 0. 0. 0. 0. 0. 0.]\n",
            " [0. 0. 0. 0. 0. 0. 0. 0. 1. 0.]\n",
            " [0. 0. 0. 0. 0. 0. 0. 1. 0. 0.]\n",
            " [0. 0. 0. 0. 0. 0. 0. 0. 0. 1.]\n",
            " [0. 0. 0. 0. 0. 1. 0. 0. 0. 0.]\n",
            " [0. 0. 0. 0. 0. 1. 0. 0. 0. 0.]\n",
            " [1. 0. 0. 0. 0. 0. 0. 0. 0. 0.]\n",
            " [0. 0. 0. 0. 1. 0. 0. 0. 0. 0.]\n",
            " [0. 0. 0. 0. 0. 0. 0. 1. 0. 0.]\n",
            " [0. 0. 1. 0. 0. 0. 0. 0. 0. 0.]\n",
            " [0. 0. 0. 0. 0. 0. 0. 0. 1. 0.]\n",
            " [0. 1. 0. 0. 0. 0. 0. 0. 0. 0.]\n",
            " [0. 0. 0. 0. 1. 0. 0. 0. 0. 0.]\n",
            " [1. 0. 0. 0. 0. 0. 0. 0. 0. 0.]\n",
            " [0. 0. 0. 0. 1. 0. 0. 0. 0. 0.]\n",
            " [0. 0. 0. 1. 0. 0. 0. 0. 0. 0.]\n",
            " [0. 1. 0. 0. 0. 0. 0. 0. 0. 0.]\n",
            " [0. 0. 0. 0. 0. 0. 0. 0. 1. 0.]\n",
            " [1. 0. 0. 0. 0. 0. 0. 0. 0. 0.]\n",
            " [0. 0. 0. 1. 0. 0. 0. 0. 0. 0.]\n",
            " [1. 0. 0. 0. 0. 0. 0. 0. 0. 0.]\n",
            " [0. 0. 1. 0. 0. 0. 0. 0. 0. 0.]\n",
            " [0. 0. 0. 0. 1. 0. 0. 0. 0. 0.]\n",
            " [0. 1. 0. 0. 0. 0. 0. 0. 0. 0.]\n",
            " [0. 0. 0. 0. 0. 0. 0. 0. 0. 1.]\n",
            " [0. 0. 1. 0. 0. 0. 0. 0. 0. 0.]\n",
            " [0. 0. 0. 0. 0. 1. 0. 0. 0. 0.]\n",
            " [0. 0. 0. 0. 0. 1. 0. 0. 0. 0.]\n",
            " [0. 0. 0. 0. 0. 0. 0. 0. 1. 0.]\n",
            " [0. 0. 0. 0. 0. 0. 0. 1. 0. 0.]\n",
            " [0. 0. 0. 1. 0. 0. 0. 0. 0. 0.]\n",
            " [0. 0. 0. 1. 0. 0. 0. 0. 0. 0.]]\n",
            "(64, 128, 128, 3) (64, 10)\n",
            "[[0. 0. 0. 0. 0. 0. 0. 1. 0. 0.]\n",
            " [0. 0. 0. 0. 0. 0. 0. 1. 0. 0.]\n",
            " [0. 0. 1. 0. 0. 0. 0. 0. 0. 0.]\n",
            " [0. 0. 0. 0. 0. 0. 0. 1. 0. 0.]\n",
            " [0. 0. 0. 0. 0. 0. 0. 0. 1. 0.]\n",
            " [0. 0. 0. 0. 1. 0. 0. 0. 0. 0.]\n",
            " [1. 0. 0. 0. 0. 0. 0. 0. 0. 0.]\n",
            " [0. 1. 0. 0. 0. 0. 0. 0. 0. 0.]\n",
            " [0. 0. 0. 0. 0. 1. 0. 0. 0. 0.]\n",
            " [0. 0. 0. 0. 0. 0. 0. 0. 1. 0.]\n",
            " [0. 0. 0. 0. 0. 1. 0. 0. 0. 0.]\n",
            " [0. 0. 0. 0. 0. 0. 0. 1. 0. 0.]\n",
            " [0. 0. 0. 0. 0. 0. 0. 1. 0. 0.]\n",
            " [0. 0. 0. 1. 0. 0. 0. 0. 0. 0.]\n",
            " [0. 0. 0. 0. 0. 0. 1. 0. 0. 0.]\n",
            " [0. 0. 0. 0. 1. 0. 0. 0. 0. 0.]\n",
            " [0. 0. 0. 0. 0. 0. 0. 0. 0. 1.]\n",
            " [0. 1. 0. 0. 0. 0. 0. 0. 0. 0.]\n",
            " [0. 0. 1. 0. 0. 0. 0. 0. 0. 0.]\n",
            " [0. 0. 0. 1. 0. 0. 0. 0. 0. 0.]\n",
            " [0. 0. 0. 0. 0. 0. 1. 0. 0. 0.]\n",
            " [0. 0. 0. 0. 1. 0. 0. 0. 0. 0.]\n",
            " [0. 0. 0. 0. 0. 0. 0. 0. 1. 0.]\n",
            " [0. 0. 0. 1. 0. 0. 0. 0. 0. 0.]\n",
            " [0. 0. 0. 0. 0. 1. 0. 0. 0. 0.]\n",
            " [0. 0. 0. 1. 0. 0. 0. 0. 0. 0.]\n",
            " [1. 0. 0. 0. 0. 0. 0. 0. 0. 0.]\n",
            " [0. 0. 0. 0. 0. 1. 0. 0. 0. 0.]\n",
            " [0. 0. 0. 0. 0. 0. 1. 0. 0. 0.]\n",
            " [0. 0. 1. 0. 0. 0. 0. 0. 0. 0.]\n",
            " [0. 0. 0. 0. 0. 1. 0. 0. 0. 0.]\n",
            " [0. 0. 0. 0. 0. 0. 0. 1. 0. 0.]\n",
            " [0. 0. 0. 0. 0. 0. 1. 0. 0. 0.]\n",
            " [0. 0. 0. 0. 0. 0. 0. 1. 0. 0.]\n",
            " [0. 1. 0. 0. 0. 0. 0. 0. 0. 0.]\n",
            " [0. 0. 0. 0. 0. 0. 1. 0. 0. 0.]\n",
            " [0. 0. 0. 0. 0. 0. 0. 0. 1. 0.]\n",
            " [0. 0. 0. 0. 0. 0. 1. 0. 0. 0.]\n",
            " [0. 0. 0. 0. 0. 0. 0. 0. 1. 0.]\n",
            " [0. 0. 0. 0. 1. 0. 0. 0. 0. 0.]\n",
            " [0. 0. 0. 0. 0. 0. 0. 0. 1. 0.]\n",
            " [0. 1. 0. 0. 0. 0. 0. 0. 0. 0.]\n",
            " [0. 0. 0. 0. 0. 0. 1. 0. 0. 0.]\n",
            " [0. 0. 0. 0. 0. 0. 1. 0. 0. 0.]\n",
            " [0. 0. 0. 0. 0. 0. 0. 0. 0. 1.]\n",
            " [0. 0. 0. 0. 1. 0. 0. 0. 0. 0.]\n",
            " [0. 0. 0. 0. 0. 0. 0. 0. 1. 0.]\n",
            " [0. 0. 0. 1. 0. 0. 0. 0. 0. 0.]\n",
            " [0. 0. 0. 0. 0. 0. 0. 1. 0. 0.]\n",
            " [0. 0. 0. 0. 0. 0. 0. 1. 0. 0.]\n",
            " [1. 0. 0. 0. 0. 0. 0. 0. 0. 0.]\n",
            " [0. 0. 0. 1. 0. 0. 0. 0. 0. 0.]\n",
            " [0. 0. 0. 1. 0. 0. 0. 0. 0. 0.]\n",
            " [0. 0. 0. 0. 0. 0. 0. 0. 1. 0.]\n",
            " [0. 0. 0. 0. 1. 0. 0. 0. 0. 0.]\n",
            " [0. 0. 0. 0. 0. 0. 1. 0. 0. 0.]\n",
            " [0. 0. 0. 0. 0. 0. 0. 0. 0. 1.]\n",
            " [0. 0. 0. 0. 0. 0. 0. 0. 0. 1.]\n",
            " [0. 0. 0. 0. 0. 1. 0. 0. 0. 0.]\n",
            " [0. 0. 0. 0. 1. 0. 0. 0. 0. 0.]\n",
            " [0. 1. 0. 0. 0. 0. 0. 0. 0. 0.]\n",
            " [0. 0. 0. 1. 0. 0. 0. 0. 0. 0.]\n",
            " [0. 0. 0. 0. 0. 0. 0. 0. 1. 0.]\n",
            " [0. 0. 0. 0. 1. 0. 0. 0. 0. 0.]]\n"
          ]
        }
      ],
      "source": [
        "for i in range(2):\n",
        "    x, y = train_generator.next()\n",
        "    print(x.shape, y.shape)\n",
        "    print(y)"
      ]
    },
    {
      "cell_type": "code",
      "execution_count": 24,
      "metadata": {
        "id": "3dmXRLbbT3HR",
        "colab": {
          "base_uri": "https://localhost:8080/"
        },
        "outputId": "1c257b02-16f0-4978-8487-f150195ec03c"
      },
      "outputs": [
        {
          "output_type": "stream",
          "name": "stdout",
          "text": [
            "Model: \"sequential\"\n",
            "_________________________________________________________________\n",
            " Layer (type)                Output Shape              Param #   \n",
            "=================================================================\n",
            " conv2d (Conv2D)             (None, 128, 128, 32)      896       \n",
            "                                                                 \n",
            " conv2d_1 (Conv2D)           (None, 128, 128, 32)      9248      \n",
            "                                                                 \n",
            " max_pooling2d (MaxPooling2D  (None, 64, 64, 32)       0         \n",
            " )                                                               \n",
            "                                                                 \n",
            " conv2d_2 (Conv2D)           (None, 64, 64, 64)        18496     \n",
            "                                                                 \n",
            " conv2d_3 (Conv2D)           (None, 64, 64, 64)        36928     \n",
            "                                                                 \n",
            " max_pooling2d_1 (MaxPooling  (None, 32, 32, 64)       0         \n",
            " 2D)                                                             \n",
            "                                                                 \n",
            " conv2d_4 (Conv2D)           (None, 32, 32, 128)       73856     \n",
            "                                                                 \n",
            " conv2d_5 (Conv2D)           (None, 32, 32, 128)       147584    \n",
            "                                                                 \n",
            " max_pooling2d_2 (MaxPooling  (None, 16, 16, 128)      0         \n",
            " 2D)                                                             \n",
            "                                                                 \n",
            " flatten (Flatten)           (None, 32768)             0         \n",
            "                                                                 \n",
            " dense (Dense)               (None, 128)               4194432   \n",
            "                                                                 \n",
            " dense_1 (Dense)             (None, 10)                1290      \n",
            "                                                                 \n",
            "=================================================================\n",
            "Total params: 4,482,730\n",
            "Trainable params: 4,482,730\n",
            "Non-trainable params: 0\n",
            "_________________________________________________________________\n"
          ]
        }
      ],
      "source": [
        "model = keras.models.Sequential([\n",
        "    keras.layers.Conv2D(filters=32, kernel_size=3, padding='same',\n",
        "                        activation='relu', input_shape=[width, height, channels]),\n",
        "    # 3*3*3*32+32\n",
        "    keras.layers.Conv2D(filters=32, kernel_size=3, padding='same',\n",
        "                        activation='relu'),\n",
        "    # 3*3*32*32+32\n",
        "    keras.layers.MaxPool2D(pool_size=2),\n",
        "    keras.layers.Conv2D(filters=64, kernel_size=3, padding='same',\n",
        "                        activation='relu'),\n",
        "    # 3*3*32*64+64\n",
        "    keras.layers.Conv2D(filters=64, kernel_size=3, padding='same',\n",
        "                        activation='relu'),\n",
        "    keras.layers.MaxPool2D(pool_size=2),\n",
        "    keras.layers.Conv2D(filters=128, kernel_size=3, padding='same',\n",
        "                        activation='relu'),\n",
        "    keras.layers.Conv2D(filters=128, kernel_size=3, padding='same',\n",
        "                        activation='relu'),\n",
        "    keras.layers.MaxPool2D(pool_size=2),\n",
        "    keras.layers.Flatten(),\n",
        "    keras.layers.Dense(128, activation='relu'),\n",
        "    keras.layers.Dense(num_classes, activation='softmax'),\n",
        "])\n",
        "\n",
        "model.compile(loss=\"categorical_crossentropy\",\n",
        "              optimizer=\"adam\", \n",
        "              metrics=['accuracy'])\n",
        "model.summary()"
      ]
    },
    {
      "cell_type": "code",
      "execution_count": 25,
      "metadata": {
        "id": "9IJQTHxuT3HS",
        "colab": {
          "base_uri": "https://localhost:8080/"
        },
        "outputId": "154b7920-2fc0-4c7e-9f17-e1a28b549979"
      },
      "outputs": [
        {
          "output_type": "execute_result",
          "data": {
            "text/plain": [
              "12"
            ]
          },
          "metadata": {},
          "execution_count": 25
        }
      ],
      "source": [
        "len(model.layers)"
      ]
    },
    {
      "cell_type": "code",
      "execution_count": 26,
      "metadata": {
        "id": "ULwJ-VQCT3HT",
        "colab": {
          "base_uri": "https://localhost:8080/"
        },
        "outputId": "bef6260d-549b-407b-87e9-368e0862b68e"
      },
      "outputs": [
        {
          "output_type": "stream",
          "name": "stdout",
          "text": [
            "Epoch 1/50\n",
            "17/17 [==============================] - 46s 2s/step - loss: 2.3449 - accuracy: 0.1025 - val_loss: 2.2989 - val_accuracy: 0.1094\n",
            "Epoch 2/50\n",
            "17/17 [==============================] - 33s 2s/step - loss: 2.2872 - accuracy: 0.1209 - val_loss: 2.2666 - val_accuracy: 0.1211\n",
            "Epoch 3/50\n",
            "17/17 [==============================] - 33s 2s/step - loss: 2.2171 - accuracy: 0.1818 - val_loss: 2.2167 - val_accuracy: 0.2578\n",
            "Epoch 4/50\n",
            "17/17 [==============================] - 35s 2s/step - loss: 2.1065 - accuracy: 0.2224 - val_loss: 1.9852 - val_accuracy: 0.2422\n",
            "Epoch 5/50\n",
            "17/17 [==============================] - 33s 2s/step - loss: 1.9892 - accuracy: 0.2466 - val_loss: 1.9369 - val_accuracy: 0.2617\n",
            "Epoch 6/50\n",
            "17/17 [==============================] - 33s 2s/step - loss: 1.9851 - accuracy: 0.2689 - val_loss: 1.9706 - val_accuracy: 0.3164\n",
            "Epoch 7/50\n",
            "17/17 [==============================] - 33s 2s/step - loss: 1.9576 - accuracy: 0.2843 - val_loss: 1.8433 - val_accuracy: 0.3711\n",
            "Epoch 8/50\n",
            "17/17 [==============================] - 34s 2s/step - loss: 1.9446 - accuracy: 0.2849 - val_loss: 1.8173 - val_accuracy: 0.3125\n",
            "Epoch 9/50\n",
            "17/17 [==============================] - 33s 2s/step - loss: 1.8763 - accuracy: 0.3046 - val_loss: 2.0327 - val_accuracy: 0.2383\n",
            "Epoch 10/50\n",
            "17/17 [==============================] - 34s 2s/step - loss: 1.8911 - accuracy: 0.2932 - val_loss: 1.7900 - val_accuracy: 0.3633\n",
            "Epoch 11/50\n",
            "17/17 [==============================] - 33s 2s/step - loss: 1.8467 - accuracy: 0.3375 - val_loss: 1.7078 - val_accuracy: 0.3867\n",
            "Epoch 12/50\n",
            "17/17 [==============================] - 33s 2s/step - loss: 1.7400 - accuracy: 0.3549 - val_loss: 1.6730 - val_accuracy: 0.3672\n",
            "Epoch 13/50\n",
            "17/17 [==============================] - 33s 2s/step - loss: 1.7566 - accuracy: 0.3424 - val_loss: 1.6629 - val_accuracy: 0.4023\n",
            "Epoch 14/50\n",
            "17/17 [==============================] - 33s 2s/step - loss: 1.6863 - accuracy: 0.3810 - val_loss: 1.5413 - val_accuracy: 0.5000\n",
            "Epoch 15/50\n",
            "17/17 [==============================] - 33s 2s/step - loss: 1.6541 - accuracy: 0.4033 - val_loss: 1.5436 - val_accuracy: 0.4414\n",
            "Epoch 16/50\n",
            "17/17 [==============================] - 33s 2s/step - loss: 1.6508 - accuracy: 0.3723 - val_loss: 1.4982 - val_accuracy: 0.4844\n",
            "Epoch 17/50\n",
            "17/17 [==============================] - 33s 2s/step - loss: 1.5530 - accuracy: 0.4226 - val_loss: 1.3930 - val_accuracy: 0.5312\n",
            "Epoch 18/50\n",
            "17/17 [==============================] - 33s 2s/step - loss: 1.5613 - accuracy: 0.4246 - val_loss: 1.4767 - val_accuracy: 0.4570\n",
            "Epoch 19/50\n",
            "17/17 [==============================] - 32s 2s/step - loss: 1.5213 - accuracy: 0.4584 - val_loss: 1.3632 - val_accuracy: 0.5156\n",
            "Epoch 20/50\n",
            "17/17 [==============================] - 37s 2s/step - loss: 1.4962 - accuracy: 0.4613 - val_loss: 1.3145 - val_accuracy: 0.5469\n",
            "Epoch 21/50\n",
            "17/17 [==============================] - 35s 2s/step - loss: 1.4687 - accuracy: 0.4516 - val_loss: 1.3816 - val_accuracy: 0.5117\n",
            "Epoch 22/50\n",
            "17/17 [==============================] - 33s 2s/step - loss: 1.5204 - accuracy: 0.4400 - val_loss: 1.5619 - val_accuracy: 0.4453\n",
            "Epoch 23/50\n",
            "17/17 [==============================] - 36s 2s/step - loss: 1.5473 - accuracy: 0.4439 - val_loss: 1.4407 - val_accuracy: 0.5195\n",
            "Epoch 24/50\n",
            "17/17 [==============================] - 34s 2s/step - loss: 1.4692 - accuracy: 0.4749 - val_loss: 1.6858 - val_accuracy: 0.3906\n",
            "Epoch 25/50\n",
            "17/17 [==============================] - 33s 2s/step - loss: 1.5271 - accuracy: 0.4487 - val_loss: 1.5522 - val_accuracy: 0.4297\n",
            "Epoch 26/50\n",
            "17/17 [==============================] - 33s 2s/step - loss: 1.4491 - accuracy: 0.4758 - val_loss: 1.3291 - val_accuracy: 0.5391\n",
            "Epoch 27/50\n",
            "17/17 [==============================] - 34s 2s/step - loss: 1.4271 - accuracy: 0.4954 - val_loss: 1.2184 - val_accuracy: 0.5820\n",
            "Epoch 28/50\n",
            "17/17 [==============================] - 36s 2s/step - loss: 1.2821 - accuracy: 0.5464 - val_loss: 1.2291 - val_accuracy: 0.5781\n",
            "Epoch 29/50\n",
            "17/17 [==============================] - 35s 2s/step - loss: 1.3445 - accuracy: 0.5019 - val_loss: 1.1991 - val_accuracy: 0.5898\n",
            "Epoch 30/50\n",
            "17/17 [==============================] - 35s 2s/step - loss: 1.3811 - accuracy: 0.4845 - val_loss: 1.2356 - val_accuracy: 0.5586\n",
            "Epoch 31/50\n",
            "17/17 [==============================] - 33s 2s/step - loss: 1.3301 - accuracy: 0.5019 - val_loss: 1.2132 - val_accuracy: 0.5898\n",
            "Epoch 32/50\n",
            "17/17 [==============================] - 33s 2s/step - loss: 1.2312 - accuracy: 0.5561 - val_loss: 1.2271 - val_accuracy: 0.5508\n",
            "Epoch 33/50\n",
            "17/17 [==============================] - 34s 2s/step - loss: 1.2671 - accuracy: 0.5464 - val_loss: 1.1753 - val_accuracy: 0.5703\n",
            "Epoch 34/50\n",
            "17/17 [==============================] - 39s 2s/step - loss: 1.2045 - accuracy: 0.5561 - val_loss: 1.0697 - val_accuracy: 0.6289\n",
            "Epoch 35/50\n",
            "17/17 [==============================] - 33s 2s/step - loss: 1.2333 - accuracy: 0.5455 - val_loss: 1.2282 - val_accuracy: 0.5391\n",
            "Epoch 36/50\n",
            "17/17 [==============================] - 33s 2s/step - loss: 1.3273 - accuracy: 0.5087 - val_loss: 1.2338 - val_accuracy: 0.5703\n",
            "Epoch 37/50\n",
            "17/17 [==============================] - 34s 2s/step - loss: 1.2377 - accuracy: 0.5571 - val_loss: 1.0968 - val_accuracy: 0.6406\n",
            "Epoch 38/50\n",
            "17/17 [==============================] - 34s 2s/step - loss: 1.2105 - accuracy: 0.5648 - val_loss: 1.0825 - val_accuracy: 0.6445\n",
            "Epoch 39/50\n",
            "17/17 [==============================] - 33s 2s/step - loss: 1.1565 - accuracy: 0.5841 - val_loss: 1.0627 - val_accuracy: 0.6133\n",
            "Epoch 40/50\n",
            "17/17 [==============================] - 34s 2s/step - loss: 1.1487 - accuracy: 0.5699 - val_loss: 1.1470 - val_accuracy: 0.6094\n",
            "Epoch 41/50\n",
            "17/17 [==============================] - 33s 2s/step - loss: 1.1171 - accuracy: 0.5822 - val_loss: 1.1690 - val_accuracy: 0.5703\n",
            "Epoch 42/50\n",
            "17/17 [==============================] - 33s 2s/step - loss: 1.1400 - accuracy: 0.6006 - val_loss: 1.1590 - val_accuracy: 0.5820\n",
            "Epoch 43/50\n",
            "17/17 [==============================] - 34s 2s/step - loss: 1.1098 - accuracy: 0.6074 - val_loss: 1.0060 - val_accuracy: 0.6523\n",
            "Epoch 44/50\n",
            "17/17 [==============================] - 33s 2s/step - loss: 1.0650 - accuracy: 0.6083 - val_loss: 1.0583 - val_accuracy: 0.6133\n",
            "Epoch 45/50\n",
            "17/17 [==============================] - 33s 2s/step - loss: 1.0804 - accuracy: 0.6035 - val_loss: 1.1125 - val_accuracy: 0.6133\n",
            "Epoch 46/50\n",
            "17/17 [==============================] - 33s 2s/step - loss: 1.0553 - accuracy: 0.6190 - val_loss: 1.0151 - val_accuracy: 0.6406\n",
            "Epoch 47/50\n",
            "17/17 [==============================] - 33s 2s/step - loss: 1.0853 - accuracy: 0.6112 - val_loss: 1.0724 - val_accuracy: 0.6055\n",
            "Epoch 48/50\n",
            "17/17 [==============================] - 33s 2s/step - loss: 1.0712 - accuracy: 0.6141 - val_loss: 1.0774 - val_accuracy: 0.6094\n",
            "Epoch 49/50\n",
            "17/17 [==============================] - 33s 2s/step - loss: 1.0833 - accuracy: 0.5996 - val_loss: 1.0224 - val_accuracy: 0.6680\n",
            "Epoch 50/50\n",
            "17/17 [==============================] - 33s 2s/step - loss: 1.0168 - accuracy: 0.6373 - val_loss: 1.1199 - val_accuracy: 0.6016\n"
          ]
        }
      ],
      "source": [
        "epochs = 50\n",
        "history = model.fit(train_generator,\n",
        "          steps_per_epoch = train_num // batch_size,\n",
        "          epochs = epochs,\n",
        "          validation_data = valid_generator,\n",
        "          validation_steps = valid_num // batch_size)"
      ]
    },
    {
      "cell_type": "code",
      "execution_count": 27,
      "metadata": {
        "id": "UbVNKrXlT3HU",
        "colab": {
          "base_uri": "https://localhost:8080/",
          "height": 627
        },
        "outputId": "176363af-9936-44df-e4ef-4b2045686fde"
      },
      "outputs": [
        {
          "output_type": "display_data",
          "data": {
            "text/plain": [
              "<Figure size 576x360 with 1 Axes>"
            ],
            "image/png": "[encoded data removed]"
          },
          "metadata": {
            "needs_background": "light"
          }
        },
        {
          "output_type": "display_data",
          "data": {
            "text/plain": [
              "<Figure size 576x360 with 1 Axes>"
            ],
            "image/png": "[encoded data removed]"
          },
          "metadata": {
            "needs_background": "light"
          }
        }
      ],
      "source": [
        "def plot_learning_curves(history, label, epcohs, min_value, max_value):\n",
        "    data = {}\n",
        "    data[label] = history.history[label]\n",
        "    data['val_'+label] = history.history['val_'+label]\n",
        "    pd.DataFrame(data).plot(figsize=(8, 5))\n",
        "    plt.grid(True)\n",
        "    plt.axis([0, epochs, min_value, max_value])\n",
        "    plt.show()\n",
        "# 因为accuracy的值和loss值的范围很不一样，因此打印两条曲线\n",
        "plot_learning_curves(history, 'accuracy', epochs, 0, 1)\n",
        "plot_learning_curves(history, 'loss', epochs, 1.5, 2.5)"
      ]
    }
  ],
  "metadata": {
    "accelerator": "GPU",
    "colab": {
      "collapsed_sections": [],
      "name": "tf05_10_monkeys_model_1.ipynb",
      "provenance": []
    },
    "gpuClass": "standard",
    "kernelspec": {
      "display_name": "Python 3 (ipykernel)",
      "language": "python",
      "name": "python3"
    },
    "language_info": {
      "codemirror_mode": {
        "name": "ipython",
        "version": 3
      },
      "file_extension": ".py",
      "mimetype": "text/x-python",
      "name": "python",
      "nbconvert_exporter": "python",
      "pygments_lexer": "ipython3",
      "version": "3.9.7"
    }
  },
  "nbformat": 4,
  "nbformat_minor": 0
}