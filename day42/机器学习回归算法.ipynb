{
 "cells": [
  {
   "cell_type": "code",
   "execution_count": 1,
   "outputs": [],
   "source": [
    "from sklearn.datasets import load_boston\n",
    "from sklearn.linear_model import LinearRegression, SGDRegressor, Ridge, LogisticRegression, Lasso\n",
    "from sklearn.model_selection import train_test_split\n",
    "from sklearn.preprocessing import StandardScaler\n",
    "from sklearn.metrics import mean_squared_error, classification_report, roc_auc_score\n",
    "import joblib\n",
    "import pandas as pd\n",
    "import numpy as np"
   ],
   "metadata": {
    "collapsed": false,
    "pycharm": {
     "name": "#%%\n"
    }
   }
  },
  {
   "cell_type": "markdown",
   "source": [
    "# 线性回归"
   ],
   "metadata": {
    "collapsed": false,
    "pycharm": {
     "name": "#%% md\n"
    }
   }
  },
  {
   "cell_type": "markdown",
   "source": [
    "### 线性回归（正规方程）预测房价"
   ],
   "metadata": {
    "collapsed": false,
    "pycharm": {
     "name": "#%% md\n"
    }
   }
  },
  {
   "cell_type": "code",
   "execution_count": null,
   "outputs": [],
   "source": [
    "# 1.获取数据\n",
    "lb = load_boston()\n",
    "\n",
    "# 2.数据集划分\n",
    "x_train, x_test, y_train, y_test = train_test_split(lb.data, lb.target, test_size=0.25, random_state=1)\n",
    "print(x_train.shape)\n",
    "print('\\n')\n",
    "\n",
    "# 3.特征工程-标准化\n",
    "std = StandardScaler()\n",
    "x_train = std.fit_transform(x_train)\n",
    "x_test = std.transform(x_test)\n",
    "# 发现误差太大，对目标值也进行标准化试试\n",
    "std_y = StandardScaler()\n",
    "# -1代表把剩余的元素都堆到一维\n",
    "y_train = std_y.fit_transform(y_train.reshape(-1, 1))\n",
    "y_test = std_y.transform(y_test.reshape(-1, 1))\n",
    "\n",
    "# 4.机器学习-线性回归（正规方程）\n",
    "lr = LinearRegression()\n",
    "lr.fit(x_train, y_train)\n",
    "\n",
    "# 5.模型评估\n",
    "# 获取系数等值\n",
    "y_predict = lr.predict(x_test)\n",
    "# 预测测试集的房子价格，通过inverse得到真正的房子价格\n",
    "y_lr_predict = std_y.inverse_transform(y_predict)\n",
    "print('预测值为：', y_lr_predict)\n",
    "print('\\n')\n",
    "print('回归系数：', lr.coef_)\n",
    "print('\\n')\n",
    "# 评价\n",
    "# 均方误差\n",
    "error = mean_squared_error(y_test, y_predict)\n",
    "print('误差为：', error)\n",
    "\n",
    "# 6.保存训练好的模型\n",
    "# # 模型中保存了w的值，也保存了模型结构\n",
    "joblib.dump(lr, \"./tmp/test.pkl\")"
   ],
   "metadata": {
    "collapsed": false,
    "pycharm": {
     "name": "#%%\n"
    }
   }
  },
  {
   "cell_type": "markdown",
   "source": [
    "### 加载保存的模型"
   ],
   "metadata": {
    "collapsed": false,
    "pycharm": {
     "name": "#%% md\n"
    }
   }
  },
  {
   "cell_type": "code",
   "execution_count": 9,
   "outputs": [
    {
     "name": "stdout",
     "output_type": "stream",
     "text": [
      "保存的模型预测的结果： [[ 1.12620955]\n",
      " [ 0.62994234]\n",
      " [-0.47955756]\n",
      " [-0.08002168]\n",
      " [-0.38323459]\n",
      " [-0.26734514]\n",
      " [ 1.11558027]\n",
      " [-0.48011678]\n",
      " [ 0.26773583]\n",
      " [ 0.50610896]\n",
      " [ 0.54872518]\n",
      " [ 0.69878929]\n",
      " [-0.12984488]\n",
      " [ 0.51624959]\n",
      " [ 0.11609798]\n",
      " [-0.16307075]\n",
      " [-0.58671359]\n",
      " [ 1.72804157]\n",
      " [ 0.91761907]\n",
      " [-1.56015899]\n",
      " [-0.16601029]\n",
      " [-0.68746111]\n",
      " [ 0.31332585]\n",
      " [ 0.27297733]\n",
      " [ 1.01697482]\n",
      " [-1.27028638]\n",
      " [-0.95672557]\n",
      " [-0.62211389]\n",
      " [ 1.5267197 ]\n",
      " [-0.8563123 ]\n",
      " [-0.12405138]\n",
      " [-0.91970532]\n",
      " [ 2.28757241]\n",
      " [-0.50574043]\n",
      " [-0.05595243]\n",
      " [-0.21806897]\n",
      " [-0.54345359]\n",
      " [ 0.52264682]\n",
      " [-1.40720286]\n",
      " [-0.26284251]\n",
      " [ 0.21619076]\n",
      " [-0.14338071]\n",
      " [ 0.79988591]\n",
      " [-0.65772411]\n",
      " [-0.33180076]\n",
      " [-0.87514574]\n",
      " [ 1.91418761]\n",
      " [-0.47664284]\n",
      " [ 0.43517699]\n",
      " [-0.1950607 ]\n",
      " [ 0.30927175]\n",
      " [ 0.24009869]\n",
      " [ 0.30063331]\n",
      " [ 0.50569088]\n",
      " [-1.94512422]\n",
      " [ 0.20018782]\n",
      " [-1.30384514]\n",
      " [ 0.50366068]\n",
      " [-0.6220835 ]\n",
      " [ 1.47453167]\n",
      " [-0.31823582]\n",
      " [ 0.57109939]\n",
      " [-0.64702253]\n",
      " [-0.35840699]\n",
      " [-1.27347275]\n",
      " [ 1.08939349]\n",
      " [ 1.56941248]\n",
      " [-0.05443313]\n",
      " [ 0.27738264]\n",
      " [ 0.33502069]\n",
      " [ 0.11486652]\n",
      " [-1.72418493]\n",
      " [-0.61811069]\n",
      " [-0.23281138]\n",
      " [-0.17910595]\n",
      " [-0.05448418]\n",
      " [ 1.32820326]\n",
      " [ 0.62880761]\n",
      " [ 0.28237344]\n",
      " [ 1.3569826 ]\n",
      " [-0.41845418]\n",
      " [ 0.18839435]\n",
      " [ 1.35925408]\n",
      " [-1.01266   ]\n",
      " [-0.18286696]\n",
      " [ 0.87704764]\n",
      " [-0.59247755]\n",
      " [ 0.20839319]\n",
      " [-0.35514837]\n",
      " [-0.60196364]\n",
      " [ 0.50091753]\n",
      " [ 2.09695301]\n",
      " [-0.88638171]\n",
      " [ 0.10386413]\n",
      " [-0.83134257]\n",
      " [-0.04651539]\n",
      " [ 0.05322503]\n",
      " [ 0.76551368]\n",
      " [ 1.61168478]\n",
      " [-0.21671192]\n",
      " [-0.50247036]\n",
      " [-0.5438412 ]\n",
      " [ 0.3061877 ]\n",
      " [-0.04061622]\n",
      " [-1.57793495]\n",
      " [-0.09235677]\n",
      " [-0.65513559]\n",
      " [ 1.19613535]\n",
      " [ 0.24158778]\n",
      " [ 0.30758487]\n",
      " [ 1.79047623]\n",
      " [ 0.73947994]\n",
      " [-0.84068691]\n",
      " [ 1.39163914]\n",
      " [ 1.47665016]\n",
      " [ 1.18433322]\n",
      " [-0.15308932]\n",
      " [-0.63598571]\n",
      " [ 1.33600772]\n",
      " [ 1.87079503]\n",
      " [-0.08675261]\n",
      " [-0.74431491]\n",
      " [ 0.55971944]\n",
      " [-0.40532352]\n",
      " [ 0.55334   ]\n",
      " [-0.13251185]\n",
      " [ 0.4108134 ]]\n",
      "正规方程的均方误差： 0.2758842244225054\n",
      "正规方程inverse后的均方误差： 21.89776539604949\n"
     ]
    }
   ],
   "source": [
    "model = joblib.load('./tmp/test.pkl')\n",
    "y_predict = model.predict(x_test)\n",
    "print(\"保存的模型预测的结果：\", y_predict)\n",
    "print(\"正规方程的均方误差：\", mean_squared_error(y_test, y_predict))\n",
    "\n",
    "print(\"正规方程inverse后的均方误差：\", mean_squared_error(std_y.inverse_transform(y_test),\n",
    "                                               std_y.inverse_transform(y_predict)))"
   ],
   "metadata": {
    "collapsed": false,
    "pycharm": {
     "name": "#%%\n"
    }
   }
  },
  {
   "cell_type": "markdown",
   "source": [
    "### 线性回归（梯度下降）"
   ],
   "metadata": {
    "collapsed": false,
    "pycharm": {
     "name": "#%% md\n"
    }
   }
  },
  {
   "cell_type": "code",
   "execution_count": 10,
   "outputs": [
    {
     "name": "stdout",
     "output_type": "stream",
     "text": [
      "回归系数： [-0.09104545  0.07654483 -0.02494045  0.07728752 -0.16730119  0.27213477\n",
      " -0.00268789 -0.23188622  0.0854081  -0.02286256 -0.21872819  0.06659854\n",
      " -0.41975611]\n",
      "梯度下降的均方误差： 0.2775881613022312\n",
      "梯度下降的原始房价量纲均方误差： 22.0330120203174\n"
     ]
    },
    {
     "name": "stderr",
     "output_type": "stream",
     "text": [
      "d:\\软件\\python39\\lib\\site-packages\\sklearn\\utils\\validation.py:1111: DataConversionWarning: A column-vector y was passed when a 1d array was expected. Please change the shape of y to (n_samples, ), for example using ravel().\n",
      "  y = column_or_1d(y, warn=True)\n"
     ]
    }
   ],
   "source": [
    "# eta0:学习率的初始值;penalty是惩罚，分为L1和L2;alpha：值越高，正则化力度越强\n",
    "sgd = SGDRegressor(eta0=0.008, penalty='l1', alpha=0.005)\n",
    "sgd.fit(x_train, y_train)\n",
    "print('回归系数：', sgd.coef_)\n",
    "# 预测测试集的房子价格\n",
    "y_sgd_predict = std_y.inverse_transform(sgd.predict(x_test).reshape(-1, 1))\n",
    "y_predict = sgd.predict(x_test)\n",
    "# print(\"梯度下降测试集里面每个房子的预测价格：\", y_sgd_predict)\n",
    "print(\"梯度下降的均方误差：\", mean_squared_error(y_test, y_predict))\n",
    "print(\"梯度下降的原始房价量纲均方误差：\", mean_squared_error(std_y.inverse_transform(y_test), y_sgd_predict))"
   ],
   "metadata": {
    "collapsed": false,
    "pycharm": {
     "name": "#%%\n"
    }
   }
  },
  {
   "cell_type": "markdown",
   "source": [
    "# 岭回归"
   ],
   "metadata": {
    "collapsed": false,
    "pycharm": {
     "name": "#%% md\n"
    }
   }
  },
  {
   "cell_type": "code",
   "execution_count": 11,
   "outputs": [
    {
     "name": "stdout",
     "output_type": "stream",
     "text": [
      "(379, 13)\n",
      "(379,)\n",
      "(379, 1)\n",
      "[[-0.1202571   0.15043046  0.02949882  0.07470592 -0.28040931  0.22171843\n",
      "   0.02189818 -0.35273027  0.29933554 -0.20275251 -0.23911308  0.06305132\n",
      "  -0.45258164]]\n",
      "(127, 1)\n",
      "岭回归的均方误差： 0.2758838478395715\n",
      "岭回归的原始房价量纲均方误差： 21.89773550552293\n"
     ]
    },
    {
     "name": "stderr",
     "output_type": "stream",
     "text": [
      "d:\\软件\\python39\\lib\\site-packages\\sklearn\\utils\\deprecation.py:87: FutureWarning: Function load_boston is deprecated; `load_boston` is deprecated in 1.0 and will be removed in 1.2.\n",
      "\n",
      "    The Boston housing prices dataset has an ethical problem. You can refer to\n",
      "    the documentation of this function for further details.\n",
      "\n",
      "    The scikit-learn maintainers therefore strongly discourage the use of this\n",
      "    dataset unless the purpose of the code is to study and educate about\n",
      "    ethical issues in data science and machine learning.\n",
      "\n",
      "    In this special case, you can fetch the dataset from the original\n",
      "    source::\n",
      "\n",
      "        import pandas as pd\n",
      "        import numpy as np\n",
      "\n",
      "        data_url = \"http://lib.stat.cmu.edu/datasets/boston\"\n",
      "        raw_df = pd.read_csv(data_url, sep=\"\\s+\", skiprows=22, header=None)\n",
      "        data = np.hstack([raw_df.values[::2, :], raw_df.values[1::2, :2]])\n",
      "        target = raw_df.values[1::2, 2]\n",
      "\n",
      "    Alternative datasets include the California housing dataset (i.e.\n",
      "    :func:`~sklearn.datasets.fetch_california_housing`) and the Ames housing\n",
      "    dataset. You can load the datasets as follows::\n",
      "\n",
      "        from sklearn.datasets import fetch_california_housing\n",
      "        housing = fetch_california_housing()\n",
      "\n",
      "    for the California housing dataset and::\n",
      "\n",
      "        from sklearn.datasets import fetch_openml\n",
      "        housing = fetch_openml(name=\"house_prices\", as_frame=True)\n",
      "\n",
      "    for the Ames housing dataset.\n",
      "  warnings.warn(msg, category=FutureWarning)\n"
     ]
    }
   ],
   "source": [
    "lb = load_boston()\n",
    "x_train, x_test, y_train, y_test = train_test_split(lb.data, lb.target, test_size=0.25, random_state=1)\n",
    "print(x_train.shape)\n",
    "print(y_train.shape)\n",
    "std_x = StandardScaler()\n",
    "x_train = std_x.fit_transform(x_train)\n",
    "x_test = std_x.transform(x_test)\n",
    "std_y = StandardScaler()\n",
    "y_train = std_y.fit_transform(y_train.reshape(-1, 1))\n",
    "y_test = std_y.transform(y_test.reshape(-1, 1))\n",
    "print(y_train.shape)\n",
    "\n",
    "# 岭回归预测房价\n",
    "rd = Ridge(alpha=0.005)\n",
    "rd.fit(x_train, y_train)\n",
    "print(rd.coef_)\n",
    "y_predict = rd.predict(x_test)\n",
    "print(y_predict.shape)\n",
    "print('岭回归的均方误差：', mean_squared_error(y_test, y_predict))\n",
    "print('岭回归的原始房价量纲均方误差：', mean_squared_error(std_y.inverse_transform(y_test), std_y.inverse_transform(y_predict)))"
   ],
   "metadata": {
    "collapsed": false,
    "pycharm": {
     "name": "#%%\n"
    }
   }
  },
  {
   "cell_type": "markdown",
   "source": [
    "# Lasso回归"
   ],
   "metadata": {
    "collapsed": false,
    "pycharm": {
     "name": "#%% md\n"
    }
   }
  },
  {
   "cell_type": "code",
   "execution_count": 10,
   "outputs": [
    {
     "name": "stdout",
     "output_type": "stream",
     "text": [
      "[-0.10585206  0.12092465  0.          0.07514437 -0.24539391  0.23083067\n",
      "  0.         -0.32460134  0.20595329 -0.11439876 -0.23114772  0.05849662\n",
      " -0.44241315]\n",
      "(127,)\n",
      "(127, 1)\n",
      "Lasso回归的均方误差： 0.2792786693271289\n",
      "Lasso回归的原始房价量纲均方误差： 22.16719275575755\n"
     ]
    }
   ],
   "source": [
    "# Lasso回归预测房价\n",
    "\n",
    "ls = Lasso(alpha=0.005)\n",
    "ls.fit(x_train, y_train)\n",
    "print(ls.coef_)\n",
    "y_predict = ls.predict(x_test)\n",
    "print(y_predict.shape)\n",
    "print(y_test.shape)\n",
    "y_ls_predict = std_y.inverse_transform(ls.predict(x_test).reshape(-1,1))\n",
    "print('Lasso回归的均方误差：', mean_squared_error(y_test, y_predict))\n",
    "print('Lasso回归的原始房价量纲均方误差：', mean_squared_error(std_y.inverse_transform(y_test), y_ls_predict))"
   ],
   "metadata": {
    "collapsed": false,
    "pycharm": {
     "name": "#%%\n"
    }
   }
  },
  {
   "cell_type": "markdown",
   "source": [
    "# 逻辑回归"
   ],
   "metadata": {
    "collapsed": false,
    "pycharm": {
     "name": "#%% md\n"
    }
   }
  },
  {
   "cell_type": "code",
   "execution_count": 20,
   "outputs": [
    {
     "name": "stdout",
     "output_type": "stream",
     "text": [
      "(699, 11)\n",
      "\n",
      "\n",
      "   Sample code number  Clump Thickness  Uniformity of Cell Size  \\\n",
      "0             1000025                5                        1   \n",
      "1             1002945                5                        4   \n",
      "2             1015425                3                        1   \n",
      "3             1016277                6                        8   \n",
      "4             1017023                4                        1   \n",
      "\n",
      "   Uniformity of Cell Shape  Marginal Adhesion  Single Epithelial Cell Size  \\\n",
      "0                         1                  1                            2   \n",
      "1                         4                  5                            7   \n",
      "2                         1                  1                            2   \n",
      "3                         8                  1                            3   \n",
      "4                         1                  3                            2   \n",
      "\n",
      "  Bare Nuclei  Bland Chromatin  Normal Nucleoli  Mitoses  Class  \n",
      "0           1                3                1        1      2  \n",
      "1          10                3                2        1      2  \n",
      "2           2                3                1        1      2  \n",
      "3           4                3                7        1      2  \n",
      "4           1                3                1        1      2  \n",
      "\n",
      "\n",
      "       Sample code number  Clump Thickness  Uniformity of Cell Size  \\\n",
      "count        6.990000e+02       699.000000               699.000000   \n",
      "mean         1.071704e+06         4.417740                 3.134478   \n",
      "std          6.170957e+05         2.815741                 3.051459   \n",
      "min          6.163400e+04         1.000000                 1.000000   \n",
      "25%          8.706885e+05         2.000000                 1.000000   \n",
      "50%          1.171710e+06         4.000000                 1.000000   \n",
      "75%          1.238298e+06         6.000000                 5.000000   \n",
      "max          1.345435e+07        10.000000                10.000000   \n",
      "\n",
      "       Uniformity of Cell Shape  Marginal Adhesion  \\\n",
      "count                699.000000         699.000000   \n",
      "mean                   3.207439           2.806867   \n",
      "std                    2.971913           2.855379   \n",
      "min                    1.000000           1.000000   \n",
      "25%                    1.000000           1.000000   \n",
      "50%                    1.000000           1.000000   \n",
      "75%                    5.000000           4.000000   \n",
      "max                   10.000000          10.000000   \n",
      "\n",
      "       Single Epithelial Cell Size  Bland Chromatin  Normal Nucleoli  \\\n",
      "count                   699.000000       699.000000       699.000000   \n",
      "mean                      3.216023         3.437768         2.866953   \n",
      "std                       2.214300         2.438364         3.053634   \n",
      "min                       1.000000         1.000000         1.000000   \n",
      "25%                       2.000000         2.000000         1.000000   \n",
      "50%                       2.000000         3.000000         1.000000   \n",
      "75%                       4.000000         5.000000         4.000000   \n",
      "max                      10.000000        10.000000        10.000000   \n",
      "\n",
      "          Mitoses       Class  \n",
      "count  699.000000  699.000000  \n",
      "mean     1.589413    2.689557  \n",
      "std      1.715078    0.951273  \n",
      "min      1.000000    2.000000  \n",
      "25%      1.000000    2.000000  \n",
      "50%      1.000000    2.000000  \n",
      "75%      1.000000    4.000000  \n",
      "max     10.000000    4.000000  \n",
      "\n",
      "\n",
      "<bound method DataFrame.info of      Sample code number  Clump Thickness  Uniformity of Cell Size  \\\n",
      "0               1000025                5                        1   \n",
      "1               1002945                5                        4   \n",
      "2               1015425                3                        1   \n",
      "3               1016277                6                        8   \n",
      "4               1017023                4                        1   \n",
      "..                  ...              ...                      ...   \n",
      "694              776715                3                        1   \n",
      "695              841769                2                        1   \n",
      "696              888820                5                       10   \n",
      "697              897471                4                        8   \n",
      "698              897471                4                        8   \n",
      "\n",
      "     Uniformity of Cell Shape  Marginal Adhesion  Single Epithelial Cell Size  \\\n",
      "0                           1                  1                            2   \n",
      "1                           4                  5                            7   \n",
      "2                           1                  1                            2   \n",
      "3                           8                  1                            3   \n",
      "4                           1                  3                            2   \n",
      "..                        ...                ...                          ...   \n",
      "694                         1                  1                            3   \n",
      "695                         1                  1                            2   \n",
      "696                        10                  3                            7   \n",
      "697                         6                  4                            3   \n",
      "698                         8                  5                            4   \n",
      "\n",
      "    Bare Nuclei  Bland Chromatin  Normal Nucleoli  Mitoses  Class  \n",
      "0             1                3                1        1      2  \n",
      "1            10                3                2        1      2  \n",
      "2             2                3                1        1      2  \n",
      "3             4                3                7        1      2  \n",
      "4             1                3                1        1      2  \n",
      "..          ...              ...              ...      ...    ...  \n",
      "694           2                1                1        1      2  \n",
      "695           1                1                1        1      2  \n",
      "696           3                8               10        2      4  \n",
      "697           4               10                6        1      4  \n",
      "698           5               10                4        1      4  \n",
      "\n",
      "[699 rows x 11 columns]>\n",
      "(683, 11)\n",
      "\n",
      "\n",
      "   Clump Thickness  Uniformity of Cell Size  Uniformity of Cell Shape  \\\n",
      "0                5                        1                         1   \n",
      "1                5                        4                         4   \n",
      "2                3                        1                         1   \n",
      "3                6                        8                         8   \n",
      "4                4                        1                         1   \n",
      "\n",
      "   Marginal Adhesion  Single Epithelial Cell Size Bare Nuclei  \\\n",
      "0                  1                            2           1   \n",
      "1                  5                            7          10   \n",
      "2                  1                            2           2   \n",
      "3                  1                            3           4   \n",
      "4                  3                            2           1   \n",
      "\n",
      "   Bland Chromatin  Normal Nucleoli  Mitoses  \n",
      "0                3                1        1  \n",
      "1                3                2        1  \n",
      "2                3                1        1  \n",
      "3                3                7        1  \n",
      "4                3                1        1  \n",
      "\n",
      "\n",
      "0    2\n",
      "1    2\n",
      "2    2\n",
      "3    2\n",
      "4    2\n",
      "Name: Class, dtype: int64\n",
      "[2 4 4 2 2 2 2 2 2 2 2 2 2 4 2 2 4 4 4 2 4 2 4 4 4 2 4 2 2 2 2 2 4 2 2 2 4\n",
      " 2 2 2 2 4 2 4 4 4 4 2 4 4 2 2 2 2 2 4 2 2 2 2 4 4 4 4 2 4 2 2 4 2 2 2 2 4\n",
      " 2 2 2 2 2 2 4 4 4 2 4 4 4 4 2 2 2 4 2 4 2 2 2 2 2 2 4 2 2 4 2 2 4 2 4 4 2\n",
      " 2 2 2 4 2 2 2 2 2 2 4 2 4 2 2 2 4 2 4 2 2 2 4 2 2 2 2 2 2 2 2 2 2 2 4 2 4\n",
      " 2 2 4 4 4 2 2 4 4 2 4 4 2 2 2 2 2 4 4 2 2 2 4]\n",
      "准确率： 0.9766081871345029\n",
      "\n",
      "\n",
      "召回率：               precision    recall  f1-score   support\n",
      "\n",
      "          良性       0.98      0.98      0.98       111\n",
      "          恶行       0.97      0.97      0.97        60\n",
      "\n",
      "    accuracy                           0.98       171\n",
      "   macro avg       0.97      0.97      0.97       171\n",
      "weighted avg       0.98      0.98      0.98       171\n",
      "\n",
      "\n",
      "AUC指标： 0.9743243243243243\n"
     ]
    }
   ],
   "source": [
    "# 逻辑回归做二分类进行癌症预测\n",
    "\n",
    "# 构造列标签名字\n",
    "column = ['Sample code number', 'Clump Thickness', 'Uniformity of Cell Size', 'Uniformity of Cell Shape',\n",
    "          'Marginal Adhesion', 'Single Epithelial Cell Size', 'Bare Nuclei', 'Bland Chromatin', 'Normal Nucleoli',\n",
    "          'Mitoses', 'Class']\n",
    "\n",
    "# 读取数据\n",
    "data = pd.read_csv(\n",
    "    \"https://archive.ics.uci.edu/ml/machine-learning-databases/breast-cancer-wisconsin/breast-cancer-wisconsin.data\",\n",
    "    names=column)\n",
    "print(data.shape)\n",
    "print('\\n')\n",
    "print(data.head())\n",
    "print('\\n')\n",
    "print(data.describe())\n",
    "print('\\n')\n",
    "print(data.info)\n",
    "\n",
    "# 缺失值处理\n",
    "# 数据中空值用?表示的，替换为nan\n",
    "data = data.replace(to_replace='?', value=np.nan)\n",
    "# 删除，哪一行有空值，就删除对应的样本\n",
    "data = data.dropna()\n",
    "print(data.shape)\n",
    "print('\\n')\n",
    "\n",
    "# 确定特征值、目标值\n",
    "x = data.iloc[:,1:10]\n",
    "print(x.head())\n",
    "print('\\n')\n",
    "y = data['Class']\n",
    "print(y.head())\n",
    "\n",
    "# 分割数据\n",
    "x_train, x_test, y_train, y_test = train_test_split(x, y, random_state=22)\n",
    "\n",
    "# 特征工程（标准化）\n",
    "sd = StandardScaler()\n",
    "x_train = sd.fit_transform(x_train)\n",
    "x_test = sd.transform(x_test)\n",
    "\n",
    "# 机器学习（逻辑回归）\n",
    "lr = LogisticRegression()\n",
    "# 训练\n",
    "lr.fit(x_train, y_train)\n",
    "\n",
    "# 模型评估\n",
    "y_predict = lr.predict(x_test)\n",
    "print(y_predict)\n",
    "print('准确率：', lr.score(x_test,y_test))\n",
    "print('\\n')\n",
    "# macro avg:平均值; weighted avg:加权平均值\n",
    "print('召回率：', classification_report(y_test, y_predict, labels=[2,4],target_names=['良性','恶行']))\n",
    "print()\n",
    "print('AUC指标：', roc_auc_score(y_test, y_predict))"
   ],
   "metadata": {
    "collapsed": false,
    "pycharm": {
     "name": "#%%\n"
    }
   }
  }
 ],
 "metadata": {
  "kernelspec": {
   "display_name": "Python 3",
   "language": "python",
   "name": "python3"
  },
  "language_info": {
   "codemirror_mode": {
    "name": "ipython",
    "version": 2
   },
   "file_extension": ".py",
   "mimetype": "text/x-python",
   "name": "python",
   "nbconvert_exporter": "python",
   "pygments_lexer": "ipython2",
   "version": "2.7.6"
  }
 },
 "nbformat": 4,
 "nbformat_minor": 0
}