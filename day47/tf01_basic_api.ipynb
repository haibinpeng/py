{
 "cells": [
  {
   "cell_type": "code",
   "execution_count": 1,
   "metadata": {},
   "outputs": [
    {
     "name": "stdout",
     "output_type": "stream",
     "text": [
      "2.9.1\n",
      "sys.version_info(major=3, minor=9, micro=7, releaselevel='final', serial=0)\n",
      "matplotlib 3.5.2\n",
      "numpy 1.23.0\n",
      "pandas 1.4.3\n",
      "sklearn 1.1.1\n",
      "tensorflow 2.9.1\n",
      "keras.api._v2.keras 2.9.0\n"
     ]
    }
   ],
   "source": [
    "import matplotlib as mpl\n",
    "% matplotlib inline\n",
    "import numpy as np\n",
    "import sklearn\n",
    "import pandas as pd\n",
    "import os\n",
    "import sys\n",
    "import time\n",
    "import tensorflow as tf\n",
    "\n",
    "from tensorflow import keras\n",
    "\n",
    "print(tf.__version__)\n",
    "print(sys.version_info)\n",
    "for module in mpl, np, pd, sklearn, tf, keras:\n",
    "    print(module.__name__, module.__version__)"
   ]
  },
  {
   "cell_type": "code",
   "execution_count": 11,
   "metadata": {},
   "outputs": [
    {
     "name": "stdout",
     "output_type": "stream",
     "text": [
      "tf.Tensor(\n",
      "[[1. 2. 3.]\n",
      " [4. 5. 6.]], shape=(2, 3), dtype=float32)\n",
      "--------------------------------------------------\n",
      "<class 'tensorflow.python.framework.ops.EagerTensor'>\n",
      "--------------------------------------------------\n"
     ]
    }
   ],
   "source": [
    "# constant是常量张量\n",
    "t = tf.constant([[1., 2., 3.], [4., 5., 6.]])\n",
    "print(t)\n",
    "print('-' * 50)\n",
    "print(type(t))"
   ]
  },
  {
   "cell_type": "code",
   "execution_count": 13,
   "outputs": [
    {
     "name": "stdout",
     "output_type": "stream",
     "text": [
      "tf.Tensor(\n",
      "[[2. 3.]\n",
      " [5. 6.]], shape=(2, 2), dtype=float32)\n",
      "--------------------------------------------------\n",
      "tf.Tensor([2. 5.], shape=(2,), dtype=float32)\n",
      "--------------------------------------------------\n",
      "<class 'tensorflow.python.framework.ops.EagerTensor'>\n",
      "--------------------------------------------------\n",
      "<class 'numpy.ndarray'>\n",
      "--------------------------------------------------\n",
      "[[1. 2. 3.]\n",
      " [4. 5. 6.]]\n"
     ]
    }
   ],
   "source": [
    "# index\n",
    "print(t[:, 1:])\n",
    "print('-' * 50)\n",
    "print(t[..., 1])\n",
    "print('-' * 50)\n",
    "print(type(t[..., 1]))  # 等价t[:,1]\n",
    "print('-' * 50)\n",
    "# print(t[:,1])\n",
    "# print('-'*50)\n",
    "# print(type(t[:,1]))\n",
    "# print('-'*50)\n",
    "# t.assign(1)对常量不能进行再次assign设置\n",
    "print(type(t.numpy()))\n",
    "print('-' * 50)\n",
    "q = t.numpy()\n",
    "print(q)"
   ],
   "metadata": {
    "collapsed": false,
    "pycharm": {
     "name": "#%%\n"
    }
   }
  },
  {
   "cell_type": "code",
   "execution_count": 14,
   "metadata": {},
   "outputs": [
    {
     "name": "stdout",
     "output_type": "stream",
     "text": [
      "tf.Tensor(\n",
      "[[1. 2. 3.]\n",
      " [4. 5. 6.]], shape=(2, 3), dtype=float32)\n"
     ]
    }
   ],
   "source": [
    "t1 = tf.constant(q)  # 把ndarray变为张量\n",
    "print(t1)"
   ]
  },
  {
   "cell_type": "code",
   "execution_count": 16,
   "metadata": {},
   "outputs": [
    {
     "name": "stdout",
     "output_type": "stream",
     "text": [
      "tf.Tensor(\n",
      "[[11. 12. 13.]\n",
      " [14. 15. 16.]], shape=(2, 3), dtype=float32)\n",
      "--------------------------------------------------\n",
      "tf.Tensor(\n",
      "[[1. 2. 3.]\n",
      " [4. 5. 6.]], shape=(2, 3), dtype=float32)\n",
      "--------------------------------------------------\n",
      "tf.Tensor(\n",
      "[[ 1.  4.  9.]\n",
      " [16. 25. 36.]], shape=(2, 3), dtype=float32)\n",
      "--------------------------------------------------\n",
      "tf.Tensor(\n",
      "[[1. 2. 3.]\n",
      " [4. 5. 6.]], shape=(2, 3), dtype=float32)\n",
      "--------------------------------------------------\n",
      "tf.Tensor(\n",
      "[[1. 4.]\n",
      " [2. 5.]\n",
      " [3. 6.]], shape=(3, 2), dtype=float32)\n",
      "--------------------------------------------------\n",
      "tf.Tensor(\n",
      "[[14. 32.]\n",
      " [32. 77.]], shape=(2, 2), dtype=float32)\n",
      "--------------------------------------------------\n",
      "tf.Tensor(\n",
      "[[ 1.  4.  9.]\n",
      " [16. 25. 36.]], shape=(2, 3), dtype=float32)\n"
     ]
    }
   ],
   "source": [
    "# ops 使用tf本身的math接口对Tensor进行计算\n",
    "print(t + 10)\n",
    "print('-' * 50)\n",
    "print(t)  # t本身并未改变\n",
    "print('-' * 50)\n",
    "print(tf.square(t))  # 平方\n",
    "print('-' * 50)\n",
    "print(t)  # t本身并未改变\n",
    "print('-' * 50)\n",
    "print(tf.transpose(t))  # 转置\n",
    "print('-' * 50)\n",
    "print(t @ tf.transpose(t))  # @是矩阵乘法，和*不一样\n",
    "print('-' * 50)\n",
    "print(t * t)  # 对应位置相乘"
   ]
  },
  {
   "cell_type": "code",
   "execution_count": 17,
   "metadata": {},
   "outputs": [
    {
     "name": "stdout",
     "output_type": "stream",
     "text": [
      "tf.Tensor(\n",
      "[[1.        1.4142135 1.7320508]\n",
      " [2.        2.2360678 2.4494896]], shape=(2, 3), dtype=float32)\n",
      "--------------------------------------------------\n",
      "tf.Tensor(\n",
      "[[1.        1.4142135 1.7320508]\n",
      " [2.        2.2360678 2.4494896]], shape=(2, 3), dtype=float32)\n",
      "--------------------------------------------------\n"
     ]
    },
    {
     "data": {
      "text/plain": "<tf.Tensor: shape=(2, 3), dtype=float32, numpy=\narray([[0.       , 0.6931472, 1.0986123],\n       [1.3862944, 1.609438 , 1.7917595]], dtype=float32)>"
     },
     "execution_count": 17,
     "metadata": {},
     "output_type": "execute_result"
    }
   ],
   "source": [
    "print(tf.sqrt(t))  # 开方\n",
    "print('-' * 50)\n",
    "print(tf.math.sqrt(t))  # 开方\n",
    "print('-' * 50)\n",
    "print(tf.math.log(t))  # 必须加math"
   ]
  },
  {
   "cell_type": "code",
   "execution_count": 18,
   "metadata": {},
   "outputs": [
    {
     "name": "stdout",
     "output_type": "stream",
     "text": [
      "[[1. 2. 3.]\n",
      " [4. 5. 6.]]\n",
      "--------------------------------------------------\n",
      "[[1.0, 2.0, 3.0], [4.0, 5.0, 6.0]]\n",
      "--------------------------------------------------\n",
      "<class 'numpy.ndarray'>\n",
      "--------------------------------------------------\n",
      "[[ 1.  4.  9.]\n",
      " [16. 25. 36.]]\n",
      "--------------------------------------------------\n",
      "tf.Tensor(\n",
      "[[1. 2. 3.]\n",
      " [4. 5. 6.]], shape=(2, 3), dtype=float64)\n"
     ]
    }
   ],
   "source": [
    "# numpy conversion\n",
    "print(t.numpy())  # 可以直接通过numpy取出来\n",
    "print('-' * 50)\n",
    "print(t.numpy().tolist())\n",
    "print('-' * 50)\n",
    "print(type(t.numpy()))\n",
    "print('-' * 50)\n",
    "print(np.square(t))  # 也可以用np.square求平方\n",
    "print('-' * 50)\n",
    "np_t = np.array([[1., 2., 3.], [4., 5., 6.]])\n",
    "print(tf.constant(np_t))  # 转换为tensor（张量）"
   ]
  },
  {
   "cell_type": "code",
   "execution_count": 21,
   "metadata": {},
   "outputs": [
    {
     "name": "stdout",
     "output_type": "stream",
     "text": [
      "tf.Tensor(2.718, shape=(), dtype=float32)\n",
      "--------------------------------------------------\n",
      "<class 'tensorflow.python.framework.ops.EagerTensor'>\n",
      "--------------------------------------------------\n",
      "2.718\n",
      "--------------------------------------------------\n",
      "()\n"
     ]
    }
   ],
   "source": [
    "# Scalars:就是标量，只有一个数值的张量，称为标量\n",
    "t = tf.constant(2.718)\n",
    "print(t)\n",
    "print('-' * 50)\n",
    "print(type(t))\n",
    "print('-' * 50)\n",
    "print(t.numpy())\n",
    "print('-' * 50)\n",
    "print(t.shape)  # 维数"
   ]
  },
  {
   "cell_type": "markdown",
   "metadata": {},
   "source": [
    "# 张量字符串常量"
   ]
  },
  {
   "cell_type": "code",
   "execution_count": 22,
   "metadata": {},
   "outputs": [
    {
     "name": "stdout",
     "output_type": "stream",
     "text": [
      "tf.Tensor(b'cafe', shape=(), dtype=string)\n",
      "--------------------------------------------------\n",
      "tf.Tensor(4, shape=(), dtype=int32)\n",
      "--------------------------------------------------\n",
      "tf.Tensor(4, shape=(), dtype=int32)\n",
      "--------------------------------------------------\n",
      "tf.Tensor([ 99  97 102 101], shape=(4,), dtype=int32)\n"
     ]
    }
   ],
   "source": [
    "# strings\n",
    "t = tf.constant(\"cafe\")\n",
    "print(t)\n",
    "print('-' * 50)\n",
    "print(tf.strings.length(t))\n",
    "print('-' * 50)\n",
    "print(tf.strings.length(t, unit=\"UTF8_CHAR\"))\n",
    "print('-' * 50)\n",
    "print(tf.strings.unicode_decode(t, \"UTF8\"))  # 把每一个字符变为ASCII"
   ]
  },
  {
   "cell_type": "code",
   "execution_count": 23,
   "metadata": {},
   "outputs": [
    {
     "name": "stdout",
     "output_type": "stream",
     "text": [
      "tf.Tensor([4 6 2], shape=(3,), dtype=int32)\n",
      "--------------------------------------------------\n",
      "tf.Tensor([4 6 6], shape=(3,), dtype=int32)\n",
      "--------------------------------------------------\n",
      "<tf.RaggedTensor [[99, 97, 102, 101], [99, 111, 102, 102, 101, 101], [21654, 21857]]>\n"
     ]
    }
   ],
   "source": [
    "# string array\n",
    "t = tf.constant([\"cafe\", \"coffee\", \"咖啡\"])\n",
    "# 自动求出数组中每一个字符的长度,如果不加unit=\"UTF8_CHAR\"，得到的是实际字节存储的长度\n",
    "print(tf.strings.length(t, unit=\"UTF8_CHAR\"))\n",
    "print('-' * 50)\n",
    "print(tf.strings.length(t, unit=\"BYTE\"))\n",
    "print('-' * 50)\n",
    "r = tf.strings.unicode_decode(t, \"UTF8\")  # 汉字转的是unicode编码\n",
    "print(r)"
   ]
  },
  {
   "cell_type": "markdown",
   "metadata": {},
   "source": [
    "# RaggedTensor"
   ]
  },
  {
   "cell_type": "markdown",
   "source": [
    "RaggedTensor是指形状分布不固定的（行元素个数不相等）"
   ],
   "metadata": {
    "collapsed": false,
    "pycharm": {
     "name": "#%% md\n"
    }
   }
  },
  {
   "cell_type": "code",
   "execution_count": 25,
   "metadata": {},
   "outputs": [
    {
     "name": "stdout",
     "output_type": "stream",
     "text": [
      "<tf.RaggedTensor [[11, 12], [21, 22, 23], [], [41]]>\n",
      "--------------------------------------------------\n",
      "(4, None)\n",
      "--------------------------------------------------\n"
     ]
    }
   ],
   "source": [
    "# ragged tensor ,每行的元素个数不相等，ndarray是不可以这样的\n",
    "r = tf.ragged.constant([[11, 12], [21, 22, 23], [], [41]])\n",
    "print(r)\n",
    "print('-' * 50)\n",
    "print(r.shape)\n",
    "print('-' * 50)"
   ]
  },
  {
   "cell_type": "code",
   "execution_count": 26,
   "outputs": [
    {
     "name": "stdout",
     "output_type": "stream",
     "text": [
      "tf.Tensor([21 22 23], shape=(3,), dtype=int32)\n",
      "--------------------------------------------------\n",
      "<tf.RaggedTensor [[21, 22, 23], []]>\n"
     ]
    }
   ],
   "source": [
    "# index\n",
    "print(r[1])  # 取一行是Tensor\n",
    "print('-' * 50)\n",
    "# 取多行也是ragged tensor\n",
    "print(r[1:3])\n",
    "# print(r[:,1])  # 不能取列索引"
   ],
   "metadata": {
    "collapsed": false,
    "pycharm": {
     "name": "#%%\n"
    }
   }
  },
  {
   "cell_type": "code",
   "execution_count": 31,
   "metadata": {},
   "outputs": [
    {
     "name": "stdout",
     "output_type": "stream",
     "text": [
      "<tf.RaggedTensor [[11, 12], [21, 22, 23], [], [41], [51, 52], [], [], [71]]>\n",
      "--------------------------------------------------\n",
      "<tf.RaggedTensor [[11, 12, 51, 52], [21, 22, 23], [], [41, 71]]>\n",
      "--------------------------------------------------\n"
     ]
    }
   ],
   "source": [
    "# ops on ragged tensor\n",
    "r2 = tf.ragged.constant([[51, 52], [], [], [71]])\n",
    "print(tf.concat([r, r2], axis=0))\n",
    "print('-' * 50)\n",
    "print(tf.concat([r, r2], axis=1))  # 按轴1进行合并时，行数要一致，行数相等，可以拼\n",
    "print('-'*50)\n",
    "# r3 = tf.ragged.constant([[13, 14], [15], [42, 43]])  # 如果行数不相等，不可以拼\n",
    "# print(tf.concat([r, r3], axis=1))"
   ]
  },
  {
   "cell_type": "code",
   "execution_count": 32,
   "metadata": {},
   "outputs": [
    {
     "name": "stdout",
     "output_type": "stream",
     "text": [
      "tf.Tensor(\n",
      "[[11 12  0]\n",
      " [21 22 23]\n",
      " [ 0  0  0]\n",
      " [41  0  0]], shape=(4, 3), dtype=int32)\n"
     ]
    }
   ],
   "source": [
    "# 各种深度学习模型必须输入一个tensor,不可以是ragged tensor\n",
    "print(r.to_tensor())  # 空的补0，只能往后面补"
   ]
  },
  {
   "cell_type": "markdown",
   "metadata": {},
   "source": [
    "# SparseTensor"
   ]
  },
  {
   "cell_type": "code",
   "execution_count": 33,
   "metadata": {},
   "outputs": [
    {
     "name": "stdout",
     "output_type": "stream",
     "text": [
      "SparseTensor(indices=tf.Tensor(\n",
      "[[0 1]\n",
      " [1 0]\n",
      " [2 3]\n",
      " [3 2]], shape=(4, 2), dtype=int64), values=tf.Tensor([1. 2. 3. 5.], shape=(4,), dtype=float32), dense_shape=tf.Tensor([4 4], shape=(2,), dtype=int64))\n",
      "--------------------------------------------------\n",
      "tf.Tensor(\n",
      "[[0. 1. 0. 0.]\n",
      " [2. 0. 0. 0.]\n",
      " [0. 0. 0. 3.]\n",
      " [0. 0. 5. 0.]], shape=(4, 4), dtype=float32)\n"
     ]
    }
   ],
   "source": [
    "# sparse tensor 可以往前面补零,sparse tensor从第一行依次往下填位置\n",
    "# sparse tensor 可以存储节省内存空间，磁盘空间\n",
    "s = tf.SparseTensor(indices=[[0, 1], [1, 0], [2, 3], [3, 2]],  # 位置\n",
    "                    values=[1., 2., 3., 5],  # 值\n",
    "                    dense_shape=[4, 4])  # 维数\n",
    "print(s)\n",
    "print('-' * 50)\n",
    "tt = tf.sparse.to_dense(s)\n",
    "print(tt)"
   ]
  },
  {
   "cell_type": "code",
   "execution_count": 36,
   "metadata": {
    "scrolled": true
   },
   "outputs": [
    {
     "name": "stdout",
     "output_type": "stream",
     "text": [
      "SparseTensor(indices=tf.Tensor(\n",
      "[[0 1]\n",
      " [1 0]\n",
      " [2 3]\n",
      " [3 2]], shape=(4, 2), dtype=int64), values=tf.Tensor([ 2.  4.  6. 10.], shape=(4,), dtype=float32), dense_shape=tf.Tensor([4 4], shape=(2,), dtype=int64))\n",
      "--------------------------------------------------\n",
      "unsupported operand type(s) for +: 'SparseTensor' and 'int'\n",
      "--------------------------------------------------\n",
      "tf.Tensor(\n",
      "[[ 30.  40.]\n",
      " [ 20.  40.]\n",
      " [210. 240.]\n",
      " [250. 300.]], shape=(4, 2), dtype=float32)\n"
     ]
    }
   ],
   "source": [
    "# ops on sparse tensors\n",
    "\n",
    "s2 = s * 2.0\n",
    "print(s2)\n",
    "print('-' * 50)\n",
    "# 不支持加法\n",
    "try:\n",
    "    s3 = s + 1\n",
    "except TypeError as ex:\n",
    "    print(ex)\n",
    "print('-' * 50)\n",
    "s4 = tf.constant([[10., 20.],\n",
    "                  [30., 40.],\n",
    "                  [50., 60.],\n",
    "                  [70., 80.]])\n",
    "# print(tf.sparse.to_dense(s) @ s4)\n",
    "print(tf.sparse.sparse_dense_matmul(s, s4))  # 稀疏Tensor和Tensor相乘，和上一句等价"
   ]
  },
  {
   "cell_type": "code",
   "execution_count": 38,
   "metadata": {
    "scrolled": true
   },
   "outputs": [
    {
     "name": "stdout",
     "output_type": "stream",
     "text": [
      "SparseTensor(indices=tf.Tensor(\n",
      "[[0 2]\n",
      " [2 3]\n",
      " [0 1]], shape=(3, 2), dtype=int64), values=tf.Tensor([1. 2. 3.], shape=(3,), dtype=float32), dense_shape=tf.Tensor([3 4], shape=(2,), dtype=int64))\n",
      "--------------------------------------------------\n",
      "SparseTensor(indices=tf.Tensor(\n",
      "[[0 1]\n",
      " [0 2]\n",
      " [2 3]], shape=(3, 2), dtype=int64), values=tf.Tensor([3. 1. 2.], shape=(3,), dtype=float32), dense_shape=tf.Tensor([3 4], shape=(2,), dtype=int64))\n",
      "--------------------------------------------------\n",
      "tf.Tensor(\n",
      "[[0. 3. 1. 0.]\n",
      " [0. 0. 0. 0.]\n",
      " [0. 0. 0. 2.]], shape=(3, 4), dtype=float32)\n"
     ]
    }
   ],
   "source": [
    "# sparse tensor\n",
    "s5 = tf.SparseTensor(indices=[[0, 2], [2, 3], [0, 1]],\n",
    "                     values=[1., 2., 3.],\n",
    "                     dense_shape=[3, 4])\n",
    "# print(tf.sparse.to_dense(s5))  # sparse无顺序时，不能转为tensor，会报错\n",
    "# print('-' * 50)\n",
    "print(s5)\n",
    "print('-' * 50)\n",
    "s6 = tf.sparse.reorder(s5)  # 没有顺序的sparse tensor必须进行reorder以后才能to_dense\n",
    "print(s6)\n",
    "print('-' * 50)\n",
    "print(tf.sparse.to_dense(s6))"
   ]
  },
  {
   "cell_type": "markdown",
   "metadata": {},
   "source": [
    "# tf.Variable"
   ]
  },
  {
   "cell_type": "code",
   "execution_count": 42,
   "metadata": {},
   "outputs": [
    {
     "name": "stdout",
     "output_type": "stream",
     "text": [
      "<tf.Variable 'Variable:0' shape=(2, 3) dtype=float32, numpy=\n",
      "array([[1., 2., 3.],\n",
      "       [4., 5., 6.]], dtype=float32)>\n",
      "--------------------------------------------------\n",
      "<class 'tensorflow.python.ops.resource_variable_ops.ResourceVariable'>\n",
      "--------------------------------------------------\n",
      "tf.Tensor(\n",
      "[[1. 2. 3.]\n",
      " [4. 5. 6.]], shape=(2, 3), dtype=float32)\n",
      "--------------------------------------------------\n",
      "[[1. 2. 3.]\n",
      " [4. 5. 6.]]\n"
     ]
    }
   ],
   "source": [
    "# Variables 变量\n",
    "v = tf.Variable([[1., 2., 3.], [4., 5., 6.]])\n",
    "print(v)\n",
    "print('-' * 50)\n",
    "print(type(v))\n",
    "print('-' * 50)\n",
    "print(v.value())\n",
    "print('-' * 50)\n",
    "print(v.numpy())"
   ]
  },
  {
   "cell_type": "code",
   "execution_count": 43,
   "metadata": {},
   "outputs": [
    {
     "name": "stdout",
     "output_type": "stream",
     "text": [
      "1682250152160\n",
      "--------------------------------------------------\n",
      "1682250152160\n",
      "--------------------------------------------------\n",
      "[[ 2.  4.  6.]\n",
      " [ 8. 10. 12.]]\n",
      "--------------------------------------------------\n",
      "[[ 2. 42.  6.]\n",
      " [ 8. 10. 12.]]\n",
      "--------------------------------------------------\n",
      "[[ 2. 42.  6.]\n",
      " [ 7.  8.  9.]]\n",
      "--------------------------------------------------\n",
      "1682250152160\n"
     ]
    }
   ],
   "source": [
    "# 修改变量时要用assign，改变tensor内某个值，空间并没有发生变化，效率高\n",
    "# assign value\n",
    "print(id(v))\n",
    "print('-' * 50)\n",
    "v.assign(2 * v)  # assign就是赋值，变量就需要通过这个方式赋值\n",
    "print(id(v))\n",
    "print('-' * 50)\n",
    "print(v.numpy())\n",
    "print('-' * 50)\n",
    "v[0, 1].assign(42)  # 取某个元素修改\n",
    "print(v.numpy())\n",
    "print('-' * 50)\n",
    "v[1].assign([7., 8., 9.])  # 取某一行修改\n",
    "print(v.numpy())\n",
    "print('-' * 50)\n",
    "print(id(v))"
   ]
  },
  {
   "cell_type": "code",
   "execution_count": 44,
   "metadata": {},
   "outputs": [
    {
     "name": "stdout",
     "output_type": "stream",
     "text": [
      "'ResourceVariable' object does not support item assignment\n"
     ]
    }
   ],
   "source": [
    "try:\n",
    "    v[1] = [7., 8., 9.]\n",
    "except TypeError as ex:\n",
    "    print(ex)"
   ]
  },
  {
   "cell_type": "code",
   "execution_count": 45,
   "metadata": {},
   "outputs": [
    {
     "name": "stdout",
     "output_type": "stream",
     "text": [
      "tf.Tensor(\n",
      "[[ 4. 84. 12.]\n",
      " [14. 16. 18.]], shape=(2, 3), dtype=float32)\n",
      "--------------------------------------------------\n",
      "1677179497632\n",
      "--------------------------------------------------\n",
      "<class 'tensorflow.python.framework.ops.EagerTensor'>\n"
     ]
    }
   ],
   "source": [
    "v = 2 * v\n",
    "print(v)\n",
    "print('-' * 50)\n",
    "print(id(v))\n",
    "print('-' * 50)\n",
    "print(type(v))  # 用了=后，类型也发生了改变，不再是变量"
   ]
  },
  {
   "cell_type": "code",
   "execution_count": 34,
   "metadata": {},
   "outputs": [
    {
     "data": {
      "text/plain": [
       "<tf.Tensor: shape=(2,), dtype=float32, numpy=array([1.5, 2.5], dtype=float32)>"
      ]
     },
     "execution_count": 34,
     "metadata": {},
     "output_type": "execute_result"
    }
   ],
   "source": [
    "x = tf.constant([[1., 2], [2., 3.]])\n",
    "tf.reduce_mean(x, axis=1)  # 平均值"
   ]
  }
 ],
 "metadata": {
  "kernelspec": {
   "display_name": "Python 3",
   "language": "python",
   "name": "python3"
  },
  "language_info": {
   "codemirror_mode": {
    "name": "ipython",
    "version": 3
   },
   "file_extension": ".py",
   "mimetype": "text/x-python",
   "name": "python",
   "nbconvert_exporter": "python",
   "pygments_lexer": "ipython3",
   "version": "3.6.9"
  }
 },
 "nbformat": 4,
 "nbformat_minor": 2
}