{
 "cells": [
  {
   "cell_type": "code",
   "execution_count": 2,
   "outputs": [],
   "source": [
    "from sklearn.datasets import load_boston\n",
    "from sklearn.linear_model import LinearRegression, SGDRegressor, Ridge, LogisticRegression, Lasso\n",
    "from sklearn.model_selection import train_test_split\n",
    "from sklearn.preprocessing import StandardScaler\n",
    "from sklearn.metrics import mean_squared_error, classification_report, roc_auc_score\n",
    "import joblib\n",
    "import pandas as pd\n",
    "import numpy as np"
   ],
   "metadata": {
    "collapsed": false,
    "pycharm": {
     "name": "#%%\n"
    }
   }
  },
  {
   "cell_type": "markdown",
   "source": [
    "# 线性回归"
   ],
   "metadata": {
    "collapsed": false,
    "pycharm": {
     "name": "#%% md\n"
    }
   }
  },
  {
   "cell_type": "markdown",
   "source": [
    "### 线性回归（正规方程）预测房价"
   ],
   "metadata": {
    "collapsed": false,
    "pycharm": {
     "name": "#%% md\n"
    }
   }
  },
  {
   "cell_type": "code",
   "execution_count": null,
   "outputs": [],
   "source": [
    "# 1.获取数据\n",
    "lb = load_boston()\n",
    "\n",
    "# 2.数据集划分\n",
    "x_train, x_test, y_train, y_test = train_test_split(lb.data, lb.target, test_size=0.25, random_state=1)\n",
    "print(x_train.shape)\n",
    "print('\\n')\n",
    "\n",
    "# 3.特征工程-标准化\n",
    "std = StandardScaler()\n",
    "x_train = std.fit_transform(x_train)\n",
    "x_test = std.transform(x_test)\n",
    "# 发现误差太大，对目标值也进行标准化试试\n",
    "std_y = StandardScaler()\n",
    "# -1代表把剩余的元素都堆到一维\n",
    "y_train = std_y.fit_transform(y_train.reshape(-1, 1))\n",
    "y_test = std_y.transform(y_test.reshape(-1, 1))\n",
    "\n",
    "# 4.机器学习-线性回归（正规方程）\n",
    "lr = LinearRegression()\n",
    "lr.fit(x_train, y_train)\n",
    "\n",
    "# 5.模型评估\n",
    "# 获取系数等值\n",
    "y_predict = lr.predict(x_test)\n",
    "# 预测测试集的房子价格，通过inverse得到真正的房子价格\n",
    "y_lr_predict = std_y.inverse_transform(y_predict)\n",
    "print('预测值为：', y_lr_predict)\n",
    "print('\\n')\n",
    "print('回归系数：', lr.coef_)\n",
    "print('\\n')\n",
    "# 评价\n",
    "# 均方误差\n",
    "error = mean_squared_error(y_test, y_predict)\n",
    "print('误差为：', error)\n",
    "\n",
    "# 6.保存训练好的模型\n",
    "# # 模型中保存了w的值，也保存了模型结构\n",
    "joblib.dump(lr, \"./tmp/test.pkl\")"
   ],
   "metadata": {
    "collapsed": false,
    "pycharm": {
     "name": "#%%\n"
    }
   }
  },
  {
   "cell_type": "markdown",
   "source": [
    "### 加载保存的模型"
   ],
   "metadata": {
    "collapsed": false,
    "pycharm": {
     "name": "#%% md\n"
    }
   }
  },
  {
   "cell_type": "code",
   "execution_count": 9,
   "outputs": [
    {
     "name": "stdout",
     "output_type": "stream",
     "text": [
      "保存的模型预测的结果： [[ 1.12620955]\n",
      " [ 0.62994234]\n",
      " [-0.47955756]\n",
      " [-0.08002168]\n",
      " [-0.38323459]\n",
      " [-0.26734514]\n",
      " [ 1.11558027]\n",
      " [-0.48011678]\n",
      " [ 0.26773583]\n",
      " [ 0.50610896]\n",
      " [ 0.54872518]\n",
      " [ 0.69878929]\n",
      " [-0.12984488]\n",
      " [ 0.51624959]\n",
      " [ 0.11609798]\n",
      " [-0.16307075]\n",
      " [-0.58671359]\n",
      " [ 1.72804157]\n",
      " [ 0.91761907]\n",
      " [-1.56015899]\n",
      " [-0.16601029]\n",
      " [-0.68746111]\n",
      " [ 0.31332585]\n",
      " [ 0.27297733]\n",
      " [ 1.01697482]\n",
      " [-1.27028638]\n",
      " [-0.95672557]\n",
      " [-0.62211389]\n",
      " [ 1.5267197 ]\n",
      " [-0.8563123 ]\n",
      " [-0.12405138]\n",
      " [-0.91970532]\n",
      " [ 2.28757241]\n",
      " [-0.50574043]\n",
      " [-0.05595243]\n",
      " [-0.21806897]\n",
      " [-0.54345359]\n",
      " [ 0.52264682]\n",
      " [-1.40720286]\n",
      " [-0.26284251]\n",
      " [ 0.21619076]\n",
      " [-0.14338071]\n",
      " [ 0.79988591]\n",
      " [-0.65772411]\n",
      " [-0.33180076]\n",
      " [-0.87514574]\n",
      " [ 1.91418761]\n",
      " [-0.47664284]\n",
      " [ 0.43517699]\n",
      " [-0.1950607 ]\n",
      " [ 0.30927175]\n",
      " [ 0.24009869]\n",
      " [ 0.30063331]\n",
      " [ 0.50569088]\n",
      " [-1.94512422]\n",
      " [ 0.20018782]\n",
      " [-1.30384514]\n",
      " [ 0.50366068]\n",
      " [-0.6220835 ]\n",
      " [ 1.47453167]\n",
      " [-0.31823582]\n",
      " [ 0.57109939]\n",
      " [-0.64702253]\n",
      " [-0.35840699]\n",
      " [-1.27347275]\n",
      " [ 1.08939349]\n",
      " [ 1.56941248]\n",
      " [-0.05443313]\n",
      " [ 0.27738264]\n",
      " [ 0.33502069]\n",
      " [ 0.11486652]\n",
      " [-1.72418493]\n",
      " [-0.61811069]\n",
      " [-0.23281138]\n",
      " [-0.17910595]\n",
      " [-0.05448418]\n",
      " [ 1.32820326]\n",
      " [ 0.62880761]\n",
      " [ 0.28237344]\n",
      " [ 1.3569826 ]\n",
      " [-0.41845418]\n",
      " [ 0.18839435]\n",
      " [ 1.35925408]\n",
      " [-1.01266   ]\n",
      " [-0.18286696]\n",
      " [ 0.87704764]\n",
      " [-0.59247755]\n",
      " [ 0.20839319]\n",
      " [-0.35514837]\n",
      " [-0.60196364]\n",
      " [ 0.50091753]\n",
      " [ 2.09695301]\n",
      " [-0.88638171]\n",
      " [ 0.10386413]\n",
      " [-0.83134257]\n",
      " [-0.04651539]\n",
      " [ 0.05322503]\n",
      " [ 0.76551368]\n",
      " [ 1.61168478]\n",
      " [-0.21671192]\n",
      " [-0.50247036]\n",
      " [-0.5438412 ]\n",
      " [ 0.3061877 ]\n",
      " [-0.04061622]\n",
      " [-1.57793495]\n",
      " [-0.09235677]\n",
      " [-0.65513559]\n",
      " [ 1.19613535]\n",
      " [ 0.24158778]\n",
      " [ 0.30758487]\n",
      " [ 1.79047623]\n",
      " [ 0.73947994]\n",
      " [-0.84068691]\n",
      " [ 1.39163914]\n",
      " [ 1.47665016]\n",
      " [ 1.18433322]\n",
      " [-0.15308932]\n",
      " [-0.63598571]\n",
      " [ 1.33600772]\n",
      " [ 1.87079503]\n",
      " [-0.08675261]\n",
      " [-0.74431491]\n",
      " [ 0.55971944]\n",
      " [-0.40532352]\n",
      " [ 0.55334   ]\n",
      " [-0.13251185]\n",
      " [ 0.4108134 ]]\n",
      "正规方程的均方误差： 0.2758842244225054\n",
      "正规方程inverse后的均方误差： 21.89776539604949\n"
     ]
    }
   ],
   "source": [
    "model = joblib.load('./tmp/test.pkl')\n",
    "y_predict = model.predict(x_test)\n",
    "print(\"保存的模型预测的结果：\", y_predict)\n",
    "print(\"正规方程的均方误差：\", mean_squared_error(y_test, y_predict))\n",
    "\n",
    "print(\"正规方程inverse后的均方误差：\", mean_squared_error(std_y.inverse_transform(y_test),\n",
    "                                               std_y.inverse_transform(y_predict)))"
   ],
   "metadata": {
    "collapsed": false,
    "pycharm": {
     "name": "#%%\n"
    }
   }
  },
  {
   "cell_type": "markdown",
   "source": [
    "### 线性回归（梯度下降）"
   ],
   "metadata": {
    "collapsed": false,
    "pycharm": {
     "name": "#%% md\n"
    }
   }
  },
  {
   "cell_type": "code",
   "execution_count": 10,
   "outputs": [
    {
     "name": "stdout",
     "output_type": "stream",
     "text": [
      "回归系数： [-0.09104545  0.07654483 -0.02494045  0.07728752 -0.16730119  0.27213477\n",
      " -0.00268789 -0.23188622  0.0854081  -0.02286256 -0.21872819  0.06659854\n",
      " -0.41975611]\n",
      "梯度下降的均方误差： 0.2775881613022312\n",
      "梯度下降的原始房价量纲均方误差： 22.0330120203174\n"
     ]
    },
    {
     "name": "stderr",
     "output_type": "stream",
     "text": [
      "d:\\软件\\python39\\lib\\site-packages\\sklearn\\utils\\validation.py:1111: DataConversionWarning: A column-vector y was passed when a 1d array was expected. Please change the shape of y to (n_samples, ), for example using ravel().\n",
      "  y = column_or_1d(y, warn=True)\n"
     ]
    }
   ],
   "source": [
    "# eta0:学习率的初始值;penalty是惩罚，分为L1和L2;alpha：值越高，正则化力度越强\n",
    "sgd = SGDRegressor(eta0=0.008, penalty='l1', alpha=0.005)\n",
    "sgd.fit(x_train, y_train)\n",
    "print('回归系数：', sgd.coef_)\n",
    "# 预测测试集的房子价格\n",
    "y_sgd_predict = std_y.inverse_transform(sgd.predict(x_test).reshape(-1, 1))\n",
    "y_predict = sgd.predict(x_test)\n",
    "# print(\"梯度下降测试集里面每个房子的预测价格：\", y_sgd_predict)\n",
    "print(\"梯度下降的均方误差：\", mean_squared_error(y_test, y_predict))\n",
    "print(\"梯度下降的原始房价量纲均方误差：\", mean_squared_error(std_y.inverse_transform(y_test), y_sgd_predict))"
   ],
   "metadata": {
    "collapsed": false,
    "pycharm": {
     "name": "#%%\n"
    }
   }
  }
 ],
 "metadata": {
  "kernelspec": {
   "display_name": "Python 3",
   "language": "python",
   "name": "python3"
  },
  "language_info": {
   "codemirror_mode": {
    "name": "ipython",
    "version": 2
   },
   "file_extension": ".py",
   "mimetype": "text/x-python",
   "name": "python",
   "nbconvert_exporter": "python",
   "pygments_lexer": "ipython2",
   "version": "2.7.6"
  }
 },
 "nbformat": 4,
 "nbformat_minor": 0
}