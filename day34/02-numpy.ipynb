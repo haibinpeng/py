{
 "cells": [
  {
   "cell_type": "code",
   "execution_count": 1,
   "outputs": [],
   "source": [
    "import random\n",
    "import time\n",
    "import numpy as np"
   ],
   "metadata": {
    "collapsed": false,
    "pycharm": {
     "name": "#%%\n"
    }
   }
  },
  {
   "cell_type": "code",
   "execution_count": null,
   "outputs": [],
   "source": [
    "a = []\n",
    "for i in range(100000000):\n",
    "    a.append(random.random())  #random出来的是小数\n",
    "\n",
    "t1 = time.time()\n",
    "sum1 = sum(a)\n",
    "t2 = time.time()\n",
    "\n",
    "b = np.array(a)  #b是一个ndarray,就是数组\n",
    "t3 = time.time()\n",
    "sum2 = np.sum(b)\n",
    "t4 = time.time()\n",
    "print(t2 - t1, t4 - t3)"
   ],
   "metadata": {
    "collapsed": false,
    "pycharm": {
     "name": "#%%\n"
    }
   }
  },
  {
   "cell_type": "markdown",
   "source": [
    "理解ndarray对象\n"
   ],
   "metadata": {
    "collapsed": false
   }
  },
  {
   "cell_type": "code",
   "execution_count": null,
   "outputs": [],
   "source": [
    "#列表变数组\n",
    "list1 = [1, 2, 3, 4]\n",
    "a = np.array(list1)\n",
    "print(type(a))\n",
    "print(list1)\n",
    "print(a)"
   ],
   "metadata": {
    "collapsed": false,
    "pycharm": {
     "name": "#%%\n"
    }
   }
  },
  {
   "cell_type": "code",
   "execution_count": null,
   "outputs": [],
   "source": [
    "# 传入range生成序列\n",
    "b = np.array(range(5))\n",
    "print(b)"
   ],
   "metadata": {
    "collapsed": false,
    "pycharm": {
     "name": "#%%\n"
    }
   }
  },
  {
   "cell_type": "code",
   "execution_count": null,
   "outputs": [],
   "source": [
    "# 使用numpy自带的np.arange()生成数组\n",
    "t3 = np.arange(0, 10, 2)  # 左闭右开\n",
    "print(t3)"
   ],
   "metadata": {
    "collapsed": false,
    "pycharm": {
     "name": "#%%\n"
    }
   }
  },
  {
   "cell_type": "code",
   "execution_count": 2,
   "outputs": [
    {
     "name": "stdout",
     "output_type": "stream",
     "text": [
      "2\n",
      "(3, 2)\n",
      "6\n"
     ]
    }
   ],
   "source": [
    "# 二维数组\n",
    "list2 = [[1, 2], [3, 4], [5, 6]]\n",
    "two_array = np.array(list2)\n",
    "print(two_array.ndim)\n",
    "print(two_array.shape)\n",
    "print(two_array.size)"
   ],
   "metadata": {
    "collapsed": false,
    "pycharm": {
     "name": "#%%\n"
    }
   }
  },
  {
   "cell_type": "code",
   "execution_count": null,
   "outputs": [],
   "source": [
    "# 调整数组形状\n",
    "four = np.array([[1, 2, 3], [4, 5, 6]])\n",
    "# four.shape=(3,2)\n",
    "# print(four)\n",
    "four = four.reshape(3, 2)  # reshape返回了一个新的array\n",
    "print(four)\n",
    "# 默认情况下‘C’以行为主的顺序展开，‘F’（Fortran风格）意味着以列的顺序展开\n",
    "five = four.reshape((6,), order='F')  # 6是数组元素个数\n",
    "print(five)\n",
    "six = four.flatten()  # 展开成一维\n",
    "print(six)"
   ],
   "metadata": {
    "collapsed": false,
    "pycharm": {
     "name": "#%%\n"
    }
   }
  },
  {
   "cell_type": "code",
   "execution_count": null,
   "outputs": [],
   "source": [
    "t = np.arange(24).reshape(4, 6)\n",
    "print(t.shape)"
   ],
   "metadata": {
    "collapsed": false,
    "pycharm": {
     "name": "#%%\n"
    }
   }
  },
  {
   "cell_type": "code",
   "execution_count": null,
   "outputs": [],
   "source": [
    "# 将数组转为list\n",
    "print(t.tolist())"
   ],
   "metadata": {
    "collapsed": false,
    "pycharm": {
     "name": "#%%\n"
    }
   }
  },
  {
   "cell_type": "markdown",
   "source": [
    "numpy的数据类型"
   ],
   "metadata": {
    "collapsed": false
   }
  },
  {
   "cell_type": "code",
   "execution_count": null,
   "outputs": [],
   "source": [
    "f = np.array([1, 2, 3, 4, 5], dtype=np.int16)\n",
    "print(f.itemsize)  # 单个元素占用空间大小\n",
    "print(f.dtype)  # 内部的数据类型\n",
    "\n",
    "f1 = f.astype(np.int64)  # 转换类型\n",
    "print(f1.dtype)"
   ],
   "metadata": {
    "collapsed": false,
    "pycharm": {
     "name": "#%%\n"
    }
   }
  },
  {
   "cell_type": "markdown",
   "source": [
    "数组的计算"
   ],
   "metadata": {
    "collapsed": false,
    "pycharm": {
     "name": "#%% md\n"
    }
   }
  },
  {
   "cell_type": "code",
   "execution_count": 4,
   "outputs": [
    {
     "name": "stdout",
     "output_type": "stream",
     "text": [
      "[[ 2  3  4  5]\n",
      " [ 6  7  8  9]\n",
      " [10 11 12 13]\n",
      " [14 15 16 17]\n",
      " [18 19 20 21]\n",
      " [22 23 24 25]]\n",
      "\n",
      "\n",
      "[[ 0  2  4  6]\n",
      " [ 8 10 12 14]\n",
      " [16 18 20 22]\n",
      " [24 26 28 30]\n",
      " [32 34 36 38]\n",
      " [40 42 44 46]]\n",
      "\n",
      "\n",
      "float64\n"
     ]
    }
   ],
   "source": [
    "# 数组与数的运算\n",
    "t1 = np.arange(24).reshape((6, 4))\n",
    "print(t1 + 2)\n",
    "print('\\n')\n",
    "print(t1 * 2)\n",
    "print('\\n')\n",
    "t2 = t1 / 2\n",
    "print(t2.dtype)"
   ],
   "metadata": {
    "collapsed": false,
    "pycharm": {
     "name": "#%%\n"
    }
   }
  },
  {
   "cell_type": "code",
   "execution_count": 8,
   "outputs": [
    {
     "name": "stdout",
     "output_type": "stream",
     "text": [
      "[[100 102 104 106]\n",
      " [108 110 112 114]\n",
      " [116 118 120 122]\n",
      " [124 126 128 130]\n",
      " [132 134 136 138]\n",
      " [140 142 144 146]]\n",
      "\n",
      "\n",
      "[0 1 2 3 4 5]\n",
      "[[ 0  0  0  0  0  0]\n",
      " [ 6  6  6  6  6  6]\n",
      " [12 12 12 12 12 12]\n",
      " [18 18 18 18 18 18]]\n",
      "\n",
      "\n",
      "[[ 0  1  2  3  4  5]\n",
      " [ 6  7  8  9 10 11]\n",
      " [12 13 14 15 16 17]\n",
      " [18 19 20 21 22 23]]\n",
      "[[0]\n",
      " [1]\n",
      " [2]\n",
      " [3]]\n",
      "[[ 0  1  2  3  4  5]\n",
      " [ 5  6  7  8  9 10]\n",
      " [10 11 12 13 14 15]\n",
      " [15 16 17 18 19 20]]\n"
     ]
    }
   ],
   "source": [
    "# 数组与数组的运算\n",
    "t1 = np.arange(24).reshape((6, 4))\n",
    "t2 = np.arange(100, 124).reshape((6, 4))\n",
    "print(t1 + t2)\n",
    "\n",
    "# 不种形状的多维数组不能计算\n",
    "t1 = np.arange(24).reshape((4, 6))\n",
    "t2 = np.arange(18).reshape((3, 6))\n",
    "# print(t1+t2) 不能运算\n",
    "\n",
    "# 行形状相同（会与每一行数组的对应位相操作)\n",
    "print('\\n')\n",
    "t1 = np.arange(24).reshape((4, 6))\n",
    "t2 = np.arange(6)  # 一行六列\n",
    "print(t2)\n",
    "print(t1 - t2)\n",
    "\n",
    "# 列形状相同（会与每一个相同维度的数组的对应位相操作)\n",
    "print('\\n')\n",
    "t1 = np.arange(24).reshape((4, 6))\n",
    "t2 = np.arange(4).reshape((4, 1))\n",
    "print(t1)\n",
    "print(t2)\n",
    "print(t1 - t2)"
   ],
   "metadata": {
    "collapsed": false,
    "pycharm": {
     "name": "#%%\n"
    }
   }
  },
  {
   "cell_type": "code",
   "execution_count": 16,
   "outputs": [
    {
     "name": "stdout",
     "output_type": "stream",
     "text": [
      "[[1 2 3]\n",
      " [4 5 6]]\n",
      "\n",
      "\n",
      "[5 7 9]\n",
      "\n",
      "\n",
      "[[[ 0  1  2]\n",
      "  [ 3  4  5]\n",
      "  [ 6  7  8]]\n",
      "\n",
      " [[ 9 10 11]\n",
      "  [12 13 14]\n",
      "  [15 16 17]]\n",
      "\n",
      " [[18 19 20]\n",
      "  [21 22 23]\n",
      "  [24 25 26]]]\n",
      "\n",
      "\n",
      "[[27 30 33]\n",
      " [36 39 42]\n",
      " [45 48 51]]\n",
      "\n",
      "\n",
      "[[ 9 12 15]\n",
      " [36 39 42]\n",
      " [63 66 69]]\n",
      "\n",
      "\n",
      "[[ 3 12 21]\n",
      " [30 39 48]\n",
      " [57 66 75]]\n"
     ]
    }
   ],
   "source": [
    "# 轴的理解\n",
    "\n",
    "a = np.array([[1, 2, 3], [4, 5, 6]])\n",
    "print(a)\n",
    "print('\\n')\n",
    "print(np.sum(a, axis=0))\n",
    "print('\\n')\n",
    "a = np.arange(27).reshape((3, 3, 3))\n",
    "print(a)\n",
    "print('\\n')\n",
    "print(np.sum(a, axis=0))\n",
    "print('\\n')\n",
    "print(np.sum(a, axis=1))\n",
    "print('\\n')\n",
    "print(np.sum(a, axis=2))"
   ],
   "metadata": {
    "collapsed": false,
    "pycharm": {
     "name": "#%%\n"
    }
   }
  },
  {
   "cell_type": "markdown",
   "source": [
    "np的索引和切片"
   ],
   "metadata": {
    "collapsed": false
   }
  },
  {
   "cell_type": "code",
   "execution_count": 17,
   "outputs": [
    {
     "name": "stdout",
     "output_type": "stream",
     "text": [
      "[2, 3]\n",
      "2\n",
      "[2 4 6]\n"
     ]
    }
   ],
   "source": [
    "# 一维数组的索引和切片\n",
    "l = [1, 2, 3, 4]\n",
    "print(l[1:3])  # 左闭右开\n",
    "a = np.arange(10)\n",
    "print(a[2])\n",
    "print(a[2:7:2])  # 左闭右开"
   ],
   "metadata": {
    "collapsed": false,
    "pycharm": {
     "name": "#%%\n"
    }
   }
  },
  {
   "cell_type": "code",
   "execution_count": 31,
   "outputs": [
    {
     "name": "stdout",
     "output_type": "stream",
     "text": [
      "[[ 0  1  2  3  4  5]\n",
      " [ 6  7  8  9 10 11]\n",
      " [12 13 14 15 16 17]\n",
      " [18 19 20 21 22 23]]\n",
      "\n",
      "\n",
      "[ 6  7  8  9 10 11]\n",
      "\n",
      "\n",
      "[[ 6  7  8  9 10 11]\n",
      " [12 13 14 15 16 17]\n",
      " [18 19 20 21 22 23]]\n",
      "\n",
      "\n",
      "[[ 6  7  8  9 10 11]\n",
      " [12 13 14 15 16 17]]\n",
      "\n",
      "\n",
      "[[ 0  1  2  3  4  5]\n",
      " [12 13 14 15 16 17]]\n",
      "\n",
      "\n",
      "[ 1  7 13 19]\n",
      "\n",
      "\n",
      "[[ 1  2  3  4  5]\n",
      " [ 7  8  9 10 11]\n",
      " [13 14 15 16 17]\n",
      " [19 20 21 22 23]]\n",
      "\n",
      "\n",
      "[[ 0  2  3]\n",
      " [ 6  8  9]\n",
      " [12 14 15]\n",
      " [18 20 21]]\n",
      "\n",
      "\n",
      "15\n",
      "\n",
      "\n",
      "[[ 8  9]\n",
      " [14 15]]\n",
      "\n",
      "\n",
      "[ 7  9 16]\n"
     ]
    }
   ],
   "source": [
    "# 二维数组的索引和切片\n",
    "t1 = np.arange(24).reshape(4, 6)\n",
    "print(t1)\n",
    "print('\\n')\n",
    "print(t1[1])  # 取一行(一行代表是一条数据，索引也是从0开始的)\n",
    "print('\\n')\n",
    "print(t1[1:])  # 取连续的多行\n",
    "print('\\n')\n",
    "print(t1[1:3])  # 左闭右开\n",
    "print('\\n')\n",
    "print(t1[[0, 2]])  # 取不连续的列\n",
    "print('\\n')\n",
    "print(t1[:, 1])  # 取一列\n",
    "print('\\n')\n",
    "print(t1[:, 1:])  # 取连续的多列\n",
    "print('\\n')\n",
    "print(t1[:, [0, 2, 3]])  # 取不连续的多列\n",
    "print('\\n')\n",
    "print(t1[2, 3])  # 取某一个值\n",
    "print('\\n')\n",
    "print(t1[1:3, 2:4])  # 第一行第二行，第二列第三列\n",
    "print('\\n')\n",
    "print(t1[[1, 1, 2], [1, 3, 4]])  # 第1行第1个、第1行第3个、第2行第4个"
   ],
   "metadata": {
    "collapsed": false,
    "pycharm": {
     "name": "#%%\n"
    }
   }
  },
  {
   "cell_type": "markdown",
   "source": [
    "数组中的数值修改"
   ],
   "metadata": {
    "collapsed": false
   }
  },
  {
   "cell_type": "code",
   "execution_count": 43,
   "outputs": [
    {
     "name": "stdout",
     "output_type": "stream",
     "text": [
      "[[ 0  1  2  3  4  5]\n",
      " [ 0  0  0  0  0  0]\n",
      " [12 13 14 15 16 17]\n",
      " [18 19 20 21 22 23]]\n",
      "\n",
      "\n",
      "[[ 0  1  2  3  4  5]\n",
      " [ 2  2  2  2  2  2]\n",
      " [ 2  2  2  2  2  2]\n",
      " [18 19 20 21 22 23]]\n",
      "\n",
      "\n",
      "[[ 0 -1 -1 -1  4  5]\n",
      " [ 2 -1 -1 -1  2  2]\n",
      " [ 2 -1 -1 -1  2  2]\n",
      " [18 -1 -1 -1 22 23]]\n",
      "\n",
      "\n",
      "[[ 0 -1 -1 -1  4  5]\n",
      " [ 2 -1 -2 -2 -2  2]\n",
      " [ 2 -1 -2 -2 -2  2]\n",
      " [18 -1 -2 -2 -2 23]]\n",
      "\n",
      "\n",
      "[[-3 -1 -1 -1  4  5]\n",
      " [ 2 -1 -2 -3 -2  2]\n",
      " [ 2 -1 -2 -2 -2  2]\n",
      " [18 -1 -2 -2 -2 23]]\n",
      "\n",
      "\n",
      "[[ True  True  True  True  True  True]\n",
      " [ True  True  True  True  True  True]\n",
      " [ True  True  True  True  True  True]\n",
      " [False  True  True  True  True False]]\n",
      "[[ 0  0  0  0  0  0]\n",
      " [ 0  0  0  0  0  0]\n",
      " [ 0  0  0  0  0  0]\n",
      " [18  0  0  0  0 23]]\n",
      "\n",
      "\n",
      "[[ 0  1  2  0  0  0]\n",
      " [ 6  7  8  9 10 11]\n",
      " [12 13 14 15 16 17]\n",
      " [18 19 20 21 22 23]]\n",
      "\n",
      "\n",
      "[[0 0 2 0 0 0]\n",
      " [6 0 0 0 0 0]\n",
      " [0 0 0 0 0 0]\n",
      " [0 0 0 0 0 0]]\n",
      "[[-1 -1  2 -1 -1 -1]\n",
      " [ 6 -1 -1 -1 -1 -1]\n",
      " [-1 -1 -1 -1 -1 -1]\n",
      " [-1 -1 -1 -1 -1 -1]]\n",
      "\n",
      "\n",
      "[[ 8  8  8  8  8  8]\n",
      " [ 8  8  8  9 10 10]\n",
      " [10 10 10 10 10 10]\n",
      " [10 10 10 10 10 10]]\n"
     ]
    }
   ],
   "source": [
    "t = np.arange(24).reshape(4, 6)\n",
    "# 修改某一行的值\n",
    "t[1] = 0  # t[1,:] = 0\n",
    "print(t)\n",
    "print('\\n')\n",
    "# 修改连续多行\n",
    "t[1:3, :] = 2\n",
    "print(t)\n",
    "print('\\n')\n",
    "# 修改连续多列\n",
    "t[:, 1:4] = -1\n",
    "print(t)\n",
    "print('\\n')\n",
    "# 修改多行多列\n",
    "t[1:4, 2:5] = -2\n",
    "print(t)\n",
    "print('\\n')\n",
    "# 修改多个不相邻的点\n",
    "t[[0, 1], [0, 3]] = -3  # (0,0),(1,3)\n",
    "print(t)\n",
    "print('\\n')\n",
    "# 可以根据条件修改\n",
    "print(t < 10)\n",
    "t[t < 10] = 0\n",
    "print(t)\n",
    "print('\\n')\n",
    "t = np.arange(24).reshape(4, 6)\n",
    "# 使用逻辑判断\n",
    "t[(t > 2) & (t < 6)] = 0  # 与\n",
    "print(t)\n",
    "print('\\n')\n",
    "t[(t < 2) | (t > 6)] = 0  # 或\n",
    "print(t)\n",
    "t[~(t > 0)] = -1  # 非\n",
    "print(t)\n",
    "print('\\n')\n",
    "t = np.arange(24).reshape(4, 6)\n",
    "t = t.clip(8, 10)  # clip给定一个范围[min, max]，数组中值不在这个范围内的，会被限定为这个范围的边界\n",
    "print(t)"
   ],
   "metadata": {
    "collapsed": false,
    "pycharm": {
     "name": "#%%\n"
    }
   }
  },
  {
   "cell_type": "code",
   "execution_count": 45,
   "outputs": [
    {
     "name": "stdout",
     "output_type": "stream",
     "text": [
      "[[False  True]\n",
      " [ True  True]\n",
      " [False  True]]\n"
     ]
    }
   ],
   "source": [
    "# 三目运算：np.where(condition, x, y)满足条件(condition)，输出x，不满足输出y\n",
    "score = np.array([[80, 88], [82, 81], [75, 81]])\n",
    "result = np.where(score > 80, True, False)\n",
    "print(result)"
   ],
   "metadata": {
    "collapsed": false,
    "pycharm": {
     "name": "#%%\n"
    }
   }
  },
  {
   "cell_type": "markdown",
   "source": [
    "添加"
   ],
   "metadata": {
    "collapsed": false
   }
  },
  {
   "cell_type": "code",
   "execution_count": 61,
   "outputs": [
    {
     "name": "stdout",
     "output_type": "stream",
     "text": [
      "[[1 2 3]\n",
      " [4 5 6]]\n",
      "\n",
      "\n",
      "[1 2 3 4 5 6 7 8 9]\n",
      "\n",
      "\n",
      "[[1 2 3]\n",
      " [4 5 6]\n",
      " [7 8 9]]\n",
      "\n",
      "\n",
      "[[1 2 3 4]\n",
      " [4 5 6 7]]\n"
     ]
    }
   ],
   "source": [
    "# append\n",
    "a = np.array([[1, 2, 3], [4, 5, 6]])\n",
    "print(a)\n",
    "print('\\n')\n",
    "# 未传递axis参数,在插入之前输入数组会被展开\n",
    "print(np.append(a, [7, 8, 9]))\n",
    "print('\\n')\n",
    "# 沿轴0添加元素\n",
    "print(np.append(a, [[7, 8, 9]], axis=0))\n",
    "print('\\n')\n",
    "# 沿轴1添加元素\n",
    "print(np.append(a, [[4], [7]], axis=1))"
   ],
   "metadata": {
    "collapsed": false,
    "pycharm": {
     "name": "#%%\n"
    }
   }
  },
  {
   "cell_type": "code",
   "execution_count": 59,
   "outputs": [
    {
     "name": "stdout",
     "output_type": "stream",
     "text": [
      "[[1 2]\n",
      " [3 4]\n",
      " [5 6]]\n",
      "\n",
      "\n",
      "[ 1  2  3 11 12  4  5  6]\n",
      "\n",
      "\n",
      "[[ 1  2]\n",
      " [11 12]\n",
      " [ 3  4]\n",
      " [ 5  6]]\n",
      "\n",
      "\n",
      "[[1 7 2]\n",
      " [3 8 4]\n",
      " [5 9 6]]\n"
     ]
    }
   ],
   "source": [
    "# insert\n",
    "a = np.array([[1, 2], [3, 4], [5, 6]])\n",
    "print(a)\n",
    "print('\\n')\n",
    "# 未传递axis参数,在插入之前输入数组会被展开\n",
    "print(np.insert(a, 3, [11, 12]))\n",
    "print('\\n')\n",
    "# 沿轴0广播\n",
    "print(np.insert(a, 1, [11, 12], axis=0))\n",
    "print('\\n')\n",
    "# 沿轴1广播\n",
    "print(np.insert(a, 1, [7, 8, 9], axis=1))"
   ],
   "metadata": {
    "collapsed": false,
    "pycharm": {
     "name": "#%%\n"
    }
   }
  },
  {
   "cell_type": "markdown",
   "source": [
    "删除"
   ],
   "metadata": {
    "collapsed": false,
    "pycharm": {
     "name": "#%% md\n"
    }
   }
  },
  {
   "cell_type": "code",
   "execution_count": 64,
   "outputs": [
    {
     "name": "stdout",
     "output_type": "stream",
     "text": [
      "[[ 1  2  3  4]\n",
      " [ 5  6  7  8]\n",
      " [ 9 10 11 12]]\n",
      "\n",
      "\n",
      "[ 1  2  3  4  5  7  8  9 10 11 12]\n",
      "\n",
      "\n",
      "[[ 2  3  4]\n",
      " [ 6  7  8]\n",
      " [10 11 12]]\n"
     ]
    }
   ],
   "source": [
    "a = np.arange(1, 13).reshape(3, 4)\n",
    "print(a)\n",
    "print('\\n')\n",
    "# 未传递axis参数,在插入之前输入数组会被展开\n",
    "print(np.delete(a, 5))\n",
    "print('\\n')\n",
    "# 删除每一行中的第0列\n",
    "print(np.delete(a, 0, axis=1))"
   ],
   "metadata": {
    "collapsed": false,
    "pycharm": {
     "name": "#%%\n"
    }
   }
  },
  {
   "cell_type": "markdown",
   "source": [
    "去重"
   ],
   "metadata": {
    "collapsed": false,
    "pycharm": {
     "name": "#%% md\n"
    }
   }
  },
  {
   "cell_type": "code",
   "execution_count": 71,
   "outputs": [
    {
     "name": "stdout",
     "output_type": "stream",
     "text": [
      "[5 2 6 2 7 5 6 8 2 9]\n",
      "\n",
      "\n",
      "[2 5 6 7 8 9]\n",
      "\n",
      "\n",
      "[1 0 2 4 7 9]\n",
      "\n",
      "\n",
      "[5 2 6 2 7 5 6 8 2 9]\n",
      "[2 5 6 7 8 9]\n",
      "[1 0 2 0 3 1 2 4 0 5]\n",
      "\n",
      "\n",
      "[2 5 6 7 8 9]\n",
      "[3 2 2 1 1 1]\n"
     ]
    }
   ],
   "source": [
    "a = np.array([5, 2, 6, 2, 7, 5, 6, 8, 2, 9])\n",
    "print(a)\n",
    "print('\\n')\n",
    "u = np.unique(a)\n",
    "print(u)\n",
    "print('\\n')\n",
    "# 去重数组的索引数组\n",
    "u, indices = np.unique(a, return_index=True)\n",
    "print(indices)\n",
    "print('\\n')\n",
    "# 可以看到原数组元素在去重后数组的下标\n",
    "u, indices = np.unique(a, return_inverse=True)\n",
    "print(a)\n",
    "print(u)\n",
    "print(indices)\n",
    "print('\\n')\n",
    "# 返回每个元素的重复数量\n",
    "u, indices = np.unique(a, return_counts=True)\n",
    "print(u)\n",
    "print(indices)"
   ],
   "metadata": {
    "collapsed": false,
    "pycharm": {
     "name": "#%%\n"
    }
   }
  },
  {
   "cell_type": "markdown",
   "source": [
    "numpy计算"
   ],
   "metadata": {
    "collapsed": false,
    "pycharm": {
     "name": "#%% md\n"
    }
   }
  },
  {
   "cell_type": "code",
   "execution_count": 95,
   "outputs": [
    {
     "name": "stdout",
     "output_type": "stream",
     "text": [
      "[[80 88]\n",
      " [82 81]\n",
      " [75 81]]\n",
      "\n",
      "\n",
      "88\n",
      "\n",
      "\n",
      "[82 88]\n",
      "\n",
      "\n",
      "75\n",
      "\n",
      "\n",
      "[80 81 75]\n",
      "\n",
      "\n",
      "[0 0 0 1 2]\n",
      "\n",
      "\n",
      "[1 2 3 4 6]\n",
      "\n",
      "\n",
      "[-2 -1  0  0  0]\n",
      "\n",
      "\n",
      "81.16666666666667\n",
      "[79.         83.33333333]\n",
      "\n",
      "\n",
      "[[1 2 3]\n",
      " [4 5 6]\n",
      " [7 8 9]]\n",
      "\n",
      "\n",
      "[[ 1  2  3]\n",
      " [ 5  7  9]\n",
      " [12 15 18]]\n",
      "\n",
      "\n",
      "[2 1]\n",
      "[75 81]\n",
      "\n",
      "\n",
      "[ 8.66666667 10.88888889]\n",
      "[2.94392029 3.29983165]\n",
      "\n",
      "\n",
      "[7 7]\n",
      "[8 1 6]\n"
     ]
    }
   ],
   "source": [
    "score = np.array([[80, 88], [82, 81], [75, 81]])\n",
    "print(score)\n",
    "print('\\n')\n",
    "# 获取所有数据最大值\n",
    "result = np.max(score)\n",
    "print(result)\n",
    "print('\\n')\n",
    "\n",
    "# 获取某一个轴上的数据最大值\n",
    "result = np.max(score, axis=0)\n",
    "print(result)\n",
    "print('\\n')\n",
    "\n",
    "# 获取最小值\n",
    "result = np.min(score)\n",
    "print(result)\n",
    "print('\\n')\n",
    "\n",
    "# 获取某一个轴上的数据最小值\n",
    "result = np.min(score, axis=1)\n",
    "print(result)\n",
    "print('\\n')\n",
    "\n",
    "# 第一个参数中的每一个数与第二个参数比较,返回大的\n",
    "result = np.maximum([-2, -1, 0, 1, 2], 0)\n",
    "print(result)\n",
    "print('\\n')\n",
    "result = np.maximum([-2, -1, 0, 1, 6], [1, 2, 3, 4, 5])\n",
    "print(result)\n",
    "print('\\n')\n",
    "# 第一个参数中的每一个数与第二个参数比较返回小的\n",
    "result = np.minimum([-2, -1, 0, 1, 2], 0)\n",
    "print(result)\n",
    "print('\\n')\n",
    "\n",
    "# 求平均值\n",
    "result = np.mean(score)\n",
    "print(result)\n",
    "# 获取某一行或者某一列的平均值\n",
    "result = np.mean(score, axis=0)\n",
    "print(result)\n",
    "print('\\n')\n",
    "\n",
    "# 求前缀和\n",
    "arr = np.array([[1, 2, 3], [4, 5, 6], [7, 8, 9]])\n",
    "print(arr)\n",
    "print('\\n')\n",
    "print(arr.cumsum(0))\n",
    "# [1, 2, 3]------>   |1 |2 |3 |\n",
    "# [4, 5, 6]------>   |5=1+4 |7=2+5 |9=3+6|\n",
    "print('\\n')\n",
    "\n",
    "# argmin求最小值索引\n",
    "result = np.argmin(score, axis=0)\n",
    "print(result)\n",
    "ret = np.min(score, axis=0)\n",
    "print(ret)\n",
    "print('\\n')\n",
    "\n",
    "#求方差，标准差\n",
    "result = np.var(score, axis=0)\n",
    "print(result)\n",
    "result = np.std(score, axis=0)\n",
    "print(result)\n",
    "print('\\n')\n",
    "\n",
    "# 极值,就是最大值和最小值的差\n",
    "result = np.ptp(score, axis=0)\n",
    "print(result)\n",
    "result = np.ptp(score, axis=1)\n",
    "print(result)"
   ],
   "metadata": {
    "collapsed": false,
    "pycharm": {
     "name": "#%%\n"
    }
   }
  },
  {
   "cell_type": "markdown",
   "source": [
    "数组拼接"
   ],
   "metadata": {
    "collapsed": false
   }
  },
  {
   "cell_type": "code",
   "execution_count": 104,
   "outputs": [
    {
     "name": "stdout",
     "output_type": "stream",
     "text": [
      "[[1 2]\n",
      " [3 4]\n",
      " [5 6]\n",
      " [7 8]]\n",
      "\n",
      "\n",
      "[[1 2 5 6]\n",
      " [3 4 7 8]]\n",
      "\n",
      "\n",
      "[[[1 2]\n",
      "  [3 4]]\n",
      "\n",
      " [[5 6]\n",
      "  [7 8]]]\n",
      "\n",
      "\n",
      "[[[1 2]\n",
      "  [5 6]]\n",
      "\n",
      " [[3 4]\n",
      "  [7 8]]]\n",
      "\n",
      "\n",
      "[[[1 5]\n",
      "  [2 6]]\n",
      "\n",
      " [[3 7]\n",
      "  [4 8]]]\n",
      "\n",
      "\n",
      "[[ 0  1  2  3  4  5]\n",
      " [ 6  7  8  9 10 11]\n",
      " [12 13 14 15 16 17]\n",
      " [18 19 20 21 22 23]]\n",
      "[[ 0  1  2  3  4  5 12 13 14 15 16 17]\n",
      " [ 6  7  8  9 10 11 18 19 20 21 22 23]]\n"
     ]
    }
   ],
   "source": [
    "# 根据轴连接的数组序列\n",
    "a = np.array([[1, 2], [3, 4]])\n",
    "b = np.array([[5, 6], [7, 8]])\n",
    "# 沿轴0连接两个数组\n",
    "print(np.concatenate((a, b), axis=0))\n",
    "print('\\n')\n",
    "# 沿轴1连接两个数组\n",
    "print(np.concatenate((a, b), axis=1))\n",
    "print('\\n')\n",
    "\n",
    "# 根据轴进行堆叠\n",
    "# 沿轴0堆叠两个数组\n",
    "print(np.stack((a, b), axis=0))\n",
    "print('\\n')\n",
    "# 沿轴1堆叠两个数组\n",
    "print(np.stack((a, b), axis=1))\n",
    "print('\\n')\n",
    "# 沿轴2堆叠两个数组\n",
    "print(np.stack((a, b), axis=2))\n",
    "print('\\n')\n",
    "\n",
    "# 矩阵垂直拼接，和concatenate类似\n",
    "v1 = [[0, 1, 2, 3, 4, 5],\n",
    "      [6, 7, 8, 9, 10, 11]]\n",
    "v2 = [[12, 13, 14, 15, 16, 17],\n",
    "      [18, 19, 20, 21, 22, 23]]\n",
    "result = np.vstack((v1, v2))\n",
    "print(result)\n",
    "\n",
    "# 矩阵水平拼接\n",
    "result = np.hstack((v1, v2))\n",
    "print(result)"
   ],
   "metadata": {
    "collapsed": false,
    "pycharm": {
     "name": "#%%\n"
    }
   }
  },
  {
   "cell_type": "markdown",
   "source": [
    "数组的分割"
   ],
   "metadata": {
    "collapsed": false
   }
  },
  {
   "cell_type": "code",
   "execution_count": 111,
   "outputs": [
    {
     "name": "stdout",
     "output_type": "stream",
     "text": [
      "[[1.73358158 7.02670568 2.08852751 7.90169013 7.07559691 2.31316501]\n",
      " [1.5967303  4.36479777 5.47214112 8.93574426 8.75383286 4.59922128]]\n",
      "float64\n",
      "[[1. 7. 2. 7. 7. 2.]\n",
      " [1. 4. 5. 8. 8. 4.]]\n",
      "float64\n",
      "[array([[1., 7.],\n",
      "       [1., 4.]]), array([[2., 7.],\n",
      "       [5., 8.]]), array([[7., 2.],\n",
      "       [8., 4.]])]\n",
      "\n",
      "\n",
      "[[ 0  1  2  3]\n",
      " [ 4  5  6  7]\n",
      " [ 8  9 10 11]\n",
      " [12 13 14 15]]\n",
      "\n",
      "\n",
      "[array([[0, 1, 2, 3],\n",
      "       [4, 5, 6, 7]]), array([[ 8,  9, 10, 11],\n",
      "       [12, 13, 14, 15]])]\n"
     ]
    }
   ],
   "source": [
    "# hsplit,按照1轴进行切分\n",
    "a = 10 * np.random.random((2, 6))  # (2,6)表示两行六列\n",
    "print(a)\n",
    "print(a.dtype)\n",
    "b = np.floor(a)\n",
    "print(b)\n",
    "print(b.dtype)\n",
    "print(np.hsplit(b, 3))\n",
    "print('\\n')\n",
    "\n",
    "# vsplit,按照0轴进行切分\n",
    "a = np.arange(16).reshape(4, 4)\n",
    "print(a)\n",
    "print('\\n')\n",
    "print(np.vsplit(a, 2))"
   ],
   "metadata": {
    "collapsed": false,
    "pycharm": {
     "name": "#%%\n"
    }
   }
  },
  {
   "cell_type": "markdown",
   "source": [
    "数组中的nan和inf"
   ],
   "metadata": {
    "collapsed": false
   }
  },
  {
   "cell_type": "code",
   "execution_count": 119,
   "outputs": [
    {
     "name": "stdout",
     "output_type": "stream",
     "text": [
      "nan <class 'float'>\n",
      "inf <class 'float'>\n"
     ]
    }
   ],
   "source": [
    "a = np.nan  # nan是float型\n",
    "b = np.inf  # inf是float型\n",
    "print(a, type(a))\n",
    "print(b, type(b))"
   ],
   "metadata": {
    "collapsed": false,
    "pycharm": {
     "name": "#%%\n"
    }
   }
  },
  {
   "cell_type": "code",
   "execution_count": 118,
   "outputs": [
    {
     "name": "stdout",
     "output_type": "stream",
     "text": [
      "1\n",
      "[[ 0.  1.  2.  3.  4.  5.]\n",
      " [ 6.  7.  8.  9. 10. 11.]\n",
      " [12. 13. 14. 15. 16. 17.]\n",
      " [18. 19. 20. 21.  0. 23.]]\n"
     ]
    }
   ],
   "source": [
    "# 判断数组中为nan的个数\n",
    "t = np.arange(24, dtype=np.float32).reshape(4, 6)\n",
    "# 将三行四列的数改成nan\n",
    "t[3, 4] = np.nan\n",
    "# 可以使用np.count_nonzero()来判断非零的个数\n",
    "# 并且np.nan != np.nan结果是TRUE\n",
    "# 可以使用这两个结合使用判断nan的个数\n",
    "print(np.count_nonzero(t != t))\n",
    "# 将nan替换为0\n",
    "t[np.isnan(t)] = 0\n",
    "print(t)"
   ],
   "metadata": {
    "collapsed": false,
    "pycharm": {
     "name": "#%%\n"
    }
   }
  },
  {
   "cell_type": "code",
   "execution_count": 136,
   "outputs": [
    {
     "name": "stdout",
     "output_type": "stream",
     "text": [
      "[[ 0.  1.  2.  3.  4.  5.]\n",
      " [ 6.  7.  8. nan nan nan]\n",
      " [12. 13. 14. 15. 16. 17.]\n",
      " [18. 19. 20. 21. 22. 23.]]\n",
      "\n",
      "\n",
      "[[ 0.  1.  2.  3.  4.  5.]\n",
      " [ 6.  7.  8. 13. 14. 15.]\n",
      " [12. 13. 14. 15. 16. 17.]\n",
      " [18. 19. 20. 21. 22. 23.]]\n"
     ]
    }
   ],
   "source": [
    "# 处理数组中nan\n",
    "t = np.arange(24).reshape(4, 6).astype('float')\n",
    "# 将数组中的一部分替换nan\n",
    "t[1, 3:] = np.nan\n",
    "print(t)\n",
    "print('\\n')\n",
    "# print(t.shape[0])  # 返回t的行数\n",
    "# print(t.shape[1])  # 返回t的列数\n",
    "# 遍历每一列，然后判断每一列是否有nan\n",
    "for i in range(t.shape[1]):\n",
    "    # 获取当前列数据\n",
    "    temp = t[:, i]\n",
    "    # print(temp)\n",
    "    #判断如果某一列有空值了，就替换为均值\n",
    "    nan_count = np.count_nonzero(temp != temp)\n",
    "    if nan_count:\n",
    "        # 将这一列不为nan的数据拿出来\n",
    "        temp_not_nan = temp[temp == temp]\n",
    "        # print(temp_not_nan)\n",
    "        # print(temp[True])\n",
    "        # 将nan替换成这一列的平均值\n",
    "        temp[np.isnan(temp)] = np.mean(temp_not_nan)\n",
    "print(t)"
   ],
   "metadata": {
    "collapsed": false,
    "pycharm": {
     "name": "#%%\n"
    }
   }
  },
  {
   "cell_type": "markdown",
   "source": [
    "二维数组的转置"
   ],
   "metadata": {
    "collapsed": false
   }
  },
  {
   "cell_type": "code",
   "execution_count": 143,
   "outputs": [
    {
     "name": "stdout",
     "output_type": "stream",
     "text": [
      "[[ 0  1  2  3]\n",
      " [ 4  5  6  7]\n",
      " [ 8  9 10 11]]\n",
      "\n",
      "\n",
      "[[ 0  4  8]\n",
      " [ 1  5  9]\n",
      " [ 2  6 10]\n",
      " [ 3  7 11]]\n",
      "\n",
      "\n",
      "[[ 0  1  2  3]\n",
      " [ 4  5  6  7]\n",
      " [ 8  9 10 11]]\n",
      "\n",
      "\n",
      "[[ 0  4  8]\n",
      " [ 1  5  9]\n",
      " [ 2  6 10]\n",
      " [ 3  7 11]]\n",
      "\n",
      "\n",
      "[[ 0  1  2  3  4  5]\n",
      " [ 6  7  8  9 10 11]\n",
      " [12 13 14 15 16 17]\n",
      " [18 19 20 21 22 23]]\n",
      "\n",
      "\n",
      "[[ 0  6 12 18]\n",
      " [ 1  7 13 19]\n",
      " [ 2  8 14 20]\n",
      " [ 3  9 15 21]\n",
      " [ 4 10 16 22]\n",
      " [ 5 11 17 23]]\n"
     ]
    }
   ],
   "source": [
    "# transpose\n",
    "a = np.arange(12).reshape(3, 4)\n",
    "print(a)\n",
    "print('\\n')\n",
    "print(np.transpose(a))\n",
    "print('\\n')\n",
    "\n",
    "# 与transpose一致\n",
    "a = np.arange(12).reshape(3, 4)\n",
    "print(a)\n",
    "print('\\n')\n",
    "print(a.T)\n",
    "print('\\n')"
   ],
   "metadata": {
    "collapsed": false,
    "pycharm": {
     "name": "#%%\n"
    }
   }
  },
  {
   "cell_type": "code",
   "execution_count": 146,
   "outputs": [
    {
     "name": "stdout",
     "output_type": "stream",
     "text": [
      "[[ 0  1  2  3  4  5]\n",
      " [ 6  7  8  9 10 11]\n",
      " [12 13 14 15 16 17]\n",
      " [18 19 20 21 22 23]]\n",
      "\n",
      "\n",
      "[[ 0  6 12 18]\n",
      " [ 1  7 13 19]\n",
      " [ 2  8 14 20]\n",
      " [ 3  9 15 21]\n",
      " [ 4 10 16 22]\n",
      " [ 5 11 17 23]]\n"
     ]
    }
   ],
   "source": [
    "# swapaxes函数用于交换数组的两个轴\n",
    "a = np.arange(24).reshape(4, 6)\n",
    "print(a)\n",
    "print('\\n')\n",
    "b = a.swapaxes(1, 0)\n",
    "print(b)"
   ],
   "metadata": {
    "collapsed": false,
    "pycharm": {
     "name": "#%%\n"
    }
   }
  },
  {
   "cell_type": "code",
   "execution_count": 149,
   "outputs": [
    {
     "name": "stdout",
     "output_type": "stream",
     "text": [
      "(3, 4, 5, 6)\n",
      "(3, 5, 4, 6)\n",
      "(6, 3, 4, 5)\n"
     ]
    }
   ],
   "source": [
    "# 3维及以上的swapaxes\n",
    "a = np.ones((3, 4, 5, 6))\n",
    "print(a.shape)\n",
    "b = a.swapaxes(1, 2)\n",
    "print(b.shape)\n",
    "# rollaxis\n",
    "c = np.rollaxis(a, 3, 0)  # 3轴滚动到0轴\n",
    "print(c.shape)"
   ],
   "metadata": {
    "collapsed": false,
    "pycharm": {
     "name": "#%%\n"
    }
   }
  },
  {
   "cell_type": "markdown",
   "source": [
    "numpy读取数据"
   ],
   "metadata": {
    "collapsed": false
   }
  },
  {
   "cell_type": "code",
   "execution_count": 153,
   "outputs": [
    {
     "name": "stdout",
     "output_type": "stream",
     "text": [
      "(1688,)\n",
      "582624 0\n"
     ]
    },
    {
     "data": {
      "text/plain": "<Figure size 1600x640 with 1 Axes>",
      "image/png": "[encoded data removed]"
     },
     "metadata": {
      "needs_background": "light"
     },
     "output_type": "display_data"
    }
   ],
   "source": [
    "import matplotlib.pyplot as plt\n",
    "\n",
    "us_file_path = \"./youtube_video_data/US_video_data_numbers.csv\"\n",
    "uk_file_path = \"./youtube_video_data/GB_video_data_numbers.csv\"\n",
    "\n",
    "# loadtxt读取数据\n",
    "t_us = np.loadtxt(us_file_path, delimiter=',', dtype='int')\n",
    "# 取评论的数据\n",
    "t_us_comments = t_us[:, -1]  # 最后一列\n",
    "print(t_us_comments.shape)\n",
    "\n",
    "# 最大值和最小值\n",
    "print(t_us_comments.max(), t_us_comments.min())\n",
    "\n",
    "# 根据最大值和最小值选择合适的组局\n",
    "d = 10000\n",
    "\n",
    "# 组数\n",
    "bin_nums = (t_us_comments.max() - t_us_comments.min()) // d\n",
    "\n",
    "# 绘直方图\n",
    "plt.figure(figsize=(20, 8), dpi=80)\n",
    "plt.hist(t_us_comments, bin_nums)\n",
    "\n",
    "plt.show()"
   ],
   "metadata": {
    "collapsed": false,
    "pycharm": {
     "name": "#%%\n"
    }
   }
  },
  {
   "cell_type": "code",
   "execution_count": 155,
   "outputs": [
    {
     "name": "stdout",
     "output_type": "stream",
     "text": [
      "(1373,)\n",
      "4995 0\n"
     ]
    },
    {
     "data": {
      "text/plain": "<Figure size 1600x640 with 1 Axes>",
      "image/png": "[encoded data removed]"
     },
     "metadata": {
      "needs_background": "light"
     },
     "output_type": "display_data"
    }
   ],
   "source": [
    "# 因为很多条评论是集中在0到5千的，评论数在5千到60万的很少，所以要做数据的过滤\n",
    "us_file_path = \"./youtube_video_data/US_video_data_numbers.csv\"\n",
    "uk_file_path = \"./youtube_video_data/GB_video_data_numbers.csv\"\n",
    "\n",
    "t_us = np.loadtxt(us_file_path, delimiter=',', dtype='int')\n",
    "t_us_comments = t_us[:, -1]\n",
    "\n",
    "# 选择比5000小的数据\n",
    "t_us_comments = t_us_comments[t_us_comments <= 5000]\n",
    "print(t_us_comments.shape)\n",
    "\n",
    "# 最大值和最小值\n",
    "print(t_us_comments.max(), t_us_comments.min())\n",
    "\n",
    "# 根据最大值和最小值选择合适的组局\n",
    "d = 50\n",
    "\n",
    "# 组数\n",
    "bin_nums = (t_us_comments.max() - t_us_comments.min()) // d\n",
    "\n",
    "# 绘直方图\n",
    "plt.figure(figsize=(20, 8), dpi=80)\n",
    "plt.hist(t_us_comments, bin_nums)\n",
    "\n",
    "plt.show()"
   ],
   "metadata": {
    "collapsed": false,
    "pycharm": {
     "name": "#%%\n"
    }
   }
  },
  {
   "cell_type": "code",
   "execution_count": 156,
   "outputs": [
    {
     "data": {
      "text/plain": "<Figure size 1600x640 with 1 Axes>",
      "image/png": "[encoded data removed]"
     },
     "metadata": {
      "needs_background": "light"
     },
     "output_type": "display_data"
    }
   ],
   "source": [
    "# 希望了解英国的youtube中视频的评论数和喜欢数的关系,绘图\n",
    "us_file_path = \"./youtube_video_data/US_video_data_numbers.csv\"\n",
    "uk_file_path = \"./youtube_video_data/GB_video_data_numbers.csv\"\n",
    "\n",
    "t_uk = np.loadtxt(uk_file_path, delimiter=',', dtype='int')\n",
    "\n",
    "# 选择喜欢数比50万小的数据\n",
    "t_uk = t_uk[t_uk[:, 1] <= 500000]\n",
    "\n",
    "t_uk_like = t_uk[:, 1]\n",
    "t_uk_comment = t_uk[:, -1]\n",
    "\n",
    "plt.figure(figsize=(20, 8), dpi=80)\n",
    "plt.scatter(t_uk_like, t_uk_comment)\n",
    "\n",
    "plt.show()"
   ],
   "metadata": {
    "collapsed": false,
    "pycharm": {
     "name": "#%%\n"
    }
   }
  },
  {
   "cell_type": "markdown",
   "source": [
    "copy"
   ],
   "metadata": {
    "collapsed": false,
    "pycharm": {
     "name": "#%% md\n"
    }
   }
  },
  {
   "cell_type": "code",
   "execution_count": 158,
   "outputs": [
    {
     "name": "stdout",
     "output_type": "stream",
     "text": [
      "[10  2  3]\n",
      "[10  2  3]\n"
     ]
    }
   ],
   "source": [
    "a = np.array([1, 2, 3])\n",
    "b = a\n",
    "a[0] = 10\n",
    "print(b)\n",
    "c = np.copy(a)\n",
    "a[0] = 12\n",
    "print(c)"
   ],
   "metadata": {
    "collapsed": false,
    "pycharm": {
     "name": "#%%\n"
    }
   }
  }
 ],
 "metadata": {
  "kernelspec": {
   "display_name": "Python 3",
   "language": "python",
   "name": "python3"
  },
  "language_info": {
   "codemirror_mode": {
    "name": "ipython",
    "version": 2
   },
   "file_extension": ".py",
   "mimetype": "text/x-python",
   "name": "python",
   "nbconvert_exporter": "python",
   "pygments_lexer": "ipython2",
   "version": "2.7.6"
  }
 },
 "nbformat": 4,
 "nbformat_minor": 0
}